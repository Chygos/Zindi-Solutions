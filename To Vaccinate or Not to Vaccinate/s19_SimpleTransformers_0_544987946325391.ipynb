{
 "cells": [
  {
   "cell_type": "code",
   "execution_count": 1,
   "metadata": {
    "colab": {
     "base_uri": "https://localhost:8080/",
     "height": 101
    },
    "colab_type": "code",
    "id": "aQtT2Z0dVmly",
    "outputId": "5c9b3c23-61be-4d8f-a293-64ad302d2e13"
   },
   "outputs": [
    {
     "name": "stdout",
     "output_type": "stream",
     "text": [
      "Collecting tokenizers==0.5.2\n",
      "\u001b[?25l  Downloading https://files.pythonhosted.org/packages/d1/3f/73c881ea4723e43c1e9acf317cf407fab3a278daab3a69c98dcac511c04f/tokenizers-0.5.2-cp36-cp36m-manylinux1_x86_64.whl (3.7MB)\n",
      "\u001b[K     |████████████████████████████████| 3.7MB 37.4MB/s \n",
      "\u001b[?25hInstalling collected packages: tokenizers\n",
      "Successfully installed tokenizers-0.5.2\n"
     ]
    }
   ],
   "source": [
    "!pip install tokenizers==0.5.2"
   ]
  },
  {
   "cell_type": "code",
   "execution_count": 2,
   "metadata": {
    "colab": {
     "base_uri": "https://localhost:8080/",
     "height": 991
    },
    "colab_type": "code",
    "id": "gozBf0oFp9sn",
    "outputId": "a72eba71-62f7-4e36-8d1a-d38feb9ee1bd"
   },
   "outputs": [
    {
     "name": "stdout",
     "output_type": "stream",
     "text": [
      "Collecting simpletransformers\n",
      "\u001b[?25l  Downloading https://files.pythonhosted.org/packages/36/fe/63b7df08f0412e3462332145009ddb303903fc3c6a15ec511c365c4c5bce/simpletransformers-0.26.0-py3-none-any.whl (159kB)\n",
      "\r",
      "\u001b[K     |██                              | 10kB 24.5MB/s eta 0:00:01\r",
      "\u001b[K     |████▏                           | 20kB 27.8MB/s eta 0:00:01\r",
      "\u001b[K     |██████▏                         | 30kB 32.0MB/s eta 0:00:01\r",
      "\u001b[K     |████████▎                       | 40kB 21.1MB/s eta 0:00:01\r",
      "\u001b[K     |██████████▎                     | 51kB 23.7MB/s eta 0:00:01\r",
      "\u001b[K     |████████████▍                   | 61kB 20.1MB/s eta 0:00:01\r",
      "\u001b[K     |██████████████▍                 | 71kB 21.6MB/s eta 0:00:01\r",
      "\u001b[K     |████████████████▌               | 81kB 23.2MB/s eta 0:00:01\r",
      "\u001b[K     |██████████████████▌             | 92kB 20.1MB/s eta 0:00:01\r",
      "\u001b[K     |████████████████████▋           | 102kB 21.3MB/s eta 0:00:01\r",
      "\u001b[K     |██████████████████████▋         | 112kB 21.3MB/s eta 0:00:01\r",
      "\u001b[K     |████████████████████████▊       | 122kB 21.3MB/s eta 0:00:01\r",
      "\u001b[K     |██████████████████████████▊     | 133kB 21.3MB/s eta 0:00:01\r",
      "\u001b[K     |████████████████████████████▉   | 143kB 21.3MB/s eta 0:00:01\r",
      "\u001b[K     |██████████████████████████████▉ | 153kB 21.3MB/s eta 0:00:01\r",
      "\u001b[K     |████████████████████████████████| 163kB 21.3MB/s \n",
      "\u001b[?25hCollecting tensorboardx\n",
      "\u001b[?25l  Downloading https://files.pythonhosted.org/packages/35/f1/5843425495765c8c2dd0784a851a93ef204d314fc87bcc2bbb9f662a3ad1/tensorboardX-2.0-py2.py3-none-any.whl (195kB)\n",
      "\r",
      "\u001b[K     |█▊                              | 10kB 26.6MB/s eta 0:00:01\r",
      "\u001b[K     |███▍                            | 20kB 35.4MB/s eta 0:00:01\r",
      "\u001b[K     |█████                           | 30kB 37.7MB/s eta 0:00:01\r",
      "\u001b[K     |██████▊                         | 40kB 39.8MB/s eta 0:00:01\r",
      "\u001b[K     |████████▍                       | 51kB 40.9MB/s eta 0:00:01\r",
      "\u001b[K     |██████████                      | 61kB 42.7MB/s eta 0:00:01\r",
      "\u001b[K     |███████████▊                    | 71kB 41.8MB/s eta 0:00:01\r",
      "\u001b[K     |█████████████▍                  | 81kB 42.1MB/s eta 0:00:01\r",
      "\u001b[K     |███████████████                 | 92kB 42.9MB/s eta 0:00:01\r",
      "\u001b[K     |████████████████▊               | 102kB 43.4MB/s eta 0:00:01\r",
      "\u001b[K     |██████████████████▍             | 112kB 43.4MB/s eta 0:00:01\r",
      "\u001b[K     |████████████████████            | 122kB 43.4MB/s eta 0:00:01\r",
      "\u001b[K     |█████████████████████▊          | 133kB 43.4MB/s eta 0:00:01\r",
      "\u001b[K     |███████████████████████▌        | 143kB 43.4MB/s eta 0:00:01\r",
      "\u001b[K     |█████████████████████████▏      | 153kB 43.4MB/s eta 0:00:01\r",
      "\u001b[K     |██████████████████████████▉     | 163kB 43.4MB/s eta 0:00:01\r",
      "\u001b[K     |████████████████████████████▌   | 174kB 43.4MB/s eta 0:00:01\r",
      "\u001b[K     |██████████████████████████████▏ | 184kB 43.4MB/s eta 0:00:01\r",
      "\u001b[K     |███████████████████████████████▉| 194kB 43.4MB/s eta 0:00:01\r",
      "\u001b[K     |████████████████████████████████| 204kB 43.4MB/s \n",
      "\u001b[?25hCollecting transformers\n",
      "\u001b[?25l  Downloading https://files.pythonhosted.org/packages/a3/78/92cedda05552398352ed9784908b834ee32a0bd071a9b32de287327370b7/transformers-2.8.0-py3-none-any.whl (563kB)\n",
      "\r",
      "\u001b[K     |▋                               | 10kB 25.6MB/s eta 0:00:01\r",
      "\u001b[K     |█▏                              | 20kB 32.7MB/s eta 0:00:01\r",
      "\u001b[K     |█▊                              | 30kB 38.8MB/s eta 0:00:01\r",
      "\u001b[K     |██▎                             | 40kB 41.1MB/s eta 0:00:01\r",
      "\u001b[K     |███                             | 51kB 43.2MB/s eta 0:00:01\r",
      "\u001b[K     |███▌                            | 61kB 46.0MB/s eta 0:00:01\r",
      "\u001b[K     |████                            | 71kB 47.7MB/s eta 0:00:01\r",
      "\u001b[K     |████▋                           | 81kB 48.6MB/s eta 0:00:01\r",
      "\u001b[K     |█████▎                          | 92kB 49.6MB/s eta 0:00:01\r",
      "\u001b[K     |█████▉                          | 102kB 50.0MB/s eta 0:00:01\r",
      "\u001b[K     |██████▍                         | 112kB 50.0MB/s eta 0:00:01\r",
      "\u001b[K     |███████                         | 122kB 50.0MB/s eta 0:00:01\r",
      "\u001b[K     |███████▋                        | 133kB 50.0MB/s eta 0:00:01\r",
      "\u001b[K     |████████▏                       | 143kB 50.0MB/s eta 0:00:01\r",
      "\u001b[K     |████████▊                       | 153kB 50.0MB/s eta 0:00:01\r",
      "\u001b[K     |█████████▎                      | 163kB 50.0MB/s eta 0:00:01\r",
      "\u001b[K     |█████████▉                      | 174kB 50.0MB/s eta 0:00:01\r",
      "\u001b[K     |██████████▌                     | 184kB 50.0MB/s eta 0:00:01\r",
      "\u001b[K     |███████████                     | 194kB 50.0MB/s eta 0:00:01\r",
      "\u001b[K     |███████████▋                    | 204kB 50.0MB/s eta 0:00:01\r",
      "\u001b[K     |████████████▏                   | 215kB 50.0MB/s eta 0:00:01\r",
      "\u001b[K     |████████████▉                   | 225kB 50.0MB/s eta 0:00:01\r",
      "\u001b[K     |█████████████▍                  | 235kB 50.0MB/s eta 0:00:01\r",
      "\u001b[K     |██████████████                  | 245kB 50.0MB/s eta 0:00:01\r",
      "\u001b[K     |██████████████▌                 | 256kB 50.0MB/s eta 0:00:01\r",
      "\u001b[K     |███████████████▏                | 266kB 50.0MB/s eta 0:00:01\r",
      "\u001b[K     |███████████████▊                | 276kB 50.0MB/s eta 0:00:01\r",
      "\u001b[K     |████████████████▎               | 286kB 50.0MB/s eta 0:00:01\r",
      "\u001b[K     |████████████████▉               | 296kB 50.0MB/s eta 0:00:01\r",
      "\u001b[K     |█████████████████▍              | 307kB 50.0MB/s eta 0:00:01\r",
      "\u001b[K     |██████████████████              | 317kB 50.0MB/s eta 0:00:01\r",
      "\u001b[K     |██████████████████▋             | 327kB 50.0MB/s eta 0:00:01\r",
      "\u001b[K     |███████████████████▏            | 337kB 50.0MB/s eta 0:00:01\r",
      "\u001b[K     |███████████████████▊            | 348kB 50.0MB/s eta 0:00:01\r",
      "\u001b[K     |████████████████████▍           | 358kB 50.0MB/s eta 0:00:01\r",
      "\u001b[K     |█████████████████████           | 368kB 50.0MB/s eta 0:00:01\r",
      "\u001b[K     |█████████████████████▌          | 378kB 50.0MB/s eta 0:00:01\r",
      "\u001b[K     |██████████████████████          | 389kB 50.0MB/s eta 0:00:01\r",
      "\u001b[K     |██████████████████████▊         | 399kB 50.0MB/s eta 0:00:01\r",
      "\u001b[K     |███████████████████████▎        | 409kB 50.0MB/s eta 0:00:01\r",
      "\u001b[K     |███████████████████████▉        | 419kB 50.0MB/s eta 0:00:01\r",
      "\u001b[K     |████████████████████████▍       | 430kB 50.0MB/s eta 0:00:01\r",
      "\u001b[K     |█████████████████████████       | 440kB 50.0MB/s eta 0:00:01\r",
      "\u001b[K     |█████████████████████████▋      | 450kB 50.0MB/s eta 0:00:01\r",
      "\u001b[K     |██████████████████████████▏     | 460kB 50.0MB/s eta 0:00:01\r",
      "\u001b[K     |██████████████████████████▊     | 471kB 50.0MB/s eta 0:00:01\r",
      "\u001b[K     |███████████████████████████▎    | 481kB 50.0MB/s eta 0:00:01\r",
      "\u001b[K     |████████████████████████████    | 491kB 50.0MB/s eta 0:00:01\r",
      "\u001b[K     |████████████████████████████▌   | 501kB 50.0MB/s eta 0:00:01\r",
      "\u001b[K     |█████████████████████████████   | 512kB 50.0MB/s eta 0:00:01\r",
      "\u001b[K     |█████████████████████████████▋  | 522kB 50.0MB/s eta 0:00:01\r",
      "\u001b[K     |██████████████████████████████▎ | 532kB 50.0MB/s eta 0:00:01\r",
      "\u001b[K     |██████████████████████████████▉ | 542kB 50.0MB/s eta 0:00:01\r",
      "\u001b[K     |███████████████████████████████▍| 552kB 50.0MB/s eta 0:00:01\r",
      "\u001b[K     |████████████████████████████████| 563kB 50.0MB/s eta 0:00:01\r",
      "\u001b[K     |████████████████████████████████| 573kB 50.0MB/s \n",
      "\u001b[?25hRequirement already satisfied: requests in /usr/local/lib/python3.6/dist-packages (from simpletransformers) (2.21.0)\n",
      "Requirement already satisfied: scipy in /usr/local/lib/python3.6/dist-packages (from simpletransformers) (1.4.1)\n",
      "Requirement already satisfied: pandas in /usr/local/lib/python3.6/dist-packages (from simpletransformers) (1.0.3)\n",
      "Requirement already satisfied: tokenizers in /usr/local/lib/python3.6/dist-packages (from simpletransformers) (0.5.2)\n",
      "Collecting seqeval\n",
      "  Downloading https://files.pythonhosted.org/packages/34/91/068aca8d60ce56dd9ba4506850e876aba5e66a6f2f29aa223224b50df0de/seqeval-0.0.12.tar.gz\n",
      "Requirement already satisfied: regex in /usr/local/lib/python3.6/dist-packages (from simpletransformers) (2019.12.20)\n",
      "Requirement already satisfied: scikit-learn in /usr/local/lib/python3.6/dist-packages (from simpletransformers) (0.22.2.post1)\n",
      "Requirement already satisfied: tqdm in /usr/local/lib/python3.6/dist-packages (from simpletransformers) (4.38.0)\n",
      "Requirement already satisfied: numpy in /usr/local/lib/python3.6/dist-packages (from simpletransformers) (1.18.3)\n",
      "Requirement already satisfied: protobuf>=3.8.0 in /usr/local/lib/python3.6/dist-packages (from tensorboardx->simpletransformers) (3.10.0)\n",
      "Requirement already satisfied: six in /usr/local/lib/python3.6/dist-packages (from tensorboardx->simpletransformers) (1.12.0)\n",
      "Requirement already satisfied: boto3 in /usr/local/lib/python3.6/dist-packages (from transformers->simpletransformers) (1.12.43)\n",
      "Collecting sentencepiece\n",
      "\u001b[?25l  Downloading https://files.pythonhosted.org/packages/98/2c/8df20f3ac6c22ac224fff307ebc102818206c53fc454ecd37d8ac2060df5/sentencepiece-0.1.86-cp36-cp36m-manylinux1_x86_64.whl (1.0MB)\n",
      "\r",
      "\u001b[K     |▎                               | 10kB 22.1MB/s eta 0:00:01\r",
      "\u001b[K     |▋                               | 20kB 28.1MB/s eta 0:00:01\r",
      "\u001b[K     |█                               | 30kB 32.9MB/s eta 0:00:01\r",
      "\u001b[K     |█▎                              | 40kB 36.5MB/s eta 0:00:01\r",
      "\u001b[K     |█▋                              | 51kB 38.6MB/s eta 0:00:01\r",
      "\u001b[K     |██                              | 61kB 41.3MB/s eta 0:00:01\r",
      "\u001b[K     |██▏                             | 71kB 39.1MB/s eta 0:00:01\r",
      "\u001b[K     |██▌                             | 81kB 38.8MB/s eta 0:00:01\r",
      "\u001b[K     |██▉                             | 92kB 39.7MB/s eta 0:00:01\r",
      "\u001b[K     |███▏                            | 102kB 41.1MB/s eta 0:00:01\r",
      "\u001b[K     |███▌                            | 112kB 41.1MB/s eta 0:00:01\r",
      "\u001b[K     |███▉                            | 122kB 41.1MB/s eta 0:00:01\r",
      "\u001b[K     |████                            | 133kB 41.1MB/s eta 0:00:01\r",
      "\u001b[K     |████▍                           | 143kB 41.1MB/s eta 0:00:01\r",
      "\u001b[K     |████▊                           | 153kB 41.1MB/s eta 0:00:01\r",
      "\u001b[K     |█████                           | 163kB 41.1MB/s eta 0:00:01\r",
      "\u001b[K     |█████▍                          | 174kB 41.1MB/s eta 0:00:01\r",
      "\u001b[K     |█████▊                          | 184kB 41.1MB/s eta 0:00:01\r",
      "\u001b[K     |██████                          | 194kB 41.1MB/s eta 0:00:01\r",
      "\u001b[K     |██████▎                         | 204kB 41.1MB/s eta 0:00:01\r",
      "\u001b[K     |██████▋                         | 215kB 41.1MB/s eta 0:00:01\r",
      "\u001b[K     |███████                         | 225kB 41.1MB/s eta 0:00:01\r",
      "\u001b[K     |███████▎                        | 235kB 41.1MB/s eta 0:00:01\r",
      "\u001b[K     |███████▋                        | 245kB 41.1MB/s eta 0:00:01\r",
      "\u001b[K     |███████▉                        | 256kB 41.1MB/s eta 0:00:01\r",
      "\u001b[K     |████████▏                       | 266kB 41.1MB/s eta 0:00:01\r",
      "\u001b[K     |████████▌                       | 276kB 41.1MB/s eta 0:00:01\r",
      "\u001b[K     |████████▉                       | 286kB 41.1MB/s eta 0:00:01\r",
      "\u001b[K     |█████████▏                      | 296kB 41.1MB/s eta 0:00:01\r",
      "\u001b[K     |█████████▌                      | 307kB 41.1MB/s eta 0:00:01\r",
      "\u001b[K     |█████████▊                      | 317kB 41.1MB/s eta 0:00:01\r",
      "\u001b[K     |██████████                      | 327kB 41.1MB/s eta 0:00:01\r",
      "\u001b[K     |██████████▍                     | 337kB 41.1MB/s eta 0:00:01\r",
      "\u001b[K     |██████████▊                     | 348kB 41.1MB/s eta 0:00:01\r",
      "\u001b[K     |███████████                     | 358kB 41.1MB/s eta 0:00:01\r",
      "\u001b[K     |███████████▍                    | 368kB 41.1MB/s eta 0:00:01\r",
      "\u001b[K     |███████████▋                    | 378kB 41.1MB/s eta 0:00:01\r",
      "\u001b[K     |████████████                    | 389kB 41.1MB/s eta 0:00:01\r",
      "\u001b[K     |████████████▎                   | 399kB 41.1MB/s eta 0:00:01\r",
      "\u001b[K     |████████████▋                   | 409kB 41.1MB/s eta 0:00:01\r",
      "\u001b[K     |█████████████                   | 419kB 41.1MB/s eta 0:00:01\r",
      "\u001b[K     |█████████████▎                  | 430kB 41.1MB/s eta 0:00:01\r",
      "\u001b[K     |█████████████▌                  | 440kB 41.1MB/s eta 0:00:01\r",
      "\u001b[K     |█████████████▉                  | 450kB 41.1MB/s eta 0:00:01\r",
      "\u001b[K     |██████████████▏                 | 460kB 41.1MB/s eta 0:00:01\r",
      "\u001b[K     |██████████████▌                 | 471kB 41.1MB/s eta 0:00:01\r",
      "\u001b[K     |██████████████▉                 | 481kB 41.1MB/s eta 0:00:01\r",
      "\u001b[K     |███████████████▏                | 491kB 41.1MB/s eta 0:00:01\r",
      "\u001b[K     |███████████████▍                | 501kB 41.1MB/s eta 0:00:01\r",
      "\u001b[K     |███████████████▊                | 512kB 41.1MB/s eta 0:00:01\r",
      "\u001b[K     |████████████████                | 522kB 41.1MB/s eta 0:00:01\r",
      "\u001b[K     |████████████████▍               | 532kB 41.1MB/s eta 0:00:01\r",
      "\u001b[K     |████████████████▊               | 542kB 41.1MB/s eta 0:00:01\r",
      "\u001b[K     |█████████████████               | 552kB 41.1MB/s eta 0:00:01\r",
      "\u001b[K     |█████████████████▎              | 563kB 41.1MB/s eta 0:00:01\r",
      "\u001b[K     |█████████████████▋              | 573kB 41.1MB/s eta 0:00:01\r",
      "\u001b[K     |██████████████████              | 583kB 41.1MB/s eta 0:00:01\r",
      "\u001b[K     |██████████████████▎             | 593kB 41.1MB/s eta 0:00:01\r",
      "\u001b[K     |██████████████████▋             | 604kB 41.1MB/s eta 0:00:01\r",
      "\u001b[K     |███████████████████             | 614kB 41.1MB/s eta 0:00:01\r",
      "\u001b[K     |███████████████████▏            | 624kB 41.1MB/s eta 0:00:01\r",
      "\u001b[K     |███████████████████▌            | 634kB 41.1MB/s eta 0:00:01\r",
      "\u001b[K     |███████████████████▉            | 645kB 41.1MB/s eta 0:00:01\r",
      "\u001b[K     |████████████████████▏           | 655kB 41.1MB/s eta 0:00:01\r",
      "\u001b[K     |████████████████████▌           | 665kB 41.1MB/s eta 0:00:01\r",
      "\u001b[K     |████████████████████▉           | 675kB 41.1MB/s eta 0:00:01\r",
      "\u001b[K     |█████████████████████▏          | 686kB 41.1MB/s eta 0:00:01\r",
      "\u001b[K     |█████████████████████▍          | 696kB 41.1MB/s eta 0:00:01\r",
      "\u001b[K     |█████████████████████▊          | 706kB 41.1MB/s eta 0:00:01\r",
      "\u001b[K     |██████████████████████          | 716kB 41.1MB/s eta 0:00:01\r",
      "\u001b[K     |██████████████████████▍         | 727kB 41.1MB/s eta 0:00:01\r",
      "\u001b[K     |██████████████████████▊         | 737kB 41.1MB/s eta 0:00:01\r",
      "\u001b[K     |███████████████████████         | 747kB 41.1MB/s eta 0:00:01\r",
      "\u001b[K     |███████████████████████▎        | 757kB 41.1MB/s eta 0:00:01\r",
      "\u001b[K     |███████████████████████▋        | 768kB 41.1MB/s eta 0:00:01\r",
      "\u001b[K     |████████████████████████        | 778kB 41.1MB/s eta 0:00:01\r",
      "\u001b[K     |████████████████████████▎       | 788kB 41.1MB/s eta 0:00:01\r",
      "\u001b[K     |████████████████████████▋       | 798kB 41.1MB/s eta 0:00:01\r",
      "\u001b[K     |█████████████████████████       | 808kB 41.1MB/s eta 0:00:01\r",
      "\u001b[K     |█████████████████████████▏      | 819kB 41.1MB/s eta 0:00:01\r",
      "\u001b[K     |█████████████████████████▌      | 829kB 41.1MB/s eta 0:00:01\r",
      "\u001b[K     |█████████████████████████▉      | 839kB 41.1MB/s eta 0:00:01\r",
      "\u001b[K     |██████████████████████████▏     | 849kB 41.1MB/s eta 0:00:01\r",
      "\u001b[K     |██████████████████████████▌     | 860kB 41.1MB/s eta 0:00:01\r",
      "\u001b[K     |██████████████████████████▉     | 870kB 41.1MB/s eta 0:00:01\r",
      "\u001b[K     |███████████████████████████     | 880kB 41.1MB/s eta 0:00:01\r",
      "\u001b[K     |███████████████████████████▍    | 890kB 41.1MB/s eta 0:00:01\r",
      "\u001b[K     |███████████████████████████▊    | 901kB 41.1MB/s eta 0:00:01\r",
      "\u001b[K     |████████████████████████████    | 911kB 41.1MB/s eta 0:00:01\r",
      "\u001b[K     |████████████████████████████▍   | 921kB 41.1MB/s eta 0:00:01\r",
      "\u001b[K     |████████████████████████████▊   | 931kB 41.1MB/s eta 0:00:01\r",
      "\u001b[K     |█████████████████████████████   | 942kB 41.1MB/s eta 0:00:01\r",
      "\u001b[K     |█████████████████████████████▎  | 952kB 41.1MB/s eta 0:00:01\r",
      "\u001b[K     |█████████████████████████████▋  | 962kB 41.1MB/s eta 0:00:01\r",
      "\u001b[K     |██████████████████████████████  | 972kB 41.1MB/s eta 0:00:01\r",
      "\u001b[K     |██████████████████████████████▎ | 983kB 41.1MB/s eta 0:00:01\r",
      "\u001b[K     |██████████████████████████████▋ | 993kB 41.1MB/s eta 0:00:01\r",
      "\u001b[K     |██████████████████████████████▉ | 1.0MB 41.1MB/s eta 0:00:01\r",
      "\u001b[K     |███████████████████████████████▏| 1.0MB 41.1MB/s eta 0:00:01\r",
      "\u001b[K     |███████████████████████████████▌| 1.0MB 41.1MB/s eta 0:00:01\r",
      "\u001b[K     |███████████████████████████████▉| 1.0MB 41.1MB/s eta 0:00:01\r",
      "\u001b[K     |████████████████████████████████| 1.0MB 41.1MB/s \n",
      "\u001b[?25hRequirement already satisfied: dataclasses; python_version < \"3.7\" in /usr/local/lib/python3.6/dist-packages (from transformers->simpletransformers) (0.7)\n",
      "Requirement already satisfied: filelock in /usr/local/lib/python3.6/dist-packages (from transformers->simpletransformers) (3.0.12)\n",
      "Collecting sacremoses\n",
      "\u001b[?25l  Downloading https://files.pythonhosted.org/packages/99/50/93509f906a40bffd7d175f97fd75ea328ad9bd91f48f59c4bd084c94a25e/sacremoses-0.0.41.tar.gz (883kB)\n",
      "\u001b[K     |████████████████████████████████| 890kB 45.7MB/s \n",
      "\u001b[?25hRequirement already satisfied: certifi>=2017.4.17 in /usr/local/lib/python3.6/dist-packages (from requests->simpletransformers) (2020.4.5.1)\n",
      "Requirement already satisfied: urllib3<1.25,>=1.21.1 in /usr/local/lib/python3.6/dist-packages (from requests->simpletransformers) (1.24.3)\n",
      "Requirement already satisfied: idna<2.9,>=2.5 in /usr/local/lib/python3.6/dist-packages (from requests->simpletransformers) (2.8)\n",
      "Requirement already satisfied: chardet<3.1.0,>=3.0.2 in /usr/local/lib/python3.6/dist-packages (from requests->simpletransformers) (3.0.4)\n",
      "Requirement already satisfied: python-dateutil>=2.6.1 in /usr/local/lib/python3.6/dist-packages (from pandas->simpletransformers) (2.8.1)\n",
      "Requirement already satisfied: pytz>=2017.2 in /usr/local/lib/python3.6/dist-packages (from pandas->simpletransformers) (2018.9)\n",
      "Requirement already satisfied: Keras>=2.2.4 in /usr/local/lib/python3.6/dist-packages (from seqeval->simpletransformers) (2.3.1)\n",
      "Requirement already satisfied: joblib>=0.11 in /usr/local/lib/python3.6/dist-packages (from scikit-learn->simpletransformers) (0.14.1)\n",
      "Requirement already satisfied: setuptools in /usr/local/lib/python3.6/dist-packages (from protobuf>=3.8.0->tensorboardx->simpletransformers) (46.1.3)\n",
      "Requirement already satisfied: jmespath<1.0.0,>=0.7.1 in /usr/local/lib/python3.6/dist-packages (from boto3->transformers->simpletransformers) (0.9.5)\n",
      "Requirement already satisfied: botocore<1.16.0,>=1.15.43 in /usr/local/lib/python3.6/dist-packages (from boto3->transformers->simpletransformers) (1.15.43)\n",
      "Requirement already satisfied: s3transfer<0.4.0,>=0.3.0 in /usr/local/lib/python3.6/dist-packages (from boto3->transformers->simpletransformers) (0.3.3)\n",
      "Requirement already satisfied: click in /usr/local/lib/python3.6/dist-packages (from sacremoses->transformers->simpletransformers) (7.1.1)\n",
      "Requirement already satisfied: keras-preprocessing>=1.0.5 in /usr/local/lib/python3.6/dist-packages (from Keras>=2.2.4->seqeval->simpletransformers) (1.1.0)\n",
      "Requirement already satisfied: h5py in /usr/local/lib/python3.6/dist-packages (from Keras>=2.2.4->seqeval->simpletransformers) (2.10.0)\n",
      "Requirement already satisfied: pyyaml in /usr/local/lib/python3.6/dist-packages (from Keras>=2.2.4->seqeval->simpletransformers) (3.13)\n",
      "Requirement already satisfied: keras-applications>=1.0.6 in /usr/local/lib/python3.6/dist-packages (from Keras>=2.2.4->seqeval->simpletransformers) (1.0.8)\n",
      "Requirement already satisfied: docutils<0.16,>=0.10 in /usr/local/lib/python3.6/dist-packages (from botocore<1.16.0,>=1.15.43->boto3->transformers->simpletransformers) (0.15.2)\n",
      "Building wheels for collected packages: seqeval, sacremoses\n",
      "  Building wheel for seqeval (setup.py) ... \u001b[?25l\u001b[?25hdone\n",
      "  Created wheel for seqeval: filename=seqeval-0.0.12-cp36-none-any.whl size=7424 sha256=33ca2eb501ab2602862791e755bdfe8802141778f7cfd225fa02f11186621ea9\n",
      "  Stored in directory: /root/.cache/pip/wheels/4f/32/0a/df3b340a82583566975377d65e724895b3fad101a3fb729f68\n",
      "  Building wheel for sacremoses (setup.py) ... \u001b[?25l\u001b[?25hdone\n",
      "  Created wheel for sacremoses: filename=sacremoses-0.0.41-cp36-none-any.whl size=893334 sha256=8c84d1ba8ddfecedca74a5159bc7f45e8ee16638b7784fac20d8a46948761ce0\n",
      "  Stored in directory: /root/.cache/pip/wheels/22/5a/d4/b020a81249de7dc63758a34222feaa668dbe8ebfe9170cc9b1\n",
      "Successfully built seqeval sacremoses\n",
      "Installing collected packages: tensorboardx, sentencepiece, sacremoses, transformers, seqeval, simpletransformers\n",
      "Successfully installed sacremoses-0.0.41 sentencepiece-0.1.86 seqeval-0.0.12 simpletransformers-0.26.0 tensorboardx-2.0 transformers-2.8.0\n"
     ]
    }
   ],
   "source": [
    "!pip install simpletransformers"
   ]
  },
  {
   "cell_type": "code",
   "execution_count": 1,
   "metadata": {
    "colab": {
     "base_uri": "https://localhost:8080/",
     "height": 121
    },
    "colab_type": "code",
    "id": "8wYbz2N6o-_D",
    "outputId": "fa68308a-6ebf-42a8-b97d-101fb220ebde"
   },
   "outputs": [],
   "source": [
    "#from google.colab import drive\n",
    "#drive.mount('/content/gdrive/')"
   ]
  },
  {
   "cell_type": "code",
   "execution_count": 0,
   "metadata": {
    "colab": {},
    "colab_type": "code",
    "id": "uvuDp5mxpIVY"
   },
   "outputs": [],
   "source": [
    "import os\n",
    "import re\n",
    "import pandas as pd\n",
    "import numpy as np"
   ]
  },
  {
   "cell_type": "code",
   "execution_count": 0,
   "metadata": {
    "colab": {},
    "colab_type": "code",
    "id": "Y4Boxu6LVHk5"
   },
   "outputs": [],
   "source": [
    "def random_seed(seed_value):\n",
    "    import random \n",
    "    random.seed(seed_value) # Python\n",
    "    import numpy as np\n",
    "    np.random.seed(seed_value) # cpu vars\n",
    "    import torch\n",
    "    torch.manual_seed(seed_value) # cpu  vars\n",
    "    \n",
    "    if torch.cuda.is_available(): \n",
    "        torch.cuda.manual_seed(seed_value)\n",
    "        torch.cuda.manual_seed_all(seed_value) # gpu vars\n",
    "        torch.backends.cudnn.deterministic = True  #needed\n",
    "        torch.backends.cudnn.benchmark = False"
   ]
  },
  {
   "cell_type": "code",
   "execution_count": 0,
   "metadata": {
    "colab": {},
    "colab_type": "code",
    "id": "TrOS-QxhW-7W"
   },
   "outputs": [],
   "source": [
    "random_seed(42)"
   ]
  },
  {
   "cell_type": "code",
   "execution_count": 0,
   "metadata": {
    "colab": {},
    "colab_type": "code",
    "id": "6ubuJZXmpze5"
   },
   "outputs": [],
   "source": [
    "train = pd.read_csv('/content/gdrive/My Drive/Competitions/Zindi_VaccinateOrNot/Train.csv')\n",
    "test = pd.read_csv('/content/gdrive/My Drive/Competitions/Zindi_VaccinateOrNot/Test.csv')\n",
    "sub = pd.read_csv('/content/gdrive/My Drive/Competitions/Zindi_VaccinateOrNot/SampleSubmission.csv')"
   ]
  },
  {
   "cell_type": "code",
   "execution_count": 49,
   "metadata": {
    "colab": {
     "base_uri": "https://localhost:8080/",
     "height": 101
    },
    "colab_type": "code",
    "id": "mB8ZPCUpslyx",
    "outputId": "affb44d6-8731-4637-e27d-3920d7909998"
   },
   "outputs": [
    {
     "name": "stderr",
     "output_type": "stream",
     "text": [
      "/usr/local/lib/python3.6/dist-packages/ipykernel_launcher.py:1: SettingWithCopyWarning: \n",
      "A value is trying to be set on a copy of a slice from a DataFrame\n",
      "\n",
      "See the caveats in the documentation: https://pandas.pydata.org/pandas-docs/stable/user_guide/indexing.html#returning-a-view-versus-a-copy\n",
      "  \"\"\"Entry point for launching an IPython kernel.\n"
     ]
    }
   ],
   "source": [
    "train['label'][~train['label'].isin([0, -1, 1])] = -1\n",
    "train = train.dropna()\n",
    "test['safe_text'] = test['safe_text'].fillna('xxxxxx')"
   ]
  },
  {
   "cell_type": "code",
   "execution_count": 0,
   "metadata": {
    "colab": {},
    "colab_type": "code",
    "id": "9Axlo2uqqMUn"
   },
   "outputs": [],
   "source": [
    "train['label'] = train['label'] * train['agreement']\n",
    "train = train[['safe_text','label']]\n",
    "test = test[['safe_text']]"
   ]
  },
  {
   "cell_type": "code",
   "execution_count": 0,
   "metadata": {
    "colab": {},
    "colab_type": "code",
    "id": "HsaY6ZlYqH55"
   },
   "outputs": [],
   "source": [
    "from sklearn.model_selection import train_test_split\n",
    "X_train, X_cv =  train_test_split(train, test_size=0.20, random_state=5, stratify=train['label'])"
   ]
  },
  {
   "cell_type": "code",
   "execution_count": 0,
   "metadata": {
    "colab": {},
    "colab_type": "code",
    "id": "lBFlnE-1sgB2"
   },
   "outputs": [],
   "source": [
    "from simpletransformers.classification import ClassificationModel\n",
    "from sklearn.metrics import accuracy_score, log_loss, mean_squared_error"
   ]
  },
  {
   "cell_type": "code",
   "execution_count": 0,
   "metadata": {
    "colab": {},
    "colab_type": "code",
    "id": "_zMwMjPhszkG"
   },
   "outputs": [],
   "source": [
    "model = ClassificationModel('roberta', 'roberta-base', num_labels=1, use_cuda=True, \n",
    "                            args={'fp16': False,\n",
    "                                  'learning_rate': 4e-5,\n",
    "                                  'regression': True, \n",
    "                                  'overwrite_output_dir': True, \n",
    "                                  'num_train_epochs': 3,\n",
    "                                  'manual_seed': 0\n",
    "                                  }\n",
    "                            )"
   ]
  },
  {
   "cell_type": "code",
   "execution_count": 67,
   "metadata": {
    "colab": {
     "base_uri": "https://localhost:8080/",
     "height": 348,
     "referenced_widgets": [
      "dbb412c6740b41c080c82f410008357b",
      "56ea27c9caac49c7b2e59c2e1a416808",
      "80d9806d77e84393ab4339562ef6f40d",
      "d0adc72abe8142f98800192f9f38be08",
      "0feb1a17b2854ec8874ea21141330cb7",
      "e5b54a20be334e9696b39958cc05b0c6",
      "8b898eb5742e4786bbb7a47a338261eb",
      "ba8fedd45dae481f94e8eb9bedcf1e51",
      "675be8d350574507ba6ee05c85789139",
      "029a8888420b4297af162b20eab533e2",
      "4e8101a326fa43a691c09dfcf5a1588b",
      "ad322ba62bc44f68a38450791f5a4177",
      "818e635d20e649ba8f9b5c25b4e7115c",
      "1ba03f74c4ba4f50abac55cf7719ec9a",
      "a667a57390a3471fac35cf0092cafa17",
      "3807573867514f6c8960983e04292a0f",
      "2b6ddf01ebe84e4a8bf0c690134ab699",
      "55bcd65633664e10b5ca8472bb3fe566",
      "1bf2a7a085b24357b0c4b875dea44dea",
      "9f6885c670484389b35750a6860e1e6c",
      "fe1c97319cbf4f0ea7b71273dc23ac22",
      "65a4843a47454d049e6fd067410b2f42",
      "8170399d0d0145678097e56c3976d822",
      "f04a8312656b470a94370284006104cd",
      "a07a4ef57ac64e4699bc19664853089c",
      "b542313ed76347a5a3a15ad2800ef781",
      "e157f5f9146a4093b304fd25ff139ecb",
      "7b720f2951a94f68bd8090ed971bd97f",
      "a399b085991b4889a2ec115945d4f0c3",
      "7cd07848cc794d2d855ab89cba9035fc",
      "5a4ad99a4101412dbefad1fc31a99a53",
      "7a6a1065632748dea8ceb040ec630299",
      "1cf94d64f98b4fb4858a66ab8bafde32",
      "95f593dd458e4c4781879fd38b8f243a",
      "81fc77280dcf4d07a46332c87a1f4b41",
      "559c63002c4442168491eed63cd0df53",
      "cc2d81e3a18e4f09ae3099c4557b40e9",
      "c5d4eb68d90f43b88919492e0f6a5559",
      "0db85c534bf54164a8143f15bf236ec2",
      "3a6dd7111cf34ce5b5ee8143004365b4"
     ]
    },
    "colab_type": "code",
    "id": "Phlb17T4s_fX",
    "outputId": "332f94d5-554a-4f46-a14f-8fdadc962fb9"
   },
   "outputs": [
    {
     "name": "stderr",
     "output_type": "stream",
     "text": [
      "/usr/local/lib/python3.6/dist-packages/simpletransformers/classification/classification_model.py:247: UserWarning: Dataframe headers not specified. Falling back to using column 0 as text and column 1 as labels.\n",
      "  \"Dataframe headers not specified. Falling back to using column 0 as text and column 1 as labels.\"\n"
     ]
    },
    {
     "data": {
      "application/vnd.jupyter.widget-view+json": {
       "model_id": "dbb412c6740b41c080c82f410008357b",
       "version_major": 2,
       "version_minor": 0
      },
      "text/plain": [
       "HBox(children=(IntProgress(value=0, max=7999), HTML(value='')))"
      ]
     },
     "metadata": {
      "tags": []
     },
     "output_type": "display_data"
    },
    {
     "name": "stdout",
     "output_type": "stream",
     "text": [
      "\n"
     ]
    },
    {
     "data": {
      "application/vnd.jupyter.widget-view+json": {
       "model_id": "675be8d350574507ba6ee05c85789139",
       "version_major": 2,
       "version_minor": 0
      },
      "text/plain": [
       "HBox(children=(IntProgress(value=0, description='Epoch', max=3, style=ProgressStyle(description_width='initial…"
      ]
     },
     "metadata": {
      "tags": []
     },
     "output_type": "display_data"
    },
    {
     "data": {
      "application/vnd.jupyter.widget-view+json": {
       "model_id": "2b6ddf01ebe84e4a8bf0c690134ab699",
       "version_major": 2,
       "version_minor": 0
      },
      "text/plain": [
       "HBox(children=(IntProgress(value=0, description='Current iteration', max=1000, style=ProgressStyle(description…"
      ]
     },
     "metadata": {
      "tags": []
     },
     "output_type": "display_data"
    },
    {
     "name": "stdout",
     "output_type": "stream",
     "text": [
      "Running loss: 0.248024"
     ]
    },
    {
     "name": "stderr",
     "output_type": "stream",
     "text": [
      "/usr/local/lib/python3.6/dist-packages/torch/optim/lr_scheduler.py:224: UserWarning: To get the last learning rate computed by the scheduler, please use `get_last_lr()`.\n",
      "  warnings.warn(\"To get the last learning rate computed by the scheduler, \"\n"
     ]
    },
    {
     "name": "stdout",
     "output_type": "stream",
     "text": [
      "Running loss: 0.212502\n"
     ]
    },
    {
     "data": {
      "application/vnd.jupyter.widget-view+json": {
       "model_id": "a07a4ef57ac64e4699bc19664853089c",
       "version_major": 2,
       "version_minor": 0
      },
      "text/plain": [
       "HBox(children=(IntProgress(value=0, description='Current iteration', max=1000, style=ProgressStyle(description…"
      ]
     },
     "metadata": {
      "tags": []
     },
     "output_type": "display_data"
    },
    {
     "name": "stdout",
     "output_type": "stream",
     "text": [
      "Running loss: 0.290293\n"
     ]
    },
    {
     "data": {
      "application/vnd.jupyter.widget-view+json": {
       "model_id": "1cf94d64f98b4fb4858a66ab8bafde32",
       "version_major": 2,
       "version_minor": 0
      },
      "text/plain": [
       "HBox(children=(IntProgress(value=0, description='Current iteration', max=1000, style=ProgressStyle(description…"
      ]
     },
     "metadata": {
      "tags": []
     },
     "output_type": "display_data"
    },
    {
     "name": "stdout",
     "output_type": "stream",
     "text": [
      "Running loss: 0.268203\n",
      "\n"
     ]
    }
   ],
   "source": [
    "model.train_model(X_train)"
   ]
  },
  {
   "cell_type": "code",
   "execution_count": 68,
   "metadata": {
    "colab": {
     "base_uri": "https://localhost:8080/",
     "height": 168,
     "referenced_widgets": [
      "63d19b6060b74b329a221f4517a53c0d",
      "28f668c0b2764b74975f328afab34144",
      "0981962b9f45419eb9bf294caae68abe",
      "e3b4af207ea9498db719e30f63b874f3",
      "ac64b17aaa634578840e951e9ebdb8db",
      "6c29f92424a34fbba813cca3156227cc",
      "d2d10268b3244f929d6e15c55a75d0d1",
      "c12e6076bbab4c1a860a13f7a6295a33",
      "35d105ba0c664b98bded1eca1558fd99",
      "458b786f85c347b29b1174bc3fc2829a",
      "a5a1d6267d41461a8cb85370c3862f5d",
      "a091bfe8587b415fbf1d34d006350f02",
      "35e3a07e8b054d88bb3ebb5494b85f09",
      "6906d68692e94486962fd32a381db060",
      "8052ab735abd40b397c06f278bb22a8e",
      "b1ffbaac7dc240679844f2e49e11b76c"
     ]
    },
    "colab_type": "code",
    "id": "wihd5KLUtV88",
    "outputId": "5e0683d1-2aa6-4059-a675-90f541113a93"
   },
   "outputs": [
    {
     "name": "stderr",
     "output_type": "stream",
     "text": [
      "/usr/local/lib/python3.6/dist-packages/simpletransformers/classification/classification_model.py:664: UserWarning: Dataframe headers not specified. Falling back to using column 0 as text and column 1 as labels.\n",
      "  \"Dataframe headers not specified. Falling back to using column 0 as text and column 1 as labels.\"\n"
     ]
    },
    {
     "data": {
      "application/vnd.jupyter.widget-view+json": {
       "model_id": "63d19b6060b74b329a221f4517a53c0d",
       "version_major": 2,
       "version_minor": 0
      },
      "text/plain": [
       "HBox(children=(IntProgress(value=0, max=2000), HTML(value='')))"
      ]
     },
     "metadata": {
      "tags": []
     },
     "output_type": "display_data"
    },
    {
     "name": "stdout",
     "output_type": "stream",
     "text": [
      "\n"
     ]
    },
    {
     "data": {
      "application/vnd.jupyter.widget-view+json": {
       "model_id": "35d105ba0c664b98bded1eca1558fd99",
       "version_major": 2,
       "version_minor": 0
      },
      "text/plain": [
       "HBox(children=(IntProgress(value=0, max=250), HTML(value='')))"
      ]
     },
     "metadata": {
      "tags": []
     },
     "output_type": "display_data"
    },
    {
     "name": "stdout",
     "output_type": "stream",
     "text": [
      "\n"
     ]
    }
   ],
   "source": [
    "scores, model_outputs, wrong_predictions = model.eval_model(X_cv)"
   ]
  },
  {
   "cell_type": "code",
   "execution_count": 69,
   "metadata": {
    "colab": {
     "base_uri": "https://localhost:8080/",
     "height": 34
    },
    "colab_type": "code",
    "id": "BCrbJn2DxAY_",
    "outputId": "316ad2d6-a1bf-48ef-b73b-6ee0c9047720"
   },
   "outputs": [
    {
     "data": {
      "text/plain": [
       "{'eval_loss': 0.18572730297688395}"
      ]
     },
     "execution_count": 69,
     "metadata": {
      "tags": []
     },
     "output_type": "execute_result"
    }
   ],
   "source": [
    "scores"
   ]
  },
  {
   "cell_type": "code",
   "execution_count": 70,
   "metadata": {
    "colab": {
     "base_uri": "https://localhost:8080/",
     "height": 34
    },
    "colab_type": "code",
    "id": "J-FPTZDIxyJL",
    "outputId": "e841fa2f-9c72-4722-ba26-f97c789b7208"
   },
   "outputs": [
    {
     "data": {
      "text/plain": [
       "0.43096090507214435"
      ]
     },
     "execution_count": 70,
     "metadata": {
      "tags": []
     },
     "output_type": "execute_result"
    }
   ],
   "source": [
    "np.sqrt(mean_squared_error(X_cv['label'], model_outputs))"
   ]
  },
  {
   "cell_type": "code",
   "execution_count": 71,
   "metadata": {
    "colab": {
     "base_uri": "https://localhost:8080/",
     "height": 114,
     "referenced_widgets": [
      "40645eb613ad42798e6a8fe1d18115cf",
      "97c07224298f40f7971eb94590d7d077",
      "a2e4cda6b1644657a16bbe4aeeb78dba",
      "2f4d7618817c40738bdbfe0f1247f97d",
      "1f44fd8a84a94cb78973398dc1348660",
      "55644f6b34b94f4aacb67987f611f7b4",
      "de90e1494b7346f88e1839535e92afd0",
      "dd370373a27d424f8b05f83316772d75",
      "b79053ce1d8543fe921e5f01d4b48ae7",
      "a9492e42642c4ed3b77f3217e7b5f2c4",
      "19d5c2d874a4417a91b5beb3dac97c1d",
      "6856a75bdf67494584da473f371d3926",
      "d4af8d30f4d04625b77384df363f4aa7",
      "8a6bffa5922d44c89f512f843cff6913",
      "8d37d89526804f589599b7bbeb0a7043",
      "572a0fcef3a64977966c36c94b57ce10"
     ]
    },
    "colab_type": "code",
    "id": "9FruR5Tpyif_",
    "outputId": "cff11790-8551-467a-ef12-978e45be875f"
   },
   "outputs": [
    {
     "data": {
      "application/vnd.jupyter.widget-view+json": {
       "model_id": "40645eb613ad42798e6a8fe1d18115cf",
       "version_major": 2,
       "version_minor": 0
      },
      "text/plain": [
       "HBox(children=(IntProgress(value=0, max=5177), HTML(value='')))"
      ]
     },
     "metadata": {
      "tags": []
     },
     "output_type": "display_data"
    },
    {
     "name": "stdout",
     "output_type": "stream",
     "text": [
      "\n"
     ]
    },
    {
     "data": {
      "application/vnd.jupyter.widget-view+json": {
       "model_id": "b79053ce1d8543fe921e5f01d4b48ae7",
       "version_major": 2,
       "version_minor": 0
      },
      "text/plain": [
       "HBox(children=(IntProgress(value=0, max=648), HTML(value='')))"
      ]
     },
     "metadata": {
      "tags": []
     },
     "output_type": "display_data"
    },
    {
     "name": "stdout",
     "output_type": "stream",
     "text": [
      "\n"
     ]
    }
   ],
   "source": [
    "predictions, raw_output = model.predict(test['safe_text'])"
   ]
  },
  {
   "cell_type": "code",
   "execution_count": 72,
   "metadata": {
    "colab": {
     "base_uri": "https://localhost:8080/",
     "height": 34
    },
    "colab_type": "code",
    "id": "sbvujP3my77C",
    "outputId": "bb77e283-d3d2-4417-fe2a-77cf7abcb426"
   },
   "outputs": [
    {
     "data": {
      "text/plain": [
       "(5177,)"
      ]
     },
     "execution_count": 72,
     "metadata": {
      "tags": []
     },
     "output_type": "execute_result"
    }
   ],
   "source": [
    "raw_output.shape"
   ]
  },
  {
   "cell_type": "code",
   "execution_count": 73,
   "metadata": {
    "colab": {
     "base_uri": "https://localhost:8080/",
     "height": 136
    },
    "colab_type": "code",
    "id": "eoTmSftCxPJq",
    "outputId": "97ec7891-a8ca-4565-b096-c54c62fd9ff7"
   },
   "outputs": [
    {
     "data": {
      "text/html": [
       "<div>\n",
       "<style scoped>\n",
       "    .dataframe tbody tr th:only-of-type {\n",
       "        vertical-align: middle;\n",
       "    }\n",
       "\n",
       "    .dataframe tbody tr th {\n",
       "        vertical-align: top;\n",
       "    }\n",
       "\n",
       "    .dataframe thead th {\n",
       "        text-align: right;\n",
       "    }\n",
       "</style>\n",
       "<table border=\"1\" class=\"dataframe\">\n",
       "  <thead>\n",
       "    <tr style=\"text-align: right;\">\n",
       "      <th></th>\n",
       "      <th>tweet_id</th>\n",
       "      <th>label</th>\n",
       "    </tr>\n",
       "  </thead>\n",
       "  <tbody>\n",
       "    <tr>\n",
       "      <th>0</th>\n",
       "      <td>00BHHHP1</td>\n",
       "      <td>0.860478</td>\n",
       "    </tr>\n",
       "    <tr>\n",
       "      <th>1</th>\n",
       "      <td>00UNMD0E</td>\n",
       "      <td>0.551548</td>\n",
       "    </tr>\n",
       "    <tr>\n",
       "      <th>2</th>\n",
       "      <td>01AXPTJF</td>\n",
       "      <td>-0.065648</td>\n",
       "    </tr>\n",
       "  </tbody>\n",
       "</table>\n",
       "</div>"
      ],
      "text/plain": [
       "   tweet_id     label\n",
       "0  00BHHHP1  0.860478\n",
       "1  00UNMD0E  0.551548\n",
       "2  01AXPTJF -0.065648"
      ]
     },
     "execution_count": 73,
     "metadata": {
      "tags": []
     },
     "output_type": "execute_result"
    }
   ],
   "source": [
    "sub['label'] = raw_output\n",
    "sub.head(3)"
   ]
  },
  {
   "cell_type": "code",
   "execution_count": 74,
   "metadata": {
    "colab": {
     "base_uri": "https://localhost:8080/",
     "height": 34
    },
    "colab_type": "code",
    "id": "-sv_jjt4zDmq",
    "outputId": "97aec573-2a1d-417c-8d6a-644ea1ac9eb9"
   },
   "outputs": [
    {
     "data": {
      "text/html": [
       "<a download=\"submission.csv\" href=\"data:text/csv;base64,dHdlZXRfaWQsbGFiZWwKMDBCSEhIUDEsMC44NjA0Nzg0NgowMFVOTUQwRSwwLjU1MTU0NzcKMDFBWFBUSkYsLTAuMDY1NjQ4MTgKMDFIT0VRSlcsMC45NTEzMDQ1CjAxSlVLTUFPLDAuMDQ5NTQ3NTEyCjAxVjFYOFhXLDAuOTMxOTE4NQowMVZDVllSMCwwLjA1NTU2ODE2CjAxVk83S0JPLDAuNjMwNDUxNgowMjBTWUhJTCwwLjkyODMxNDI3CjAyQ1FJSlVJLDAuMDI3MzQ1NzkxCjAyT0xHR1lWLDAuMDM4MDY1NDIyCjAyVkRRN0pULDAuOTM1NTMzNjQKMDNWREVPRlosMC42NTA0NTk1CjAzVzMyR0YxLDAuMDQ2ODI5NzY4CjA0MTVMU0FOLDAuODc0ODMyOAowNDdJWkVFMSwwLjg1NzkyNDcKMDRCQTdWUTksMC44NDA1MTc2CjA0UTZRTVNJLDAuOTk1MTg0NgowNFVKOVEzMSwwLjY2MTYzNjYKMDRXMFhKRUosMC4wMDgxMTg3MjIKMDUyNzdTSTQsMC4wNDQxNjgzOTgKMDVPS1FRQlUsMC43NjM0MDYwNAowNVBVUEdVUywwLjAyNzExMDc2CjA3NDlGRFhBLDAuODA3MTUzOQowNzhCRUQxVywtMC45ODY4NTEzCjA3QjNGVlVYLDAuMDA4MzQ2MTU0CjA3U08zWUJHLC0wLjc4MDMyNjU1CjA3VkJTVjlSLDAuOTQ1NzI3NzcKMDdWUko3S1ksMC44OTYxNzU1NgowN1pVUzJERCwwLjk1MDc3MzM2CjA4REo1WE5ELDAuODk0MDYwMwowOEhZNTJPUiwwLjA1MDE4MTM5CjA4WlZaTU5BLDAuOTQ5NjA1MwowOUQ0Sk1OSiwwLjg5MzQxOTc0CjA5RFNZSVE3LDAuMDA3MTMxMTY0CjA5TzM4WEVWLDAuMDM0NTkwMzM0CjBBMjFLUTZNLDAuMDQ3MzA5MzU0CjBBNUs2RUJaLDAuMDA4ODcyNjU3CjBBS0M3TjE4LDEuMDAyNjkxCjBBVkdKS1laLDAuMDIxMjE5MjUKMEJKVE1ITVUsMC4wNzc3NjU5MzQKMEJMSFZWMU0sMC4wMTYzNTg0NjkKMEM0SVoyTlEsLTAuMTA0MzMyODA1CjBDNUdWNjZPLDAuOTU2ODE4OAowQ0JPSFg5TSwwLjk1OTY3Njc0CjBDQ0oxU01RLDAuNDA2NjAwODYKMENHUUZYNkYsMC4wMTM0NDE5MzQKMENRM1FTWVMsMC45MDEwNDcKMENYVk5CNFEsMC43NDg3ODYKMEQzM1AxV1IsMC45NjAxMjkxCjBEM1cyRUc5LC0wLjg2Mzk5MDg0CjBEN09HVFRRLDAuMjM3NTY4MTMKMERDR1FFUUQsMC4zMDg2Nzk4NQowREZJUU1BViwwLjA0MjI0NzY1NwowRE9ENVlWMSwxLjAwNDYxNDQKMERTRVhTVVQsMS4wMjQyMjI2CjBFNUU1Vk9DLDAuNjQzODMyNzQKMEVJTFZSOFosMC4zMzk4NjUwMwowRUxOWFRVUSwtMC4wNDQ1NjcwNQowRjM2WTg1MywwLjA2MTQwMzg4NQowRkNBNE1QQiwwLjA0NDU2MzU0CjBGS0VXTjBLLDAuNjEyMjEyCjBGT0JFM09aLDAuMDA0NjU3Nzg5CjBGWDlRSkFTLDAuMDMxMjkyMTMzCjBHMThDQ1pYLDAuMTE2Mjc0MjQKMEczUzE0QjgsLTAuODQwODY4NTMKMEc1V0syQVosLTAuNDM0NzcwNTIKMEdCMUYyUTUsLTAuODMxOTI2MwowR0JKUVpCNywwLjA4NTI5MDM5CjBHRzVZM0xJLDAuMjA2ODIxMjgKMEdPTEhHVjAsMC42NTQ0NDgzMwowSDQwWEExSSwwLjAzNzM3MzMyMwowSEFBS0NUTSwwLjQ3OTg4MDI3CjBIWldWSlNVLDAuODc5NzEwMgowSFpaVDNWQiwwLjgxODY3MjU0CjBJMVNFN1FTLC0wLjI1NDk5MTQKMEk2VFFTWkUsMC4yOTM3MjA3MgowSUJCRU5OWSwxLjAwODM3NjgKMElOSEdRVVIsMC4yMDU1NjAyNAowSVJVN1dTWiwwLjIzODIxNDQ4CjBKMUtINklSLDAuMDIzNDQzMDQ3CjBKRlBMNFdTLDAuMDI0Mzk3OTEKMEpPS0xNMlcsLTAuMzMyNDk5OAowSlJGM1VVNiwwLjk3NDE4NjUKMEpXWlpZUDYsLTAuMDMzNjU1MTc4CjBLNjAwSEZLLDAuMDA5MjM4NDY5CjBLSVFaWjU1LDAuODc0MzYyNAowS1RSWlUzRiwwLjgwMjMwMzUKMEw1RlBFME0sMC4wNjM4MDA2NwowTEpVN0Q3MywtMC4wMTA4ODQ4MDcKME01UDlMQzUsMC45NDI4Mjc5NAowTTczOEkzSiwwLjk3NTQ5MDcKME1LWkJDWVYsMC45OTcyMTg5CjBNUTdLNkNDLDAuNzIxODM5OAowTkVZU1lKRSwwLjU4MDQ3MTM0CjBOTTk3VEZLLDAuODY5NDM3NQowTllGVktWUiwwLjQzNzAyODEKME9HS1dSQjYsMC4wNDAxODExNTMKMFAwRjdaMjgsMC44MzY1NzQ5CjBQMVc5UlpWLDAuOTg5MTAzMTQKMFBLUU41WkgsMC4wMDI2ODIwNDk4CjBRMjY5SjA1LDAuMDg1MTU0MjUKMFFBSkUxVFMsMC4wMTMwOTQ3OTUKMFFQOEJGT0wsMS4wMTc3NTcyCjBRUEpHUjVMLC0wLjAxMzkyNzk0MwowUVk1M0MyRCwwLjA2NzUzNDE4CjBSQklMR0FZLDAuMDQwOTg3MgowUkxFTEc1QywwLjE4NzQ4MjcKMFJQRkxBQlMsMC44MDk3MjE5NQowUzdDUTROTSwwLjk0ODE2MzEKMFM5NFpLOFgsMC43NzM0ODc5CjBTS0NIVllRLC0wLjIwOTUzODk1CjBTUE42NTZGLC0wLjE5ODI0OTM1CjBTWVZRVVYzLDAuNTU1NzMwMDQKMFQ5TTAxSE8sMC45MTA3NjI3CjBURDlNWUU3LC0wLjkzMjkwMzY1CjBUVlZHSzBZLC0wLjE1Njk0OTg1CjBVNUs5MzU0LDAuMDU3NDU1ODgyCjBVQVM5S1o4LDAuMDEzODgyMzA1CjBVVTBLMk05LDAuNDkwMzQwOQowVjBFMzZLWCwwLjAxMTQxNTE0NQowVkpSSVJGMiwwLjg4Njk5MTgKMFZQV0E3T1AsMC4zNDI4NzEyNQowVlpaVk84SywwLjc5OTM3MzYKMFdKNDlZS1MsMC44MzQxNzAwNAowV1JQN0NSSCwwLjk2MzI0OTMKMFdUMTBUREosMC45ODkwMzEKMFg1T0tFR0csMC4wMjM3MzIzMwowWDVYWFlYViwwLjM1MTcyMzUyCjBYN1hTV0g4LDAuNjQ4NDU2NwowWDlOT0pJVCwwLjA0MjcwMDAxCjBYQTNQN0s5LDAuOTA3MzE5MDcKMFhFUzQyVTMsMC4wMTE0MTYzMDQKMFhHMUJaWU4sMC4wMTgyMzYyODMKMFhLQ1pMUEYsMC4zMjkxMzI2OAowWExBMEZEVSwtMC4wOTExMTIxMgowWFlENzZGSywtMC4wMDUzMTk4MTQKMFkwOUU4UlYsLTAuMjc2NjU0NzIKMFlESzhTOUMsMC4wMDI4MDEzNzI3CjBZSVpSWEJQLDAuOTk4MjAzOAowWUpUQ0E4VywwLjAwMzczNjQ4NTcKMFlOTTRIVkMsMC4wMDYzODIyNDEKMFlUWlBFTFEsMC43MjI3OTM2NAowWjJNRFBEVCwwLjAzODEwOTkzMgowWjJSSFFESCwwLjkxNzI2MDM1CjEwMlUwWVgzLDAuNTQ2NjczNgoxMDdDMkwwVCwxLjAxMDkwMTUKMTA3REhEQlgsMC45Njc5MzI4CjEwQllDVThBLC0wLjAyNjgxNzQxOQoxMEhFTU45QywwLjAyNjY0NDk3NQoxMFZLN0xFMSwwLjAwNDk4MjUwOAoxMFlZRTBEQywwLjk0NTgzOTMKMTBZWlY1V0MsMC41ODEyNjQyCjEwWkc1MU1aLDAuMDIyOTI4MjM4CjExMFRDU0ZNLDAuODk5NTc0MzQKMTFHVUsyUzEsLTAuMjYxMDI3OTYKMTFIQk5IQlosLTAuMDA0MDc2NzMzMwoxMUlWWVZYMiwwLjg5OTM4NjkKMTJMOEZMUFYsMC45NDA2NzY4CjEyTk9EWUZRLC0wLjgzODg3NTk1CjEyU0RaOVJILDAuOTQzMjkwNQoxMzg5VzU0SCwwLjA0Nzc4MTQ4MgoxM0JWUTE3SCwwLjkwNzQ1NzA1CjEzSURSUTJMLDAuMDMwMTkxMTQ2CjEzTzE2WExXLDAuMDY3NjI0NzI1CjEzUDZLOFFZLDAuNDczMzk2MwoxM1VPOVZESSwwLjAyMTI5NzM2NQoxNDVQRVpBQSwwLjA3NzkyMTE2CjE0Nk5XUUhOLDAuODQyNTY4NwoxNDZXNEwwQiwwLjY5NDg0MzIzCjE0TlBLTzBJLDAuMDQxNTc3MDIzCjE0VktHUU1ELDAuMDYxNzQ4MzkzCjE1NlJLSjRKLDAuMDI2NDM3NDk5CjE1TFhXODlVLDAuNzMyOTc1OTYKMTVUNDM1VlosMC40MTk0ODYyMgoxNVpER01HWiwwLjAwNzAxNzU3MDUKMTZDU0szVlgsMC45NzcwMzc1NQoxNkdBQlhVNCwwLjAwOTYyNDI3MzUKMTZNM0dRQkwsMC45NjA2MzY1NgoxNlFLT0c3RCwwLjMwNzYzNjMKMTZVVjg0UlosMC44NTY4NzU0CjE2WDRXV09HLDAuMDIxOTQ3MzEKMTdDQTJSQUIsMC4wMjgwODYxMjYKMTdVMFRaUDAsMC45ODMxMzQ3NQoxN1Y0NU9RWSwwLjA0ODYyMTk2NAoxN1lKNVhDNywwLjg2NzA5Nzc0CjE4MTBTM0k1LDAuMDE2Nzc0ODEKMThGMjRLSEosMC4yNzg0NDg5CjE4RkdUWENYLDAuNDk1MDAwNDIKMThHSEg4TDEsLTAuMDY5NjY5MTgKMThKV09OU0gsMC4xMzgyODE2OQoxOEtMS1NJTSwwLjAxMTQxNTE0NQoxOExSMjhNVywwLjAwNzkyNzQ5NQoxOFg4TklZWiwxLjAwOTAzNzEKMThZT1ZGRVEsMC45MjA0OTU4CjE5NUpRRkY0LDAuMDI1MjQ3NDc3CjE5NjBUSlY5LDAuNzIwNDE1NTMKMTlBM1hIVzAsMC4wMDc0NjMzMjIKMTlPQ0hZVU4sMC4wMzg0OTQ0NjgKMTlPUUNGUFEsMC42NzcwOTI4NQoxOVIxWkFLNCwwLjcxMjk5NzcKMTlSRk5VUFUsMC45ODc1NTU1CjE5VFhTWjRDLC0wLjI4MDY0NjM4CjFBNTMyOUtLLDAuMDE2ODg4MDMKMUFFUUJFVE4sMC4wMDM0MzA3NDU2CjFBR0xYMEZFLDAuMDIxMDY2MTU1CjFBVzhRU0w0LDAuMDU0NTEwODE3CjFBWUpROUVaLC0wLjAxNTI5OTA4MwoxQVlWWVJZUSwwLjk0NDA5MDA3CjFCSEpNMFJXLDAuOTkxMDUyNwoxQ0RaMkQyUCwwLjk1MTQ3NjgKMUNRRUhMOUosMC4wNDA0MTEzMwoxQ1ZKTVpERiwwLjcyNDkyNzQKMUNXN0lHM1MsMC43NDgyMjkxCjFEMjkwS0ZGLC0wLjAwMjQ2NTYyMTYKMUQ4OUMxWFEsMC4wMjIxMTc4MTYKMURBSVgwTUEsMC44Mjg4NzAxCjFETlgzVlJGLDAuMjUxNzQ5NQoxRTlFQks1QiwtMS4wMDIxMzk4CjFFTlJKNTNKLDAuOTA0OTE5MgoxRVlZVEY2UiwwLjk1NTExNDY2CjFGRElMTTRBLDAuMDMzOTE1NjQ2CjFGRUxIVU5DLDAuOTYwMjcwNQoxRlFWWEpPRywwLjAyMTk0MjUwNwoxRlRGUjBKRCwwLjAxNzMyNTYzMgoxRlVERE1PSCwwLjA1MDAzNzczCjFGWTdTVlc0LDAuMDE5MTE1NzgKMUczQktWUEgsMC45NzE0NDA0CjFHTFI4WFJHLDAuMDIzMzk2NDE0CjFHTkE4NTk5LDEuMDA1OTAxNQoxR1BTUzlLQiwwLjA3NTIxNTExCjFHVUdKVURVLC0wLjY0ODcyMzYKMUdWWUw3NEssMC4xMDQwMTMyMzQKMUgwQ0hZSlYsMC43MzMyMTY1CjFINkQ4U0lPLDAuOTgwNDM5MDcKMUg2VUNVMEYsMC45NzA5MTg2CjFITFpDV0JTLDAuMDA4NDg1Nzg2CjFITjU0OTlRLDAuNzg4Mzg4CjFIVkRNQjJTLDAuOTc3MTAwMQoxSTVZNDRMUiwxLjAxOTEzODIKMUlLN0xKWlosMC4wMzU4ODcwMQoxSjNOQ0pPTywwLjA0NTIxMjE3MgoxSkJDMzU2VSwtMC4wMzMwNjI2ODUKMUpHSEE1REIsMC45NDk2MzQxMwoxSkdPTEkxMSwwLjY0MDcwNjQKMUpPNk5RUlUsMC4wMTA4Mzc3OTIKMUpRNFJMWVUsLTAuODM0NTEzMDcKMUpWNDQxVTYsMC4yNzkyODQ2NgoxSlZWSjJMMywxLjAxMzQzODgKMUs3S0ozRU0sMC4wNzEwOTgxNwoxS0FQREdCTCwwLjAyMjU5MjcyCjFLSVhNNkU3LDAuNzE3Nzc4MTUKMUtKS1lTMDksMC44NjEwODI4CjFMM1RWVVRJLC0wLjA5OTQxOTYxCjFMSTdZVEdLLC0wLjAzMjkxMDgxNgoxTElSNjIxWSwwLjkyMDA0OTk3CjFMSlAwUTJULDAuODQxNzIxNAoxTExYWEZNVCwwLjg2NzU4MzE2CjFMTTI2NTlRLDAuNTAzMjI3MwoxTE1QWUExOSwxLjAxMjcwNAoxTFdJU0pZTiwwLjk1NDk4MjA0CjFNM01VR1Q3LC0wLjUxNjMwNDczCjFNODQ4Q1hOLDAuODA5MzQyOQoxTThNOExXWSwwLjA0MDg4MDg4NQoxTUY4SVJOWiwwLjAzODUyOTYyCjFNR0UyMTlRLDAuMDU5OTM4NTIKMU1WWE5CTUwsMC45MTYxNgoxTVhaRFQ4MSwtMC42OTI5OTk0CjFONUVMUjRCLDAuMDYyMjM0MjE1CjFOTDFJREJMLDAuODg0Mzk1OTYKMU5SNTdRVkMsLTAuODkyNjMxCjFPNjZETEVYLDAuNzU1ODAwNjYKMU9HNUU0NE4sMC40ODY5MTIwNAoxT0xGNUNFUywtMC43Mzg4NDU3NwoxT1RDRVVUQiwwLjcyNDg1MDYKMU9WMzk3WUksLTAuNzc1NjYxNzcKMVA1T1NNWlMsMC44ODI4NDMxNAoxUERYVDQ0MywwLjg4MjgyMjA0CjFQSFFHVjFLLDAuNzEyODIyCjFRNDk3M1AxLC0wLjAwNDA5MDMyODcKMVFIQURVUTgsMC4wNTE4ODU5ODUKMVFaWjYzMkMsMC4xMTIwMjA4MgoxUjEwQUQxRywwLjkzMzE2MDEKMVI4TE05UTksMC4wNDY3OTQ2ODYKMVJKRUNUTDEsMC4wOTc1NjM1NQoxUlQyUzNHNiwwLjAwNDE4MzAwMjcKMVJWQ1VSNEssMC4wMzUyOTc2NjIKMVJXUURWRzYsLTAuNDkyMjQxMTcKMVMzQVlQMTgsMC4zODExOTQ2NQoxUzNTMjlKMSwwLjA0MDczMDM5NAoxUzQ5TTQ5TiwwLjk2OTg4NDkzCjFTRzJYNFpVLDAuODYxNTcwNQoxU0lYOEhMSywwLjgyNzE4MjYKMVNLQ0E4RVAsLTAuMDEwODg0ODA3CjFTTEhWNVhGLDAuODk2NDY0MwoxU05OUVRJUCwwLjk0NjI3OTkKMVNWUUxISE0sLTAuMDA0ODY0MTU1MwoxVDBDMEo1SSwwLjkxNjczOTA1CjFURThVUlJFLDAuODk3MjMxMTYKMVRIS1cxQUgsMC4wMTAyOTMyMDMKMVRZRFROWEYsMC4zMTYyNjYyCjFVRDZQUzc4LDEuMDE0OTY1NAoxVjc5QldNTywwLjA4NzY4ODI2CjFWOFdBVUdLLDAuODIzMDgwNAoxVkY2UEhDMSwwLjUzMTY1NDUKMVZTNVNWTkgsMC45NDAxMjk3NgoxVlRFVllINSwwLjI1NDgzOTIKMVZZTjFWUFQsMC41MTA2NDc1CjFXSjU1RDJHLDAuOTQ4Mjk1NQoxV1JLOUZSMiwwLjkyMTE1NzY2CjFXVTA1Q0NaLDAuMDQxMzY5MzM0CjFXVjZDNEczLC0wLjQxMTI5OTQ3CjFYTEpLQTdSLDAuMDExNzczNzk4CjFYTE0yVExVLDAuMjQ2MTU0NTYKMVhOUERHUkksMC43NTgxNzMwNQoxWTlSWjNGWCwwLjg5MjQwMDYKMVk5WVZTVTQsMC45NzE1NTAxCjFZWU1QRDNKLDAuMjY4MTA0ODgKMVpFSjEyWU0sMC4wMDc2MTQ2MTE2CjFaSDAzS1UzLDAuOTQ5MDk1NjcKMVpJSlpKSVcsMC40OTIxNjYzNAoxWk9PWkNPMywxLjAxNjg0OTQKMjAyOVhSRkYsMC4wNDQ1NzA0NTMKMjAzMlFTTU0sLTAuOTIxNjk0MQoyMEdHNlVXMiwwLjA1NjczMTM2NgoyMExWRjJOQywwLjA4NjM0MjYzCjIwVTZXWjI5LDAuOTY1NzU1CjIxMUdJWUhRLDAuMTU0MjM4NDIKMjE1N1k3TzcsMS4wMDk3ODgyCjIxVzAwTzlBLC0wLjc1NDMyOQoyMVhHRjJFWiwwLjc3MjUwODQKMjIyTkExS0ksMC45NDU3NzQxNAoyMkc1MjNKTiwwLjc5NjYxNjE0CjIyTVZZTUkyLDAuMDE3MjU0OTQxCjIyUVRFTE1TLC0wLjAxNzE3MDc1NwoyMlc4NEgxNywwLjc1MzQ5MTkKMjNQM1NTVlIsMC41Mzc5NjM1CjIzWFE3VlpXLDEuMDIzODAyNAoyNDY0MjQ1WiwtMS4wMTI5NDIKMjRVSDk3NkUsMC45Mzg3OTA0NAoyNTg0QjdUNCwwLjA3MzQ3ODYzCjI1UlFKR09TLDAuNjQ0NTA3MQoyNVpMVzNFUCwtMC4wMDY3Njc5MzMzCjI2OEtYMlNZLDAuMDUyMDg5MzQKMjdON05PUDEsMC41NTIzOTc1NQoyODJOQzg2SywwLjk3NzQyMzgKMjhDNVhRWFYsMC4wNDI1NDU2MzUKMjhRTjBPUlUsMC43NTQ2Nzc1MwoyOFlWRUZRSCwwLjAzOTk1Njk1MwoyOTBVSlhPMiwtMC4wMTIzNTEKMjlFTjBRVUssMC45NTYyNzU2CjI5RVpLR1k0LDAuOTQ3ODIzNgoyOU9RQ0RCSywwLjkxMjAzMzcKMkExMjYxSzEsMC4wMTQ1NjEyMjQKMkE1SU8yUzMsMC4wNDA3MDA2NgoyQUM0S1lRRiwwLjkyNzgxOTU1CjJBRkRJMk1KLDAuMjM2NTEyOTEKMkIxS1M4VDksMC45NjUyNjQ4CjJCNlE2MVc3LDAuOTU1OTczNwoyQjhMSERRUywwLjAwOTg0Mjk2MwoyQkJHNE1LVywwLjAyOTExODk3NwoyQkRBOU5NQSwwLjk2MDg4NzMKMkJGMlZES1YsLTAuNzE1NDI2OQoyQklCMldUQiwxLjAwOTkxNzEKMkJKN1ZRMUIsMC45MzQzMTM4CjJCU045SFBZLC0wLjAxNzg4MDQ0MwoyQlczQTNLUCwwLjk5NTM3MjEKMkMyUDVYU0YsMC42MTQwOTUxNQoyQzQzUkZBNCwwLjAwMjE3NzUyMDcKMkQ0M0VZNzYsMC44NTYyNTY0CjJERUYzWlQ3LDAuOTY0MjY0OQoyREY0RldNMywwLjc5OTkzNzkKMkRLSDM1NEosMC4wMTk2NzMzMzMKMkRPWVhJUlMsMC4wMTMwNjI0ODcKMkRYOUtDVUwsMC45Njk1NjgxCjJFM1o3MEo3LDAuOTU1MTE1NwoyRUk2NUM2TywwLjk0MTI0Njc1CjJFUEhaTE5YLC0wLjE3NDIzNjU1CjJFVkU0N1lMLDAuMDQzMzQ1MjA1CjJFVkhOM1ZQLC0wLjE1MjEwNzI0CjJGQVZCNkI4LDAuMDQzNTQyMTQKMkZSVERJUEwsMC44NTA1OTM4CjJGWlNDMjI2LDEuMDAwMTM4NQoyRzBBTk05SCwwLjkxNTQzMDgKMkcyWUw4MUcsMC4wNTA5NTg3NjgKMkc2N084QVQsLTAuODM5Mzg0NAoyR0dDNVJHRywwLjU0NzM3MjMKMkdHSzRFT1gsMC4wMDk1MzY4NTgKMkdMNUwzVEssMC4xMjY5MTg5CjJHUzdUMEdQLDAuMTI5NjExOTIKMkhBVEw2QVUsLTAuMjU2MzQ4MjIKMkhHSjlEUzksMC43OTk2NDQzNQoySEtHVjZDNiwwLjYxMjUzMDQ3CjJJNEc1Qk1aLDAuMjMzNTMwNzYKMklIS1laQzcsMC4wOTM3MjU0MQoySU1ZSTQzTiwwLjc5NTE1NTcKMkpGNE9HQVksMC4wNDE2MTI0NzYKMkpTUDU0OU0sLTAuMDYxNzIzMzMKMktBRUpZRkIsMC45OTM3ODAyCjJLVko5Q1BMLDAuMDczMTg5MTYKMkwxMlc5OEgsMC4wMTE3MjAxOTEKMkxKWVZBQlUsMC4wNDE4NDc2NwoyTFpHRDlMNywwLjY1NDYwOTg2CjJNNDhYMEVYLDAuOTU2MjUwMTMKMk00VTEwUUIsMC43NTg0MDU1CjJNN1pER1ZOLDAuMDIxODM0MzIxCjJOR09OU1ROLDAuNzk2MDk1MwoyTzFIV0RBNCwwLjAxOTM3ODA1MQoyTzdDUzhQRywwLjk2MzEzNDY1CjJPN04zMFAyLDAuNjA4MzU1OAoyT0FaWTU2SiwwLjAxMTY2OTIyNQoyT0VGV0o0OCwwLjAwODUxNjkzOAoyUDI3QUEzTiwtMC4zODgzMDg4NQoyUEkyS0dQSSwwLjA1NzI5NTgzCjJRNkozTEVXLDAuODU4NDE3MDMKMlFCVDcwQUMsMC4wMjQzNjE4NzkKMlFWUFBaMEksMC4xNTY5MjI2MgoyUkQ0TUpRNSwwLjkwMTI1MjQ1CjJSU01HR0dRLDAuODUzNTY1OTMKMlJXR1g5V1ksMC4wMDc3NTI2OTE0CjJTMkgwM1gxLC0wLjYxNzMxODkKMlM4RTdSUDMsMC4wMDYzNjYyNDEKMlQ0Q0VJV0MsMC4xNjE5NDUyNAoyVEpPRzFYTCwwLjgzMDQ2MzkKMlRUMVpXTjYsMC4wMzQ2MjUxNzMKMlRWNDlXV0MsMC4wMDg3MjgwOTcKMlRYVVFKWEMsMC45NTY2MjMzCjJUWVg2QkpULDAuOTcxMzEzMgoyVTM5WU9IMiwwLjkzMTc5OTIKMlU3N0tITFYsMC4wMzM1NDA2MTQKMlU5M0RJTUwsLTAuODYyOTA4NAoyVUlKSVRZWSwwLjc4NzM0NjEKMlVJS1NPMUQsMC44MTMyNTg4CjJVTUtMMjlCLDAuMDEzMDc5ODEyCjJVUElVUUZELDAuMDIzMjkyMTU0CjJVVFZDSDYzLDAuOTA5OTI2NTMKMlVYRzYwV0EsMC4wMTg2MDk4OTYKMlZFRVlYQzcsMC45NzEzODc2CjJWSTFSSE9NLDAuOTY0MDM5NzQKMlZLMUIwV1ksMC4zOTE2ODY2OAoyVk5aMU5BRCwwLjAyODgyMjcyOAoyVlAyWjVHTiwwLjAyNzgzMjE1OAoyVlQ5UjI0SywtMC4wMDUzNTQ0NDEKMlZVOFVGMDAsMC4yMjQzNTk1NAoyVldQRDVVNCwwLjg3MDk1NzgKMldYWlVTTVMsMC4wMzcyNDY3MzgKMlhIWDFRRUQsMC4wMDM1ODMzMjIzCjJYTENJVlc1LDEuMDA2NTE2CjJYUDBGREdULDAuNTg1MDkwNgoyWFFGNDVEQiwwLjA0NDQ3MDc4CjJZQUNFR0pRLDAuMDA3MTQyNzg3CjJaMUZMNVlLLDAuMDExODgzNTYxNQoyWlNHU1FTTCwwLjA2MTc4MDU5NAoyWlNURkxNNiwwLjk3MjQ0NjgKMzBDUTRZTlUsMC41NjM2MDI2CjMwTVBLTjA5LC0wLjY5MDk0MzM2CjMwTjJXU0hPLDAuOTAyMTgxMTUKMzBUQUFKRE0sMC4wMTM1Mzc1NzcKMzBVNEVNS0csMC4yODkzMjMxOAozMThTVkVBNiwwLjA3NTg2NzUwNAozMUE4Szc4OCwwLjAzNzg0MTA5NwozMk0yUTQ0SSwwLjg3NDE3MQozMlJFVkFHMCwwLjk2MTE0MzQKMzJUNlpSQ1ksMC44NDk0ODczNgozMlk3WUlJTywwLjkyNDMyODYKMzM0ODFXS0MsMC44ODIwNzMzCjMzOTlaS0NFLDAuMDA3MTY1ODY3CjMzQk5MMEFTLDAuMDQzNTQwNjIKMzRJTEJMMlgsLTAuMzUwNjc1NzMKMzUwV0hXRU4sMC45NDgzMzMKMzVXNEJVNUksMC4wMDgzMDUyMjUKMzVYTkQ5TzQsLTEuMDc4NTgyNgozNjRTTE5CVCwxLjAwNTA1MzkKMzY1TklWQVksLTAuMDIyNjQ3MTgKMzZDOEUzRlgsMC4wMzA3MDQwMjkKMzc5S0ZFNFAsMC45MzAxNTY0NwozN0MyNU43UywtMC4wMjQ0Nzk3NTQKMzdFWklWSFAsLTAuMzUzODMyOTYKMzdNWTJHQjMsMC4wMTcxNDc3NjgKMzdPWjZPRzUsMS4wMDAyNzAxCjM3VEUyOFJHLDAuMDM2ODc2ODgzCjM3VThXTzBULDAuOTY3MjQ1MzQKMzgwSzlaV1EsMC4xMzg3NDE0OAozODMwUDJaTiwwLjA1MTcwOTUyNQozOE41U1NaMCwwLjk2NDExNQozOFU4OUtSUCwwLjg5OTkxNTUKMzhWV1NWRkIsLTAuNTE0NjcxNQozOFdaQjgwTCwwLjA0NTg1NDAzNgozOFlLSkRWNSwwLjAxNTc3ODcxNwozOTdaN1UzVCwwLjczNzY4NDk3CjM5TlJBSExaLDAuMDIwMjYxNgozOVZRWFVWRywwLjAzNjYyOTE0CjNBMFA1RzRGLDAuMDI3OTg3MzYxCjNBM0hFMTNCLC0wLjYxMzA4MDc0CjNBOFJQT0FFLDAuMDEyODU2NjQxCjNBSDFWUktULDAuODk0ODM3MjYKM0FISUZJRTMsMC45NjMxOTcxCjNBSkdFVlowLDAuMDI1MTc3NzEzCjNBSkhFQ0RTLDAuMDU0ODYxODE0CjNBTEZRUlZaLDAuMDMwMjI3MTUKM0FPWUdPMTUsMS4wMTIwMjgKM0IwWFFWNjQsLTAuODM5NDA5NTMKM0IxR01YR1csMC4wNDkxOTQwMDgKM0JDS0o1MVosMC4wMTA4NDQxMjkKM0JKSEE2NkosMC4wMzQyNjE3NjcKM0JUTjhQSVEsLTAuMTI0NDU2OTkKM0NYQjEwMU0sMC44ODcwMjk1CjNEM0paTUNZLDAuNjYwNzU3NQozRE1ZWldVTSwwLjAyMTM1ODQ4MwozRFdOQkY5WiwtMC4yODMxNDk0OAozRUdXWVBIWiwwLjAxNjg2NDYxMwozRkE5WjFSUiwwLjAxNzczNTUKM0ZDV1cwWUcsMC4wMjg3NzE5NzQKM0ZJWjAzTFUsMC45Nzc4NjAzMwozRzM0RkUxNiwwLjg2OTE3MzIKM0dLVkhLRUwsMC4wMjM3NzM1NAozSEVTMFcwRywwLjkwNzIzMjk0CjNITTlLTkc3LDAuMDE1Nzg1MTYxCjNJR0xaV0tRLDAuMDM5NTI5OAozSjVSODYzUCwwLjAzOTcxMjkzCjNKUEpYT0pMLDAuMDIzNzc4NzY2CjNLNFVWWjIzLC0wLjA5MTcwMDAyCjNLQ1ZMUEFNLDAuOTY3NTM0MwozS0tFUVdSUCwwLjAyNTQ2OTg3CjNLWDhURExRLDAuMzI4NjM0MzgKM0wyUUg2OU4sMC42MzcyODQxNgozTEdJVEdMTywwLjk0OTgxMTc2CjNMUk04OU9VLDAuMDMyNTE4MzI3CjNMVk1UT1czLDAuNzAwNjYyMwozTTNRR1hETCwtMC4wNzQ3OTg2MzYKM000V0Q4SVMsMC4wNDI1NzUyOTYKM01BUTZXOUcsMC45NTAxNzYKM01KVUM2RUosLTAuMDExNDcyMDA2CjNNS05DMjRVLDAuMTY0NDQ4MzUKM01WOUY4VUYsMC45ODk1NDA5CjNNWlAzSkQ3LDAuNTIxMzg0NAozTkFQTFNaVywwLjk0NDk3MDkKM05BVUM5SVUsMC4wMDg5MTYyMzcKM05LWk5PMjIsMC45NDE5NTQxNAozTzJIWkxQOSwwLjAxMDYzNTcwOAozT0o3S1Q3SSwwLjQ4MDg4NzQKM1AySkY5UUosMC4yODMyNDcwMgozUENEUlM4VywwLjU1NzAzNzUzCjNQSERYQllULDAuNDM2NDA5ODYKM1BRNUpPTjcsMC4wNTI5MzE4OQozUFRXNEUzUCwwLjk3NjI2NjEKM1BZRFBET0EsMC45NTQ1NzY3CjNRSkpMUEdFLDAuOTg3MjY3ODUKM1FLVUNRRFosMC41Njk2ODk5CjNRT09PMEtTLDAuNzc0MzQ4NQozUVJGQ1ZLNSwtMC4xMTQ4ODMyMwozUVhHNDYwTywwLjgyMTEyNjkKM1JBS1E4MFIsMC45NzMzMzMwNgozUlJFQVI3SSwtMC4wMDgwNzk0NzgKM1NJWVIzWjEsMC45Njk1NjM4CjNTVk9QV1dMLDAuOTkwOTYxNQozVDBBVFlXTSwwLjAzMDE4NzE3MQozVDNZRDg5NywwLjQ4NzM3MjYKM1Q3NjZNQ1AsMC4yNTA4ODA2NgozVDhVUUMwMCwwLjc1MDI5MDkzCjNUQ09OVFYxLDAuMDU5NzgyOQozVElZNkZGTCwwLjAzNjIxMzgwNAozVEoyRDRCSywwLjY1ODY3OTcKM1RMV0ZBREYsMC4wNzI5ODM4NDYKM1RQRUQzU1MsMC42MjA3NzU1CjNVN0JSVlJDLDAuOTg3ODg3OQozVURDSEM0TSwwLjkzMTkyMDQ3CjNVT1g0MEs0LDAuOTYwMjgwMgozVVQ5QldDMSwwLjMyMTQ4ODQ0CjNWOThPNkRBLDAuMjEwMTM2MzcKM1ZWQkdHWkIsLTIuMzQyNTU1N2UtMDUKM1c1REtBNU4sMC45NTc5NzEKM1dJVU5VWTAsMC44OTQ0MDMyCjNXTkRZUEdQLDAuMDEzMzk5NjQ4NQozV1FKV1JOVSwtMC4yNjk2MzUKM1gxR1Y5VkksMC4wMzE0MDI2MTgKM1gyT0gwWkEsMC42NjAwMzk4CjNYNkhOMVZJLDAuMTIyMTc5ODgKM1g3V00xV0IsLTAuODI0OTA1NAozWFRRVTJUTywwLjAyOTI3NzIxMwozWFRWSFE2MSwtMC4wNTU1NDU5NzUKM1hXVU9EMUssMC4wNTY1MTg4NDUKM1k2UktRQUosLTAuMDE0NjM5ODgxCjNZRzVIRjZYLDAuMDEzMTA4OTY4CjNZSVJSWDkwLDAuMTE5MDQwMTIKM1lTOEJWNlAsMC4wNDg2MjE5NjQKM1ozRElaVlAsMC4wMTA5NzI2NzgKM1o2QzA5UTUsMC44MjIwMjgKM1pMTjdDOEcsMC44MjE2MDEzMwozWk1TWlo2NiwwLjAxMzU5MDQ4NAozWlVOTDVSMCwwLjk0NTIxNDEKNDA2M0wzVzAsLTAuMDIwOTA2NDg2CjQwTzJDTFpaLDAuODcwMTEwODcKNDBWSFJMTjQsMC4xNjM2Nzk2Ngo0MTlYR0xUQiwwLjk4ODAyOAo0MUJBWjFCUSwwLjAyNjc2NTM0Nwo0MUVQNDRMQiwwLjAyMzczOTc4NQo0MVFNVU1TTywwLjk2MjIxMzEKNDFUWDFPSTUsMC4wMjcyMTU4NjgKNDJWRjIxWjAsLTAuMzE3NzAyMDUKNDNBSjhVWVYsMC44NTI4MDUxCjQ0MVEwOFgyLDAuNTk2Mzc1Ngo0NDIyTThQViwwLjQwNjQ1MzI4CjQ0NVcwWVFELDAuOTQxMjUyNwo0NEpUQVVWOSwwLjA0NDM2OTIwNgo0NFkxUEdMQSwwLjg4MTMxNzkKNDUxMjBaT0EsMC4wMjg2MDY3MDUKNDU4WUdJS08sMC4yMjY0NDQ1MQo0NUNNVjFISiwwLjYxMjY1NTE2CjQ1SFJKWVRNLDAuNTQwMzQyCjQ1TFlQQTZWLDAuNTEzMTYxOAo0NjJZUlQyUiwwLjA1OTk4MTk3Mgo0NkVWVzlXQiwwLjA0Mjg3NDYxMgo0NlMyMEVDRiwwLjkwMDAxMzE1CjQ2Vk9VNkJGLDAuMjY3MTEwNgo0NldVVlRJTCwwLjkzNTUyOTcKNDZYSzdOTlIsMC44NTAxMjM2NAo0N0lINTRPTywwLjAxMjgxNjk2MQo0N01NRVpWRiwwLjAzODMxODAyNwo0N1RWMlUzTSwwLjYyMzExMzIKNDdVWDFQTkMsMC4wMjc4NDk3MDQKNDdZSjRBS1MsMC44MDI0MzYwNQo0N1lXVFhQOCwtMC4zMDU5NzA1OAo0OEc4SlhSMiwwLjEwMTY4Nzc2CjQ4U1c3OVhRLDAuMDQ3NzI5MDA4CjQ5NEcwMTg2LC0wLjAzMjE1MzY3CjQ5N1RBUVNULDAuODM3ODAxNQo0OUhQOTJXSywxLjAwMTUyMjQKNDlQTE1HSlQsMC45MjI0ODQxNgo0OVRMWVpKMiwwLjU3MTQ2MDIKNDlUVTNES0csMC4wMzk4ODI2OAo0QTZHMVhJSSwwLjk2NTc3OTkKNEFHVTRZTlQsMC45MDQzMDU4CjRBSEFNVURILDAuNzY4NjcxOTMKNEFIS0VSR1osMC4wNDgxNzUwMzMKNEIwTkg0WDcsLTAuODM2NTc1OAo0QjBTU0FLQiwwLjk3NDg1NjcKNEIzN005SUksMC45MzI5Nzk3Ngo0QjQ0WTk1SywwLjk3ODUzMjYKNEJFR0hBVE0sMC4zNDQyMDQ2CjRCRzFMNDdJLDAuMDY0ODI0Nzc1CjRCSE44VDFWLDAuNjQzNTEyNjcKNEM5NlkyMVUsMC4wMjIxMzY5NjgKNENSUDRWNUUsLTAuMDEwNTgxMzA2CjRDVjFTUUoyLDAuMDEwNzEzMjg2CjRDWlVFTjU5LDAuMjM3MzE4MzcKNEQxR1NFQU0sMC43MTI5OTc3CjREMjZUNUxILDAuOTk1MTEyCjRENUE2VkRYLDAuOTcxNTY5NjYKNERIWVcwMDYsMC4wMjcxMDQxMTcKNERZUFEySEIsMC45NzU3MDU1Ngo0RUpWQVFZSCwwLjAzNzgyOTc1Nwo0RVVaWkoyRiwwLjAwNDQxMzkyMDUKNEYxM0FJT0osMC44NjEzOTA0CjRGNDJVOExZLDAuODYxMTIyNwo0RktIMDRRRywwLjAyODEwNzUxMwo0RlBTODkxRSwwLjkyNDY5MzA1CjRGUTc1Sk85LC0wLjEwOTk4OTg3CjRGWTJMSzA0LDAuMDM4NjE5ODMKNEdHUVlWNFgsMC44NjUzNjIzCjRHTjJSUzUxLC0wLjU2MDUwNzMKNEdONkFZU0UsMC4wMjYzNzIwNzkKNEdRT1gxWkUsMC45Nzk4NjY4Ngo0R1dKTkZaOSwwLjA0Mjk4MTcyCjRIOUNOR0JRLC0wLjA2MzcyNjQxCjRIRDRLNUFPLDAuOTIzNDM4Nwo0SEdBQUJXQywwLjAxMDY2MTMyMgo0SFBLVUdQMSwwLjA0MzcwNTEyCjRJSUtSQTJKLDAuMDU3MzQxODkKNElVTFM0VFUsMS4wMDMwMzQyCjRKOFlPMkk5LDAuMDA4NDU4NTgyCjRKSUNXVlEwLDEuMDA1NDAwOQo0Slg5OUEySSwwLjUyMDc3MjY0CjRMQ0UzV1NQLDAuOTU1OTMxOAo0TERZRURCMywwLjAwNjM1NzMwMgo0TEhMUE9USCwwLjgzMzc4NDYKNExKU0hCQ00sLTAuMjc4MjcwNDIKNExRUlhCRVgsMC41OTAxMzU3NQo0TFpFMlBZNCwtMC44Mjk4MTc1Mwo0TFpTTkYwQSwwLjk1Nzc5NjQKNE0yVkhPOTAsMC42NjM3NzYxNgo0TUlUQkhESywwLjAyNTQ1MzA1Mwo0TVJVUjU3QywwLjE0NzcxNzkKNE4xTElSWDAsMC45NDExMTk3Mwo0TkNPWVU4RCwwLjk3MDIxNTU2CjRORVlTT1dXLDAuMDA4NzA0OTcxCjROUEFBTTA2LDAuOTcwODA4MTUKNE5RUkFIRjUsLTAuMDA0Mzk3Mjc2CjRPMVBFNU03LC0wLjc5MDQ0NzY1CjRPSUVNVlFFLDAuODQ4ODE5Nwo0UDBGVFZQNywwLjk2NzM5MDI0CjRQWEtJVEQyLDAuNjYzNDI4Ngo0UFhSODNISSwwLjg1Nzg3ODYKNFEyRk1NSU4sMC4wNDUyMTIxNzIKNFE0TEpXWTgsMC4wMjgzNjYxNzgKNFE3Skw1VU0sLTAuNTQxOTYxNAo0UUdXSlExSiwwLjk4NjkxMjQKNFFWQ1I0NUYsLTAuOTM4ODUzMgo0UkNDNDA5VSwwLjMwNzUwMTMKNFJHNDRPTDAsMC43MTM0NzQyCjRSUDVOMlA2LDAuMDMzNTE5OTMKNFJTMjg3S0csMC40OTE3MzMKNFMxR0VYRFAsMC40MTI0NjcxMgo0UzIwMFlIRiwwLjAzOTMyMDgyNwo0UzJCWkRUQSwwLjAyMjE5MzUzNgo0UzRFQ01EWSwwLjk3NDcxNDUKNFRBSkhKVUksMC4wMzc2MTYwMTQKNFRFTDUxMjYsMC43MDU4MjYwNAo0VEc5TUtYRiwwLjE0OTk3OTY4CjRUWTlCQU9JLDAuNzAyMjg4MjcKNFU1NEs0NjUsMC4wMjI1NzE2NDIKNFVFTzNNVUEsMC44NTI0MTUxNAo0VkI5S0JBRywwLjkxMDI1MzQ3CjRWQ1RFWENXLC0wLjAwMTQ3OTU0NjUKNFZFUkNYSkcsMC4wMjA0MTUxMjcKNFZLREdSNjksMC45NTUxMTU3CjRWS1BMS1E4LDAuMTY2NzU3MzYKNFZTV0ZNNEUsMC44NjEzNjk0CjRXMDRUT1dDLDAuODYzMjYyCjRXNFBITjZTLDAuNTk1MTUwNzcKNFdPUDdVVlAsMC41MjA0NDMzCjRXVERIRDExLDAuMDY2MjIzNjM2CjRXWTBONjNDLDAuMDIzMDI3ODQxCjRYMERHRDMyLDAuMDQyNjU5MTkzCjRYQTY0Q1k0LDAuMDQ1MjEyMTcyCjRYR1dON1U2LDAuMDI2MzczNTA2CjRYSEVSM0dBLDAuOTE5NDAxMgo0WTM4WFFaSywwLjA0MjE5NTQ0Nwo0WTZETDlXOSwwLjk1MjczNDUzCjRZSEhEM0lTLDAuMDQxNzY5Nwo0WVFWVURYOSwtMC45ODY5NTAxCjRZUkpFMU5BLDAuMDEwODM0OTg3CjRZVDVZRkEzLC0wLjUzNzk2MzcKNFlZN0I2U0gsMC4yNzExNTQ1NQo0WjBNWFpEWiwwLjkwODI3MDgKNFpCTUc3MFIsMC4wMjQ3MjM1MjIKNFpGQzkwTkwsMC4wMTA5MzU1Nwo0WkpZSU04QywwLjg3OTAwMzUKNFpQWjNJQ0ksMC4wNDEyNTczCjUwMlZQWUs3LDAuOTI5NTI3CjUwNVVaWU5RLDAuMjQyMjk5NzUKNTA3MVpZQ0UsMC4wNDUyMTIxNzIKNTA5T1ZJWEssMC4wMjg5MTk1MzcKNTBLM0c3MUcsMC45OTU0ODQ1Mwo1MTBQRjI4NCwwLjA0MzQwNDg5Mgo1MTFDOUpLUSwwLjAzOTQ5MzU3Ngo1MUZUWlQ2SiwwLjg1NDEwMjU1CjUxWTNKSUNELDAuMDExNDIwOTU3CjUyQ0lYUTlHLC0wLjAwNzIyMzc0NjcKNTJIM1Y2T1IsMC45NTUxMTU3CjUzTjY4S1NNLC0wLjAzNjkyODkyMgo1NDI3OVhNUCwwLjAwOTI1MDgzNTUKNTU5NlJWMVIsMC4zOTk2MjAxNQo1Nk9LSlI1TCwwLjA2NDgwMDQ5CjU3OExOMk5aLDAuMDA1Njg2NjE3NQo1N0owRjE5QiwtMC4yMjI3MjY1CjU4SVU4NDQzLC0wLjI0NjU3MTA1CjU5Qk5QOVRJLDAuNzE3MTI1NAo1OUMxNlJSVywwLjAyNDExNjAyNAo1OUU3U1JUTiwwLjk0NDA0MTEzCjU5RUZVV1QzLC0wLjU4MTE0NTYKNTlKVVRBM0YsMC44NjkwNDg2CjU5VkdWTzNMLDAuODU3NDAyNwo1QTE1MUhIWiwwLjAyOTgxNzcwNAo1QTZQUFg4WiwtMC45ODE5NjY1CjVBNzZCVUZaLDAuMDM0NzkyNjAyCjVBVkxVQk9QLDAuMDU0ODYwNTMyCjVCQzRIWFBBLDAuODE5NDk3CjVCSEQwRVdPLDAuMDQ5ODA4Mwo1Qk5VNjVRUiwwLjAwMTgwOTg3NTUKNUMyUUFEMTUsMS4wMTY0ODMxCjVDQjhZUDVELDAuOTYxNjM2MQo1Q0dLUVA4RiwwLjc4MzI0NDg1CjVDSDhOSEhBLDAuMTkzNTAxNDMKNUNJVURKRlgsMC45NTA4OTgyCjVDVDJEMDZLLDAuOTA2NjY4MjUKNUNWQTM2U0YsMC45MjEzMjU3CjVDVk43V0pQLDAuNDE1MzA3MzQKNUNZSFYyMUssMC45MTM3NjQwNgo1Q1lLQVpFWSwwLjAyNzg0OTcwNAo1RDZNS0UwUSwwLjkzNTk5MDQKNUQ4MFhDQVcsLTAuMDAzNjkwMzAzMwo1RDlNSzBaMSwwLjkxOTI1NTgKNURSQlJPUFosMC41MTE0Mzc5CjVFNUFSRVEwLDAuOTY5MTI2MTYKNUVLTVRBU04sMC43NzUwNTA4CjVFUUQ0NEtaLC0wLjc2NjE3NDU1CjVGMTUwUVlGLDAuMDM5MjQwNDUzCjVGTDhKUVIyLDAuMDQzOTIyNTAzCjVGTzFWWFhRLDAuOTgwNDc3NQo1Rk9US1ZPRywtMC45MDE0MjM2CjVGUkFBSEVLLDAuOTU1MTE1Nwo1RzNIOTgzSywwLjk0MDQwNDQKNUczSVJIRTcsMC41MzExNzkyCjVHOUIyMkUyLDAuOTk2MTc0NjMKNUdHWkg4NlosLTAuOTIxNTYzNgo1R0tKOVdPTiwwLjI4MjkxNTU2CjVHUjJPMlBVLDAuMDcwMjQ3OTUKNUdSRVU0OEssMC4wMjIyMzMwMQo1R1dMRVBSNCwwLjkyNzM3MzIzCjVINjRZWDFYLDAuMjAyMzUzNzkKNUg5RVBCVFQsLTAuMDAwMTY1NDAxOTYKNUhHQTcwNlosMS4wMTY0NTg0CjVISUNVWURLLDAuOTg3NTgwOTYKNUhNOEFIQUosMS4wMjU2NDkxCjVIVVJENlBYLDAuMDM4MjY5MjMzCjVIVjdMQlBELDAuOTg5MDg1NQo1SUxHTzMwTSwwLjAzMDAyMTA1Mwo1SVI1UTdZQSwwLjc1ODY0ODYzCjVKMElNWFZPLDAuMDIwMDUxMTIyCjVKMUVWWkY1LC0wLjAwNDUwODcyMTYKNUozMDRISE0sMC43NjA0NDgzCjVKQjY4SFAwLDAuNzEzNTI0OQo1SkYzN1BBTiwwLjYxNjQ0NTYKNUpMMjBaTFYsMC4wMjY2MTk2Mgo1SkwzVldGRCwwLjA0Nzg3MDA4NQo1SlA5NEs0NiwtMC4yMTU4ODIyMQo1SldWSTRQQSwtMC4wMDEzMDU5ODcxCjVLMjM3UUw4LDAuMDE2Mjc1NjE1CjVLRjZIU0wwLDAuMzEyNjg3OTMKNUtKTVJJWkIsMC4yMzY1Njk4CjVLTE5OOEo4LDAuODI4MDI0NQo1S1A2V081MiwwLjAwODk5MTUyNTUKNUwwREg1T08sMC45MTIwOTM2NAo1TEIyWlBXWiwwLjA4MDU0MjM2CjVMUDBGOEg1LDAuOTAyMTYxNgo1TTFFRk1SRiwwLjAzNjE4MjY2NAo1TVM4ME9USCwwLjMyODY0Mjg3CjVNU1pHM0hBLDAuMDU0Mzc1Mzk1CjVOMkM0NlpDLDAuMDU1OTY2NjIzCjVON0NRQ0JLLDAuNTg5NjA1OAo1TkQ2QlUyOSwwLjAxNDYwNzU0NAo1TkhNU0tYRCwwLjA0MDU3ODc3NQo1Tk8zR00yTSwtMC40MTU0NTg1Ngo1TlFBWFpEUywwLjg1NzA2ODM2CjVPRTlETlczLDAuODE1OTk1NAo1T0hSOUhGOCwwLjA0MTkxNjMzCjVPVFYzR0oxLDAuOTYzMzk0MQo1UFoyNkxMViwtMC42OTE4Njg1CjVRNlpXQjMwLDAuOTY3Mjc4OAo1UUJTNzdPMywwLjk2OTY0MzUKNVFERUZMUEMsMC44OTY4NDYKNVFKVVc0VlcsMC45NTYwMTc4NQo1UUxLNkZFUywtMC4wMDA2MzM3NDU0NQo1UUxWVEFBUywtMC42NjAzNjA0CjVRUDdDRTNHLDAuMDAyMjQyNzcyOAo1UVQwWUg1UiwwLjAwNTk0NzA4OTgKNVIyR1NZTjMsMC45ODAzMjIxCjVSTjVVRUFaLDAuOTUzNzk4MjMKNVJPRFJYMzAsMC4wODgwMDgzNDQKNVM4Q0RTU1AsMC42NDQ2MTE0CjVTWlNPQk0xLC0wLjE2ODcwNzgzCjVUN0RVRkZaLDAuMDUwMzM4NTIKNVU0NlhDQlQsMC4yMTExOTYyOQo1VUdIMzUzSCwwLjk5MjgyNzk1CjVWQ1BYQUs5LDAuODE3Njc0Mgo1VkdZM0szRSwxLjAyNjQ2NDEKNVZIWkpMNkEsMC45NTUzNzA5Ngo1VlBOUERUMiwwLjA0Mzk0MTEyCjVWU0kwNk1QLDAuOTY1Mjg4Nwo1V0YyM1ZLMSwtMC4zMTg3MjE5CjVXS1hBWVNZLDAuMDI0NTU0NzY3CjVXVjdQQllaLDAuMDE4MjM5NjEKNVgwVU1DNzAsMC41MTI4MDQyNwo1WDRaUkdWMCwwLjI2MzA3NjEKNVhGUUNLTVMsMC45ODc4OTk2CjVZM0wzSkNRLDAuNzIzNzAzMwo1WTRCS0pPVSwtMC42NTEyNjM5CjVZN0xGSk9ELDAuODI1NDQyNQo1WVU5UkxQViwwLjAwMjYwMDA2NTQKNVlZUU1VTE8sLTAuMDE4NDg2MzM2CjVaQUcxMko5LDAuNTY5NzgzNAo1WkI0WERVTiwwLjk0NDA1OTY3CjVaRzZMUktILDAuMDQ3MTQ2NzM4CjVaVkpWTEtBLDAuNjE5NzM2OAo2MDBXSTZLRCwwLjAxOTQ0MDI3MQo2MEVVWks5UCwwLjg3MTkyNTYKNjBJMFVCRE4sMC4wMzIxNTQxOTUKNjBUVTVSUkssMC4wMDMwMTAxMzk4CjYwWkZDTzVKLDAuOTQ0ODQ2OAo2MUVRRE41SSwwLjg2MjU0MTE0CjYxR0U0RVZJLDAuNjU3OTcxNzQKNjFVUjM2MVcsLTAuMDA3MTQ4MjUzNwo2MVpWVUFRTSwwLjY3MjIyMzQ1CjYyM0JSOVgzLDAuNzc3NDY0NAo2MktVWEREMiwwLjA0MDc0MTE1Nwo2MlI4Vlc4UiwwLjkxNDIwNzY0CjYzNkFCRTM5LC0wLjIwNTgxNzUKNjNBQzlHMjcsMC42MjcwODc5NQo2M0VQVk00QywtMC41NDMyNDA3CjYzUUVPMjJPLDAuMDcwNDcwMTgKNjNYMDJMNUgsMC4wNDQ4MDcxCjYzWVFQR0tELDAuNzcyNTQ2MzUKNjQyRlVWUjcsLTAuNzE4NDE3Ngo2NDVJNFozNywwLjk5MzY3NDEKNjQ4SElDVlIsMC41NjEwODI0CjY0Q1IzQTAxLDAuNjY0MTAwNAo2NEY1NjI5ViwwLjYwNzU5Nwo2NTVKQVJCRCwwLjg0MDMyNTQKNjVLTThWVjUsMC42MjUyMzI0Ngo2NVBRQ1FRUywwLjY3MDcyMzU2CjY2NUs4U1FSLDAuMDMyNjYyODE2CjY2NzZZVzkzLDAuNjI0ODk4Mgo2NjhRMTdJQywtMC42OTI4ODE0Ngo2NjlIQlJJRiwwLjA0NDkxNTk2CjY3OFo4TDcxLDAuOTEyMjkxNDcKNjdDQzVGUk0sMC42NTIwNzQwNAo2N0VOMzJDWiwwLjA4NzAwMzU0NAo2N0tVWFhETCwwLjAzMDAxNTk4Ngo2N1VTOEk5TywwLjAzNzA0MjcwNwo2N1hJTzA2QiwwLjM0NDM4MTgKNjg5ODA2M00sMC45ODIzNTM2CjY4SzlHUzVWLDAuMDAyNzIyOTAzMgo2OE4wVTBFTSwwLjAzNTM5OTQzCjY4UE5YWUNULDAuODQ4NjYxMgo2OTRXUTJXQiwwLjAwMDkzMTMxNzkKNjlHUUUyUlQsMC4zODY3MDExNAo2QURXOEtWWSwwLjk3MTI5MTYKNkFPWkFLTDUsMC45NDU0NjEKNkI2MDkwQ0EsMC4wMDY5NTgzNDAzCjZCQ0tWN1pWLDAuOTQ4MDU1Mgo2QlZNVDhTWSwwLjkwNjY4MjEKNkM5QzAwTTUsMC4wNDk1NDc1MTIKNkNDNzI0MFosMC4wMDQxODYxMwo2Q0U5TE05SCwwLjk3NDU2MTc1CjZDS0tQVzBHLDAuNzYzNDg0MjQKNkNOOTMwSFIsMC4wMjA1ODYwNzMKNkNQQVRXT0ssMC4wNTMzODMyNAo2RDVIN1FCViwwLjk1Mzg4OTMKNkRCNk5WTVgsMC44OTcyNTU1NAo2REs3Sk1VSywwLjM2OTg4MzMKNkRNN0lGTEwsLTAuMDYxMTQxNTQzCjZEWElSRVhHLC0wLjAwNjUzMTU3NDgKNkUyR0hUOUUsMC44MTIyNzA3Ngo2RTk4VThTWSwtMC43MTcxMzY5CjZFQ0tXVVJaLDAuMDI5MjU1MzI3CjZFSUVDVk00LDAuOTk4NjE0MTMKNkYzUlZOQ1osMC45OTIxNDA2CjZGODVTT0RCLDAuNTQyNDY3NjUKNkY5NlpOTkgsMC45NDA5NjEzCjZGQU0xSE42LDAuNjg0NzkxODYKNkZDVVhRUE8sMC44MTQxMTcyNQo2RkY2QlZaTSwwLjc4MTcxODMKNkZKUzg0N0csMC45NDA0OTA5Ngo2RlBTNk5IQywtMC44NDgzNzY0NQo2RlhCNEhONiwwLjQ3MTk3OTkKNkc5UzQxUDMsMC4wMjY1NjgzMTYKNkdBNDBDRVAsMC41MjY3MTM0Mwo2R0JHSDdaVywwLjAwNzcxMDc3MjYKNkdQMVZCQVAsMC4yNTY3Mjk3Mgo2SDAxSlZVNCwwLjY5NzE2MTcKNkgzOVUzVUIsMC42MDQxMDIKNkg3UE44NzYsMC41MzQ1MzA0Ngo2SEFKQ1lXOCwwLjYxMDk4ODIKNkhFVlVNUFosLTAuNTcxOTk3OQo2STM4SjdITywwLjAyNjY5MDA3Mwo2SkhTNTgyNSwwLjc0NDE5MDE2CjZKTFJXRU5TLDAuMDEwMTQ5NTkKNkpOQ0pSREksMC45Nzk2NDU1CjZKWlcwWjFFLDEuMDI1OTI4MQo2S0dKR0dYMSwtMC4wMDAxMTcyOTkxNQo2S0xEVkZVSywxLjAyMzg3ODgKNktaVVo0SlEsMC45ODQxMzUyNwo2TDBHODdHUywwLjE0MjEzNTEzCjZMMUUwM0hILDAuMjk2MTkxMTMKNkw3UTUxRjUsMC4xNjkyODM2Nwo2TENRTE5GVCwwLjg5MDQ5NzIKNkxEUUk1OVUsMC45NTI1NTg3Ngo2TEc0WUxGTiwwLjk0ODE4NjE2CjZMVDJOME9ZLC0wLjAxMTU4NjgyCjZMV0dZVTU4LDAuMTEzNzQ0MDA2CjZNQ1hPWjVQLDAuMDY3NjkzOTgKNk1ITzgxV1EsMC45NTc5OTkKNk1QRlJKN0IsMC4wMDYyOTc3MTIKNk1VM0FRTEEsMC4zMjAwNTA2CjZNWDQxVE5ELDAuMTc0Njg5OTMKNk4zN1dJQkgsMC43MjcyMTMzCjZONVNOM0kzLDAuMjI5NDkyNwo2TkUzSUc4TywwLjAyMjU2ODc3Mwo2TlZIM0laQiwwLjU2MzcxNjIzCjZPNDVOOTNDLDAuMjY4MzQxMgo2TzhVTkY4WiwwLjg2ODQ3NjcKNk85VUxWV0YsMC4wMTg4OTIzOTYKNk9EREcxNjgsMC4wNTAwNTgxMzQKNk9MWVpHSlYsMC4wMjY1MzUyOTUKNk9OQ1kxQTUsMC4wMjQzNzIxCjZPWUdZTTVQLDAuMDU3MTAwNDM4CjZQNVcxQVlVLDAuMDE5NDM2MTczCjZQSllBOEVNLDAuMDI2NzM0ODc3CjZQWVpHQzk2LDAuODM0OTgxNTYKNlEwQTZKMjMsMC41Njc4MDA5NAo2UTU3UDJUTCwwLjA0MTI3NzA0CjZRQUoxUjRVLDAuOTc5NjA4MDYKNlFDTFBZSTgsMC4wMjY0MDE4NzcKNlFYMTVKUkssMC45NjI3NjY4CjZSM1Y5UFFELDEuMDAxNTM5MQo2UjYwMElQUCwwLjc3NDM0ODUKNlJCU1RYWkQsMC45NDYxNDg2Mwo2UkxKMDlYMSwtMC44NTE4Njc4CjZSVlpJQkpOLDAuMDQ1MjEyMTcyCjZTRzA4MTZVLC0wLjY5NjQ4MjYKNlNZMFRFUUksMC44ODMyNjY5CjZUOEwzTVlILDAuMDU2NzMxMzY2CjZUQTI1MlgwLDAuMDczNjYzMjY1CjZUTjFHTFpILC0wLjg2NjIxOTY0CjZUWlBPWVhNLDAuNzMyNjkxNjUKNlVDTkUzUFYsMC4wMjMxNTM3NjcKNlZSQ1cwMzMsLTAuMDM3MTM3NzQ3CjZXN1FKV1FaLDAuODY3OTAxOAo2V1hFSlZHWCwtMC44NTkyMDQ3Nwo2WDM0VzdGTCwxLjAwMzQ0NDgKNlhVWU1LVkcsMC4wMzQzNTMxMTUKNllPMUZaQTgsMC45MTM5Mjk2CjZaSEhOSks0LDAuMDM3NjM1MTkyCjZaSUw2WDg3LDAuMDEzMzU1NTYKNlpNSDlUNUcsMC44MDk4MDUKNlpRQjcxSzYsMC45MDYwNzM3CjcwNElJVllGLDAuOTYzNDUyOTQKNzBBVFZEVDMsMC45MDQwNzMzNgo3MFI1UjNLRiwwLjAzMjA5MTc0NAo3MFo0QTJXMywwLjAzMDE3MDQ5CjcxMUpQU1ROLDAuMDI3MTcxMTEzCjcxNk5IWkc1LDAuOTYzNjU0NQo3MUYwQllDQiwwLjA5MTY2NjQzCjcxRjdBVVExLDAuMDMwOTI4NzMxCjcxTVNYOFcxLDEuMDExODcyMgo3MkJVN0syUCwwLjU2MTk4ODcKNzJFMTFIWFIsMC4wMDEwNzM4NTg3CjcySVpJV1VELDAuMDE1MzY4OTk3CjcyUzhXOFlGLDAuMDc3MDU4MzQ1CjczSVdFVVJDLDAuODg2ODcwMQo3M08zUllIQywwLjY3NTI2Nwo3M1k5UVhZMCwtMC4wNDUyNjIzOTYKNzQyWlkwUDAsMC44MjE4NTI5Cjc0NU9RR0ZVLC0wLjgwMTI5Mjg0Cjc0Q1NFMFlELDAuODM2NDQwMQo3NEhXUUtTUCwwLjcwODEzNjgKNzRTU0ZDQVgsMC4wMTIyODA0NTk1Cjc0WVBQT001LDAuMTQ2NDE4MjYKNzRZUURGMDQsMC4wMzcwNzc1MjcKNzUyTVNXQ0YsMC4wMjEwODc3OTUKNzU1RzlSUE8sMC40MTM3MTAxOAo3NU9UV0xZNywwLjI2Nzc5MjQzCjc1UExDVDQxLDAuNjkyNzk3NAo3NkdQR0pTSywwLjk1ODQwNjUKNzZIRzg1NEcsMC44NTA5NTMxNgo3NlgxNFUwSiwwLjAwMzcxNDA1NzYKNzdKMEVLMVQsMC45NTgwMjk0NQo3N1NQMFkyNywwLjAxNjMyNDM5Cjc3VThHMUdFLDAuMDQzNDQyNDU4Cjc4RVRRRVoyLDAuMTc0Mjg0MzIKNzhPWlZZMEQsMC4zNzQwMzMzNgo3OTlVTjMxRCwwLjkxMzQ2OTcKNzlRV0w2RUIsMC4wNDc5ODA4MzgKN0FIOUtXOEssMC43MjgxMDAxCjdBTzA1NjlXLDAuOTQ5MjAxNwo3QVJVQ0wyWSwwLjM5MTQyMTk0CjdBU0xRVzdaLDAuMDI5NTEyMjY0CjdBWE9FRjkwLC0wLjExMjcwNzEyCjdCOFMwNUxILDAuMDQzMjkxMzA0CjdCUkhFUlNHLDAuMDIxNTY5MDA2CjdCWDhJWjdGLDAuMDU1MTk4Nzc0CjdCWENHRlIwLDAuMDQ0OTUwMjEzCjdDOEJHQUgzLC0wLjA2NTcxMzc1Ngo3Q0NET0w0TCwwLjg5MTkyNjcKN0NFVjRNVVAsMC40NTgxMzE2NAo3Q0tUT0RHUCwwLjA0MzEwNjYwOAo3Q1JZNVE0MiwwLjEwODI1NzAxCjdDUzEyMjdCLDAuOTYzNjU1OAo3Q1M1QVYwVSwwLjgzMjg1MjQKN0QwM0JJSlcsMC4wMjczODQzOTMKN0QxUU5IQVUsMC4wNDMzODU2Mgo3REY4TU05MCwwLjk1NDc0NzI2CjdESVVDV1FRLDAuOTI0ODMxNAo3RFBBTFNLVywwLjU4MjAyMTQKN0RRRVM2RlgsMC4wNDU1ODc0CjdEUVFKMlJaLDAuMjg5MzIzMTgKN0UxRE44WkQsLTAuMDEzMDU4Njk3CjdFQ002WlpHLDAuMDQ5Nzg1ODc1CjdFRFNHV0xNLC0wLjMxNDY3NzcyCjdFUllRTVozLDAuOTMwNTU5Ngo3RklBMzlYTSwtMC4wNDMzNDE5MDUKN0ZKVzc4Q0osMC45NTU5MjI2Ngo3RlBTQlhBTywtMC4wNjIwMDA5MTUKN0dIV1haVk8sLTAuMDMxOTc3MjEKN0dNSU5WNUosMC4wMTM0Mzc3NTYKN0dSTDJHSk0sLTAuMDAwNTA5MDkzNQo3R1dGODQ2TSwwLjA0ODI0NTAxCjdINFJIM1k4LC0wLjk0NjE5MzMKN0g2MTdHOEQsMC4wMzA5NDQzMTgKN0hROEZUTkIsMC43NTg4MzgKN0kxUjMxNUwsMC45MDQ2ODQ1NAo3SUNZVVdTNywwLjAxNjM2OTkzNQo3SUVSWExSSSwwLjc5NjY2Njc0CjdJSDJEMDNHLDAuOTMyNTU4OAo3SUhWOFVVMywwLjA1NDY2NjExNwo3SUpGQjMxRywtMC44NjA4ODcKN0pEV1JZVVQsMC42OTY4MDczCjdKSVdGVzgzLDAuMDE2NzU0MDM5CjdKTklENzU1LDAuMjA2ODUyNzMKN0pQUFlGVVYsLTAuNTY2MjcyNQo3SlIzUjNHNiwwLjA2MDk0NTI3Mgo3SldFSUtYWCwwLjU4MTcwMjY1CjdLMDJVUk5aLDAuMDA3NTc3OTY5Nwo3SzM0SzA1TSwtMC4yNDE3NzY0NAo3S0pTUU1WSywwLjAwNjc5NjM3OTYKN0tQVllNTEksMC4xMDQ1Nzk2CjdLVDJQMzAyLDAuNjg5OTYxNAo3TDFHOEcxMiwwLjAxNzU2NjM4Mwo3TEQ3WVRXRSwtMC41Njc1NzIzNgo3TEhPNTBHTiwwLjAyNTc1MDYwNAo3TUlMMUoxSiwwLjg4ODAyOTMKN01XSEIxMUEsMC45OTc2MDAyNgo3TVlWMTZCNywwLjYwNDE1MzkKN04xUEhQRjMsLTAuMDAzODc1MDQwNAo3TjVHWFg5NiwwLjAxMTg0MDI4MQo3TkNJMkUwTiwtMC4zNTAyNDU2OAo3TkZFU01LRywwLjA2NjU4MjIyNQo3TkxDVFBZQywtMC4xOTUwODk0CjdPMU84OVhELDAuMDI3MTcxNzI0CjdPQUxQUFU2LDAuMjA1NjY1MzUKN09DNkVNV1csMC4zNzQwMzMzNgo3T0dYVVgzQiwwLjg3NjQ3MzgKN09LS1VLMjAsMS4wMjAwNzYKN09MM0pFWk4sMC4zMTEyNzg4NQo3T01RODY0VywwLjg3MjUyMTM0CjdPUUM5OFpELDAuOTYyODg5NQo3T1VWRlQwTSwwLjA0MzM2OTgzMwo3T1hMU0o3QSwtMC4yMDI5NTQKN1A5Q0xNVkIsMC43MDA4NjQ5CjdQRFAzTzhFLDEuMDIwMDM3OAo3UEkyN1pGWiwtMC42OTI4ODE0Ngo3UFBKNjRXVCwxLjAwMzI0NjkKN1BRVjlYSzIsMC4wNDgyMDA1Mwo3UFY1V0VOViwwLjU4OTY5NjgKN1E3SEhUUUosMC44MTM4ODU5CjdRREZMWTRQLDAuOTI0MDE4NAo3UUsxVFhBWCwwLjczNjQxNDk3CjdRUlNORFlLLDEuMDE4NjYwOAo3UjU5UTE1QSwxLjAxNTA4NAo3UjlUOVg1RCwwLjEzMDQ5Njc0CjdSRVdIWVg5LDAuMDIwNDE1MTI3CjdSRkI1V0NCLDAuMDIwOTYwNTE3CjdSWEdXTE1XLDAuNjc5MDkwMgo3UzU1QlNFVywwLjA5MDAxNjg2CjdTQURJTDhJLDAuMDEwMDAxMzA2CjdTVjZGU0lZLDAuMDA3NjYwODA1Mgo3U1lDNFRVMSwwLjk4NDU2MTgKN1Q5UVVMSTEsMC43MDk0MjgzNwo3VUE3S1A0ViwwLjA2OTUxNDk3CjdVSDZIN1pTLDAuMDAzMzM2MTUzCjdVS1o4S1owLC0wLjA3MzU2ODI0CjdWMTA1NDFTLDAuODE2NDYwNQo3VkFIVDdXNiwwLjk0MzAxOTkKN1ZMN1dQNkcsMC45OTQzNjgxNAo3VkxEQlMzSywwLjAwOTA5MjU5NDUKN1ZPMlY3MEcsLTAuMzk2NzcxNgo3VlZJU0Y3TiwtMC41MTA0ODE5CjdXQVc4RUk4LDAuODg1MTQ1Mgo3V0U3VVM2RSwtMC41NjI0OTU5NQo3V0xUOVpFVSwtMS4wMTAzNjkKN1dNTlZFT1IsMC4wMzQ2MjUKN1dUSDBTTEosMC4xMTY3OTE0MQo3WEVJTENJViwwLjAwNDk3MzQ2NjUKN1hTNDVKTEEsMC45MzQzMTc0CjdZTFVPR0VYLDAuMDU4MTAxMzU2CjdZWTRDU0ZRLC0wLjg0NzkyMTYKN1laVEhXTUwsMC4wMzkyMDYwOAo3WjNQRjNaTiwwLjA1MTU5MDk5NAo3WkkzSVdXVSwwLjUzOTE0ODg3CjdaSVVMQ0FULDAuMDMyMTcwODg0CjdaVkRLTUg3LDAuOTU2NjMzNQo4MDFKWjRINiwwLjAzNzA1OTk3CjgwRVROQlhOLDAuMTEzOTg1Mjg1CjgwUFNENU9OLDAuMDE5ODk0MTUzCjgwUFU1WkcxLDAuOTIwOTIzOAo4MFlEQTVMSSwwLjMxMjM3NjI2CjgxNzdOVUFULC0wLjA1OTc5MzkyCjgxOFZKS1MwLDAuMzIxNjk0MTQKODFBNk9PWFEsLTAuMzg0OTE4OTMKODFLRjVZU08sMC4wMjY1OTQwOTEKODFLS0VYRVAsMC44MDg5MDU2Ngo4MVBPODRaRCwwLjAwMzk4NzQ4MjcKODFWRUhER0osMC42NzgxMjM5CjgxWjkyRUJHLDAuNDk3NjA4NDIKODI2WjdJSUIsMC44Mzc4NzgKODJLSFhQTDEsMC4wMTQ5MjM1MzEKODJPUlROSzYsMC45ODg1NjM5NQo4MldNVDNPWSwwLjI0MjQ2MTM3CjgzOTlGRUoxLDAuMDI2MjQ4ODQyCjgzT0xRVjRRLDAuOTg3Nzc5OQo4M1RKSVRPQSwwLjAyNDAwMTk4Mgo4M1ZWUDJSNiwwLjEzNzY2MDMxCjgzWTc0Wk5RLC0wLjM4MDM2MDcyCjg0OFVDUTdFLC0wLjcxNDEwMzE2Cjg0TFI1RThPLDAuNzU3OTQ0Ngo4NFo1UUlBMSwwLjA2OTY2NjY4Cjg1WFJLOTJSLDAuNzc0MzQ4NQo4NjJKSlZYOSwwLjg3MTA1ODM0Cjg2Q0RKTk4zLDAuMDIxMTgzMjQ1Cjg2SFRGV1pWLC0wLjAyMDE0ODY0Mgo4NkxFRkZFMSwwLjAyNTc3NTQzNgo4NkxSMkZXNSwwLjI4MDU3MDU0Cjg2TjFDUEtVLDAuODY3NTY3Cjg2UU03NEM3LC0wLjY2MTkyMDQKODc0SERQSTUsLTAuMDE0MzMzMTA0Cjg3OUJGVjVFLDAuNzc0NDkzNzUKODdEM0ZFV1AsMC45NDYwODEzNAo4N0xHVzhORywwLjA0NTc1MjY1Ngo4N1RDRFZSUSwwLjA1Njc5NjMxMgo4N1g4NFdNTywwLjY4MTc2NTc0Cjg3WlJHVkpBLDAuODQ1NzUzCjg4NlE0WDhQLDEuMDE1NzUxNQo4OEUxNEhNMCwwLjEyNDM4NjQ3NAo4OE9ERlI0QiwwLjEzNTIzMzE2Cjg5ODhNTkFNLDAuMDEwMjExODI2Cjg5SllFOVNQLC0wLjEyNzU0MjYxCjg5VE4yQ0I4LDAuMTQ3MDgyODcKOEEzQTE5S04sMC45NjMxNDQ3CjhBNVA1NVpRLDAuODkzMTA2NzYKOEFGSlFDR0EsLTAuMDAwODg4MzU3ODcKOEFJTkJJRFQsMC42ODQyNTYKOEFSM0hWTTIsMC4wOTY5NTI0NAo4QjVMU1RaSCwwLjgzMDYxNzg1CjhCNkdVTjhYLDEuMDI3OTYzNAo4Qjc1NDMzVSwtMC4wMzM1MDkwNgo4QkVCMVNMRywwLjk2MDU0OTgKOEJOQzRRQkUsMC43MzYyNzIzCjhDMVEzV0YyLDAuMDMxOTcyMTEKOENMNUhBMlEsLTAuMDE3OTM5OTkyCjhDTjVPNjZELDAuOTU3NDYxMDYKOENaRVBVTEksMC45NTI3OTc5CjhERVNYQU9PLDAuODA0MDExMwo4REpWUFNLMSwwLjkxMTk3MTU3CjhETUFLTExPLDAuNDM0MTY4OQo4RTFFTUc2MCwwLjYxNDAxNjgzCjhFOFVNU0k2LDAuMDIxOTQyNTA3CjhFQUczMFc5LDAuNjQ1Njk2MTYKOEVEWEQxMk0sMC45NzczNTk1Mwo4RUowTkZKWCwxLjAxOTgxNAo4RU4zSkQwWiwwLjA3ODc2MzA5CjhFUU4zQU5BLDAuOTg2MzE1NAo4RVhQSTQ3TCwwLjM0NDQ3NzMzCjhGMlNCTVVWLDAuMDE3MTExNDk1CjhGQ0lTTE4yLC0wLjExMjY5ODk5CjhGT1lDQlFVLDAuMDEzNzM5NzgyCjhHNkFRSkQzLDAuNDA5NTczNzYKOEdQSzE3RUwsMC4wNjAxOTU5MDgKOEdRRThVSDMsLTAuODQzNDcxNzcKOEgxVldWR0osLTAuMDIyNTIwMDUKOEhHRk1WM1YsMC4wMTAwMzg3MTk1CjhIUUtVVlRNLDAuMTI2MzcyOTMKOElCTFJWMlQsMS4wMTU1MTkzCjhJQlhOTkFELDAuMDE2ODcyMjgKOElNTFRFV0MsMS4wMTg0Mjg3CjhJUVlYUE1aLDAuMDU0MzE5MDU0CjhJUzBUMFFZLDAuOTkzMDE0NzUKOEpBVjNESDIsMC44MzUyMDMyMwo4SllCS1NRNSwwLjA1OTc5NDUwOAo4SzY3VEJVVywtMC41ODIxODgxCjhLSjNEUE9FLC0wLjg1NDI5MTQ0CjhLU09UVEFOLDAuMDE1MDg4NDk2CjhLWUFOTUFFLDAuMDI2MjAzOTUzCjhNMUw2TzNVLC0wLjQ3NTY5MDkzCjhNMkRPRUVOLDAuODgxNzc0MzcKOE01VVI2WUQsMC44NDU4Njk4CjhNOE83S1FSLDAuMDM1Njk1NDM0CjhNSDBIM0pJLDAuOTEzNjYxOQo4TU8zRzU5UiwwLjk0NjAzMzI0CjhORkFaUk81LDAuMDE5NTkyMjE4CjhOS1BLWThCLDAuOTc3MTIxMwo4TlRJWE5DMywwLjE0MDcyMTcKOE5ZNEZNR0EsMC4zNDkwMzUxNwo4T0ZNQjBUNCwwLjA0MjA0NjgKOE9KNThEWkcsMC4xNjA0MTU0Mwo4UDJQUFg0UCwxLjAxOTgzNDkKOFA0WE4yVEcsMC45NjMwNTQ1NAo4UENZRFVXUywwLjY3NDg0OAo4UEc2S0ZGMCwwLjk5MTQ2MQo4UFg4NEJFQiwwLjk1NzM0NzE1CjhRV0lXR1VMLDAuMDM3NTQxMDE3CjhSWUlMNzJGLDAuOTgzMzY1MjQKOFM0TEUzRUUsMC4wMzk0MzE1ODcKOFM5Nzk3RzUsMC44NDk3NTI1NQo4U0RRWDlJMCwwLjY2MzQ2ODUKOFRBV0NEV1IsMC4wMzEzMzY0ODYKOFRLSzQyMzgsMC43MTQzNjYzCjhUU1JHNjlYLDAuODM0NTAxNDUKOFRUMzBLQjYsMC42MjUwOTAzNgo4VTMwQUlJSiwwLjg2ODg4MDQ1CjhVNkpJUjlKLC0wLjIzMjAyNjQzCjhWT0o1S1RBLDAuMDMyMzYzNjY4CjhWVFdIWFg4LDAuOTc1MDgyMgo4VlpaS0tBQiwwLjA1MTU3MTc5NAo4VzJZOFVBWiwwLjQ0NzQ1NTIKOFdHWkJLUk8sMC4wMjYwOTU3MjIKOFdTSVgxMk8sMC4wMTg0NDkwMwo4WDVLNVdIMywwLjA0Mzk1MTQ5Ngo4WFZBMlI3SywwLjMwMDI5Mzc3CjhYWDZYSUMwLC0wLjc3NTgxODM1CjhZN1Q1S0lYLDAuOTkwMjM2CjhZQ0xPTzlMLDEuMDAwNDM3NAo4WUdDMlBBUywtMC44MTYyODY2CjhZSkNPQjMxLDAuOTU1NTQ1Mwo4WU1HMlBYNywwLjc1NDAyOTYzCjhZTkhGNURGLDAuOTU5NjExMwo4WVYzQVZYNiwwLjAxNzQ1Mzk5OAo4WVZIQkdSVSwtMC42ODM0MjI0CjhaR1EzTERULDAuOTI0MzQ2OAo4WlBJNVM2RCwwLjcxMzI0NTkKOFpVQlU4NDAsMC4wMTA3Nzk4NDcKOTBBUE1PVE8sLTAuMDkyNTY4NTU0CjkwRldJNEU5LDAuOTc5OTgzNzUKOTBPWjBaSTksMC4wNTQyMDQwMDIKOTEzQ0pPQ1YsMC4wNTAwNTkwNQo5MVJBSDA4MCwwLjAxOTkxNTU5Ngo5MjA1TllIVywwLjMzMTY1MDU4CjkyOFRCTTI4LC0wLjA2NjE1MjY4CjkyRFUyN0FGLDAuODM2OTU0Mgo5MkhVWTBaOSwwLjY5OTgzNjkKOTJMNUNRWlAsMC41MTM4MTU3Ngo5MlVRUUNXNiwwLjAyMTk3NDkyOQo5MzJGOUhDOSwwLjE1NTU3OTc4CjkzQ0tVWDhDLC0wLjc5MjM3NDEzCjkzRUc5Nk1OLDEuMDI1NDM3OAo5M0kxUjRGMSwwLjAzNjYxMDYzCjk0NDRKRUxQLC0wLjAzNzM3MTE3Cjk0NVRCWkhHLDAuMDI3NTQwNzA2Cjk0OU9JVFRHLDAuODEwOTQzMDcKOTRBUVdQMDQsMC44Njk0MTgxCjk0Tlg5NzUyLDAuMDUyMDcxNDIyCjk0UExQMTJTLDAuODA5MjY5ODUKOTRUNTcxMU0sLTAuNzkzMjQyNwo5NFcxVFhUVCwxLjAxODczNQo5NFcyUlhHOSwwLjk3NTgzMTcKOTU3S1ZOTFYsMC4wNDI1Nzk3OTIKOTVWTVAwUEwsMS4wMTU3MDgyCjk2NUJVRzRTLDAuOTE5OTEyNjQKOTY3VEM3V0csMC44NzU4OTcwNQo5NjhHVU1QNCwwLjAxMTc5MDg1Mgo5NkRVTFlXMywwLjk3NjE0ODYKOTZaWUM2S00sMC45MzMyODkyCjk3VkhPRUZBLDEuMDA2ODI0Cjk3V1ZTTlMyLC0wLjA0Mjk5NTExOAo5ODVMR0ZFRSwwLjA1MjEzMDIwNwo5ODZMWTdIUywtMC4xODg2ODc4NQo5OEMxTURLNSwwLjMyODk5Ngo5OENHRlZaQSwwLjk2Nzg5NjA0Cjk4WkJZUDY2LDAuMDEyMzAzMjIxCjk5M1I3MzlLLDAuODc0NjMwNDUKOTk0RFNMOE8sMC45NDEwMzIyMwo5OTZCVE9YMCwtMC40MzcyMzAxCjk5N01CSkxKLDAuOTA4MzYwNgo5OTg1VlhLRywwLjE0NDU1ODc0Cjk5TFFZVE1VLDAuMDA5MzQxMzEyCjlBOEs0U1pLLC0wLjgyNjcxMDkKOUFOTzQ4UjMsMC45MjAxODY4CjlBUkFVUkU4LDAuMTQ0MzQwMjgKOUI1UDJHQVcsMC4wMjE4MDYyMQo5QkowNUwySywwLjA1MjgxMjI4Ngo5Q0RFQlpBRCwwLjAwODU5Mzg2Mgo5Q0s5TE1ENSwwLjk5NTQ4NTcKOUNTQUJJWjIsMC40NTc1Mzg5Ngo5RDhSOFRZNywwLjk5NDYxNzc2CjlERDlZRTQ4LC0wLjAyMzAyNTkxOQo5RFFTU1pWRSwwLjA0MDgyMTc4Mwo5RFhUVE5RTCwwLjc2OTgxOTI2CjlFMlo0ODg5LDAuMjk0Mjc5NTIKOUUzWVJTRFgsLTAuMDQ1MDY4NzA3CjlGNEFCR1RBLDAuNjUyODA2MTYKOUY4TVpNU0QsLTAuMDAxNDE2MDE5Mgo5Rko0NUY5VSwwLjkyMzk3OTkKOUZOMVI1NjAsMC44Nzk5Mzk0CjlHM0VHRllULDAuNTI1MDUzMjYKOUdDNFhHQVcsMC4wMjU3NTk0MjkKOUdDQTBFN0ssMC45NjkxODkzCjlHSTVLRkdCLDEuMDA4NDA0CjlHSkxQN0k5LDAuNTEzNjEyOQo5R1JET1kyNywwLjAxOTUyNDk5OQo5SDYzU0xKViwtMC44MjY4NzAyNgo5STJIM09HTywwLjY0NzAzMjE0CjlJOTZCWUlHLDAuMDMyODkyODk0CjlJSkY4S1FYLDAuNTU0OTk1Nwo5SjhNTUJFTSwwLjAyMzE0MTU4NQo5SkNDTUlVRywwLjM1MjkxOTc2CjlKQ0NVWEQ5LDAuOTcyMDExNgo5SktGVUpUMiwwLjAwODUyNjAyMwo5SzAxQ1AzVSwwLjc0ODc4Ngo5SzFIQVhCRCwwLjQ2OTcyNDEyCjlLS1BNWEJDLDAuOTQwNDY3Mgo5S05QWUgwRSwwLjEwNTk5ODgzCjlLVVBWTEhMLDAuODE5Nzc5NQo5TDEwSURVOSwwLjAzMDMwMDMzOAo5TDIyNTdFOSwwLjAwNzYxNzMzNQo5TDNYOUFaTiwwLjc3NTM0MjE3CjlMRUVQWFhLLDAuMjE0NTYyNzQKOUxMSTBLTFgsMC43NTIyNDExCjlMUlhFUEZSLDAuOTAwODM2NQo5TUdXVFM5SywwLjcyMDA1NTUKOU1JTzJJTTgsMS4wMTk0OTIzCjlOMFpHQjhILDAuMDUyMDk0NTg2CjlOM0FQOTFMLDEuMDA5NjMwMwo5TjhUNllJUCwwLjAwNzUxMjk2MTUKOU8wM1hON0IsMC44OTg2Mzk0CjlPMjBOUkJFLDAuMDE4NDIyODEyCjlPQkNLTlpELC0wLjAwMTA4ODQ2CjlPR1k5NktXLDAuMDQxNzI2NjEKOVA0RUU4N0csLTAuMjcxODUzMDYKOVBXTTNLOUksMC43Mjk3OTgzCjlRWjczWDVFLDAuOTkyMzE2Mwo5UjFDTU9MOCwtMC4yMzQ2ODI3Mgo5UjlSQ1BRTywwLjQ3MTc3MTIKOVJCMjM4VU4sLTAuMDA5NDIyODIxCjlSRkRCSFJHLC0wLjU5NzQwOTcKOVJMTkVIQ04sMC45MzI5MzI3Mwo5UkxZSEZQRCwwLjUwMzk2MjIKOVJYVU1PNFEsMC45NDUzMjMwNQo5UzFNQkVKNywwLjcwNTE5NDgKOVMzWEJCSk4sMS4wMTEzNTIzCjlTT1EyQ1ZTLDAuMDI1NTI5NzUKOVNVSkxDRTMsMC42NTU1MDQzNQo5U1gwTjFXVywwLjAzNTAwMDc1Ngo5U1hQRldGWiwtMC4wMDIxNDA2NDc3CjlUSzQ4NVRCLDAuOTE5MDk4Mgo5VTBMQjRRTiwwLjk0OTU1ODEKOVVBNkZHNEosMC42OTMwODUyCjlVRks3UjVDLDAuMDQ5NDQ5MDIKOVVINTBQUTcsMC40NDU3NTMwNwo5VVRXSlVJSSwwLjU2ODQ2NDc2CjlWMkpHTFk2LDAuMDIwODQ0MjQzCjlWNkZDMjgxLDAuOTQwNDA4NzcKOVZFUjdSWFMsMC4wNDcyMzQzMTUKOVZGN0dFSEIsMC4xMTU3Njc2MQo5VkdMT1g0UywwLjg1NTI5NzQKOVZMU0YxT1UsMC44ODc0MjA0CjlWVE1XRkI4LC0wLjAyMDkyNzg0Mwo5VlY1MkQ1MSwwLjA5NDQ5MzUyCjlXN00yQkxFLDAuMzE3MTMwNDUKOVc5VkNVRE8sMC45ODY4NjI5Ngo5V0VYQ0dYRiwtMC4wMTc4NDc2MTYKOVdINllKS1QsMC41NDE2MzU5Mwo5V1lFR09GMiwwLjAzMDEyMDQ1OAo5V1pNQlg2RSwwLjAxMTU0NTE1MQo5WDFPVjU5UywwLjAzNDM1MzIKOVgySEk1MDMsLTAuMDgyNzQ4NDMKOVg0TlhJTlIsMC4zMjM1NzYyNwo5WFpHTFEwQywwLjAwNDA1ODk2MzYKOVlFVDNYNDYsMC4wNDk2NjgxMDMKOVlHSUcxTE8sLTAuMDA0ODI0NjkxNQo5WUg4Mkc3QiwwLjM2NzY5MTA0CjlZTUxCRUpOLDEuMDA1ODQ5NAo5WU9HMVg3WiwwLjAxOTg0NjQ3Mwo5WkNVU1NaNywwLjk1ODQyODI2CjlaVTJXTVNJLDAuMDUzOTIxOTk4CjlaV08zOTU4LDAuODE0ODQ0NjcKQTAxVEhLODYsMC4wMzAwMDI3NTQKQTBKQU4xSjIsMC4wMTMxMjI1NTQKQTBPOTlVTVAsMC4wMTUzMTczMzUKQTFCUkZXMFQsLTAuMDQ5NjgyMDczCkExSjNBVjNULC0wLjE4Mzc2Mjg2CkExT0U3OVI2LDAuOTM3MDQ1MDQKQTFVVlpLVU8sMC42NjA4MDg4NgpBMVk2UEFTNSwwLjA2MjYzNDk3NQpBMVk4SEtQViwwLjAwOTQwNzQyOApBMjZVUUdWRywwLjA1MTg3OTYKQTJDWVZIV1EsLTAuMDE4MDg0MzIxCkEyRkQzTUtFLC0wLjQ2MzY0NjUzCkEyVzg4MVBTLDAuOTI0OTI3NwpBMzUxQTlPTiwwLjA0NjMwMDIKQTNKVkxDVDMsLTAuMDIxNDMyNjgKQTNQMjdJOEYsMC4zMzU3ODA1MwpBM1ZCM0pOSiwwLjAyNzg3NDU2MwpBNEJWNkEwOSwtMC4yMTc0OTc2OQpBNENYRlgzTywwLjg2MTY2MjQ1CkE0RDVHTUo1LC0wLjEwOTIxMTMyCkE0UjFYRFJaLDAuOTI5OTI4MDYKQTRWS0ZJUE0sLTEuMDI4ODY3NwpBNFdJRzRKVSwxLjAzMTU1NjEKQTRXTkxSUVEsMC45MjgzNTk4CkE1V0QyMFc3LC0wLjcwNDgxOTc0CkE2MUM5TEE4LDAuMDQ4MzgyMjE1CkE2R0NSSzRULDAuMDA3ODYxNDA4CkE2R0pCU0c0LDAuOTQxNTM0OApBNkdOSTc5OCwtMC42Mjk3NDc1CkE2SkcxMEtQLC0wLjA5Njg2OTk5CkE3OU5RSVI4LC0wLjY1NjExNzE0CkE3QUc5R1BBLDAuMDM2OTc5NjUzCkE3RFlFSU1ZLC0wLjc2ODAyOTYzCkE3SE5IUUc1LDAuMDI4NzA2NDY5CkE3TFNLTEZFLDAuOTU0MDAxNApBN1JPT0hCUSwwLjAyODU4MDc2MgpBODU2QTU0NywwLjk2MzQwMDY2CkE4RkNXUkxaLDAuMTY3ODU5NTcKQThIRjM1TEksMC41NzQ0MTM4CkE4U1VVNDZWLDAuMDIwNDYxMzgKQThVUEVRS1YsMC43NzUxMTc5CkE5NkE4NUtMLDAuMDQ1MTY1NTU0CkE5RkcyOFBGLDAuMDQ0MjM4MDc2CkE5TzU4NDA2LDAuNjU2NDEzCkFBMjI1RThSLDAuMDExOTMzODQ0CkFBRTFLWVRaLDAuMjcyMjY0NjMKQUFLSFRMVVQsLTAuMDA1NDY5NTQ1CkFBVTZZT0xWLDAuMDEyMjA3MDkyCkFBWFFSNUVDLDAuOTcxMzY0OQpBQjNBRjJCTiwtMS4wMjYzNjYKQUI3VENEOEEsMC4wNDk4MTE0MjMKQUJBN1ZSQzgsMC43NDA2OTcKQUJGWjJHNEcsMC4yNzQyODIxCkFCSkZOVDRELDAuMDYyMjcxMjA4CkFCTVpOSTRaLDAuMDI2MzAyNjA2CkFCUzE2UzhVLDAuOTk5MjM1NDUKQUMxQ1RKTFUsLTAuMDI4NjI3MTM1CkFDQThXUUsxLDAuMDIwNjgyMDQ0CkFDQ0c3NTdTLDAuODM4MjQzMDcKQUNKSzZPMUEsMC43OTIyNzE0NApBQ1JVTDJNNCwwLjkxNDU4MDYKQUNYU0dGSDksMC4yNTUzOTczCkFESjdHNFM2LDAuMDA4NzcwNzAxNQpBRUU4QjBFRiwwLjAwNTg5NDIzMzUKQUVKSDI5WVYsMC4wNDk2OTExMzMKQUZEVFNWQUMsLTAuMDE0OTEyMDk2CkFGRFhMRkxYLDAuMDE1ODQ0ODE0CkFGRzBJQ04xLDAuMDIwMDUyMDY4CkFGVkZHQjNVLC0wLjk1ODQ5ODA2CkFGWVpIS0dHLDAuODg2NDg1MgpBR0FHV0NYVywtMC4wMTE2NzA3MTMKQUg0R05CQjIsMC42ODYwMzY5CkFIUlU0TlJFLDAuMDM4Mjk3MgpBSFZFVE4yMCwwLjAyMTk3NzQ0CkFIWVhXRUIxLDAuMDY4NTQ1OApBSTdROURPViwtMC4wMjEyMDI4OTYKQUlGUUc3TUUsMC45MzkwNTc5NQpBSVM5UDlURiwwLjY5MzI4MjMKQUoxQldKTUQsMC45NjkxMjg5NwpBSjNLVDRPQiwwLjAzMzcyNjQzNQpBSkRDOUlIRSwxLjAyNzk2ODkKQUpNUUdKRzUsMC41OTI5OTA3NgpBSlNJWDNPRywwLjAwNjQ3NjM4NDYKQUtDREVXSTEsMC4xNDIzOTIyMgpBS0YzVTRQVCwwLjAzMzM0Mjc1NgpBS0Y3TjFaRywwLjAxMzcxNzU4MTUKQUtNMEpYUUosMC45MzAyNjc5MwpBS1AxMkJLMSwwLjU4NzAwNTYKQUtWWktIRE0sLTAuMDM1NDMxNzM1CkFLWDlHNzIyLC0wLjgxOTY0MDM0CkFMQkJEU0tTLDEuMDM1ODU3CkFMTVFYSE1JLDAuMDIwMTAzNTk2CkFMUTJDWDc0LDAuMDI1ODk0NTY3CkFNMVJLWUQ1LDAuMDI2NjQ0OTc1CkFNNzk5MVRBLC0wLjAwNTg3NTMwOQpBTUFPNVVDUiwwLjAxNjQ3MTY0CkFNSUk4NUZVLDAuMDEwNjgzMDc5CkFNUzJCTjNaLDAuOTIwOTQwOApBTlBFTkVKUywwLjAxMTY5MTc2MwpBTzBMNzExMiwwLjAwNjAyMTY3NzUKQU8xRDNPVE8sMC4wNDU0MDc3MDUKQU82NVc3SjUsMC4wMjY0NDAxMDYKQU9EUFBKVlUsMC4xMzgyODE2OQpBT0o3OVVZUiwwLjk0NTc3NDE0CkFPVUszOFJRLDAuMDYyMjY4MjcyCkFPWExXODVZLC0wLjA2NDM2NDcxCkFPWlFCR1lHLDAuMTQxOTU4MzMKQVA2TVo1SzIsMC4wMzU0ODYzOTMKQVBMUDBOOE8sMC42NjA2NjI1CkFQVlpTWDBELC0wLjk4OTU2MDIKQVBZSlVZVjIsMC45NjQ3NjcwNApBUTJIT0YxQSwwLjk5NTA4MjMKQVE0U0JIMjQsMC40OTc4MTI2MwpBUUdWWVFRTywwLjk1Nzk1Njk3CkFRS0JVQjlTLDAuNDczOTI0MDcKQVFLREM5Sk4sMC45NzM4OTgKQVFNQTBPNUksMC45MjYzOTE5NgpBUzBWTkEwWiwtMC4wMDQyODY4MTE3CkFTMFpKVlVOLDAuOTU1MzQ3NjYKQVMyTUNUNzMsLTAuMDAwNzMwMjExODUKQVNLUkRXNE8sMC4wMzg4MTE2MTcKQVNMM1RVRkssMC4wNTY4Mjg4NwpBU1U5MkZIRywwLjg3NjI0OTQKQVUzTEFFTkosMC4wMzI1OTQyOTcKQVU2NlpMRTYsMS4wMTI0Njg3CkFVRjBQSjdBLDAuMDEzODE1MDUyCkFVVDhZMDZLLDAuMDQ2NTg5NzA2CkFWMDBWUjNQLDAuOTkwNTI4MwpBVk1HNUdWQSwwLjU4Mzg3OTkKQVdPSkJXWDIsMC40NzE2NjM0NQpBV1RDV0dZOCwwLjU2OTU5Njk1CkFXVU1CTDBNLDEuMDAyMzQ1CkFXVloySllNLDAuOTY5MzU5NgpBWDBVMTlWSywwLjkxODc4MDI3CkFYOE1FNDhDLDAuMDIxODEyMTIyCkFYRjkwQUlELDAuOTI3NDk4MQpBWEpHTTc4UywwLjk2MTAzMTYKQVhRVFJRMjksLTAuMDczNTY4MjQKQVhaVlJGTVMsMC44OTE0OTc3MwpBWTBRVE5ESCwwLjAxMTM0NDIzOApBWjFETkFLQywwLjkwOTMwODk3CkFaM1BHRzM4LDAuNTUzMDM3MgpBWjNXQVkwTywwLjM5Nzc0MDg3CkFaNUpPWFQ5LDAuMDI0MDkwMzI3CkFaUzVXWlFMLC0wLjA5MDk5ODMKQVpYNFZISzAsMC41NTQ0ODc2CkFaWFJMTktXLC0wLjMyNDY3NjA0CkIwVVVZVUc5LDAuMDY1MjY2NApCMFkwVUpVRSwwLjk3NTEyNDkKQjE4QzFPQU4sMC4wMTc5NjMyNgpCMU5ET0swMiwwLjc1MTMxNjY3CkIxUjhSSEQwLDAuMDUyMjIwODMKQjFUNDhWSDcsLTAuMDEwNTIxMDkxCkIxVEFSQVgxLDAuMDQyOTExODE2CkIyMEIwRFZGLDAuNjY3Nzc1NQpCMjJYU0JLViwwLjA0NjI3NDk3NQpCMjY2TlhSTiwwLjQxMjA3Mjc1CkIyOFVKQUI2LDAuMDAwMjI0NDM2NjMKQjJNTEI1RVcsMC4wNzIzNTg0NzQKQjJOR0hCWVQsLTAuODUwNjExMQpCMlJIM0tQRiwwLjQ0OTU0NzMyCkIyVEhXWFdILDAuOTgyNzY1OQpCMlVJOFMwUywwLjE2MDc4NzMKQjJWUjhLSlYsMC43MDc1NTk0NwpCMlk1WE5UNywwLjk5MjM5NjA2CkIzOFgzUUJMLDAuOTU2NTQyMwpCM040MzlZUiwwLjAyMDI2NDA5CkI0QkhRUjJULDAuODgzNTY5MwpCNEM5MDQ2MywwLjk1MjI1ODc3CkI0RUNJRU9HLDAuOTExNTcyOTMKQjRITjQ3TVcsMC45Nzc2OTcxCkI1MUc4NUhCLDAuNTU0MzYxMwpCNTQxSEpXSCwwLjk0ODAyNjY2CkI1TFhQSDBRLC0wLjk5ODczNjUKQjZLMlFOQkcsMC4wMzEwMDAzODMKQjZTWE5GTzQsMS4wMjEyOTY1CkI3M1hPMVI2LDAuMDU2MDMxMjgKQjdES0YxUDQsMC4wMDA2ODkzMjY4CkI3TUZITk1YLC0wLjg0MTE3NzUKQjdPRkNXOTMsLTAuOTM3MDE0OTQKQjgwVFFXRUEsMC4yOTUxOTY2MgpCODRZR0I5OSwwLjgyMDE1NjYKQjhCT0oxOFYsMC44MDk1NzcKQjhGUlMzNEUsMC4wMTgyOTYwNDgKQjhISkZPMTUsMC45NDU3NzQxNApCOEhZMVFJTSwwLjkzNjczMQpCOE43Rk1BVSwwLjk0NTAxNjMKQjhOQlBDWUgsMC45MjUzMjkzCkI4Uk85WVZGLDAuNzUxNjUyOTYKQjlFUU1DMjMsMC4wMzcyMDQzMQpCOU9CUEk1TiwwLjAwOTYzNTI0MQpCOVNXU0lDVCwwLjAyMzMyMTI1NgpCOVcxWUNXUywwLjAxMTIzODY0MQpCOVpWR0lWTywwLjAzNTczMjg3MwpCQTYyM1NOUiwwLjk4MTkwNzU1CkJBRUhBV09JLDAuMDI4NTQzODYzCkJBVEpHNjkyLDAuMDA3OTM4MzYKQkIyWTNDVTYsMC43NzQxOTE4CkJCQVBZM01XLDAuNTYyNTU0CkJCRUlSMTRILDAuMzUxNTE2NTIKQkJPQkdaVTksMC45NTA1OTU4CkJCUUFHTUEyLDAuMzk5NjcxNjcKQkJRWVcyWDcsMC43NzE3NzUzCkJDNkFMSzc1LC0wLjE0NDg4MzkKQkNHUkFQNTgsMC45NjMwOTgKQkNKNEtUN0osMC40NDA3ODg3OApCQ01ZOUNGTywtMC4xNDA2ODg5OQpCQ1FJR1NOWSwwLjAwNjM5NDgyMQpCRTlIT1I2OSwwLjQ0MDE1Njk3CkJFRkUzRU5ULDAuMDA1Nzg2Mjg0CkJFSFBFTTJSLC0wLjAxMTQyNjY3NwpCRUsxMTRZSywtMC4wMzQ5NjUwMjMKQkZJM1BSN0MsMC43Njk3OTM0CkJGUlNHUURDLDAuOTQwMDY0ODUKQkZXT1hIVVksMC44MjM2Mjc4CkJGWlNCMVdWLC0wLjA1Mjg0MzQwNwpCRzBYWFExUiwtMC41NDM5NTU3NApCRzI5RFlZNCwwLjAzNDY2NzExNgpCRzVQTEdXUCwwLjAzMTY0Nzg5CkJHQUozTjIwLDAuODkwMTQKQkgySElWUFUsMC40MDcyMTA2OApCSDdaNVpRRSwwLjAzNzAzNjM3CkJIQkRaR1hPLC0wLjY4NDk1ODMKQkhGR1pIMFEsMC45NDU3NzQ4NQpCSEpOVjVFRywwLjI0Nzg4NTY5CkJITVNOTTJPLDAuOTQ5NjI3NjQKQkhUR0MwOVMsMC4wMTU1NjI2NjIKQkkzVEZaRkssMC43OTU0MTYxCkJJN0JZSUoyLDAuOTM0NDM3MQpCSThGSVJXNSwwLjA0NTcxMjEyCkJJSUJWVk5OLDAuMDc5MDQwMDA2CkJJUzNXNERMLC0wLjYzODI3NjcKQklYNFRJUVEsMC4wMTI3OTYyMzMKQkpQTU5WT0IsMC4wMTMzMjMzNzEKQks1UFNQQ08sMC4wMDEwNzUxMTIzCkJLS0dINjdVLDAuMDEyODIyNjUzCkJMMkRQUU1XLDAuMDUwNjgwMzkKQkwzVUZNWVAsMC42NDA4MTA2NwpCTDUzTzlHSCwwLjk4Mzc4OTE1CkJMVlVJVFAzLC0wLjAzNzY1NDkyNQpCTFpMV0dRTiwxLjAyMjQxMzEKQk00RjVSWEUsMS4wMTE5OTc1CkJNN1M1NkcyLDAuMDUyMjIxNTUKQk1LSVVLOEIsMC4wMTUyNzMzODQKQk5IVkFMSVcsMC43ODYzMjg0CkJOS1dWNjJMLDAuNzg3ODMyOApCTlNGWlJHUCwwLjg0NTIwNzEKQk5WMFhRQkMsLTQuOTYxOTkzNWUtMDUKQk8xRkZCMVgsLTAuMDk5ODQxMDM2CkJPVlFSV0pSLDAuNTkzODU2NzUKQk9ZOUZSQTEsMS4wMDY3MTQ5CkJQR0RBRUZDLDAuMDk0ODE0CkJQUk9RWkY3LDAuOTc0NDM3OTUKQlBVSzJKWDMsMC45NDI0OTgyCkJRSVBRVkRBLDAuNzA0NzM1NQpCUVFNUzgzRCwtMC4wNjIwMTA3NzMKQlJBS1oyTVQsMC4zNzY4OTk2NgpCUldCSEs3SCwwLjIwNDY4MDk4CkJSWTlWRFRELDAuMDM2OTY3MTE0CkJTNko2TE5JLDAuMDU1MzQ2OTA2CkJTNzVSUE5QLDAuMDIyOTUzNzE5CkJTOTJQQU8zLDAuMzI1OTMxMDQKQlNWSjc0T1gsMC4wODQ5MTAwNQpCVENNRjFRNCwwLjA0Mzk0MTQ1NwpCVFJCREtIOSwxLjAxMDU3OTEKQlRVQzRHV1ksMC4wNTE1NTI0OQpCVVBVNDVDWiwwLjA2NTY2Mzk2CkJVWENWTDQ4LDAuMDUwNTYxNzU2CkJWNlc3NFlTLDAuMDMxNDg5MDQKQlZPWElCV0UsMC4xMDgwNzc1NwpCVlBSRUtTTSwtMC45ODQxODYyMwpCVlNXRFdDUSwwLjY5NjAzMjA1CkJXMllUVTBPLC0wLjYyNjE0NzEKQlc3V09WRjUsMC4wMDcwMDA0NzkKQldTWko2OVMsMC4wMzA1NzQxNzMKQlhDNUNEUkgsMC4wNDAzNzA5MzQKQlhFUzZaRFMsMC4wMDc3NDIwMzE1CkJYRVRRSVE1LDAuNzc0MzQ4NQpCWFRUQ1lKWSwwLjc0NjUxMTcKQlkwOU9GQUUsLTAuODY1ODY1MgpCWTRNUUZaWCwtMC4zMzM2ODA0NQpCWTlNT0xCUSwtMC4wOTQ5NjI0OApCWUo0NTQ5WiwwLjg2ODkyMTkKQllKS0RLU0wsMS4wMDIxOTExCkJaSE5VRllLLDAuNDA0NDUzOApCWlZLWko3SiwtMC4xMzUxNDAwNQpCWldFNlFBNSwtMC40NjM0Njc1NwpCWllPSDgxSiwxLjAwMjA4NzQKQzAxU1dBOEQsMC4wMjM3MjM0NjgKQzAzOThRRkMsLTAuNTA5OTM5OQpDMDNJUzRPSCwwLjAyNzAxNjY0MwpDMDVKQVJJRiwwLjA0MzAzNjc4CkMwOEI5MFUyLDAuODc3MDgwMQpDMENLVko1MiwwLjAwNzM2MjM3NApDMFNFWUY3MSwwLjA0MDk2NzYzMgpDMFdXTkNIQywwLjE1Nzg0MTU4CkMxSVJITjFSLDAuNDk3NzUyOApDMVpFOUZYQywtMC4yODQwMjMyOApDMjI4RlU4QiwwLjY3MDYyMzcKQzI5OU5QMVQsMC43Nzc4NTExCkMyWjE2QlJSLC0wLjEyMzgxMzI0CkMzMElaMVY1LDEuMDI5ODk2MQpDM0hHUFhLSywwLjI4Nzg0NTgyCkM0NlFWU0xYLDAuNDc5MDU1ODUKQzQ3VTY1MEksMC4wMzMwMzUwOTYKQzRGUFRVSDIsLTAuODg0OTgzOTYKQzRQVUxQRUMsMC45NDc2Nzc5NwpDNFFLOVQ2MCwwLjkzMjUyNjEKQzRWM1c5WUksMS4wMDE5NDU2CkM0WURIRUlZLC0wLjAzOTA1OTg3CkM2MVRCTU4zLDAuMDUwNDAxOTMzCkM2QkpESzVHLDAuMDU2MDUwODk3CkM2TlZQMVJULC0wLjA0MTIyNjI5OApDNlNBM0JDWCwwLjI2ODA5MjIyCkM2VDM5VDhJLDAuMDYzMDc5NTA2CkM2WktUTDU5LDAuMzcxNjg4OTYKQzc1VVRORkcsMC44MTIxNTA0CkM3STQyV0hXLDAuODUzMTk0MDYKQzdKRDM0OEgsMC4xMzk4NzUwMQpDN1FESktaSywwLjA1OTUxNTk2OApDODFFUk1YNCwtMC4wMDQzNDg4MQpDODNIUDNITywwLjAzNDg0MDM2NApDODU5WDg1VCwwLjc1MTQ1MDU0CkM4NURGNzFOLDEuMDE4NDQwNQpDODc4TE5VUCwwLjg1MzA1OTYKQzg5UERZQkMsMC41NjcyOTkzCkM4QkNEWVgxLC0wLjEzMzA5MDYKQzhDUzk2Q0csMC4yODQzNTk2CkM4U0JHQzVFLDAuMDgwNjEwMjIKQzk1TThaNVEsMC4wMjEzODM0ODMKQzk3SExaSU8sMC45MTA4OTI4CkM5UU5QRVlVLDAuNzAzMTE5NwpDQUpBNVU5SiwxLjAwODc1NTkKQ0FXTFVVQkosMC40NjIyNDUyCkNCNTRaU0szLDAuOTUxNjU2MwpDQjVFUDhKTywtMC4wNDAwODUxNjMKQ0JMVEtBWFgsLTAuMTQ2MzU2ODcKQ0JWQUJKNjAsMC4wMjI3NzIxMzMKQ0M2WklLN0wsLTAuMDMwODgwMTA1CkNDTEVGVk5VLDAuOTM2MDYwNwpDQ1RZUEw1USwwLjE3ODAwMjU4CkNEMDNPSEM4LC0wLjQ5OTc3MzIKQ0RRT0tSNTEsMC44ODQ1NTU3CkNEU0UyMjk4LDAuODQzMjk5NDUKQ0UySVIwN1YsMC45NjM2MzkKQ0U5QjQ5SVIsLTAuNjczMzg4MjQKQ0VBTjhKWVksMC45NjM4MjQ4NwpDRUJXV1Y3WiwtMC4wMzc2MzYyNwpDRUtWMFY3OCwwLjk3Mzc3OQpDRU8yRkowRSwwLjcwMTI2Nzk2CkNFVTUxQTc1LDAuMDMxMTk5NzQ2CkNGQzAyVjBaLDAuMDIwMTgyNjQ3CkNGRTNQTDJNLDAuNjA2OTIwMgpDRkcxNE00WiwtMC4yNDA2NTUyNgpDRllRWks5TCwwLjk2ODI5MjUKQ0cxUkpOT1osLTAuODQzOTc5MzYKQ0cyTDRCRjYsMC4wNTEwMzEyMTcKQ0cyVzlXNDEsMC4zNjE3NDM4NwpDRzJaUUg1TCwwLjg0NzkzODMKQ0czSTA2TkMsMC45NTk1MzYzCkNHSElHVVpULC0wLjA1MTI3MTQ4NwpDR0sxSE9QSCwwLjk1ODQzMzEKQ0dMTlNGTVQsMC4wMjgzMjA0MjQKQ0dORTVOTTksMC4xMzI3ODYxOApDR1FRMjlIOSwwLjg1OTEyMzQKQ0dVM01FWUcsMC4wMjIwNDM1MTkKQ0dYOEg0U00sMC42NjM0ODE5NQpDSERCVTI3ViwwLjAyMzc3MzU0CkNITEJNVTBTLDAuMDQyOTc4NDA2CkNIUFhHMVVNLDAuNzY2OTc2NQpDSFo2TzdNTCwtMC4xNzQ2NDIxMwpDSTZJUlVPVywtMC4xNDgzODcyNApDSUhCRVdQTCwwLjMxNDU0NDgzCkNJTTZWMThFLC0wLjU2Njc5Mzc0CkNKQjZTTjFRLDAuOTExMjU2NApDSlFUR0xWVSwwLjgyODAzMzUKQ0s4WkdRSTksMC42ODQ0MTcyNQpDTEJTSjRPRSwxLjAwNTU1OTMKQ0xJMUgzTzgsMC4wMDc2OTUxMTkKQ0xTTUxJRUcsMC4wMzU5NTAzNTUKQ004TlhES0EsMC44MDg0MTkzCkNNS0RCWU9BLDAuMDM0NzE4MzgKQ01UNzVUWVksMC4wMzQ5MDUxNjUKQ042MDQ1MzYsMC4wMzU0MjE1NApDTkNHTTdMNCwwLjk1MTc2MTMKQ05SN1o0QTAsLTAuMDUwNzA0OTcKQ05TODBXTjMsMC42NjUxODUwMwpDTlVUTDhVUywwLjU5MTkyNjEKQ083VFpBTVQsMC42NjkyNjIKQ09DMEE1REQsMS4wMDE4Mzg2CkNPQ0dITEpJLDAuMjgyMzgzNzcKQ09PTTRLMUIsMC45OTI5NTE0NQpDT1A3WlJHSiwtMC4xNTMyOTYzNwpDT1BURjc1TCwwLjAxNDc4MjAzMQpDT1dKWU1MSSwwLjk2MDgyMTg3CkNQMzBYNUVOLDAuMDk5ODgwOTg2CkNQM0NCR1JFLDAuMDUwNTA0MDY2CkNQQ1hETUg2LDAuMDQ2OTU5OTUKQ1BFQ0RJUlosMC4wMjc0OTMzNzMKQ1BKTFNERjcsLTAuMDEzOTY3MTExCkNQTlUzS0dJLDAuOTkxNjMwNApDUFhSS044SSwwLjg0MjA2MTIKQ1FFVFJNVFcsMC4yNTUyODYyNQpDUUxUT1kwVCwxLjAyNzU2ODkKQ1FONkdJVjMsLTAuMDEwMDg1NjM4CkNRUVRVNjIzLDAuMDI4Mzg1NjY5CkNSS04yVEUxLDAuMDMxMjc4MzU3CkNSTlQ0U0VVLDAuNzI4MjM0OTUKQ1MxNlZMSU8sMC44MzQ0MzA2MwpDUzhWN0pOWSwtMC43NjkzODAxNQpDU0VKNUdESSwwLjAwNDY5ODg4NDcKQ1NTQUQ2TjIsMC4wMjU4NTE5OApDU1ZOR1VBViwwLjY4NTU5MDkKQ1QyUEo3SVgsLTAuMDM4NjE2NDM3CkNUQVY4MkRTLDAuMDAwMzc5MDI4NzMKQ1VFQjBTMDEsMC4wNDA4OTcwOTcKQ1VPWkkwQlcsMC41NDI1NTQKQ1YzOFkwR0YsMC45MDIxNTg0NApDVjZXU1FLRywtMC4yNjAxNDQ5CkNWTDYyOEs1LDAuODg2ODUxOTcKQ1ZTSzZaNEEsMC4wNDUwNzc0ODgKQ1cwMEpNQk4sMC4zNjQ4ODQ2CkNXNzlWSDlLLDAuNjIzNjg2NwpDV0QxQURQRCwwLjk3NTM1MTgKQ1gzWjg4QjIsMC45NzkzNjgxNQpDWEdLSzhDQSwwLjk2Mjk4NzYKQ1hUVzNPUkssMC43OTU2NDkyMwpDWUVDN0VWNywwLjAyODA3NjEyCkNZTDdaR0lXLDAuMDEwOTk2NzA4CkNZTjZaQVA5LC0wLjAwNDgyMDE0ODUKQ1lZOTdBTFcsMC44NzAxODY1CkNaRURRNU41LC0wLjg5MTY2NzkKQ1pHV1VLVU8sMC4wMDgwNTEwNDYKQ1pMODcwUkksMC43NzQ0MzY4CkNaUDBZSjFaLC0wLjAyNDg4Nzc3CkNaUkRaQUpZLDAuOTU0MDk1OApEMDM2UTRLRiwtMC44MDY1MjI4NQpEMDNTTUJaTCwwLjk0NzM3NjcKRDA3Q0QwQkIsMC44MjI4OTQxNgpEMUQySkgzWiwtMC4wODQ3MjA4OQpEMUlMWEhWNywwLjAyMzk5Mzc2NApEMVY0VzVSSywwLjg4NjkwODMKRDIwTDZEWVgsLTAuMDQwMjc1MzIKRDJFREFQVDksMC4wMTcyNTQyNDgKRDJMNUtaMDQsMC4wMTc1NjU5MjgKRDM3QlFRNTQsLTAuMDc4MTc5MTgKRDNRMDdMUVYsLTAuMjA0MjI3OTUKRDNUNjJBUDIsMC4wMjM4MDA5NzcKRDQwVFpGQzYsLTAuODUwNjc5MgpENDRaQTdOUiwwLjk4ODcyMTQzCkQ0NkFPMkZHLDAuMDA1NDA1NzY0CkQ0RFFZOFpCLC0wLjAwODMyMDkyNQpENEUzV081VCwtMC43Njc3OTg2CkQ0U0RIWFhJLDAuMTQzMDIwMzkKRDUxVjROQjEsMC44OTA2NzkzNgpENTNKUkdYVywwLjAyNjMzOTk3CkQ1ODZLNEZHLC0wLjMwOTA2MjEyCkQ2NjRFRzQ4LC0wLjQzODU1Mzc4CkQ2RjVKSFQ4LC0wLjM3MzQ0MDUKRDZLN09MMTQsMC4wMTY4ODI3NzMKRDc0MTJaWlAsMC44MDc3MjMwNQpENzZCVUdVUCwwLjcwNDczNzEKRDc2TFJCQ1csLTAuMDEwMDk1OTI1CkQ3NlRWNDFMLDAuODkzMDIxNzYKRDc5UUUySkIsMC4wNDA4MTY1NzUKRDdPUkpLOTQsMC4wNDk3MzA2NjIKRDdYR1RMM1YsLTAuMDA0NzEyMTI2CkQ4M1dUTk9ILDAuOTk5MjU4NwpEOEhRNEkzNSwwLjk4MzkyOTMKRDk4NEpBTEksMS4wMjI1NzcyCkQ5REhBNzZELC0wLjI5MjA4NzY3CkQ5RU4yS0FRLDAuOTQ3MTc3NgpEOVBHWDQ0WCwwLjk0MjU2MDcKRDlTWjhSSk4sLTAuMDA4ODMxOTYKRDlVUVRTMUgsMC42NTMwMzc4NQpEOVpSUk9RQSwwLjU0NDE1Nzg2CkRBMk9SNFNJLDAuMDA5NjUyOTk1NQpEQTdZRFYzNiwwLjA3NzYzNzg4CkRBQTM4U05TLDAuOTY2NTIxNzQKREFGT1k1OFAsMS4wMjYyNjA3CkRBVVpZNk1JLC0wLjA5MDQwMzM1NgpEQkQyUU5RQiwwLjgyNDY2OTQKREJaWVhZSFIsLTAuNjk3NjA4OApEQ0JYVVVCVCwwLjk4NTU4ODQzCkRDTEZKRTZILDAuMDA2NDU3ODkwNApEQ1c4REZCNSwwLjk4NjI2MDYKREQyTUlISzMsMC45NTI5NDMxNQpERDNWTktDQSwwLjgxNjQ3MTc2CkRESlZYWFo5LC0wLjg0OTQ0MDE2CkRET1kzMktMLDAuMDMwNDg0MDI4CkREWFM4RjRULDAuOTQ5ODIzNgpERUM3M0hYMywwLjAwNTMwMTg3NQpERUdMR1BROSwwLjk2NDI2NjQKREY0VVBBMTIsMC4wMDk4ODU0NzgKREZHRTlDU0osLTAuMTg2MTQ4NzIKREg2R09JMVMsLTAuMjc5NTEwNApESEFNWko1OCwtMC4xOTc5MjQ0NApESEdIQlRVVCwwLjk0NDkyODcKREkxUzZVUDQsMC44NDA5MTEyNwpESTRXMlI2RiwwLjA0MzI2Mzc1NgpESTdESVdZTSwwLjk5MDExNTM0CkRJOTcxSVI5LDAuODg0NjgzMwpESUIzOVVDViwwLjAyODYwNjcwNQpESUpCVzNZSCwwLjAyNjMxNzMxNwpESjI4OVk5MywxLjAyMDk3NDkKREpMNU01RkQsMC4wMzI5NDYzOTMKREszU1ZJOUIsMC45NTg5MzExCkRLNEhVUkhWLC0wLjAwMTMwMDA5OTMKREtCT0dBMlQsMC4wMjE3Mjc2NApES0hCRlFXRSwwLjA0MTcwODA5CkRLV1NKM1VRLDAuNzE2ODEwNwpETEM2U1NRUywwLjUzMjExMjA2CkRMQzg3S1Y0LC0wLjAwODI5MTU2MgpETElCMTBFVCwwLjA0MjEzNjA1CkRMUE80R1dILDAuNzg0MTMyNjYKRExWNDNRUEssMC4xODYwNzAwMQpETUUwRUIzNiwwLjY2OTU3MDUKRE1JRzgwMjksMC45MTQyMzY0CkRNT0JNQVNMLC0wLjA2MjE3NTMwNApETVRUVVA0TSwwLjAxMzExMjA3NwpETjBHNk0zWiwwLjk1NTQ3MDgKRE43U0tEQlosMC43Mjc0NjgyNQpETlhZQzBCUiwwLjA0NTM2Nzk4CkRPNFk5VEZNLDAuMDI2MzExNzQ4CkRPUUtFMUxILDAuMDE0MDYzNDg4CkRQODJIMEhWLC0wLjExNjA2OTU3CkRQQUcwQUpWLC0wLjM0NDk5NTkyCkRQRVQwNkhHLDAuMDAxMzM0ODg2MQpEUFRCVlZGNywtMC4xMTI5NzczMjYKRFEwMkNQSkQsLTAuMDAwMTMwMTE0MTUKRFFORVFTQkEsMC4yMzExNDc2MwpEUVNJU1Y0SiwwLjAxMTM5Mzg3CkRRU1M3UEI3LDAuMjI1MDE5NDUKRFI2M1hNOFUsLTAuNTcyOTg1NwpEUk5ST0U1VywwLjkwNTQwMjk2CkRSWjZFRkk2LDAuMTI0NjY3NzIKRFM2MjZPR04sMC45MjM0NjYxCkRTRktBUElRLC0wLjQ2MjU1MzIKRFNZT0VYNFosMC4yODg0MTcxMwpEVEVaSFRTSCwtMC4wNjMxNTAwNQpEVEtIUUMwNSwtMC41MzA3NDc3CkRUTllSNjEzLDAuMDExNTk0ODQKRFRTVDFKRFksMC45MDQwMDUyCkRVRlk1RkpILDAuOTQxNzA1NDcKRFVIRzA5UTYsMC4wNDAxMzk0NzQKRFVLSjJXV1osMC44OTkwNDI0CkRVU0tYT0FaLDAuODA1ODA1MQpEVVQ0NjRESywwLjAwOTc2NTY3MjUKRFVVMzdLMFgsMC4xMjM4MzUzODUKRFVVS1RJTEEsMC44MjA0Nzg0CkRWQVZGTUUxLDAuMDMwMTYwOTA4CkRWQzQ2SjhGLDAuMDIzMDIwNzUyCkRWVlgxOFcwLDAuMDI0MTIwMjg2CkRXNklMWEFBLDAuOTkxMTczNTcKRFdET0w1NEksMC4wMjM3NzM1NApEV0hVU01KTiwtMC4wNDkzNDk1NgpEV01UM0NXSywwLjE5MjMwODgKRFdQWVVTTEwsMC4wMzc3MTM0NDYKRFdWT00zRVAsMC40OTY0MDM2MwpEWDBETDgzUCwwLjkyMDE4NjgKRFhXUFNRWTUsMC44NjAyMTYxCkRZQTlYRTlULDAuMDEyMjYzODIyCkRZRExFQUsyLDAuMDY3OTYwOTcKRFlFSlY5RDksLTAuMDU4ODQ5OTE2CkRZSE1NOEZFLC0wLjAyMDg2MTc2CkRZSVk1MUY2LDAuNTYxNzQ2MgpEWjRGWkQxWiwwLjA1ODY5MzY5MgpEWjRHQVVESiwwLjIxMTA2MzY0CkRaSFRVV1gwLDAuMDI0NTI2NDM2CkUwR1JVRU8yLDAuMDEwNTYzMzczCkUwSlU1V0VGLDAuOTg0NDEKRTFESDBCSDgsMC41MzM5ODgyCkUxTVROTzhHLDAuMDA2Mzg0NTg2CkUxTklIMkxULDEuMDE5ODM0NApFMU5TNVU2NSwwLjE4NjE5NDU4CkUxUEhHTEZJLC0wLjAxODEyMjEzCkUxU0NWNVYxLC0wLjE4MTI2NzgxCkUxWUFCTFlULDAuMDQ0ODYxMzUKRTJQV0VGQ0osMC45NjIxOTUxCkUyVFk4TzA4LC0wLjQ2MDY4ODM1CkUzMDdXUTZCLC0wLjA4MzI3OTk5CkUzU1A2Q1Q3LDAuNDQ5NzEwMgpFM1VXTVVVQSwwLjgyNzk5MzgKRTREVElCQ1ksMC44ODUxODk4CkU0R0RPSFVELDAuMDM5MjUxMTUKRTRTSTdCU0MsMC4yMDQxODg5NwpFNTVCVEI0NCwwLjE5NjkyOTQ3CkU1NUNaTkQzLDAuMDE3NzY2MDI1CkU1OVBRSFJDLDAuMDIxMTM5MDE4CkU1QUJaRTJCLDAuNTc1NTQ2ODYKRTVJTEc1TTIsMC45ODY0MDI1CkU2QTVGMkVLLDAuMDQ1OTk0MDY2CkU2WjBEWkNLLDAuMDE0NTQ4NjczCkU3RVJYTEJILDAuOTkwMjM0OApFN1hUTVNYSywwLjAyMTUzODE0MgpFODU3M0RWNywxLjAxNzAwNjUKRTlBMTZNWUssMC44MzU5NjE2CkU5WEY4U1U5LDAuMDUwNjI2NTQ2CkVBSjBZSUNSLDAuODEyNDM4NApFQVozMlJESywwLjY4MjAzODEKRUIyRTROWjcsMC42NTQzOTY2NQpFQjdNTDlMQiwxLjAxOTM1OTIKRUI4VE1SMFUsLTAuMDYzNzMwNApFQkxQR0NaOSwwLjAzNzMzNTcKRUJNUTJMT1QsMC44Nzg5Mjc3NwpFQlVQU0tBMywwLjg1ODUwNjg2CkVDMFU1UVpGLDAuMDEyMzczMjE0CkVDMkNSWDQ5LDAuMDM5NDQ4MDM4CkVDNEEzQkcxLDAuMDQ1OTk1MgpFQzdXRVA5NCwwLjAzMTEzOTE4NApFQ0NRNTRHUSwwLjk2NTg5MDcKRUNIQTRESjksMC45NjI3NDAyCkVDSjZQSVNWLDEuMDE0NzIzMgpFQ1RDNUFFSiwtMC4wMDc3MzQ1MjMKRURLVktYQVUsMC43OTc5MzQzNQpFRFJMRDZJMiwwLjk3NjE5OTQKRURUS1dFWTQsLTAuMDIwMDI4ODMKRURUTloxMkssLTAuNjYyNzE0MDYKRURaVDREVjUsMC4xNjk1ODcwOQpFRTRaNTE4NSwwLjAzOTQyNDE4CkVFNlQ4MzdILDAuMDM5Mzg4NDgKRUVUVFpLMEksMC41NDIzNzE2CkVGR0YyVjhHLC0wLjk1Mjc0NTQ0CkVGUkw1TVUwLDAuOTE5NTgwNApFRzA3WDI3RSwwLjAxNDUxNTIyCkVHOFlFWFRVLDAuNjc0ODEzODcKRUdHOFowVEcsMS4wMTYwNzU3CkVHWUdHQTdULDAuMDI4NDM3OTI0CkVIMzkyTVU5LC0wLjkxMTA1NgpFSFhBVk1CNiwtMC44NjA0Njc3CkVJRVFWWjVYLDAuODU4MTAxODQKRUlZQkFYOVIsMC4wMjU1MTU1NjQKRUo3TEcyVkMsMC41NTA3MTg5NgpFSkpOMldZMiwwLjAzNDU4MzEzNgpFSk1LSUVLUiwwLjE5NzMyOTUyCkVKUEZDTk4zLDAuMDU0NjU0Nzg1CkVKU1JJV1BaLDAuOTIxNjk3NwpFSlkwNVhQRywtMC4zNTYyOTYzCkVLMTBQQjI1LDAuNDQyMjkyNApFSzNBTE1BSSwwLjAxMzQ3NTUxNgpFSzVZN0VMSiwwLjAzMjk4Mjc3NApFSzZMVDJRViwwLjAzMzM0Njc5NQpFSzlLNTZPWiwwLjk3MDkxNDM2CkVLVkJaSTFMLC0wLjAyMDQwNzA3CkVMMExJV09WLDAuMjY3NzU0OTQKRUxRSFk2MzMsMC44MDE5NTE1CkVMUk5EV1gzLDAuMTgxMjE4OTQKRUxVSTdUQk8sMC43NTExMjk1NwpFTUZZU1hQTiwwLjc0MzU0MzEKRU1TVVlFTE0sMC4wMzk0OTY0MQpFTjk3SkZEQywwLjk0MjUzNjMKRU5FR0NCUzgsMC42MTAxNjkKRU5RU09MRTUsMC4xODMzNjc2MgpFTzhQUjdDWiwwLjEyNzg2OTAyCkVPQURMVVlCLDAuMDEwODg5MjcyCkVPSzlWVzhILDAuOTQ1NTU2OTQKRU9aNFVCTlYsMC4yODE4MDQwOApFUDE1VExSVywwLjA0MjY1MDM1NwpFUFA3Q0hWNSwwLjczMTU5NzQKRVBVVEQ1OUUsMC44NjE3MzA3NQpFUTNXSEhWWSwtMC4wMDczNDQxMTgzCkVRNEZKNFMyLDAuNTU5Mzg0MwpFUUJFNERHUiwwLjkyNjkzODgzCkVRSjBRUklZLDAuOTI1NDQzMQpFUUtRVlhMQSwwLjkwNzE2MjgKRVFUMjgzNlQsMC4wMDY4Njc5NTE3CkVSM0RaMTJOLDAuMDMwNTI0MDQ5CkVSNTFNM1BOLDAuMDQ4MzE2NzQ3CkVSNlAwSlpaLDAuODc2NTkwNTUKRVJDTjY0UkssMC45Njk4OTI5CkVSUU5YWTFOLDAuOTE0MjIwNgpFUzg4RjZJSiwwLjcxMjE2NTMKRVM5WE41R1UsLTAuMjIxMDMwODMKRVNDSzRFSTQsMC43MTk2NTIwNgpFU01TNUlOTCwwLjg0NzE1NDI2CkVTWU1MQVJCLDAuOTM2MjQzMDYKRVNZUlBBRlksLTAuNDc5Njc1NwpFVEJMUkJVUywwLjA1MDEwMzUxNQpFVEQ0RjZSNSwwLjA0ODE0MzE1MgpFVEo5Vkg5VSwwLjI2NDUzNjQ3CkVUTTVVMFlSLDAuOTY2NTM0ODUKRVROVkFJQzksMC44ODExNDk3NwpFVFI0M1ZYMSwwLjgwNzExOTYKRVRTTUFKM0QsLTAuNTAwNjEyNzQKRVRZQlEzUzYsMC45NzkxMTgyCkVVQUxBTlFCLDAuMDA4OTAyNTI2CkVWOFpSQTBXLC0wLjAwMTcyMTcyOTUKRVZCUU8xMEosMC43NzQ4NjU5CkVWRkJNUEIwLDAuMDg4NTA0MzMKRVZWOVBEODEsMC4wMzA2NjY2NDIKRVc2S0VDN0QsMC44NDAyNjAxCkVXOTVMT01DLDAuMDI1MDI0MTQ2CkVXVkQwSkdOLC0wLjA3Mjc2MTA3CkVYMUFUUUdCLDAuMDI4Mjg1NjUyCkVYNFBYWUs1LDAuMDQyNzY5NDMyCkVZRjFMRjZKLDAuMzMyNjg4NgpFWVNRODdaNCwwLjkzNDA5NjEKRVo3UkpENlEsMC41MzU5MTc3NgpFWkExNUtaQSwwLjgyMDk2NDkzCkVaRVpENlZMLDAuOTkxOTgwNgpFWkhXMTlLUCwwLjAxNDA1MjMxOQpFWks2QVpTWCwwLjk5NTMwNDA1CkVaTTIxT0xULDAuMzM3MDk3NTMKRVpZVDZaNDEsMC44MTY5OTE4NwpFWllaNDFZSywwLjYxODY0MDQKRjA5UkExWFcsMC4wNTM5MjM4MzgKRjBFTDVVT1EsLTAuMjQzNDQ0NzMKRjBQMFpPNjYsMC4wMzQ4MjI0OTQKRjBUSU5FRE8sMC4wNTQzNzI4MTcKRjEzT0JJTUYsMC4xNjIxNjgzMQpGMTlVWjU0SiwtMC4wNTgyMTAxMzUKRjFMWkVLNTgsMC4wMjI0MTA3ODQKRjFPOEhJVzMsMC44MDA3NTMyNApGMVNSQUo5NSwwLjAwOTAzOTM5NTUKRjFUSFFVVUYsMC42MDY3MjU3CkYyNDQzRVlPLC0wLjAxNzA2MDI1NApGMjQ3TTdJQSwwLjUxNzU0MTcKRjI5MElOWTQsMC4wODcwMjA0MDUKRjJNNTc5NkMsMC45NjU1NTAyNApGMlpUME5KSiwtMC41Njk0MTYyCkYzOThNMlA1LDAuOTc3MDgzNgpGM083OVVHVCwwLjA0NjA3OTM1CkYzUldNN0tPLDAuMDI2OTc1Mzc4CkY0QUc3QVNDLDAuMDEzNTA5MTYxCkY0V1VUWVZSLDAuNDA5OTkwMQpGNTJSM0pUSCwtMC4wMDY5NTIzNDYzCkY1NUtKOFkyLDAuOTAyNzcxNjUKRjU4RkhaRFMsMC40NTU2MjQyNQpGNUUwTDZSMCwwLjk3NjgzMjcKRjVJNVBDVEMsLTAuMTQxODk4ODMKRjVLM0VMR0csMC4wMDQxNjY5MDYKRjVMSzBDOFEsMS4wMTE2MjE1CkY2NlRLRzRRLDAuNTQ2ODg3NgpGNkJRTTc3MCwwLjIwOTY5ODk1CkY2SUsxNENaLDAuMDM1MDk0MDEKRjZPNThYQjQsMC45ODk4NDc2CkY3UkVWQ0RWLDAuOTU4ODcxNApGN1pPT01HUiwwLjk0NzkxNTEKRjg1NlRUQVAsMC4zNTk1MjAzCkY4QkNOVzJCLDEuMDA1MDQwNQpGOENMWkxZMSwwLjM2NjM3NTk4CkY4RFRDV0lQLDAuMDIyNDM3NjgKRjhGWEVCNDYsMC4wNDgyMzY1ODIKRjhYMjhPMEIsLTAuMDAwOTA5MzgxNTUKRjhaM0dJUzQsMC4wODk3NzYzOQpGOTlOSDMwVCwwLjAxMDkwODIzMgpGOURYWlVXMCwtMC4xNTIzNDM5NwpGOUtNTEROWCwwLjk0NTk1NjQ3CkY5TjlPUUg3LDAuOTc4MTA4OQpGOVFHSFROSywtMC40Mzg0MTQ3OApGOVJCVk4wMCwwLjAwOTE4MDcwMQpGOVlJNjA4SywwLjk3ODgzNTQ2CkZBUU8wMjlILDAuMDE4NTY4NzEKRkIyVEVDR1ksMC42NDcwOTk1NQpGQklUQjU2RSwwLjAzMjIzOTAyNApGQlhGMFQwViwtMC42MTQ1MjkyCkZCWUVDQVZKLC0wLjg2NDk4NTk0CkZDVTNNVTZVLC0wLjc5MTExMDM0CkZDVTlXN1FaLDAuMDQzMzM4NTI2CkZES0NIWlpMLDAuODE5ODYzMQpGRFcwRkcyViwwLjAyODY2NzcxOApGRUdVSkRZUSwtMC40MjcyMTcwNwpGRVBOWUJBWCwwLjg2ODY5MDIKRkY3ODZINkcsLTAuMTU1NTExMTYKRkZDN0c5U0EsMC45MTUzNTM1CkZGUUUwVzlPLDAuNzgyODY3OTcKRkZZWU1DWVksMC4wNDk1MzI4MwpGRzVXWVpRWCwwLjAwMjQ5MjYwMzgKRkc5T0NSU00sMC45OTk5MTcyCkZHRUFJMEIzLDAuMDUwMDM1NjcKRkdQUlJRQ1AsMC45OTcyMjY0CkZHUVoyRDhZLDAuNTAyNzQyNgpGR1YxSTg5MiwwLjk2Mjg2NDMKRkgwRDVLVk4sMC4wNTQyMTg5OTMKRkhNUTRKV0YsMC4wMTU5NDg0MzMKRkhXRFM1T0EsMC4xNTQwODU3NApGSU5LNTdQRCwwLjAwNTM0NjgwNApGSjFFNlg0RywwLjAxNzM5OTY1CkZKVk1KWk5JLDAuOTI3OTE3NTQKRkpXUDQzMUIsMC4wNDIzOTQyODgKRksxNUZLNlcsMC45OTg0MTc4CkZLQVpVTDhFLDAuMDMxMDcwNjQyCkZLRVo5ODRBLDEuMDE2MjkxMwpGTDVSUE1KSywwLjAyNDUxNjk0CkZMWjlFVUhVLDAuMDExODkxODI2CkZNQkVQTU0wLDAuMDEwOTc3NTE5CkZNRDdET0ZULDAuOTUzNzcyNQpGTUg5VkEzQywwLjIwMDYzNjk0CkZOMUFPNUFYLC0wLjA0MzYyNTM4NQpGTktGRk9JMiwwLjk1OTcxOTg0CkZOVEdUTjhNLC0wLjAzMzE1MTU5MwpGTlRLQVFQRywtMC41MTgxNjc3CkZOVFpOUjMxLDAuNTYzMTk5OQpGTldIV1VERCwwLjA1MDA3MjQ0NgpGT0M4Q1JEQSwtMC44NzIzNTI5NgpGT01RWDk0WiwwLjAzNzg2MjExCkZPVlQ1N0Y1LDAuOTA0NDMxMwpGUDQ1QlBaSCwwLjAzODIyNzA2CkZQNzdCV1RLLC0wLjE0MjU3MzQKRlBBNlBLSFIsMC45NzU2MDU3CkZQQU1SVFdELDAuOTU2MTQ3NDMKRlBTVzk3NDMsMC42NzA3MTgxCkZQVTU3SDRKLDAuMDA5ODU5NjEzCkZQWldSRktLLDAuMDU0NjEzMTU4CkZRMUlGNUMyLDAuMTY4OTk3NjMKRlE0RUczVVQsMC44ODg5NjMxNgpGUTZUQjk4UCwwLjA4ODg2OTYKRlE4WE42SUUsMS4wMTY5MTM5CkZRWFZMNzZYLDAuMzYxODQ4NjUKRlFaMEg2TkYsMC45MzA3NTc5CkZSQ0NEUDZKLC0wLjA3MzE4MDkzCkZTQ0pUQ1BJLDAuNjgyNTA2NDQKRlRNNDg1SEQsMC45MDc0MTU3NQpGVFdUU0laRywtMC4wMTMyNjAyNDI1CkZUV1ZWQlQ0LDAuMDIxMTYzMTk1CkZVQlZUTlIxLDAuNzIzMzA5NjQKRlVIUkhTOUIsMC4wMjU5MTc1MzgKRlVJSUJVWDgsMC4xMTcwNTg3MjQKRlVNWTY4TE0sMC45MzE2MDkyCkZVT0pTRExTLDAuOTk1Njg1OQpGVVJTNzRFVCwwLjY4OTgzOTI0CkZVVllFTkhTLDAuOTczNTE3NTQKRlZTUjY5MkcsMC43ODUyMTgKRlZWTUtBSTQsLTAuMDE3MzAyMTEKRlcwWkUzQ0EsMC45Nzg0NTc1CkZXOUNWS1hVLDAuMDQ3Mjg4NTU2CkZXQ1pGMDRQLDAuMDAwOTM3OTY5NApGV045RzNXVCwwLjgzNzQ4CkZYMzNPQjVLLDAuODY2NzczMjUKRlg0Nk1IMTksMC4wMjEzNDkwOTUKRlhJQUczU1MsMC44NjYzODU2CkZYS1lWMUdNLDAuOTM4MjcwNApGWFlKQ1lMOCwwLjAxMzgwODI5MDUKRlhaS1M5TzAsMC4xNTU1NDI1NwpGWTFaNVExViwwLjUxMzYyMTg3CkZZNUZKQUpGLDAuMDE5OTMyMDEKRllZNVBWVEEsMC4wMDE1NDkyMTMyCkZZWU1MMjVTLDAuMDE3Mzg0MTY4CkZaRFhaN1NZLC0wLjE0ODYyMjMyCkZaTERVT01PLC0wLjAxNjIxNzE1NwpGWlJWVFZLSiwtMC4wMzAxODYxNzMKRlpaR0dDUjUsMC45OTQ3MTQyCkcwMTNaVlJXLDAuNzQ3MDUzMwpHMFBLQ05CSywwLjE3OTIyNDk0CkcwVlNGQU5TLC0wLjUzNTM0NApHMTc5VFVTTiwtMC4wMjQxOTI5NApHMUFBU05YTiwtMC4xNjI5OTgzOApHMUNNSDJYNCwwLjc3NDExMDEKRzFIMUQwRlgsMC42NzU5MjA5NgpHMUtPTDA5NywtMC4wNjQ3NDQwOApHMVdYNERETywwLjkyNTc0MzQ2CkcyNFRMNjFELDAuMTIyNzcwNzYKRzJCWFY2RTQsLTAuNzM4ODM3MjQKRzM2UllJWjEsMC4wNDU5MTY5NzUKRzM5RlhZMzYsLTAuMjA4MTUzOTUKRzNPSFFDN0wsMC44NjQ0MDg2CkczUEFEM1VNLDAuMDM0Njk0NTQKRzNQVFlFSk8sMC4zMDYwODUwMgpHNDFBMlNBSywwLjMwNzM4NzkKRzRCWlBNWjksMC4wMTcxNzQ5NjcKRzRIMk9DTDksMC4wMDE5MzUxNDIxCkc0TE1HMk5FLDAuOTU1MTE1NwpHNFRZTzdVQiwwLjg4MzE2ODcKRzRZNjJKSDksMC41MDE0Mjk4NgpHNTZDNDhDTywwLjk3NzEwMTc0Ckc1OVVWRjI4LDAuOTQ1MzkyMjUKRzVKVEFZR0ssMC45MDM2NzQ2Ckc1S0hYQlFULDAuOTk3MzQ0OQpHNjcxTU1OQSwwLjkzODA3ODgKRzY5Q0UwSDksMC4wMzQxNzg5NTcKRzZKQUFSQU8sLTAuMDA5MDkzMDQxNQpHNzBUR09XTCwwLjc1NzEyMDMKRzcxM1RVWTgsMC44ODE3NzQ4Ckc3QUZCSk80LC0wLjA1MTcyNTQ4NApHN0ZaUlFBSSwtMC4xMzMwMTg0MgpHN09URkxEQywwLjk5NTA4MDc3Ckc3VkJBWlZKLDAuOTUzNzQKRzhGWUJDQTcsLTAuODY3MDQxMQpHOE9DVTJDTywwLjYzNTcwMjY3Ckc4T0VWV1JRLDAuODczMjMxNApHOFc1RFRHTSwwLjA0ODY1OTQxNApHOFpTUklWSywwLjQ5MTQ2NTEKRzkxTkoyQ1osMC4xNTM4NjEzOQpHOTI3TVBCRSwtMC44NjkzNzAwNApHOTVKTFBKOCwwLjk1NzE0ODk3Ckc5RFE4U0pVLDAuMDM0NzY3NzQ3Ckc5TTc5MElXLDAuMDQ1MjEyMTcyCkdBMkdVSFRKLC0wLjE4ODY4Nzg1CkdBRENRVjNULDAuOTU5NjU4OQpHQUwzNUVBUiwwLjU0NjIxNTIKR0FOWVI5NEUsMC4wMjcwNzEzMjcKR0I5TUY5Q0gsMC45NzE5OTUyCkdCRFJMRDU1LDAuMDAwODU0MzQwNApHQkpPQlhRVywtMC4wMTM5NzU3NApHQlhYUTk4QiwwLjAzMTY2OTQ4MwpHQ0VMN0g2MywwLjAzNzk2NDkxCkdDSEJVR0Q1LDAuMDU5Nzc5NTg0CkdDTVlHSVFULDAuMDI1ODc1MjgyCkdDVks2TzZFLDAuNTI0Nzc2NQpHRDRRQ09VOCwwLjAxNDQ4NTEyCkdEREZWNko3LDAuMDQxNTQxMzE2CkdERlVJT05FLDAuMjk5Mjc2NjUKR0RVVFlOT1UsMC44MDU4OTY2NApHRFo1VVBZNywwLjgyOTUyNDQKR0UzWFZMNzMsMC44NTU1NzczNQpHRTdIVzZTQSwwLjg5MTM5MTIKR0VKMjZCWVQsMC4wMDc4NDIyNTEKR0VLSlRaU1gsMC44MTg0MzE4CkdGNzI5RDhGLDAuMDI3Mjg4MjMyCkdGN1RJTFlTLDAuMTk3Njg0MTUKR0ZDM0hSRTUsMC4xOTMxODEzOApHRklRMFI2TCwwLjA1Njc0NjY2CkdHMElCNjNILDAuODc2OTUyNDcKR0c0NEdNSFosMC41ODk1MDc0CkdHRUtBWFk4LDAuNzYxNDg5NQpHR0ZPR0NEMSwwLjAzNTgwNjYxNQpHSEhUUDU0RCwwLjg5NzI2NjQKR0hJRTJQRTksMC41MDk5MTM3CkdIU0Q4WDEzLDAuMDQzNjkzOTM3CkdIVzJMU05OLDAuMDA2ODgzNTY2MwpHSFdYSk9BMCwwLjAyMDIxNTA1CkdJMVFVRkdGLDAuOTIwOTE5NjYKR0kzQlZVTFIsMC45MzI1NDQ3NwpHSTZCRjM3ViwwLjkwNTg2MzQKR0k5Q0lWWVksLTAuOTk3Nzg2NQpHSUgyU0lDSCwwLjA2Nzk4NTE0CkdKRTZFUkpFLDAuMDMzMzg4MDA0CkdKVTM1SkMxLDAuMDM5MDk2OTYKR0s0NlFFN0MsMC43OTI4MzgKR0s4TUNQODAsLTEuMDAzNDE3NwpHSzlUM0FYRSwtMC4xMjc3MTg3NgpHS1I1U1dNQSwwLjA0NDU3MzIxOApHS1NPSTQ3OSwtMC4wMDU4MjgxNjE3CkdMTkZVOU4yLDAuMDM1MjMwNjIKR0xQSFFETUQsMS4wMDA2MDAzCkdMVUdXSVlMLC0wLjAwNjk1MjM0NjMKR0xXS0JCODUsMC44NTQ0ODUxNQpHTUg0TU5ZVSwtMC41MzEyNzEzCkdNV1JDVThJLDAuODU0MDYwNzcKR04xUzc3RjUsMC45Nzc4NjY3NwpHTkJPVEMyMywxLjAwOTk2NjcKR05FREJUT0MsMC40MzAxODgzMwpHTktBTU9JSSwwLjg5OTk0MzM1CkdOTDVXUTNZLDAuMDIyNDI0NzY1CkdOVEM0VklRLDAuNDM2ODg5OTUKR09XVDAzWFQsMC43NzM0MzE5NgpHUDdFRlRCNSwwLjE0MjYzOTQ3CkdQQ05CTjRULDAuMDIzMzM3ODk3CkdQRDVKWVA4LDAuODI4NTg3NgpHUEcxNTRaTCwxLjAxOTQyOTkKR1BHSUM0WU4sMC44NjM1OTAzNgpHUEdWVzhLWCwwLjAyMzk5MzMxMwpHUE9CTjlMUCwtMC44NjEzMDQwNApHUFNLUVdJVSwwLjI3NTA0NjY4CkdRODlWNUMzLC0wLjAwNzI3ODExOQpHUU04UVFQWiwwLjg3MDQwMjUKR1FTQ1JPVlosMC4wMTkxMjY4NwpHUjM3SVpGQSwwLjkzOTUxNDMKR1JLVTBMWUwsMC4wMDkxNzE4NjkKR1JMRFJGU1UsMC4wNDEwOTQ2NDYKR1JRVU9VUEYsMC45ODYzNjkxMwpHUlJFN1VWQSwtMC43NzY4MzA0MwpHUzZES0tQNSwwLjkxNDc1NDMKR1NDRVcxUTgsMC4wMjYzNzI0NDQKR1NEMkg2OUIsLTAuNzk3OTA1MTUKR1NFVjRDRU0sMC45MjQxMjM2CkdTRVpQQk5FLDAuMDEyMzgyOTQyCkdTS0lGR1NMLDAuOTk0Nzg4NDcKR1NUVTExQUksMC43MDMxOTU1CkdUMU9DODZNLDAuMDA0Nzc5NzQ3NwpHVDdFNzVPQSwwLjA0NTc4Nzc3NApHVEVSOUxNOSwwLjAzNTYwMDA2CkdUVEpXQTJRLDAuMTk5NjA3NDYKR1UwOEo4VTYsMS4wMDU2ODYKR1U1WFVJTUUsMC44MTExMzE4MwpHVURFSEI5NSwwLjA3NzgwNjMKR1VMVkVaMUYsMC44ODM3NDQ1NApHVjRKNjA3NywwLjM4NjE1NgpHVkRLRk5OOCwwLjkyODY1ODk2CkdWRE5OWElSLDAuOTQ1Nzc0MTQKR1ZMV1c3WkIsLTAuMzYxNDExMDYKR1ZTTUhJR0ksMC44OTc4NzEzCkdXUkg2RkQ5LDAuMTE2MjA1MTEKR1gyMjhLRjUsMC45NTUxMTU3CkdYOVNORTY5LDAuOTM1OTg4OTYKR1hBN0EzWkksMC45NDcwMjg4CkdYRU1HUDBGLDAuOTYxNTMyCkdYTFVTMTVDLC0wLjQxMDMyNzU1CkdYUkNEQzdaLDAuMDQ4ODYKR1hTRFBNMkosMC4wMzAwMDQyNDgKR1hWSVE4Q1UsLTAuMDM0NzA4MwpHWjJBQzRMMiwwLjkwMTI5MDk1CkdaNUg1RFBYLDAuODkxMzgzMQpHWlVFSU9XViwwLjA0Mjc5MzUyCkdaV0gwSUhMLDAuOTUwNDM5MwpIMExHVkU1QywtMC4xNTk1NDU2MgpIMFVITDBLUCwwLjY5MDIxOTYKSDBWVVVZMlAsMC4wMTg5OTU5NwpIMURVRVJTRywwLjA0Njc4MzA2NwpIMVI0WFM3MSwxLjAwMDEzMDIKSDI1RTNHOVAsMC4wMDI2MDkwNzcKSDJBQ1hFRVcsMC4wMjAxMjkyNTYKSDJLRkhJRDksMC4wMDk4MjAyNDYKSDJNQTdBMU4sMC45NDgxNzgwNQpIMk1MUVE3VSwwLjIyNjY3ODUyCkgyTVpEMjdGLC0wLjE0MzQ3NzgzCkgyTjFWVFQ5LDAuMDQ3NTY3NTI0CkgyTjlDN0lJLDAuODE4NTQwNApIMlRSTFdMSCwwLjc1OTAxMDczCkgzREhIRURKLDAuOTkwOTgwNwpIM0cyR0VKRiwtMC45MjkyMTk5CkgzVTIyTEJQLDAuNjUwMTI4OTYKSDNXRTBVWjUsMC4wMzIzMDI1MTQKSDQ1SEZTVDYsMC4zODYyNTcwNQpINEIzVzZFViwwLjA0ODY4MTA5NQpINEkyNzlLTywwLjkyNTcyODc0Ckg0VjhSSVZILDAuODU4ODIzOApINFhEQUxISiwwLjAwODQ0OTY5OQpINFk4MjlSOSwwLjE1MTYzODUyCkg0WVUxNVlFLDAuMjAxODEzMzcKSDUxSzBJRzQsLTAuMDU3NjM4MjA2Ckg1ODNERE0xLDAuNzEwODI4MzYKSDVSUlY2VEosMS4wMDA2MzA0Ckg1WDJWU0RQLDAuMDE3NzQ2MDgzCkg2MFZQUzVSLDAuNTMxNDc2NApINkJQVUFEUCwwLjAzNDQ2NTc5NwpINkNFQTM4ViwwLjg3ODE3MzgKSDZHTlhaTDMsMC4wMjY2ODY2MDEKSDZQQ0lXT0YsMC44MzQ4MDIyNwpINllBQVkwTCwwLjc1MjQyNTgKSDdBSTdSV0UsMC45MDkxNDE4NApIODZNVEZMTCwwLjk5NjY1MjQKSDhNRjFMWEwsMC4wMDc5Mzg0ODMKSDhQTlVQT0EsMS4wMTgyNzU5Ckg5NjdKQjNULC0wLjA5MDAwNTQ2Ckg5NzBTRjk2LDAuMDQ3Nzc4MTMKSDlIMEZHNEgsMC4wNzMzNDM5MwpIOVYzR0c0TiwwLjE0MjM3MTk3CkhBMUxKNTZaLDAuNzY0Nzk5MzYKSEE5T0VEMUMsMC45NDkxMTk3NQpIQURKWDNNNCwwLjAxNzY4MjcyCkhBWkVEWEo1LDAuMDMzMzg5NDU3CkhDMjFSSkdBLC0wLjk5MTQ2MjM1CkhDOENKUVBULDAuMDQ5OTQ5NjQ2CkhDRkVOMUw0LDAuMDc1MjQ1ODk0CkhDTFdXOFNYLDAuMDE1ODA2ODY1CkhDU1EwOUUyLDAuMDAyODAxMzcyNwpIRDVYN0gzOSwwLjAyMDA2OTM0MgpIRDlQSlExVSwxLjAyMDcxNTUKSERPSjhNUFosLTAuMjE4NDI1ODgKSERRM1JHRlcsMC45NTI0NTUxNgpIRFJQWEs2MywtMC4zMjQ0MjQxNQpIRTVUU0M5QywwLjA0MDEwNDgzNgpIRUFHN0hYTSwwLjAyNjM5MTM3NgpIRUZBVUlTUSwwLjEyNzg5MDk3CkhFUDlUQjZELDAuMDA3MDAxNjk5CkhGMzBOMjhPLDAuOTM3ODk0NwpIRjY5WUpJNCwwLjc2OTAwNzQ0CkhGQUxLTlVQLDAuOTgzODA4NgpIRktESUFCViwwLjk5MzAxMzgKSEZPNEs4SUssMC4xMDQ5MzgzOTUKSEZWSzdEMjgsMC4wNjQwMTQ4NDUKSEc3MFA3V1AsMC4wMTE3NTExNjgKSEc4T0ZPRVYsLTAuMzc2MzE0NwpIR0swSFRWUSwwLjA2Nzg1MzkKSEdOU1JESjcsMC4wNzIzNDQ1NjQKSEhQVVYyV1QsMC4wMTk3NjI2MjgKSEhYSERLME4sMC4xMjMwNTk0MQpISTZRWExUNywtMC41MzY1ODQyNgpISTkwR0EwTSwwLjAxNjEzNDM3CkhJWDJEV09ILC0wLjA1NjA1Nzc1NQpISjlOUFJWSiwwLjk0ODU2MTcKSEpCQldBWVYsMS4wMDI1ODgyCkhKREoySjg3LC0wLjg1MDU0ODI3CkhKREtOMllFLDAuMzQ3OTIyNApISkhXWDNUSSwwLjk2MTI0MDc3CkhKUDdZUTZQLDAuMDEyNTY4MzM3CkhKUkZWRko1LDAuOTU0OTM2MgpIS0hPU0w5RCwtMC4zODM4MDk2MwpIS0k1TTlKSSwxLjAxNzIyNTUKSEtQNzNHUlEsMC4wMzAxMjE2NjIKSEtQUk5XRUosMC45NjI0NTQ3NApIS1c0RklGTCwwLjAxMTcyMDE5MQpITEFTOTdDMSwtMC44MzMxMDUyCkhMRklSWjRFLC0wLjk4MDU1MTYKSExJUUpVWVYsMC45OTA1MzcKSExPTUdJNjYsLTAuMDAyNzY1OTI2NQpITFRWMU1GRywwLjAxNTM2NDc1NApITFZBTTJKSiwwLjgxODg5ODc0CkhNMDgxWTdMLDAuMjM3ODAzNjUKSE1BSElLUk8sMC4xNzgxNDEzOQpITVROVFFXUiwwLjg3NjQwNDkKSE42TFI3UVYsMC45NzA5ODA0CkhOOVVYNDdaLDAuMDEzMjEwNzU4CkhOOVpJSzVOLDAuNjM2NzY0MQpITkpRTjRKUSwwLjAzMzY0MTI0CkhOS1IyQjlZLDAuOTI5NTUyOQpITkxGWks5TiwxLjAyMzkxNjQKSE5TRFNUU08sMC45ODkxOTM1CkhOU0Y5RE5LLDAuODcwMTk3MjQKSE5XWjRUNlosLTAuMDEyNDMyMzU4CkhPTjQwUUtVLDAuMDEwNDg5MDYyCkhPUVBCOVA1LDAuMDQzOTUzMDMKSE9UTzY5SlksLTAuOTg2NDU4MwpIT1YzSktFVywxLjAyODk0NTEKSE9XRkEyTFIsMC45MDkyMTQ0NApIUEIwQjdaMCwwLjk5MDI2NDI0CkhQTVBUUzJMLDAuNDMxMzI3MgpIUFozMjZCRywtMC4wNzc5NTk3OQpIUUJaU05HQywwLjk0Njk0OQpIUVU0UVFISywxLjAyNjIyOTcKSFJIV0VUNEIsMC4wNDQ2NTExNQpIUkk2RzhSUiwwLjAyMTE4MzI0NQpIUloyVlJUWiwwLjY3MTU5NzMKSFMxTU9OQlcsMC4wNzkyOTM2NApIUzZJWVBTQiwwLjU5ODQ2NzA1CkhTQUFBQ1lZLDAuNDgwNTQ4MzIKSFNER1RNTE0sMC42OTQ3OTgxCkhTR1lYREw4LDAuOTI4NTQ1OApIU1Y3ME1OQiwtMC43NzU4MzkyNwpIU1dKWlUzMSwwLjkxMTgwMzcKSFQySE0xVlQsMC4wMzkxNjE1NApIVDNMQUQxRywwLjgyMDI3NjQ0CkhUU1IwUVhVLC0wLjA2ODAyNjQ3CkhUVEVKS1VDLDAuMTE4MzEzMTgKSFRYTTBOWVMsLTAuMTU5NTc4NgpIVFpHRDlSUCwwLjA0NjQ3Nzk5NgpIVVo0M004TCwwLjg4NDEyNjEKSFYxSlJBMEMsMC42NDY0ODc2CkhWMllSVjJBLDAuMDM4ODI0MDc0CkhWNkdNSDRYLDAuMTMxNDc5ODQKSFZNOE0wMUgsMS4wMzEyODc2CkhWTU5SUzMyLDAuOTcwMTUyMjYKSFZRSk9YWDgsMC4wOTU0OTcxNDYKSFcxUVpMVzIsMC4wNDg4NjU1ODMKSFc1V1dQMUwsLTAuMDA1MjkzMjUxCkhXRFhGUkcxLDAuOTIzMDE4OApIV0lHQ1lTNiwwLjkwMTE2MzUKSFdKT0lNTU4sLTAuMDczNTY4MjQKSFdNUDEyQk8sMC4zOTQ3MDk3NApIV1ZaVEFJRCwwLjAyNjQxOTI0NQpIWDZVVFVSVywtMC4yNzI3NTI1MgpIWEU3UVFLQSwwLjAyMzA3MTQ2CkhYR0tNQ0ZLLDAuOTQwNTA5NgpIWExSQUNZViwwLjAxNDA5MzUzMgpIWFVSTkdXNSwwLjA1MDk0MDkyMwpIWFZNV0lVNywtMC4zNjkwOTY4OApIWFkyRkdLOCwwLjk0NzY3Mzg2CkhZMkZZT05RLDAuOTE1OTkKSFkySkc1NEwsLTAuMTIyMzE5OTMKSFk0NVBKV0ksMC4wNjA5NzAyNwpIWTZDV1RRQywwLjE1MDU3NDg2CkhaMjZZR1pULDAuODc2NDY4MzYKSFo1T0JJQ0gsMC44NTg0MDUzNQpIWlJOWENIRywwLjk2NjAyMTMKSTA4RE84RzQsMC44OTQ3MDA3CkkwSlBDVlBMLDAuMDQyODY1NTI2CkkwTklSMFA0LDAuMDI4NDE0MQpJMFJYNFFQSSwwLjgyNzk1NjIKSTBVSFJJUTIsMC43NjQxNDA2NwpJMFdBOFhZNiwwLjAwNjQ5MzU5NzMKSTFSWVZYMkYsMC4wOTA5NDczNApJMjM2Q1JCVywwLjAzNDgzMzg4NgpJMjdRUjlERiwwLjc0ODc4NgpJMk9QSUFUVCwwLjg4NTQ0MDYKSTM2NTIyWEwsMC40NzA3NzI0NQpJM0NQR0NXRiwwLjAxMTAzMTI4NgpJNjFJMUJINCwwLjkyOTgwNDQKSTZBMDZOSEcsMC4zNDAyODUwNgpJNkNDTjhMWiwwLjEyMDM0OTczNQpJNkZRT1JXVSwwLjk1NDU5MTA0Ckk2TDVZSDMyLDAuMDQ3MzYzOTYKSTZMRUlKTzksMC4wMzcxNDk4MjQKSTZSQ1ROUEYsLTAuNjk1MjM4OTUKSTZYUVhIN0IsMC4yMTY2MDc4NwpJN0hDTDhOWCwwLjA2Mjg0MjkzNQpJN0lKS1JINywwLjE1Njg4ODQ0Ckk3UVkzN1A2LDAuNjg1NTExMQpJN1RQS0wySywwLjAxNTc4NjA3NApJODY4WTE1VSwwLjkzODQ1NDQ1Ckk4UElaSzA5LDAuMDA3ODY1MTMyCkk5MEpPQzY0LDAuMDExNDE1MTQ1Ckk5MkRGUlNLLDAuNzA3MDYyMzYKSTkyRTM0MDEsMC4wNTcxNTQKSTlCUDZCN1gsLTAuMDE5MDUyMTEKSTlGU0lDUk0sMC43OTM2OTA2Ckk5SVkzNTBKLDAuMDUxODUxNjkKSTlSU1dTUUMsMC4wNDc3NTIzNwpJOVJWRlJCNSwwLjAzODA3MzE1MgpJQTU0TEk1SiwwLjM2Nzg4MTEyCklBQkUwVzhZLDAuMTA2NjA3NzkKSUFEWjI0TDEsMC45Mjc0NDI4NQpJQUZGRVlLSywwLjk5MzkwMjYKSUFSOTNETFYsMC45NzMxNTkyNQpJQVVIRjFEMSwxLjAzODU4MwpJQjM1SERHVSwwLjE5OTA2MTE5CklCQkYwQjVaLDAuOTQ2OTE0MjYKSUM2QkxaRjAsLTAuMjI1ODkwMDYKSUM4VTdTNEgsMC43MzI4NzQ2CklDQTNXN1JGLDAuOTkxMDQ5NDcKSURWNTBNOUMsMC4yNTI3NzM3CklFMVZDWVJVLC0wLjE0MTA2ODk1CklFNDczQ0ZYLDAuMDExMjY1MTMzNQpJRTVaM09XSiwwLjk4ODI4OTU0CklFOUJZSUNaLDAuMDQ5MzMyOTY1CklFRlA1N1JULDAuNzM5MDg3NwpJRU9FN0FMMCwwLjQ3MjA1MjA0CklFVkVaVTVXLDAuMDEzNDU5ODQ1CklFVlBCMlo1LDAuODIxMzI5NTMKSUZJQVJZU00sMC45ODUxOTUzNApJRklOMFFBRywwLjU2MjI2NgpJRk80OFZPTywwLjEyMTM3ODUyNgpJRlFLT1I4NSwwLjAxMzg5Nzg2OQpJRzBJRUJINiwwLjc4NTYwNDYKSUdXTElSRTcsLTAuMDg2NDc1NTk2CklHWklZR0RMLDAuMjgzMzQ4NjUKSUgySVVTOUEsMC45OTI2NTc2CklIOEtSVVFBLDAuNzk5MTMyNQpJSDlEUVMxRiwwLjAwOTI3MTc0NwpJSEExQUQyMywwLjkxMTg5OTI3CklISERSTkJKLC0wLjc3MDc5MDA0CklJMTE0STNSLC0wLjg1MzU1ODkKSUk2OUU0UkssMC45NTIyOTg5NApJSTlJUEs4UywwLjk2MzkwNTE2CklJSFVWWUVLLDAuNDE1ODYxNjcKSUlPRFZINVIsMC41Nzc3MTk2CklJUURMM0xCLDAuMDI5MjQ3NjI3CklKVjdJSjBRLDAuODE5ODM3CklLSUpFMVROLC0wLjAyNzQzMTA3OApJS0lOSllJTCwwLjAxMTcyMDE5MQpJS0xSNTRKQywwLjI0Mzc1MTkzCklLTjNMMDJQLDAuODk0MzMzOApJS09LTEdCOSwwLjA0NTY1NDg1NgpJTDBKNkNOVywwLjQxOTAxNTQKSUxPT0kwVE8sMC4wNDQxMzMyMwpJTFVHSkNXQywwLjYxMDA2MTcKSUxYQU9YT08sMC45NTI4NjU2NgpJTTNSWjFXUSwwLjA0NDE2ODM5OApJTTRGOVFZWCwwLjk2NDUxNzkKSU1PTzBCTDEsMC43MTE4ODY2NApJTklNTkFaQywwLjA1MDQ4MzM3NgpJTk0yNFZDQSwwLjg2NzUyOTEKSU9COEZWQjksMC45OTQ2MTY1NwpJUDg1UDVKNywwLjg5MzI4NjEKSVBSWDhIQk8sMC4zMTc4MTQzCklQVktHTjRCLDAuOTUyNzE5NTcKSVEyREFPS0YsMC4wNDgyMDA1MwpJUjc2NFZWUSwwLjcwNTI5MDcKSVJKSzY1NlYsMS4wMjI1OTM3CklST0Q0N0FYLDAuMDE5MjI4NjM3CklSVFE3OTIwLDAuMDU1NzMwODM1CklTNUI2STBOLC0wLjM0MDI5MTIKSVNPTzhFRVIsMC4zOTE4NTg1NQpJU1M0REdUTywwLjg1NjE0MDEKSVQxRFk5VlEsMC44NDYzMjg3NApJVDZLTTE0MSwwLjAyMDE2NjMzCklUQzNHNUFRLC0wLjA0MjMwNDAyOApJVFlPV1ZVSiwwLjc2NzYxMjE2CklVM0szWTlaLDAuOTYzMzAwMQpJVTVISDk0MCwtMC40MTYwMTU5NQpJVUNRSUVYMiwwLjk3OTkxOTQKSVVPNFozUlgsMC4xOTgyOTc0NApJVjI3NjQ4USwwLjk1Mjg4NQpJVktMNE5aMCwwLjAzOTY4MzI0NQpJVk9QTkw2NCwwLjkxMTc4ODEKSVZXMzM4SUssMC44Nzc4NDgKSVcyUkdPNUosMC42MTk5MTYxNApJVzRENDlJNCwwLjA4MzY0NzYKSVdBM0ZVNjksLTAuMDcyNjcyMTY2CklXQllMRkhTLDAuODQ2NzUzODQKSVdHMzAxWjAsLTAuMDgzMjc5OTkKSVdMR1lXUkssLTAuNDQ3MTkzODYKSVdPTEdBVU8sMC45NjQ2MTE1CklYMFhYRkM4LDAuOTY2MzA0MQpJWDY3MFA3MSwwLjc0NTE0NgpJWEROS01VTiwwLjAyMzQ1NTMzNwpJWEkwTkJQQywwLjg2NDIyMTA0CklZM1dDWVJFLC0wLjA0MDM0MjQxNwpJWURWOEVWVCwwLjAyNzM3NjMzNQpJWVNYOUZNWSwwLjEyNjQwNTE4CklZU1lJVjJCLDAuMDEyOTU4MDgwNQpJWjdZV0xKTywwLjAwNjU5NjAxMwpJWkNJR0lVUCwwLjk5MzcwNjkKSVpUTURHWDUsMC45NzUwOTQxNApKMDVaTTRDSSwwLjMxNTk0MjUzCkowTU05WFdDLDAuNDI4NjA2NTQKSjBQMVpXSU0sMC43NzczODYwNwpKMFlMSU1aTywwLjAzNzY4OTU1NQpKMTlWSUdCUCwwLjAxNDI4NDQ0MgpKMUUzUVhLSiwwLjQ5OTgzNTk3CkoxUUtJSlBXLDAuODQ4NjYxMgpKMVNBVVZCQywtMC4zNjY3NjM3NApKMVU4QVNDQywtMC43OTYyMzc2NQpKMlVXUkJNTCwtMC4wMDkxNDgwODUKSjM1MDRHWDUsMC44MDY1MzQxCkozNklaMzRKLDAuOTQwODcyMQpKM0VIMjhKVCwwLjAxNTkxODMzCkozRlRLMVZXLDAuOTk4OTI0OQpKM1JMMVpDSSwwLjA0NDIxOTI0OApKNDRTTlhXMywwLjA0MjU5Njk1Cko0SEhBSFZXLC0wLjAyNTg1NzEzNgpKNE1HQVQ3MywwLjA0MDcyMjY4MwpKNFMwU1lCUSwwLjA4ODMyODc2Cko0VEoxWERaLDAuNTc3ODc5MwpKNTNYWlhYRSwxLjAwODQ4MzYKSjVBREFXTEYsMC44NzEzODc4NApKNUZHM1hOMCwwLjAzMDUxMzQ5MQpKNUpTT1VaQSwwLjAzODk5MTA2NApKNUs2T0wxMiwtMC41NjQ4MTA0NQpKNkZRVDZZWiwwLjk4NzcwMDgKSjZJRkFTM0YsLTAuMDUxOTEwMTU1Cko2S0NTS0tILC0wLjU4MTgxNjI2Cko2UDY3TFlFLDAuOTEzNDkxMwpKNzk2MDFGRiwwLjk4OTE0ODcKSjdSNzE5VUksMS4wMDgyMDI3Cko3Wk9TRFpaLDAuMDQ1MjEyMTcyCko4N0RFMlNKLDAuMDQzMTMwNzg1Cko4SDJTWUdJLDAuOTQ2MjMwMwpKOEw2U1FETSwwLjA3MzQ3ODYzCko4TFhLVlJMLC0wLjAxMTc3MTUyNwpKOTVURFQyQiwwLjc3MzAzMDcKSjk3T0tENTMsMC4wMTE0MTUxNDUKSjlTT0ZCRTEsMC4zMTk5NjU0OApKQUJCU0FDTiwwLjc1NzgyMDA3CkpBRjU4V0JFLDAuMDM0MTg4OTk3CkpBVTRURTZMLDAuMjQzNjYzMjQKSkFVT0pVOUosMC45Nzk5MjAyCkpBVlpHWDlTLC0wLjI1MTg0MTQKSkIxSkVFSUssMC4wMjY0NzQ3ODkKSkJCU0MyOEssMC4wMTg3NzMzMjEKSkJOQjZLNjUsLTAuMDU0NzM4MDA3CkpCUDBSRkk4LDAuNzk1MTA0CkpDMjNDUkJBLDAuMDQ5NDgwOTY3CkpDNkdSVzRGLC0wLjAxNDk4NDk4MwpKQzZQSVdJUCwwLjA0MDIwNDc5CkpESFZFUE9LLDAuMDU0MTQxODM0CkpETE1YQ0tGLDAuMDU5OTc4NjQKSkRRSUxHVDQsLTAuMDc1MzYxNDQ2CkpEUU9LR1BQLDAuMDA4Mzg0NDA5CkpEVDdYWVFNLDAuOTY4NTE2NQpKRFRVMUFIVSwwLjAxMTczMjQ1NApKRTJCMzlXNywwLjczNjY2OTEKSkY5SjVZRFAsMC40NzQ3NTAzNApKRkExMldEViwwLjc5OTY3OQpKRkY4RTQ1UCwwLjA1MTA4NzA5CkpGTEgyNk1WLDAuOTQ0NDg0OTUKSkZWVjdCNkcsMC45MDM2MjUzNwpKRzBFVU04QSwwLjc5OTY0NDM1CkpHNU81Wlc4LDAuOTc2MzcxNjUKSkc2M1pBREssMC4wMDg5NTI2NTgKSkc5SUtIRk4sMC45ODkyMDkyMwpKR0xPSVcwViwwLjg3ODQzNzIKSkdUWktUSzMsMC45MDA4NTI1CkpHVzdYSzhHLC0wLjAyNjYwNzYwMwpKSDhDR1FROSwwLjkwMDU3MDEKSkhSWEZIRlosMC41ODUyOTYxNQpKSFRLR0xNSywwLjAyOTczOTk1CkpIV0FRV0pMLDAuMDIyMDE5MTI2CkpJSVUxV0JMLDAuMzMzODYxODMKSklPN1VUTlcsMC45ODY0NTM3CkpJVjQ1RldPLDAuMDQ0ODg2MzQzCkpJV05LVklYLDAuMTI2MzYyMDQKSko2SEpITEYsLTAuMDgyNjE3ODM0CkpKNzRBRUpCLDAuMDA3NzAwMTI5NApKSkxCRFExSSwwLjAxMTIxMDk5NgpKSlJGRFRHTSwwLjkyOTY3NDYKSkszRlc2MTAsMC45MTMxMjI0CkpLNjIwVlhRLDAuOTc2NjcxMTYKSktIT0gxRk8sMC4xMTcyOTYyMgpKS0s4MlpPVCwwLjAwNzE1MzY3NzgKSkw5MkhIOTYsMC45NTM5NzU4CkpMTDkxMTBWLDAuNjY3NDI5MQpKTFdTV1BUWiwwLjAyODkyNTk0OApKTTg4SEJLSiwwLjg1ODAzMzM2CkpNQk9DSTdLLDAuOTUzOTE1NgpKTVJJOUQ3RCwwLjAwMzczNjQ4NTcKSk40UVJOWjUsMC41NTUxMDczNgpKTkE4S0M1VSwwLjU3MzU0OTAzCkpOQVBYUVkzLC0wLjU0NDYyNTkKSk5HOFI3SFgsMC4xNTExODQ1NwpKTktTVzlHSiwwLjkzNzk2NTg3CkpOTjMwUzYyLDAuMDE2MjI1MTc4CkpPNDlSUzVDLDAuMDU1NDAwNjEKSk9CQVQwSVAsMC4wNzI5Nzc0MwpKT0dXUVRWQSwwLjkyNDEwMgpKT0pVNE9NQywwLjA1Mzc0OTAwMwpKT05BTUdRTCwwLjk5MTA3NzI0CkpPU0FSQVRZLDAuMTUxNTY5MTQKSk9UQ1dQM1ksMC4xNTE1OTQwMQpKUFQySjJRUCwtMC4wNjYwNjg1OApKUFpEOVFaMywxLjAyMDU2NzUKSlBaTzQwQjUsMC4wMjYxMTA1MTkKSlJOSU9OMUwsMC43Nzg3MTQ1CkpSTkw0Sk5LLDAuMTEzOTg1Mjg1CkpSUjhKTjVDLDAuMDA5MDU0NTM3CkpSUzBET1A4LDAuOTU0MDcyNApKUlZITVhGRiwwLjkzMzEwMjcKSlM0SkNITlAsLTAuMTQ0OTE4OQpKU1hCVTU5ViwwLjk2MjUzNTgKSlQ4VkFDN1osMC44ODEwMzExNgpKVERURTVaMCwtMC40OTAyMDc1NQpKVFA4WkVQQiwwLjk1NDIyNjQKSlRQSVRDQ0UsMC4wMzg4MDg1MQpKVFZOQkpLSSwwLjkwNzg5OTgKSlVEWlNUOTUsMC44ODQ5MDc2CkpVT0NFWTVULDAuNzUyOTY3OApKVVNTUzdXQiwwLjk1NzA0CkpVVTNYQlVRLDAuNzY5MTg1MzYKSlYzS1hSR1gsLTAuMDE2OTU4NzUKSlY1ODlMVzQsLTAuMDA3MzIwODg5MwpKVjcwWUNVTywtMC45MTI4NjMzCkpWRTJVQzJaLDAuMDMzMDk3NTk1CkpWUUZUQTVELDAuMDQ2MzkxMjk3CkpXM05YTEZPLDAuMDExOTE4NwpKV1UyUVdQSSwwLjAxOTcwMjI2MwpKWDVGRllRUiwwLjk0MDg3NzEKSlhDN1YzSDUsMC44NzQyODA4NwpKWElETjRJNiwwLjk1MDE5NjUKSlhMUjZTSjEsMC4wMzIyMTA2CkpYVTIxRzdYLDEuMDE2MDc2MgpKWFpHMDFNUiwwLjA5MTE4MTkyCkpZMDRXVFNHLDAuNjgzODk1MgpKWTdHMVJUWiwwLjAzNzI2NjMKSllIMTc3M08sMS4wMTI1NTIzCkpZS01JU1NBLDAuMTc3NjQ3CkpZS1Q1SUVaLDAuMjg4OTY3NjQKSllRQU5XNU8sMC4wMDk5NjM1OTMKSzAxWjVDTzEsMC45OTc2Mjc5CkswTjAwRVFRLDAuMDAzODQ3MTMyNApLMFIwMTcwQSwwLjU4OTM0Mzk3CkswUzRXSEszLDAuMDIxODQ0ODQ5CkswWUswU1JKLDAuMjQ4NzQ4ODUKSzE5M0Q3VUgsMC4wMjkyNjIxOTMKSzFBWUpXMzEsMC45MDc1OTA4NwpLMUpUNDJZOSwwLjg3OTg5NzEKSzFMUFJRWjUsMC45MTI1OTU1CksxUjIxSEIxLDAuOTc1ODQ2OApLMVo2SVBSMywtMC4zMTQxNDgxMwpLMjJKTEFUNCwwLjAyNjU0NzQwMgpLMkdQUjBXTCwwLjA5Mzg5MTU5CksySzkwS1BJLDAuNzM0MTQ5MgpLMk43ODgyNywwLjU3MzMxNzkKSzJRNlJZVVgsMC4wMzg0NjU1NgpLM0JRVllHNywwLjA0NTc5NTg2NQpLM09GRUZETywwLjIzNDM4MTEyCkszT1VHT0dWLDAuMDM1NDYzOTQ0Cks0NVpWMVlZLDAuMDMyODMxMDI0Cks0Rk5HUDk5LC0wLjM0ODE4NApLNEtYTzFaViwwLjAzMjUyMDI5NApLNE9ITlFFWCwwLjg5MjY1MTEKSzRRMUJQV0gsMC42NjI4MzU4NApLNTBIQzRaUSwwLjE5NzgwNzU0Cks1UktOSTVOLDAuMDM1NzI3OTQ4Cks1UlBENjRJLDEuMDE5ODc4NQpLNVNDSE9PWSwwLjAzODA0MzYKSzYzMElCWUksMC4wMzA4NDYzOTgKSzY1RFQ2UTcsMC45MDg3NDA0Cks2UzBKOEpILDAuNDM5NjM3NzIKSzZYSkhGODEsMS4wMTc2MzQKSzcyWFlKSUgsMC43MzcxNzUxNwpLN0EzOERKSywwLjAxNzU1OTQ1NApLN0FSTlNQVCwtMC4yNTAxNzc4NgpLN0syREJNOCwwLjAxODI3NTk2OQpLN01RTk40TCwwLjAwOTc4NTc1NgpLN1RZVTU5UiwwLjAwMjA0MDM5MDkKSzdZSTNVV1MsMC45NTc5MzkyCks4Q09KT01ILC0wLjgyMzMyNDI2Cks4RjI5QVlGLDAuMDI1NDMxMTc5Cks4RkFDQVk0LDAuOTQ1MDE3NwpLOE5MT0Q4MCwtMC4wOTkyMjUyNQpLOVZYUkpCOCwwLjAxNjAzODE3NgpLQTZRSVZLTCwwLjAwNzU0NTI5NQpLQUJDM09XTiwwLjk0NjgxMzEKS0FEMVdQU0wsMC45NjQyOTU4NgpLQUxPM0pOMSwwLjAwMTQ5NTI4NzgKS0FPVVZUTlIsMC44OTEyNTMyCktBUjM2RkRZLDAuODI0MDQzNjMKS0JBWk40VDQsLTAuMDA3MDkxNTk3NwpLQkVZVzUyUiwwLjI4MjgxMzg4CktCTTA1UkRELDEuMDA3OTQ2MQpLQlVGWFc5OSwtMC4xODMyNjY2CktDMUlRNUEyLDAuNzI0MjM4NwpLQ0MwSkRFWiwwLjk0MzYzNjkKS0NFUVg0N0ksMC4wNzAzNjQ0MTYKS0NUOUFWOUksMC4xNzM3ODYzMwpLQ1hBMVRZTSwwLjY4NDA1OTUKS0RERDJaOUksMC45Nzg2ODU4CktESVdHUTY0LDAuMDc3MDU5NjEKS0RMMjNTU0YsMC45NjY3MjA3CktFSlMwSjdNLDAuMjY3MDk5OQpLRUsyVUZBOSwwLjk0NDU2MjUKS0VMRFA4WFEsMC4wNzEyOTA5NwpLRVdCNVFSMCwwLjA0ODQwMTcxCktFWjlHNjMwLDAuMDIxMzU3NjA3CktGNE9QUFBELDAuOTQxMDYzMQpLRkIyMDRTUywtMC42OTA3MzcyCktGT0lUWVUyLDAuMDMxOTUxMzY4CktHMVk1U0hXLDAuMDM0ODk3Njg1CktHNFZZSVZFLDAuNzA1NDg0MQpLRzUwN1FORSwwLjA0MzkxNTM0NgpLR0NUWEgwWiwwLjUyNzEwMzkKS0gxTzZSREwsLTAuMDI5MDI5MDk0CktIMVZMVjQ5LDAuMDM0OTc5MTM1CktIOVJYR0kxLDAuODc1MDc1CktIQ1lUVVBELDAuODc5NTM5MjUKS0hSOUlYMDUsMC4zNzQ0OTE3OApLSTEzMklBSiwwLjE2MjM3MzM1CktJMURPR1RLLDAuMDQzMDQ2ODMyCktJQjFER0hYLDAuMDM5NDkwNzk3CktJRjRRUDMzLDAuODc1MzIyCktJT05ON1EzLDAuODkwNDQ5OTQKS0lSUDdXOFAsLTAuMTMxMjYzMDIKS0pTN0VINEMsMC40NzU2NDc3NQpLSlVWRVJOTywtMC4wODA3MDA3MQpLSzNRNjRYSSwwLjk5OTUyMjQKS0tERThTOEIsMC45OTc2NTE5CktLVUk2UzlVLDAuNzA5MjE1NApLS1dTT1JXUCwwLjk1Njg3OTI2CktLWlM5QzRVLDAuMDYxNTEwMDA0CktMRkhXVk1RLC0wLjE4MTE2NjcxCktMSzlJSjMwLDAuOTIzNjc0OQpLTFBXNTdLOCwwLjAzOTE4NjcyNwpLTFQ4ME9OSSwwLjk2ODIyOTkKS00zOFYwUkYsMC45Njg0MzEyCktNQk1EVlVNLDAuOTU0Nzk1CktNT1Y5T1Y3LDAuMDMxODExNjk2CktNVlBOU1ZNLDAuMDM3NjY0NzYKS01XVTZFTTAsMC4wMzgxMzkyNDMKS01ZMENGUUQsLTAuMDExMjUzODc5CktOSTY1TDg5LDAuMzIwNTIyMjIKS05RQzEzUUcsMC45NjA2NTE3CktPNzczNlhGLDAuMDIxMTgzMjQ1CktPQTNQVkhJLDAuMDI1MzAzODE4CktPS0xHRTgwLDAuMDI5ODM1NTUyCktQNE9UWVEwLDAuMDQwNzg2OTgKS1A1N0taQ1osMC4wODI3NjIyOApLUTQwSkhHQywwLjAzOTM2ODY2NwpLUTdSQUpYViwwLjcxMTQ4OTQ0CktRQU9TOExOLDEuMDE4Nzk0CktRSTdQQUQ2LDAuMDA0Njg5NApLUUpVN0JCWSwwLjkwNjY4MjEKS1FOREZRMkcsMC45Nzk2OTY3NQpLUU5FSDdEUiwwLjAwNDczNjU3OQpLUVFMWjdFUSwtMC4xMzc3MDgxMwpLUjBTT1lYNiwtMC4wOTUyOTQwNgpLUkFQMVFQRiwwLjQ0OTg1Mzg0CktSQjVLQkczLC0wLjc3MDg0NzcKS1JLVE03VlIsMC4wMjY2ODc2MwpLUlFSNkxWWCwwLjk2MjIwNTUKS1JUNldEMEIsMC4wMDczMzc1MzIKS1MzVE5QSzQsMC4xNTM4MDIwNQpLUzhSMkZPTiwwLjg3MDc3MjgKS1M4V0RaWlgsMC4wMTk0MzgzODYKS1M5S1owUzksMC4wMTU1MTE5MjUKS1NDUExRMFMsMC45MjI2MzExNApLU0g2NVdKSCwwLjg3NDAyMjQKS1NJTkdTQUIsLTAuNTU1OTAzMTQKS1NLNzlSOTksMC45MTg2OTU1NwpLU1BFREdIUiwwLjA1MjU2CktUNkM1RVZHLC0wLjA2MjAzOTMwNQpLVEZBUlZUNywwLjc2NDcyMTIKS1RUTjNKVlosMC4wMzAyMTkzMDIKS1U4QlpLTUMsMC4wMjA4Nzg4CktVSTQ2QTlSLDAuOTA2NjgyMQpLVVdZR0hERCwwLjkxODg3MjEKS1YxR0tEMVcsMC45NzA1OTU4NApLVjRaSkFZViwwLjAwNzQxMjg1MgpLVkVOSVJZRSwwLjc5Nzc0OTE2CktWV0RDWlpTLDAuNjg0NDU4MwpLVzI4UlNJQywwLjAzNDMzMDg4NgpLVzdaOEFJQSwwLjk5NDQ4NTMKS1dBMEdURVQsMC45MjczMzg2CktXQVM0SDZKLC0wLjQ2NTUzMDkzCktXTkozQUw4LDAuNzU2NDc0NDQKS1dUVTdISkksMC44NjA2Mzg2CktYMUZaSkZHLDAuODI1NjQ0NQpLWENaSUtQNywwLjM5NDcwOTc0CktYSFJRMlA2LDAuMzIzNTc2MjcKS1hLTEoxUFMsMC42MDQ0Njc3NQpLWTBIRDZNNiwwLjg5MTgzNTkKS1lJUU1ESFcsMC45NjA1MjY5NApLWUxZSDhYTiwwLjUxNTc2NDgzCktZVEk1OE5NLDAuODk5NTkzNApLWjU4SThYVSwwLjAzMjU3NjIzNwpLWjZJTzhJViwwLjAwMTk0OTk5MTEKS1pGWUJVSzQsLTAuMDQwMDQzNzI3CktaUEJDUk1DLDAuNDI4OTU0ODQKS1pSSjEwWTAsMC42NDY2ODM2CktaU0JZV0swLDAuOTc1OTAyNzQKS1pWQjlQSjMsLTAuMDUzOTMwOTc1CktaWUVRTjVVLDAuMDEwMDUwNzc2CkwwNVk5Q0Y4LDAuMDQyOTQxNzQ1CkwwQk1GOEY1LC0wLjAzODMwMzgyCkwwSlVURzBJLDAuMTIyOTQ1NzEKTDBQVFpZUzcsLTAuMDI2Njk3MjIyCkwxNlVDMTVMLDAuMDExNzIwMTkxCkwxR01IREtTLDAuMjU3ODEyMzIKTDFPWU5FME0sLTAuMDE5OTUzMTMyCkwxUVJYSFBDLDAuMTI1MzI2ODYKTDJSSjNPR1gsMC45NTA5ODg2CkwyU1hSMzM2LDAuNDg5NzE0MzIKTDNDUE9OMkwsMC4wMTQ0MTc3MzUKTDNLQ05IODMsMC43NTkzNDIzCkwzTEg2MTYyLDAuNTc4MDQ1MQpMM1JLVDhNSywwLjcxNzAzNzIKTDQxTVdXWU0sMC4wNTQ0MTI3MzcKTDQzMVIyS04sLTAuMDMyNjE3MzA0Ckw0OVNSTVlRLC0wLjk5NzYzMzE2Ckw0SzVTVU1RLDAuODk4NDkzNzcKTDRPS0xZTlQsMC4wMjA0MTY0NzYKTDRUNVZWM0EsMC4zNTczNDE0Ckw0WE5NOFpBLC0wLjAzNjExMzA4Ckw1NVM5NjBHLDAuMDA3MTI1ODkxCkw1R1BMNldQLDAuODIzMTY5NApMNUlMMzRPNSwtMC44Mzg2MjE0NApMNU9RWFNCRywwLjExNTExNTI4NQpMNjExUlZSSCwwLjMxNzUxNzYKTDY4S0xYWlEsLTAuMDEzMzUzOTIyCkw2RFVDRTlELDAuMDA5MzA1OTE0Ckw2UFBBNUo4LDAuMzg0MzUzNzMKTDcxQ0NQMzYsMC4xMTM5ODUyODUKTDdKTVFQN1UsLTAuMjA3NTA4NjIKTDdLTDRaMzIsMC45ODU4MzcxNgpMODA0WE1JSiwwLjk0NTM3Njc1Ckw5ME1GOUE0LDAuMDI3MTE4MDE2Ckw5MFpOQzZKLDAuMDYzOTM4MDcKTDk5VFFBOEQsMC40MTM3NjgyNgpMOURVN0Y3WiwwLjAxMDU3MTA1OApMOUdQRE9RTSwtMC4wMDkxMzU3MzkKTDlVMFMyVUQsMC4zNzcxMjMwMwpMOVdWN01LSCwwLjkxMzc0NTQKTDlYQjE0SFIsMC45MDA4OTUxCkxCNVZQOTIzLC0wLjA4MDI3OTEzCkxCRk4wNU5GLDEuMDEwOTcwOApMQklLMk5PUiwwLjk2MDIyODIKTEJYVk9KQ0osMC45MDY2ODIxCkxDRDFZUTVWLDAuMDM1OTUyMDI4CkxDTE5CVUsxLDAuMjg5MDEyNzMKTENNVk8wWTMsMC4wMjY1NTY2NzQKTENTTEgzNDIsMC4wMTkwMzA2NQpMQ1hBREVJOSwwLjk2NDU2Mjk1CkxEOUVKVjZGLDAuODg5NzA1NjYKTERUWjNPU0wsMC44NDAyMTAyNgpMRTE1QlVGQywwLjA5MTY0MDEzCkxFM0FERklHLDAuMDEwODkwMzQ3CkxFNFJNRzFILDAuMDM5Njc4NDU0CkxFUjE1VTdDLDAuOTQ0NjMxNApMRjM4QlVYSiwwLjk3OTQ2MTUKTEY0WkZZSVosMC45NjExMjE1NgpMRkI2TDJWNSwwLjkxMzAxMjE1CkxGUFcyWVpPLDAuMDE0NDE0NzI3CkxGU0pXS0hSLDAuMDUwMTUxNzEzCkxHQ09BU1hILC0wLjA0ODcxNzkxCkxHRDRBSTVQLDAuODk2NTU4MTcKTEdIWU9NSkgsMC45ODI5MjUzCkxHTTVHVTZVLC0wLjc1MTE5NDQKTEdSRFNSTUksMC43MjQ2NTk0CkxIMTJFMDlJLC0wLjIzMDcxOTQ2CkxISEU3RkU2LDAuNzUzNjkzCkxIVjVGRk5WLDAuMDA1MDM4NTEyCkxJQklRRjRQLC0wLjA1MzM3NDg1CkxJQk9KUDNLLDAuODc5MDM2MwpMSUNQVDNRMiwwLjkyMjYyMTIKTElMRkFTQlksMC4wMzkwMzkwNQpMSVZKQVhLMCwwLjA2MDE2OTE4MwpMSVdEUU5FWSwxLjAxNjExODYKTEo1Q0UxS0UsMC4wMzc1MzIyNzcKTEo3STFRTlUsMC4wNjE0Mjg2MDcKTEpXSzI1Vk4sMC41NjA0NDA2CkxKWVcxTlNMLDAuOTYzNzkyNwpMSzVCRTRGVSwwLjAxOTE0MzM5MQpMTDVHUEc4USwwLjk3MzEyODUKTExITjcyRTYsMC42NjMwNjM3CkxMS09aVFJWLDAuOTk2MTA0MwpMTTRUTk42UywwLjAxMTYyNTk1NgpMTUVOMlBPWCwwLjAyNjk0MjAwNApMTUhWREI5WiwwLjY2MjEzMQpMTVVCMzhNVywwLjAwNzYwODg4MDMKTE1ZTTNQODcsMC41OTg4NDkwNgpMTjBZNFBYTCwwLjk4NDQxMTY2CkxOMTdWVFQxLC0wLjM3NDM3OTQ2CkxOMzZFN1hFLDAuMTEzNjI3MzE1CkxOQkRVRzQyLDAuMzczMTk2MDQKTE5IMFdKU1YsMC4yOTIyNjUxNQpMTk5XVEFRSiwwLjg1MjAzMjcKTE8zVDdVSjYsMC44OTg5OTU4CkxQQVZZV01OLC0wLjI4NDM4MjY3CkxQSklVTDFPLDAuNzc0MzQ4NQpMUFVITDFCNCwwLjA3MDYwOTM2CkxROFFMRDBRLC0wLjMzNDE2NjcKTFE5NUdIMDEsMC4wMDc4MTkxNjIKTFFBWlgzUE0sMC42MjExMjc2CkxRRzEyODBMLDAuNzk5NjQ0MzUKTFFUNFFOU0IsMC45OTYxNDUzCkxRVzE2VEc0LDAuOTE2NjIzNjUKTFIyRVpCSVIsLTAuMzMzMzc5NzIKTFJBQTRQV1IsLTAuNzEwOTc3NDQKTFJCRDU0MFUsMC42MzE0ODUzCkxSTEo5UUM5LC0wLjg0OTQ0MDE2CkxTRVBQWjRPLDAuODE2MDcwODUKTFNIMExSTEMsMC45MjA3MzkxCkxTVkIwSkxRLDAuOTU2ODAzNApMU1c0SFNLVSwwLjkyNjQxMzkKTFQ1Nk42UjYsLTAuODA2ODg2NQpMVEIyRzkzWiwxLjAxNTE1NzYKTFRSQ0lIM1QsMC42NDgxMDU1CkxVQ0tUQTM2LDAuNzg1OTAzNApMVVFWVVJWTSwwLjk2MTM3NTgzCkxWOTZSQThJLDEuMDA1MzYwNwpMVkpKMzVKNywwLjk2MDI0MjkKTFZOVjJLQjgsMC4wMzk4MDk1MzIKTFZUMFUwVlcsMC42OTc5MDg0CkxXNUFIMEszLDAuOTg0Mzc3ODYKTFdKSEcyVE0sMC45MjY2MjIxNQpMV0w2STc4WSwwLjAyNzQ1NzI3OApMV1VCUVpQMCwwLjAzMTUzNjgxOApMV1lBTzlGViwwLjA0NzI5NTI3MgpMWDA1SEpYTCwwLjE1MjE0NTUzCkxYMVJWUUFGLDAuMDI0NDE5NDQ2CkxZNDE5UkhYLDAuNTM0NDI4OTUKTFlBMkdUQVksMC4yMzU3NDA4NgpMWUdSN01SMCwwLjYyMzc0MDgKTFlQTlBMSDQsMC41OTYzMDc4CkxZVU5NNU9FLDAuODczODQ3MwpMWVhQUkNPWSwwLjE2NTE4NjIxCkxaSVk1SlZILDAuODc1NzkwOApMWkxXOUxENiwwLjkxODQ3MTIKTFpPMFRDOUEsLTAuOTQyMzQ4MQpNMTRTQkhCMywwLjc2ODI4NzYKTTE5MEVEUlMsMC4wODA1MDM5MQpNMTlQMkVETSwwLjAxODk2MzIyOQpNMUE5UzE1RiwwLjc4NDU5MTcKTTFFRUVJTkwsMC4yMDc3ODA3MwpNMUxMUjA5TiwwLjQwNDEzNDI3Ck0yRlJYWUE1LDAuNDE0MjI5MTIKTTJTMEhQUVYsMC44NjMyNjEwNApNMlUxQU5JMSwwLjE3OTMyNjg2Ck0yWks4WlRTLDAuMDM1MTYzOTcKTTMzTkxVQ04sMC45Mzc4OTY4NQpNM0pWNldOQywwLjkxNjUyMgpNM1BQU1o5RCwwLjg0NDMyNjUKTTRWS1k2Mk8sMC4wMzY3MTM0MTgKTTRWU1Q5S04sMC4wMzc0Njc5ODMKTTU1R1E1SUMsLTAuNDk4NzcyMgpNNTcyU05YOCwtMC4wMTQyNDQ3ODgKTTU5NjdSNFEsMC4xMDIwODYzMgpNNUUwMlZHUiwwLjA0MTAyMDUyNApNNVRJSDc0UiwwLjkxMjU1NTEKTTVZVkozQlMsMC4wMjkzMzQ3NjEKTTVaNFJLNjMsMC41MzU0ODY0NgpNNlVTQ1RINiwwLjM5MTc1MzE3Ck03NVA0UjhBLDAuMzY2Njg5OQpNN0VXR1E3WiwwLjg1NDcyOTgzCk03SENYT0ZXLDAuMTgxMTQ2NApNN09YR1E0SCwwLjk0MDM1MjIKTTdROFdOWlMsMC43NDI5NTU4NgpNN1FBTjdTRCwwLjg1MTg4MDY3Ck03VFY5Rk83LC0wLjAwOTk5NTUxNwpNN1g3NzdVNiwwLjA0MDg4NzM0Ck04SEZKVEdJLC0wLjcwMDg2MjQ3Ck04SzhOOThJLDAuOTQ1Nzc0MTQKTThUSjNaNFQsMC44OTA0ODUxCk04WlA0WllKLDAuODUzODQxMQpNOTBLOERETiwwLjA3OTk2MTQ2Ck05MVFIQVE1LDAuNjg0NDk5MgpNOTNQVjhWOSwwLjI2NjE5MDk4Ck05NU5GWkhMLDAuMDA0NTE3ODQzCk05R1BQSFdSLC0wLjQwNjk5NTMKTTlUM1dZRlAsLTAuNjYxODU3ODQKTTlaTU9PMTEsMC4wNDA1NzY3MgpNQThPSFZHNSwxLjAwMjA3NzUKTUE5RE1QREMsMC44NDI4NTI5Ck1BSkk1MDczLDAuNzEzNDU4MwpNQUxaWkhURSwwLjAyMzM0MDAxMwpNQU8yOTY5RiwwLjAzMDI2Mjg0MwpNQVBSTlU1QiwwLjA5Mjk4NzYKTUI5R1A4UzYsMC44MjY3ODUxNQpNQkxHVVdZRiwwLjAxNTcxMzIyMgpNQlkwRzg1MywwLjA3NTI4NwpNQzY5QUJBTiwwLjAwNzM2ODI2OTQKTUM5OFJNRFosMC4wNDA1ODU3NTMKTUNNSFpHWlUsMC45ODcwODAxNgpNRDhCV0lKWSwwLjQ2NTE3Nzg2Ck1ESTI5NUxELDAuMTYzNDE2MjgKTURRSk5SMUUsMC45NzcwOTMxNgpNRFFXSzNOMSwwLjAyNjUzNDA2NgpNRFNGNzVBQiwwLjk2ODUwNzIKTURZWExROVIsMC45Nzk3ODMzNgpNRThRRlhLQSwwLjA1NDMwNDgxCk1FSlgxT1dYLDAuMDE2NjMzMzYyCk1GNjRQUEdFLDAuMjc5NzIxMDIKTUZIUDhCWlksMC43MzQ5Mjc2Ck1GTFNWSEtGLDAuMzYzOTYzNzUKTUZURlhRMlMsMS4wMDE5NzgKTUZUUTY0V1IsMC4wMjY1MjQ5NTQKTUdUSzE0TjQsMC4wMzYxNzg2MzcKTUdVVkZFOVcsMC4wNDUyMTIxNzIKTUhEUjJCV0QsMC4wNDY4MDEzNDcKTUhaMlpLSUcsMS4wMDExNTYzCk1IWjRCQzZCLDAuOTY2OTYyMTYKTUhaRlFLVFIsMC4xODEwOTU5NwpNSUJSUFBYMSwwLjk5MDg4MTUKTUlDRlpTTk8sMC4wMjU0ODA4NzQKTUo1OEFHRVEsMC4zNzg0OTk4NApNSk9GSFkzUiwwLjkyNDQ0NTkKTUpROERTMkssMC4wMzE5MzA1OTIKTUpUOFVRSzUsMC4wMjczODY1MTYKTUpWM05YV0QsMC45MTk0MDc4Ck1LM041TjdILDAuMDUxMTY3MDI2Ck1LVjgyNkc1LDAuOTI0Njk5Ck1MMUc5UTVULDAuMDM2NjA1MjEKTUw2SVgxVVksMC4wNDYyMTg1NgpNTDg4QzZEViwxLjAxNzMxNzIKTUw5UUZVMkwsMC43MzEyOTE0Ck1MRzhORDYzLDAuNzY1MTYxMQpNTE8xQ0NRNCwxLjAxMTMxODYKTUxXU1I0R0ssMC4xODExNDY0Ck1NQUo4NEhRLDAuODcyNjk4NQpNTUJRS0NISCwwLjA2NDA4NjA4Ck1NRVBIV1EyLDAuMDA3OTYzOTM0Ck1NTEVJRUhWLDAuMjIxMTcyNjYKTU4zWEY3VjksMC44ODQxNTcKTU5UOUE3R0csMC44NTY0MzEzNwpNTlVBMDdZUSwwLjk2ODM1NTYKTU5WQjM1TVQsMC45NzIxOTE2Ck1OWDRaOEFJLDAuMDE2Mjk0ODI2Ck1PMFVBQVlPLDAuMTMxMzQzNTcKTU83MlJVMlYsMC40NTA4NzE2NQpNTzg1VjdIViwwLjAzMzE1NzQxNgpNT0FFVldUViwxLjAyMjMzMjgKTU9BTzBaVVAsLTAuNDkyNTAxNDcKTU9KTjhFNEksMC4wNDM3NDk4ODcKTU9ONVVOV0ssMC4xMzc5Mzg0MgpNT1E0OElUUCwwLjk4NzUwMjA0Ck1PUU9ZVUZKLDAuOTQ4MzM3NwpNT1NHU1QyNiwwLjY2OTIwNjQ0Ck1QU1dFNTNOLDAuOTk0MjMyOTUKTVFFN1c3SEgsMC43NjM2ODE3Ck1RRzBWMU9ELDAuOTE2NjIyMgpNUUdYTkQzRSwwLjkwMjI5NTkKTVFLR01INUEsMC44NzQ1MTY3Ck1RUDBIOURPLDAuOTg5ODM2NzUKTVFSTE8yUVgsMC4wODkyMzQwNApNUVNCODdJRSwwLjk3MTkyNTEKTVI2MzdFOFUsMC4wMzc5MTcwMDMKTVJUSVgyMEcsMC4wMjk1OTk5MzUKTVJUUVg2WjIsMC44NzgxOTYxCk1SVjg1NTRVLDAuMTAxNTE2NjIKTVMwTERTSVUsMC45MjA3ODM0Ck1TRkdOOUZSLDAuMDE3Mzc1MQpNU1Y0R1o3WiwwLjk2OTU5MjE1Ck1UQThTQUszLDAuNDg4NDg2NwpNVFdaN1BYNCwwLjAxOTU2OTI2MwpNVU5POTcwRSwwLjAzMzE4MzUzNwpNVjA1SUZOUywwLjAyNjUxOTcxMgpNVzZBOUNNNCwtMC4wODUwNTI5NDUKTVdCS0pBT0QsMC45ODI5NTQ1NgpNV0U3MTRQNSwwLjA0MDcwMTUKTVdYVExHTFosMC4wMjUyNDczOApNWE1HQk5XRCwtMC43NDE0OTEKTVhNVUxKRFMsMC4wMjExNDAzOQpNWFdHSU8zWSwwLjg3MTU0NTgKTVkyMzVOWEYsMC44NzA1NTI5Ck1ZRDhDNkg1LDAuOTU1MjQ5MzcKTVlMSVFMSlUsMS4wMDY3MzA3Ck1ZV0FITEpZLDAuOTAyNDA3MgpNWkFSMTFKQiwwLjQwMTYzNDM0Ck1aQjlRSjNJLDAuOTQ3MTM2MTYKTVpDNTNJMDEsMC43OTIxMzMyCk1aVTM1TTRPLDAuMjgzMzQ4NzQKTjA1SFROVVosMC4wNTI0MTEzOTIKTjBDQkpNMVUsMC4wNTU1NjgxNgpOMEpSMUdHQiwwLjkyNDI1ODgKTjBaMkZTV1AsMC4wMTUwNTQ2OTI1Ck4xQkkyOUpFLDAuMjM3OTIwMTIKTjFRTVRTUVEsMC4xNzk0MDkyNwpOMVI1RDNYUSwwLjg5NTIzMDc3Ck4yOFhJSUtBLDAuNDAyOTc3ODUKTjJNTzRCRTUsMC45NDQyNTI3Ck4yUjZaVTFKLC0wLjAyNjA1MDUzNApOMzdKREtDNywwLjkzMzk3NjYKTjNCOVJMSVgsMC44MDkxMTg0NQpOM0VISEJMNCwtMC43NzA3MDM0MwpOM1BWWVdDMiwwLjAyOTA4MjM4Ck4zUzVFN0hSLDAuMDY1MjI0NjMKTjNVUTlPSVAsLTAuMDEzMzc5NjE5Ck4zVjNBQzRTLDAuOTA4OTA5NwpONDFNWUhPRCwwLjgwOTE5OTgKTjQ4WjRTMzAsMC4wNDg3Mjg3MwpONFNNOENHMSwwLjkzMDc5NDgKTjU2WVg1TlIsLTAuMjgzNDU2OQpONTkyVFlHRSwtMC4wNjE5MDMyNDYKTjVWRk9DWkUsLTAuNTM1MDEyMQpONVc0TlRPSSwtMC4xOTkzNzIxMwpONVdYS1oyQSwwLjk3MTE4NzMKTjZWMEpSNTMsMC4wMzc3Mjk1NDYKTjcxSVZKNEosMC43MDMzMjYzNApONzUzUElWMiwtMC4xODI4Nzc0Ck43N1ROM0hSLDAuMTg4ODAzNjkKTjdIM1M3Q0UsMC4wNjEzMTk2NwpON1lRTEpSMCwwLjg0NTY3NTQ3Ck44M1FTN1YyLDAuOTA3NTA3NgpOODNYUzBUUSwwLjgyNTg5Ck44NVpaTTVMLDAuOTE3Mzc1ODYKTjhFSTY1M0QsMC41MTk2OTg5Ck45S0M3UThWLDAuMDAwNDk1Mjc4MwpOOUxMV1RFRiwtMC4wMjMzMzE5NzQKTkEzVjJXRlYsMC44NjEzNjk0Ck5BVDg4WEY4LC0wLjAxMzc0NjM0MQpOQVVPQ1VDRiwtMC4xMjY5MDMyNQpOQlNaTkdYNywwLjA1NzU2MzI5NwpOQzFYMkdTTiwtMC4wMDQzNDE0MjQ0Ck5DNEhVUzRYLDAuMDEzNzQ3MDk1Ck5DRUZWWVRHLDAuOTgzNTAzOApOQ1pGNEVUVCwwLjg1NjQ4MzA0Ck5EMTNVNjFRLDAuMDM2MDU3MDA3Ck5EMjMyVzVZLC0wLjc2MDY2NwpORDdTQlBETiwtMC42MzM4ODY2NApOREI0VUlBUSwwLjE4NDk0MTEzCk5ERkg3NFJELDEuMDAzNzkxCk5EWlBNRUtMLDAuMTAwMzUzNDA1Ck5FOUJWTFNWLDAuOTA2ODcyMwpORUhEOVRLUCwwLjg1NjE5OTMKTkVPSEpPMTYsMC4wMDUwODgxOTYKTkVSVlo3WjAsMC42OTcwNDgzNwpORjJRRTYzRywwLjU1OTUxMDQ3Ck5GNlBMWTQzLC0wLjAwNjEyMjE5MTQKTkZBTlFFMzgsMC4wMDkxMjYzNTEKTkZCT1NCRTUsLTAuNDEwNDk2OQpORlBMQks5MiwxLjAwNDAxNjYKTkZRQllPMkosMC4wMDM0Nzg3NDIyCk5GU1MzS0k4LDAuMDQ2MDQxOTM2Ck5HMFFDWUtYLDAuOTQyMDIwMDYKTkcxQzRKMDYsMC4wMjc4OTE4NDUKTkdEOVJHMjQsMC45NTY0MwpOR0VYOExOMywwLjAzMDc2MjMyMgpOR0YxWkw0UiwwLjk0MzU3NTQ0Ck5HSVJBSjM1LC0wLjM0Mjk1OTY3Ck5IMURVMzNHLDAuMjc1OTk0MTUKTkhDMDhDWDIsLTAuMDEyMDU4MTQ5Ck5ITVJaRkRTLDAuNzMxMjM4MgpOSFJOSjJHUCwwLjk3ODI0ODI0Ck5IVVg0WDdOLC0wLjEyNjg1MjkxCk5JMjZQVEFYLDAuMDgxMDk0NTkKTkkyUjRKMVUsLTAuMDEyMDcwMzI3Ck5JNUtHNk43LDAuOTgyOTQzMgpOSUNNSFpYSCwwLjMxNTk3NzMKTklPMVA0UzMsMC45MTA4MzAzCk5JVktETUxZLC0wLjExNTMwNTUzCk5JWlRTTjdXLDAuMDQzODc5OQpOSjc1N1hNUywwLjg2MTgwNjYKTkpCT0lKUjIsMC45ODg1MDc5Ck5KSlY2TVVMLDAuODgyMzMzOQpOSldZQkozUywwLjk2NzgzNDY1Ck5LQkRRSVpWLDAuODg0Mjg5OQpOS0RCU1lYTiwwLjk3MjAyNApOS09DTTlGQSwwLjAxNTE3OTI5OApOS1FDOElUWCwwLjg4ODEzNgpOS1VPS09KTiwwLjk2NTEwODMKTktWMTdSSkIsMC4yMTE5NDQ5MQpOS1cxM1pPViwwLjAyMzYwNDcwNgpOS1pSQ0dWQiwwLjA1MDQzNTg4NgpOTDA4VUU1OSwwLjA0MzgyMjM1NgpOTDc0NkZOVywwLjc5MzQ4MjEKTkxBNzVDTE4sMC40MTk4MTkzNgpOTEZMMUs5WiwwLjk4MTM3ODczCk5NQkwyRkExLDAuNzMxMzcwNApOTUNZWllXVCwwLjk5MDQ4ODM1Ck5NRVI5OEUzLDEuMDAxNjc0MwpOTUwxSVhHNiwwLjU2NDU0MzU1Ck5NVE1LWjNULDAuNDc2NTg2OTQKTk1XR0pPMkksMC45MDMwNjY5MwpOTjJCWkY0WCwtMC4wODA3NjU0NTYKTk5RT0FIMlosMC43ODAyNzM0Ck5OVEE0WVBILC0wLjAxOTc2Nzk0NwpOTllQTk4xMCwtMC45ODI3NTU1Ck5PNTJXTEM0LC0wLjAzMzA5OTQKTk9FOUdJRzYsLTAuMDkwNDUxNDM0Ck5PWk81SUcxLC0wLjAxMjE2NzA3MwpOUTZLN0VBNiwwLjA1MDYyODExCk5RQ1lJVU5ULC0wLjA0NjAyODY3Ck5RU0taUFZLLDAuMDM1NzIwNDgyCk5RVVpGNEM4LC0wLjAxNDk2MTYwNQpOUVpHNFk5RCwwLjI1NDM5MTUKTlIxR1pSTzQsLTAuMzYwNDgwNTUKTlI2VkNWSUIsMC45NDkyNjE5Ck5SOVlPMUpBLDAuOTM2NjcwMQpOUkFMQ1dOWCwwLjk4NDMxOTE1Ck5STEFTR1pPLDAuNzEwMjM2MwpOUzE1VTlHTSwwLjk0NzA1NTE2Ck5TNlI2VTM0LDAuOTU0NTA2OTMKTlM3QUVOOVUsLTAuNzg1NTEzMTYKTlNPV0JQT0EsMC4wMTkzNTg3MjgKTlQzSTBPTVIsMC43NTIzOTEyCk5UOEtNNUxXLDAuMDQxMTcwMDk4Ck5UQUc0UjVDLDAuOTc2NTM0MwpOVTBPWkNJUSwtMC44NDMxMDY1Ck5VNlBWNVhULDAuNTM3NjY3OApOVUpPMFBRMSwwLjE1OTU0NDIKTlVWNDVNRkosMC42OTYyOTQzNwpOVVhKQUIyUCwwLjY5MTA5NApOVkNGSzc3TSwwLjgzNzEyNjIKTlZGWkJOMjAsMS4wMTY1Mzk3Ck5WUFQ1RjFZLDAuNzUyOTg1NjYKTlc1NklPR0IsMC44MTU5MDI4Ck5XOFBMVzBaLDAuNzAyNDE0OQpOV0NQT1QwTywwLjAxMzc3NTE4Ck5XSVdYTFJZLC0wLjAxNzA3MTEyCk5YQUpTMUVFLDAuMDM2NzU0MzU1Ck5YR0tTQk1TLDAuNzIxNzg1MjUKTlhYNTZOM04sLTAuODE5MzU5OApOWThCM0NUTSwwLjAxNzY3MTYxOQpOWThNNlI1VywwLjk2Mzk0NTU3Ck5ZOTI5VFlHLDAuOTE5NDExMzYKTllUMERBMFIsMC4zNzk5MTAyCk5aSjNQRlA3LDAuNzc2MTEzMzMKTlpSMTVJVk4sMC45MzkwOTk5NwpOWlpNUUVUQSwwLjAyNzk1ODg2NgpPMFMzWFpBWSwtMC4wMjYwNjk3Ck8wWjBQSlUyLC0wLjY2OTIxMzY1Ck8xNDRCTEZGLDAuMzc5NTU1NjcKTzE2RE43T1csMC44MTUzMjcKTzFLN1c1VlAsMC45NTI2ODA0Ck8xUVFNSjZXLDAuOTkwMDkxNzQKTzFVVEtFRVQsMC40NzUwMDEyCk8yMTlTQ0o4LDAuMDE4ODA2MDI1Ck8yQTY4NUg2LDAuMDQwMTI1MjMyCk8yTkxMTTZELDAuMDM5NDYyNTUKTzJWTVNZU0ksMC45NTQ1OTM2Ck8yWVJIWVM2LDAuMDM0OTkwOTkKTzNSTDdFNUgsMC43MTcyMjY2Ck8zVks2QzFaLDAuOTcwMDg0MjUKTzNZMk8wT0QsMC4wMDU3NjY4ODI2Ck80Nk9BT0Q2LDAuMjI3NDA0MjgKTzQ5RDZQOVUsMC4yMTA4ODk4NgpPNEZLOThQMSwwLjg4MTQxNzQKTzRHUE5XMEUsMC45MzYwNDI1NQpPNE9YNFdESywwLjIyMTY0Njc2Ck81WEFRUzY3LDAuMDUwMTU3NjgKTzYzUFg4MkcsMC4wMzQ4MjczMTgKTzY2NTZQMEssMC40NjA5NjkzNgpPNjZXSEZaVywtMC42MDk4NzMyCk82RDZZOTdPLC0wLjk1Mjc0NTUKTzZYNzZXMUcsMC41NjY4MDAzCk82WEpGSzJGLDAuOTc4OTY5OTMKTzcxS0NBQlcsMS4wMDc5ODU2Ck83MzI0RVJLLDAuOTg4NjY5OTMKTzdDSE0yS0EsLTAuMzc0NzE5MgpPN0tETTU0WiwtMC4yNjg0MTQ3NwpPOENNWU1XSSwwLjgyNTY5NDkKTzhLRTU2V1AsMC4wMTM1Mzc1NzcKTzhWWTJLSlAsLTAuMDAwODE1MTE4NjYKTzk0SDFOWDQsMC45Nzk3OTg4NQpPOTkzSkJEQywwLjc4ODQ4OQpPOUU3Wkc2UiwwLjAwMjYwMzg1NzgKTzlKUjEyNjYsMS4wMDU5NzIKTzlRSks2WDEsMC4wNDI5MTQwMzcKT0E2SDRMM1EsMC4yNjc1MjQzCk9BTVU5NThYLDAuODkyNDgzMzUKT0FOWUlSU0EsMS4wMDkzOTUyCk9BWFcyOFJQLDAuMDQ4NDAzNDk0Ck9CMllYUElFLDEuMDE5MzQzNQpPQkFBUExYNSwtMC4wMTQ2MTU3ODMKT0JXSFRYSTgsMC45MzQ2OTE2NwpPQ0IxRDlIUCwtMC42OTEzOTM0NApPQ0dMTUQwQiwwLjkyMTQ4MDcKT0NJUkNCRkIsMC4wMzgxNTU2MTUKT0NLOVFRVEEsLTAuMDUzMzI0NzMzCk9DTFlPRVUwLDAuOTY0MDYwODQKT0RJMk5BRk4sMS4wMDIzCk9ESTlZMEtKLDAuNjU5MjU4NwpPREtFQk43MSwwLjg2NDA4MzMKT0RMSEs2U0gsMC40OTAxNTIxMgpPRFJBS1pKSCwwLjkyNDIyMzQKT0RTSDcxQTMsMC4yOTg4NzkzNgpPRFhWNk1RRSwwLjk1OTAxODEKT0VBWkFXQ1EsMC45MTI0ODcyNwpPRUpPWUFSRSwtMC4wMTc2NzA5NjMKT0VONjNJVEYsMC4wMTAyODM4NzIKT0VUNUc2NlosMC44OTQ3NDA4Ck9GNUczMjZOLDAuMDIyNjc1NTg5Ck9GNko5M1VYLDEuMDEwNTg2NwpPRkdJTjdWSywwLjkzMTg1MjY0Ck9GSDZCTEpNLDEuMDA3NzEwNgpPRks5SE1EVywtMC4wMDQ3NzUzOTQ3Ck9HMkhIU0RaLDAuOTc1MDU4NTYKT0dFWlFURkIsMC4wNDYyMjUyOApPR0sxUEpBUSwwLjk0NTc3NDE0Ck9HVjBWU0VLLDAuMDUzNzI5NzQzCk9HV1BFNUw1LC0wLjU3MzE1NTY0Ck9HWUhGNVcwLDAuMTU3NjMzMgpPSDk4VjA4MiwwLjAzMTA1MTExNApPSExUTjlONCwtMC4zOTc5NzE4Ck9ITUNQTEI3LDAuMDEwMDM5NDI5Ck9IUkJTUTBHLDAuMDM5ODQyMjMzCk9IWThaRDBGLDAuNzU0NDA4MDYKT0kxNTNMQ0ssMC4xNDgxMjgyOQpPSTU1VTIzNCwwLjc2MTk5NQpPSTlKOE1VNywwLjkyNjQxMjc2Ck9JTEZRUzhTLDAuMjIxMzAyMjQKT0lNQ1ZZS1MsMC4wMjYyNTk0MTEKT0lST1RGVjUsMC45NDg3Mzc1NgpPSVQ4U0RRRiwwLjAxNjM5ODk0NApPSjRFVlNFQiwtMC41MzU3ODI2Ck9KNTNPRURQLDAuOTE4MjQ4NwpPSkdFTENOMywwLjkyNzI0MDg1Ck9KTU5UNVlTLDAuMDc0OTE0MDcKT0tBTjVBRFQsLTAuMTcyNjE3MjEKT0tENjJCT0UsMC44MjE2NDEzCk9LR05VRzE0LDAuNjY0ODQ3NwpPS1JYQ1ZKTSwwLjk1OTgyNjEKT0tWSkpKVkwsLTAuMDIzOTUxODkyCk9MNjUwSEZXLDAuMDMyOTI2MDA0Ck9MN0hLRjJCLDAuNzcxMTU5NjUKT0xHUU42MzgsMC4wMTAxMDA1MDIKT0xISlJVOVQsMC45NTM0Mjc4Ck9MV1A4UDdHLDAuNDg0MzI4OApPTTQ0WFFaRCwtMC4wMjQ3MjkwMjgKT04zVldBRUksMC4xNDEzOTczMwpPTkVZMjhJTiwwLjkyOTE0OApPTko4NzdWQywwLjk4NjAwMzMKT05PWlhVNjMsLTAuMDE1NTA4NDk0Ck9OUEZQMUJULDAuMDcyNTY5OTQKT05QSlNYWjIsLTAuMjAxMTIwMjQKT09LSVBBWlEsMC4wNjIyMTcwNwpPT1U3OUhMQiwtMC4wMjM4MjY0MjQKT1BLTzY5UlUsMC42MzIyOTA4NApPUE1RM0VLUiwwLjAyNzk3MDAzOApPUE42OFhMUiwwLjAwMTA0NTAwNDUKT1EwUENKSDIsMC45MDY2ODIxCk9RRk82VVFWLC0wLjAwNjI0NDA4NjcKT1FIUkpERTQsMC4wMzA4MTU2MzEKT1FKNURWTkksMC45NDczMDA2Ck9SQk9NUU5RLDAuOTA2NzczMDMKT1JQVU1KS1UsMC45Njg3NDM1Ck9TRFZBSkJMLC0wLjAxNzI4NDQ4MwpPU0VaQlpWTSwwLjQxOTE3ODc1Ck9TS1M0TTRPLC0wLjA0MDk0NDM3Ck9TWUVMR0k5LDAuNzU1NTk0Ck9URjQ0N1AyLC0wLjEyNzkyMDU4Ck9VRFgxUlBBLDAuMTI0NDA5NDIKT1VFVlJIWTksMC41NDYzMDc3NApPVVRVWVZSTywwLjQ1OTQ5NDk4Ck9WMTdPWkFRLDAuMDAzNzE1MDA5NApPVlFDVVZETCwtMC4wMDUwNjEyNjIzCk9WU1NaTjk3LDAuMDM3NTI4MTU3Ck9WVVBaWEdZLDAuODY1OTE5NzcKT1ZYOVJPNUssMC44ODc2MTA5Ck9XS0FTTDVLLDAuMTk1MTAxCk9XUEo4SEJZLDAuMDM1MzAzNDIKT1dUU1RYRDMsMC4wMzY3NDcwODMKT1g1UTIyWTIsMC42OTY2MDgyNQpPWDlVMlNHMSwwLjkzNjM2NDM1Ck9YQk8ySjZKLDAuMDQxMTE5MTE3Ck9YUElDWFQ5LDAuMDE4MjM4ODc2Ck9ZMFRaTlpXLDAuMDE3NjM4NjA1Ck9ZMFVPMENBLDAuNjIxNzExNQpPWTFEOElONywwLjI4MDcwOTUKT1k5R1BIMzcsMC4wNDk1NDc1MTIKT1k5Uzc0MU8sMC45MjY1ODY5Ck9ZQVU1RVAwLDAuOTg4NzMzMjMKT1lEWklJQlksLTAuMDc2MzQ0MjE0Ck9ZTVlGUFkyLDAuNzc0MTgzNwpPWU5LVE9MMCwwLjUyMDYxNTUKT1lRWjVNWkMsMC44ODU5MTY5NQpPWVY0MExITSwwLjg5OTQyODg0Ck9aNDVFOEtVLDAuODkxMzUyOApPWjRGN1AxSSwwLjA0MTIwNjc3Ck9aQzhRTkJTLDAuMDQ2MDc1NjgKT1pFWkNZUEYsMC4xMDU4MzAxNgpPWkxVWk85WiwwLjkwMzIzMDYKT1pWQ1ZMODksMC4wMzIzMzU2NgpPWlo4WEUyTywwLjkyNDAwODIKUDAyQTFDODUsMC4wMTI1MjE2MjQKUDBJQ0IzV0gsMC45MzE1NjI3ClAxT1FFM0o4LDAuMjUzNjE3MjYKUDFQTUI0RlUsMC45MjQ1MDA5ClAyMDFGUDFWLDAuMTE3OTA4ODk1ClAyUTY5MlpSLDAuNjk4MTE5OTQKUDJZM1JHSUYsMC4wMjkxOTUwOTYKUDM5VFU3UkcsMC4wMjgwMTMyNgpQM1VIUURYNiwwLjkzMDQwNDcKUDQyRkxNRFMsMC4wMzU4Mjc3MgpQNEI4VzVHVSwwLjA0NTMzMjYyNgpQNEJJVFoxNCwtMC4xNTY3NzcxMwpQNEczMzJHViwwLjk4Njg1ODUKUDRIR1RGQlIsMC4wMjM2NDQzOApQNFZYNE5YWCwwLjg0MzkwNTcKUDRYR1ZUU04sMC44MjcyOTg2NApQNFpUU0taVywwLjg4NDAzNjcKUDU5RTNZTkUsLTAuNzU3ODkwNzYKUDVLOUhCVEEsMC4wMjYwNjEzMTkKUDVOT09LUjEsLTAuMDI2OTUyMjcKUDVQMTRVNDQsMC44ODY4Mjg4NApQNVJBVlpHRywwLjE5NzgzODA1ClA1VDNJSDBPLDAuMDM1MTk0NTM1ClA1VDlXTURPLDAuMDM4MTI2OTc1ClA2NzFSTEVWLDAuODY2ODY5NDUKUDZDOUJXR0ksLTAuNDI1NTA0MzMKUDZEWjlBOEgsMC42MDA1MzIyClA2SFZERklDLDAuMDQ3MDY4NDYKUDZJUEpJU0IsMC42MzUyMTYKUDZMMFo2VVYsMC4yNDUyODA0NgpQNkxPMzlROCwwLjg5MDk1ClA2UEtRUU1GLDAuNTgyNjMyOApQNlc0Qzk0WCwtMC4wNzIwNjYzOQpQN0ZJVFhXTCwwLjIwNDAwNzk4ClA3STFKMVZYLDAuMDMyMjc4MTYKUDg5UERDQ0UsMC4wNjM3NDQzNjYKUDhBTjBJNUYsMC4yNzExMDg3OApQOFFDNFNJQywwLjAxNjk2OTM3MgpQOTI2RlUxUCwwLjAzODk0NDA1OApQOTJBUjk4TywwLjAwODUzMDAwMwpQOUdINE00WSwwLjQzOTkxNjkKUDlLMzZSUFksLTAuMDQ5NTEyNDUzClA5TlJDS0lLLDAuMDQ4OTM3NDcKUDlQNTZHVUosMC43MDM5NzA3ClA5WVlPMFZELDAuMDM5NjU1NTIKUEEyUTM0WFMsMC4wNDg2MzUwNTgKUEE0N0FPOE4sMC4wNTE0MDYzODQKUEFEQ1VOQTIsMC44NzM2NTE4ClBBSlJRV1RVLDAuMDM1NDYyNjc3ClBCRTkxMEpYLDAuMDQwNjI5ClBCTUIwNzRWLDAuMDM0MjIwMDQKUEMwSVJCV1ksMC45OTk5MjczNApQQzRQUzJaRiwwLjAyNjE5MzIzOQpQQ0JaWFFRUSwxLjAwNzU3OTMKUENLU0xCWVQsMC4wMzQzOTI1NTQKUENNNjI3REQsMC45MDc4MzU1ClBDUUpGQ1AzLDAuOTEyODkxMTUKUEQwMklRTE8sMC45NzE4MTMxNApQRDNPNUdOSCwwLjAzNjc0OTE5ClBFN05EQ1BZLDAuNzMyMjUzNzMKUEVZM1FBSUQsLTAuODI3MTU4NgpQRk9NSDhQTiwwLjk2NDU3NTIKUEZUVEFDV0UsMC45MTA4NTI4ClBHMDBVQlo0LDAuMDU1NTIwMTE3ClBHNjc2UlIxLDAuMDM1ODU4MDI4ClBHUlFUWDA3LDAuMDM3ODM4MjIKUEhFRE1RWVMsMC45ODE1ODA3MwpQSEpDVkM3MSwwLjY4OTUwODQ0ClBIVEdSQjBMLDAuNDM4MTgzMTMKUEhaVjFIQlosMC40NDY2NzIwMgpQSTBUSUsxRCwwLjc0Nzg2NDg0ClBJRkpaQzlaLDAuOTYyMDIzNgpQSVIzVjlRSiwwLjc4NTE5MjQzClBKSEg3M1QxLDAuODIwMjU0OApQSkw0N1BYQywwLjAzODgzOTE3MwpQSk5JSjZBVCwxLjAxMjkxNDMKUEpOVkoyMjMsLTAuMDMxMTMzMzM5ClBKU0lTTjFRLDAuOTY3ODc4NApQSlZUTk1EMCwtMC4wMDA0OTkzOTQ3ClBLSzczVzJLLDAuNjk2OTM0MQpQTDBSSE1aVywwLjcxODg5MTYKUEw1VUlFWTYsLTAuNTU4Nzg3OTQKUExGQTVTMjgsMC45NDgxMTc3ClBMSkhTQ0ZVLDAuMDA5MjQ4MDk5ClBMSk4xR01CLC0wLjAwMzc1MTA0NgpQTTNDS00xNiwwLjAyOTQ3NzM3MwpQTTUxNE5PTCwwLjAxMDA0OTA1OQpQTTdJQlVDWiwtMC42OTQ5Njc4ClBNVU9CNUlLLDAuNzc1OTQ5MzYKUE1ZM0o2WTksLTAuODY2MDkyNgpQTjFUWkI1MiwwLjk4NjQ3MjkKUE44WDBXQzQsMC4wMjY3MzA3MzkKUE5CTldYNTQsMC4wMzYzNzE5NzYKUE5SQjFPT1IsMC45NzM2MTcxNApQTlJYMkZIVywtMC4yMjU3MjEyMQpQTzJLTkNYOCwwLjE5NjIyMzY1ClBPN1BYUzUxLDEuMDIyMTU3MwpQT1A2QlJJVCwwLjY1MDU4NzU2ClBQNjVFN1g0LDAuODgwMjc1MQpQUEFFWEtCViwtMC41OTM4MDA1ClBQRE40S1pCLDAuNDQxMjY2NzgKUFBGSjlUVk4sMC4wNDIxOTkzClBQSUZOR0VPLDAuMjMwNDAwMDcKUFBSOVU1M0QsMC4wODg4NDgzMQpQUFRVSUkxUCwwLjk1MjQ0MjYKUFE0T0pQWlEsMC44NTk2MDk1NApQUjhQUzQ0RCwtMC4yNDY5NDc3ClBSV0tWUDRILDAuMDQ4Mzg4NjA4ClBTMlA1TVdBLDAuMDYzMDI1NDIKUFNFSjQ5WlIsLTAuMDAxMTc2NzY0MwpQU0pKTzVEUCwwLjY5OTE2NTgKUFQyVVNNWUUsMC4wNDY2Mjc3ODIKUFQzNDZZVFUsMC45NTExMDc3ClBUODFFTTBNLDAuMDA5NTk3MDAyNQpQVEFNWjdKWSwtMC4wMTY4NjQwOTkKUFRDUUY2TU0sMC4xMDc0ODEyClBUT0dBQTg2LDAuMDM5NTE1OTM1ClBUVEUwWUM3LC0wLjAwMzY0NTA1MDMKUFRYUVlTT0QsMC42Nzg0NjkyClBVMTEzRktRLDEuMDAwNDE4NApQVTVaM0xWNCwwLjA1MDE3MjA0ClBVQTc5TUpMLDAuOTYyNzcwNjQKUFVEUzcyUTUsLTAuNTE3Mzg3MwpQVUhERUxNTywtMC4zODc3MTc5NgpQVUkwUzNISywtMC42NDkxMjE0NgpQVklEUDdRSSwwLjAwOTU3MDkwMwpQVlI2MTRaMywwLjA0Mzg1NDM5MwpQVlNGRVhHWSwwLjAyNDcyMTQzNgpQVlpQQjBTUiwtMC4wNTcwNTIyMDMKUFdHMkFXMjgsMC45MzkyMzkyNgpQV0swNkVUTSwwLjAwMzc1NzkxNTUKUFdaNllFSEEsMC4wMjY5Nzc4OTcKUFg0T1M4Q1MsMC44NjU4Mjg2MwpQWDdBUlZZNCwwLjc5MjIwMzEKUFhDTzhKSFosMC4wMjMxNjgyMjUKUFhTRkROVVQsLTAuNjI1NDQ4MQpQWTFXS05FNywwLjA2Mzg3MjQ0ClBZODNRVERBLDAuMDMxMDc5MDI0ClBZUUc3M0xJLC0wLjM1MTU3MDMKUFlZUllMRlAsMC40ODYyMzIyOApQWjI0R1JISywwLjAzNDYxNDMwMgpQWjU1QzkwRywwLjgzODk3NTEKUFo5SzdJTFcsMC42MTMzNDE0ClBaQjNSWEFGLC0wLjExMTExNTg3ClBaREdEQkhTLDAuOTg5NjI4NQpQWkYyUk9PNCwwLjk5MTg5NTE0ClBaVjhaNTU1LC0wLjQzNzA3NjU0ClEwMUg4Q1o4LDAuODk5ODQ0MQpRMEIwSEpRSCwwLjczMzU4ODEKUTBINDAyR1UsMC4wNDczMzQzNDcKUTBJWUczNlIsMC4wMjkzNTkzMzMKUTE0NVdOV0csMC4xNjkyOTM3ClExNUhSRVJULDAuOTgxMTk0NQpRMjQ0WTNMOCwwLjk1MzU0NzI0ClEySVZIVzVDLC0wLjg3NjIwMjQKUTJZM0Q5NUwsMC44Mjc3NDI3ClEyWTc5VzUxLDAuOTkxMTA0NApRMzIyR1VUTywwLjAwNzYxOTcwNApRMzNOREFFUiwwLjM0MjIwMzgKUTNSM0dJUjUsMC45OTI2MTkzNApRM1hCMEcyNiwwLjEzOTk0NTU1ClEzWVNBTDY3LDAuODc4MzU4MjQKUTRFT0pJUFQsMC4wMjA0NTQyNDcKUTRGSlFCNVAsMC45ODQxMTY3ClE1OFlBMEMwLDAuNDcxOTcxNzUKUTVNRDlPQjcsLTAuMTU0NzQ4NTcKUTVOR0FPWVgsMC45ODk2MTIzClE1TlVDNUdHLDAuODcyMzk1ClE1WDVNSUtULDEuMDI4NDgwMwpRNjUyU1NZRCwtMC4xMzM1MjQ1NApRNjdFR1NFMSwwLjAyNjUwMzc0MgpRNkM4OFgyQSwwLjEyMzA1OTQxClE2R0g3RFlELDAuOTgzOTM1OQpRNkxTTkhVVSwwLjg1NDQxMzMzClE2UExOWFQ2LDAuMDEwMDU0ODQxClE2UVY3TDJRLDAuOTg0OTg2OApRN0MxWlhLRiwwLjUzNjY3ODYKUTdHQlNKVVcsMC4zODg2MTQxNQpRN1VBRkZVMCwwLjA0ODQwODgzNgpRODRaSzdHUCwwLjk5MzA0NDQ0ClE4OUEzSlBYLC0wLjM3NDQzMTM3ClE4T1M3M1NVLDAuNzk2NzgxODQKUThROFpROUosMC4wNDA0NDQ2NTcKUTk0WURBVkEsMC45MTUzMzMxClFBNjdESVRFLDAuNzY1MzI3OApRQkY0OE9DQSwtMC42MTc3NjM0ClFCTFFXUEw0LDAuMDE4NDE0NTE2ClFDRDdEOEc3LDAuNjM2NzUzNDQKUUNINTU3U1IsMC4zMzE0ODAxNQpRQ0tMU0NTNSwwLjA0MjAwMDQyOApRQ0xIN08ySywwLjgyMzY0NjIKUUNYTlM5STMsMC45OTA2MjQxClFEMUtMOU9JLDAuMDI4NzE4NDEyClFETkxIWDRQLDAuNzEzNTIxMzYKUURXUjcyNU8sMC44OTkyNTY0ClFFME9TVk43LDAuODI3MjU2NDQKUUVDUVlVS00sMC41Mjk0MTc3ClFFSUJOVEI4LDAuOTgyNTA0NjcKUUVJRjE3RDgsMC4wNDE3NDgwMDIKUUYxNVlJVlQsMC45MTY0ODU5NwpRRkRKVVZRMCwwLjg1OTI3MjA2ClFGSjBLM0JSLDAuMTQxODg2NTgKUUZUNjRNUDIsMC4wMjM5NTI4NzIKUUc1TlE2TEEsMC4wMjM5NDY4NDQKUUdBOVZCRzcsMC4xMDE4MDc1MgpRR0NTMUlMTCwwLjY2MDA1MzIKUUdNSTdENlEsMC43NjY2NDQ5ClFHWTM2N0dGLDAuMDIxOTQ5MjMyClFINVAzNzNMLDAuMDQyNzU3MDk0ClFIN0NXNDY4LDAuMDA5NTg3OTQzClFIQ0ZQVVBYLDAuMDQxMzMwODYKUUhJVVhLN1EsMC4wNTA4NTEzNTMKUUhJWDNQRDUsLTAuMDczMTU3ODEKUUhYSVBLMlksMC43NjQzMTkwNgpRSTc0OUo4TCwwLjgxODUwOTk0ClFJN0lRMVhNLDAuMjc3MTI1NDUKUUlPVVA4ODMsMC45MzkzNDkzClFJUEJFOFBRLDAuODQ3NTkxMDQKUUlZVVo1OTcsMC40NDU5MTAyNQpRSko3MldXWCwwLjM2MjMyODUKUUpLQkdFWE0sMC43OTk1NzgxClFKUzBJSzNTLDAuMDIwMTg1ODc3ClFKVkk1MlgwLDAuMTQ4MzIzOTEKUUsySlAyN00sMC44MzU4NDc0ClFLNkFCOEkyLDAuMDIzOTI3NDk5ClFLR0ZRQ0c4LC0wLjkyNTk0NzcKUUtOMUM2R04sLTAuNzA2NzcKUUtSM1BHQ0QsMC4wMDA3Mzc4Mzc1ClFLVUVXTjc2LDAuMDAyNTY4NjIwMwpRS1pOVkZYUywwLjA2NTA5MjIKUUxFWExPMlEsMC4wMzg0NzgwNzMKUUxMM1ROR1UsMC40NjA5NDEwMgpRTjVSOUZDNywxLjAyMjcxNQpRTkE3RVNZNywwLjAyMjgwMzA4ClFOSFpNOU9GLDAuOTYzMDE3MgpRTkwwRUFKNywwLjA0Nzg1NTM0ClFOTVNDT1VSLDAuODA3MjMxMgpRTlRKMTlGTCwtMC4wOTIxMzk0NDUKUU9KMDk1UlAsMC40ODU5MDQ2NgpRT1JSMlQ5MCwxLjAxNDI0NApRT1pIM1I1NSwwLjAwMDg2NTU1NTM3ClFQNUhHMTdJLDAuMDQwODMzNjY3ClFQQ1pISkhULDAuNzM5MTkyOQpRUURVSVgxQSwwLjAyMjU0MDIwOApRUUpEMjNGQywtMC4xMTIxMjUzMQpRUjZMRk5BOCwwLjUxNjc0MTc1ClFSQUcwMlJGLDAuMDU0Njk5MTIzClFSQzA3U1hRLC0wLjE1Nzc4NjQ0ClFSUFg5WkpNLDAuOTc2MTIzNgpRUlM5VExWQiwwLjUxMTIzOTUKUVMxWlNDS0wsLTAuNTE3NDAxOTMKUVNGTEhHV04sLTAuMzI0MTk1NjIKUVNRNjY5Q0EsLTAuMDA1OTk0NjEzMwpRU1kwTVRGSiwwLjM4Mzk2MzI2ClFTWlI0OEhNLDAuMDA1MDkwMjk5ClFUR09aMEdTLDAuNTMzNDM1OTQKUVRIMkEySkQsLTAuNjY0ODAxNTQKUVRNVU82V0gsLTAuODg3NTUxOQpRVTdONVFCSSwxLjAyNzQ4NzIKUVVCRzRMVkgsMC42NzIxMjUzNApRVUVUUEJMRSwwLjgzOTA1ODA0ClFVTjZHWUZKLDAuOTI4MDY1ODQKUVVRNDA4VDcsMC44MTE0MjQ3ClFVVFU0TzFDLDAuNzYwNjk5MDMKUVYwSEpVVVEsMC4wMjg3OTk2NjQKUVY2RUdNMlQsMC4wMzc2NTcyNzIKUVZBUjdMNTEsLTAuMDE1MzAxMDk0ClFWUjg2WTBMLDAuODU2Nzk4MjMKUVZVN1QxRjIsMC45MDM4NDYzClFWWjZJWTNJLC0wLjE1NjQxNjU0ClFXNVdEQ0FOLDAuODIwNTAyClFXN1lNUDdMLC0wLjQ2Nzk0ODM4ClFXTFBNQkhILDAuMDA3NzEwNzcyNgpRV1dHR0ZUWCwwLjA2ODU0MjIKUVg1SUJHUkMsMC41ODI0MzUxMwpRWFJXUEJNVCwwLjAyODUwODMzNQpRWUFMUVBJMywwLjQzNDM2Njg4ClFZSEs0SDYwLDAuOTI4MDcyNgpRWUxFTjZXTSwwLjg2Mjc0ODU2ClFZVFFYRTZKLC0wLjYxNzc0NzIKUVlWNkFRMDQsMS4wMDA4NjQzClFaQ0xRQzZILDAuMDQ3NDc0Nzg3ClFaSldaTjVHLDAuMTIwNjAzOTY0ClFaU0w3RzAyLDAuNzAyNjU4ClFaVjc0RjEwLC0wLjg4Mzc1MDU2ClFaWjRCMzlTLDAuOTE4NTAyMwpSMEhVNFhXWiwwLjAzODU0NDY0ClIwVFJTRDE0LDAuNjEzNTMyODQKUjExN0tZS1gsLTAuNjE5ODQ5ODYKUjFJWDdLRkUsMC45NzE2OTExClIxUFNLWEdILDAuMDI3NTYxMDkKUjFTSkFaVEwsMC45MzQyNzMwNgpSMkFDTFIyWCwwLjY4OTgzMDY2ClIyQ0VHVFIwLDAuMDU2NzMxMzY2ClIzNFpaUUJPLDAuOTU3MzE0OApSM1hLOUxZVSwwLjAzNzI2ODkzNwpSNEVaTVVGSCwtMC4yOTU1NTA1OApSNEkwVks4USwwLjAzNTc2NDUzClI0SVVOU09GLDAuMDMxOTgxNjE3ClI1M0lIN01BLDAuOTY4Njc2ClI1RU9VNzlULDAuOTkwMTcyNwpSNVYwSTRSSSwwLjAxMjkwNTU3OApSNVZWMFA3USwtMC4wNTYxOTk0MDUKUjYyMTJWSFIsMC43NTEwNjA5NgpSNjgwT1NPViwwLjg1NjkxNApSNkE1Rjg5MywwLjk4OTI4NgpSNkswMjhPSywtMC43OTA0MDcyClI2VEVGMUxMLDAuMDg0MDYyODIKUjcyRUJSUTgsMC4wNDAyMTQ1NgpSN0k5QVJQNiwwLjc4MjI2NApSN0lMUlAwRSwwLjEzMDMwNjQxClI3TVhDWkJELDAuMTAwOTAyNTMKUjdQUTI3QUMsMC4yODIxODkxMwpSN1MzNFVYMCwwLjk1NjcyNDcKUjhCTDI1RlQsMC4wNTg0ODM1MzQKUjhFSDJUM0gsMC4wNDgxNzA1MzcKUjhFUkpCSEYsMC43MTgwOTUyClI4SEdCVVdCLDAuMDU0NzQzODg2ClI4SkIzNlYwLDAuOTA3ODI1ClI4Sk5aQk5RLDAuMDIyMTAyMzUyClI4TVNYTVE3LC0xLjA0MzYzMzUKUjhWWEhPQVIsMC4wMTE1NDY4ODEKUjkzTlFWNFYsMS4wMTg0MDQKUjk1ODJEUU0sLTAuODI5NTMyOApSOTkxQlZUUiwwLjU1MjE1NDgKUjlKSjhDNVMsMC4wMTI0MTc3MgpSQUtWRlc4TiwtMC4wMzU4Nzk0NTYKUkFMQTc0R0YsMC45NDg0NDE1ClJBTEUzVVAzLC0wLjE0OTgwMjQyClJBWFA3RVg5LDAuOTYyMzQyMjYKUkIxNVFOWTksMC4wNjMzNzMzClJCQkNPOUNYLDAuODU0NzU3OApSQkdXVDVGRiwtMC4wMzc1NjYwOApSQk5FSTMxRSwwLjAxMDA0NTA0NwpSQllQQUY0SywtMC44OTk5NzA3NwpSQzNUUTRWSywwLjAyMjY1ODE3ClJDQlZYN0NGLDAuMDE2MDYwOTUyClJDSzZCUk9TLDAuOTAwODQyClJDTk9CRjc3LDAuMDIyNjAzNjY4ClJDUUhaOTkzLDAuMDA2MjE2MDk2NwpSQ1dURkdMVSwwLjkxMzU3MzQ0ClJDWFhQREdNLDAuMDg2Nzg0MzMKUkNZM1NMTkUsLTEuMDM2MTc0NApSQ1lJWVBVRiwwLjUxMDIyNTMKUkNaTjhRSVQsMC4zOTA3NjI5OApSREU5NUE2TywwLjAyMTE4MzI0NQpSRFZHQTZZRywxLjAxMjMzNTUKUkVLWk1PNUMsMC43Mjg5MzMyClJFTzg2WjQ4LDAuMDM4NTkwMzc1ClJFWTRXMkRFLDAuOTEwNjgyNApSRkFIR1JZTiwwLjkyODE2NTcKUkZIQ1Q0Q0osMC43NDk0MzgxClJHN0lBUDNSLDAuMDMyNjE2MzAyClJHOFBON0tZLDAuODY3MjYzClJHR1Y0NjVBLDAuMDIyMDU2MzY0ClJHSlRNNEhKLDAuMDQ3OTkyNDQ2ClJIQUg2WFhKLDAuMDYzNzMyOTgKUkhGUTNEN00sLTAuMTYyMDQwNwpSSEhJVldRMSwwLjExNzA1ODcyNApSSElMQUhJUSwwLjgzNzQ4NDY2ClJIU0tJT0dSLDAuOTA3NzI0MgpSSFc3QzNZRywwLjkxNDA3NDIKUkk3TVZUMVUsMC44MDEyMjcxNQpSSThPVFlWRywwLjAyMTM5ODU5MwpSSUo4MUJKTiwwLjA2MjQ4NjkwMgpSSVgxOFFGOCwxLjAwNzc5NTIKUko3RU43Qk4sMC45NDkyODYzNApSSkpRSlpWQywwLjA1MTc5MTMxClJLNldZSzFSLDEuMDA4NzM4OApSS0IwNzNKRSwwLjAyMTQzMDAzNApSS0RTUjA2WiwwLjAwMDg1NDM0MDQKUktWSUYzNkQsLTAuMDI3NDYxMjk0ClJMNlRKRlU5LDAuMTQzNzk4ODMKUkxSSkxYMk0sMC44Mzc4NDQ1ClJMU01HNEVPLDAuOTM0MjkwNzcKUkxZVjNWUlgsMC45MTI4NzkxClJNME5RNzNDLC0wLjIzMTgwNTA3ClJNNEk0T0tNLDAuNzI5OTE2NDUKUk1GVjQwVUUsMC4wMzE3MjMyNTMKUk44RUFJMTAsMC4wNTIxMDU3NApSTlJMMDVCUSwwLjA0NzUxNzA3ClJPNEZZSDAxLC0wLjUzNDYyNDUKUk9VVEc1SjIsMC42NzUyNjcKUk9XOTU4QzUsMC4wNDkwNzQ1OTQKUk9YUUNCUUMsMC4xMjAzMTI2NgpSUDVOUFVETSwwLjAzMTYwNDM0MgpSUUlYUlZQNCwwLjc3NzQ0MDcKUlFOVldaMTIsMC40NTE4MTQzNQpSUjEwOTAyUCwwLjc1MTczMzIKUlIyU0JJN1QsLTAuNTgxNDUzNApSUjRFTTIwMywwLjgwODczMTU2ClJSVTlHU1IxLDAuODk2ODU4NApSUlpTOVVEUCwwLjAwNTk5MjYzMTQKUlNEVUtSSjYsLTAuMDkwODE5NjM0ClJTRjJTOUQ0LDAuMDI2MTgzOTU1ClJURllIRjc0LDAuMDIzNzczNTQKUlRHMERJTlcsMC45MDY2ODIxClJUSkhZVEg3LDAuOTMxMjg4NTQKUlRQN1BJRDUsLTAuNjc4NzkwMDMKUlRSTlVUSEcsLTAuMzU4MTMxNApSVTFRSERORSwwLjA5MzA0Mzg4ClJVSjVWWFBGLDAuODc4MjYxClJVUUM1UEcwLC0wLjc3MDg2OTczClJVVENCMEJGLDAuODg2MjA5NApSVVcwUDVWTiwwLjM1NjgyNDg1ClJWNDUxNkY3LDAuNjY0NzYwOTUKUlY2WDNRUTIsMC45NjM0NzQxNQpSVkhLUDlDQywwLjExOTU1MTM3NgpSVlROQTVCNCwxLjAyMjIxOApSVzJOM1c3NCwwLjgyOTcyNTkKUldKSEJMQVAsLTAuMDAxNzg3NTU5MQpSV04xMVRRSSwwLjI0NjQ5ODkzClJXVEg3NEFOLDAuMTM4MjgxNjkKUllEQ0kyOUQsMC45NjYyMjMzNgpSWUk3WlE5UCwwLjAwNjcyNDE5MQpSWUxPTUFUTCwtMC4zODI2NjgzNQpSWjJVNkU2TiwwLjgzMDI4MTQ0ClJaNFJKRVM5LDAuNjE3NDQyOQpSWkRGT1BaNywwLjE1NzYxNTMKUlpGVjkzOUcsMC4wMDU3NjI2NTgKUlpITzFQTUYsMC4wMTI0ODc2MDYKUlpROVhDRUksMC4wNTQ0MzQ2MjcKUlpRQ0pSTVIsMC4xNDE4MDgwMgpSWldQMzhPUiwwLjQyNDc3NzUKUzA3VVVVS00sMC45ODA3NTI3NwpTMDlGMjBYUCwwLjAwNjEyNDIxMjQKUzBJWDI4WjEsMC44NzkxNDU0ClMwUFYzM0pZLDAuMzQ3NDIxNzQKUzBVVUhIVUcsMC43OTQ2OTE0ClMwVVkyWVM4LDAuODMyNjc1NgpTMFZBNUlPRSwwLjk4MzM3NTMKUzE4WUs3VDgsMC45OTE3NTI4ClMxVzgwWTJYLDAuOTU4MzI3NTMKUzI3TkUxMEwsLTAuMDc0OTQxMDcKUzJNUFVUQ1YsMS4wMjUxNjE0ClMyUDFDMVFVLDAuNDAzODgwOTIKUzJSRVNBTE0sMC4wMTA0OTk5OTYKUzJVOVZJWVQsLTAuMTA3OTg5ODg1ClMyWkY3MDJBLDAuOTQ0MzcyNjUKUzNVT0o2VEIsMC43MTcyOTkKUzNaODhOUE4sMC4wNTIzNjI3ODUKUzU0R1RVRkwsMC4yNzc2ODA2ClM1NUcwWU1LLDAuNTczNDA1ODYKUzU3MDVOR1csMC4wMTY1MDkyMzUKUzVCNzdZMkMsMC4zOTc5MzI0ClM2OFhCTzZDLDAuMTcwOTU1NDYKUzZHTllJUjksMC40ODgxODA0NgpTNkhDU0xTMywwLjkxNzE3OTkKUzZKV1VUV0MsMC4wMzg4OTkxNApTNksyVExMVCwwLjk4NzM2MwpTNlU4TUc0RCwwLjcwNzA3NzQKUzcxVkhBWEEsMC4yNjgxNTM3MwpTN0FRR0RDRiwwLjk4MTE2NTk1ClM3QkdQN0JELDAuMzcyNjczNzgKUzgzQTQ5SVAsMC45NDY0NTYxClM4N1ZMMkxaLDAuMDE0MTUxNDk4ClM4QUxVQk0zLDAuNDY3OTMyMzQKUzhDSlVXQlosLTAuMDAxNzA5MTIxMwpTOElLVllaUCwwLjcwNTE0NDc2ClM4TUlIVVJJLDAuMjYzOTEwNjUKUzkxRFAxQzAsMS4wMDE3NApTOTZDVFNDRiwwLjA4NTI2ODA1ClM5OExKSk9YLDAuNTUwMzk5MzYKUzlTRVBUTUMsMC45NDczMzg5NApTOVlLUTlGSiwwLjAxMDY0OTg5NgpTOVlXUllQOSwwLjA1MDMyNTM2NApTQTBBSU45WiwtMC4wMDg0NDUwNjMKU0E3QzNNUjEsMC44Nzc2NjI0ClNBOFNLREhVLDAuMzEzNDE1MTcKU0E5OVpROTUsMC4wNDMxMzg5MzIKU0FGUDJHT1MsMC4xODM1MTMxClNBUDFPNFFKLDAuMDg1NTQ4MDgKU0IwWjg2VEMsMC45Nzg3MjQzNgpTQkEwVEZJNSwwLjUzMjAzNzE0ClNCRURVVEw5LDAuMjAyMjAxNQpTQlJFU1M0RSwwLjkyNzQ3ODMKU0MyWTUxMEYsMC4xNDQ1NTc5ClNERlg2Qko4LDAuNzU4NDI0NjQKU0RIRUlBMFEsMC4wMjUxODYwNTgKU0UwVzlMQUgsLTAuMDI3NjY1NzA0ClNFSVRMRTJNLDAuOTE1OTgzMQpTRVBSU0FQUSwtMC4wNTI5ODE2OQpTRjVUWjlGRiwxLjAyNDE0MTMKU0ZENFZPNkksMC43MDU1OTMxClNGSkVZQzlMLDAuMDQ1MDE1NDQzClNHMEpLRk5KLDAuODA0ODM0OTYKU0dCVkFCWDAsMC4wNTE1MzY3NApTR0UyTVRaQSwwLjg5MDgwMDM2ClNHTjFQMVIxLC0wLjcyNzM1NTQKU0dQM1NSNVksMC45ODg4MDk0ClNHUlkwN0NYLC0wLjgwMzY5NTEKU0dWNzE5S0IsMC43OTk5Mzc5ClNINkZCQVRZLDAuMDM1MDY3ODEKU0hMRVhLOUosMC4wNDI0NDgzNjQKU0hOTkxaRUIsMC4wMTYyMDM4MTMKU0hQTjY1UzMsMC44NDU0Mjg3NgpTSFJMNjhZMywwLjc4NjA0NDEKU0hZSERIMDgsMS4wMTk3OTc4ClNJOUFUSUNJLDAuMDI3NTgwMjE3ClNJQk5RTFZJLDAuOTY2NDg0OTYKU0lHWUVEMFcsMC4wNDAyMTI0OQpTSVBZMlc1MiwwLjAzNDEzMTI0ClNKQ0JIQlpaLC0wLjAyNDQ3OTc1NApTSk42TUdTWiwwLjAxNzg0MzIzOQpTSzZNRDhOTSwwLjk1MDA1NTIKU0tCMDZIS1csMC4wNDAwMzg4ODcKU0tLUDRSR0UsMC4wMjAzNDM0ODIKU0xHUlUzRFYsMC45MDk2NzY1ClNMS1NSTFVTLDEuMDA5NTkxNgpTTE5WWEFMWiwwLjE0MDQwNDIyClNMT0lFRlY3LC0wLjAyMzQzNjkzNApTTFVSNk1LVywwLjAxNTI4MDY1NgpTTUFPQUVTUSwwLjA0MTE2Njg0MgpTTVZUNDEzUywwLjA0Mzg0NzE0NwpTTjFXSDhWUCwwLjAzNDQxMjYzNwpTTjQ4NkVTWCwwLjk2MjY3MTIKU043UFExR08sMC44ODAyMzY1ClNON1IyMFBBLDAuMDM0NzU2NzYKU05JQjJSU0IsMC4wNDA1ODA2ClNOTlVGRVRRLDAuMDE5MjU0NDIKU05PVUhHVFEsMC4xMzQ3MjM4MQpTTlM2RDZaWiwwLjAwNjgwNjk2NQpTTzhOWUg0MiwwLjQ5NzQzMjYKU09ENktGWkQsMC42OTIyOTIxNQpTT0dGRlo1USwwLjM1OTUyMDMKU09PSEtIUlAsMC4wMDY1ODkzMzczClNPUUkyTTY2LDAuNDU5NDYxNApTT1pSOEUwWiwtMC4wMzUyMjkyMTQKU1A0SVA4UEksMC44NDI1OTk2ClNQSTAySkdCLDAuMDczOTQzMDU2ClNQUElONk5MLDEuMDE1MDA1ClNQVDkyUEhGLDAuMDIyODQzNDI0ClNQWFdBWlFELDAuMDQ4NDgyNzY1ClNQWUhUNkdJLDAuNzQ4OTgwOApTUU5aUEpFMSwwLjgyNDQzNApTUU83WE9OSiwwLjY1MDU1MDEKU1FZOTk0TDAsMC4yMTg2ODEwMQpTUkZKR1RDWSwwLjczMzY1NjA1ClNSWkUxOTlVLDAuMDIxOTY1MTU0ClNTNFlBU1BSLDAuMDIyNTU3OTc4ClNTOUxXNFRXLDEuMDA4NDE4MQpTU1BIU1ZQWCwwLjYyNjY5NjcKU1NXWFE3WFgsMC45MTY1NTUxNwpTVDFXNTBWWiwwLjAyMDczNTgzNApTVDlFUDJLRCwxLjAwNDEyMTQKU1Q5Sjk5SVIsMC4wMzYzOTM4OQpTVEg4MllPUiwwLjE1NzIyODUxClNUSUQ5WllaLDAuMDIwMzkyNTY3ClNUVjBIN1M4LDAuOTQ3NzY2MjQKU1VBVzdMUzYsMC4wMjA4NTkyNzEKU1VPMTBER1osLTAuMDMyODY1MzQKU1VQWDhJQ0osMC44ODk4MDA4NQpTVVFUSUhYRCwwLjA1MzgxMjA0MgpTVjFJRFhYNSwtMC4xNDgyMjA5NwpTVjY1UkROWCwwLjg2ODUxOTMKU1ZBUFNXVUwsLTAuNTIxMTM1MgpTVkpEWlBRTSwwLjcxMDUyODUKU1ZTNTRFM1IsMC4wMjcxOTE0ClNXOEdXU0tULC0wLjAxMDE5MjEwNjUKU1c5TkRTMkosMC4wNzk5NzQxNzQKU1c5WEpaQlcsMC45NTE5OTE4ClNXREtXVU9GLDAuMTQ2Nzg1ODEKU1dKUlhWQ1MsMC4wNTI1MzQ2NwpTV01FS0JPMiwwLjg3MzkzNjQKU1dONzZVOFgsMC44NTM1MDg4ClNXVkJNMzlKLC0wLjAwNzI3MDEzNApTWERGT0I5WiwtMC4yODAwNzUzClNYSlNOTExILDAuOTkzNjkzNzcKU1hTMlpXUk8sMC4yNjQwMDI4ClNZTUxHNVFULDAuODc5NTY1NwpTWjBGSVJZTCwwLjE5Mzk5NzExClNaNVlDWExDLDAuOTkwNjczMzYKU1pDT09QRVIsLTAuMjk5NjI5MzMKU1pLSlJFQ0gsMC4zNjUxNDQ5ClNaT0ZXTFBRLDAuOTc2NjI3OApTWlhZRzNaNiwwLjkxNjM3MTgKVDA2OEpaTFosMC45NjU4Mjg3ClQwREQ4N1RKLC0wLjA0MDA0NDk3ClQwRTZQV0Y3LC0wLjMxMzQwNjUzClQwUzEyVEFDLDAuMjI5NjcxClQwV1EwNEI2LDAuMDIxNTM0NTcKVDBXVVI5TUQsMC4wNDg1MzEyOTQKVDBaUVZJOVAsMC45NTMyNDgyNgpUMThNT1dFTCwwLjI5NDAwNDE3ClQxS1BYRTRLLDAuOTc3ODIyNgpUMU41NU9CQywxLjAwMjM1MTkKVDFQSVkxNDksMC40MDU0MTYKVDFRRzVRMFcsMC45MzI1MzI2NwpUMVVVVlRCNywwLjkxODkxMDQ0ClQxVzBGM01NLC0wLjM2MDY4MjY3ClQyNzdYTEVILC0wLjAxMjM2NzU0OQpUMkE0RU5DOSwwLjA1OTc1MDkKVDJFWVdPNlYsMC4wMDk1MDcyOTgKVDJKUlE0RjUsLTAuMDIyMDU4NzgxClQyTEpJUTE0LDAuODA3NjYxNTMKVDJPSVhSUVQsMC45OTUzNTUwNwpUMlBBNlBCVSwwLjk0NzkzMTc3ClQyWjVXNTdBLDAuNzkxOTYwMDYKVDM3Q1VZTFosMC4wMjE3NTU4MwpUM0cwRDFVRSwwLjY5MzIxMzkKVDQyRUJRSVYsMC45NjE1MDQ3NgpUNDJPUzVLOSwwLjAzMjY5NTczClQ0QUpMSFJWLC0wLjAxMDM4OTEyOApUNEhJUVI5UiwwLjAyMzUyNzM5OQpUNExQUllIUiwwLjAzOTUyMTU2OApUNE1DVURCUCwwLjkwMDE2NzUKVDRYSDdYTzgsLTAuMzUxOTAwMjgKVDU1STQ3NTgsMC44Nzk5ODY3NgpUNTVQMUJHMiwwLjg1MzI1NDc0ClQ1OVVQUFlTLDAuMDM5MzY0NzcKVDVOOEtZRFMsMC4wMzIzNzM1ODUKVDVRNTFCT0ksMC4yNDkwNzI1ClQ2OVVQRUs5LDAuOTIwOTEwNjYKVDZLWU9ZTkEsMC44Mjc3ODQyNApUNlpUOVJOViwwLjM2Njk2MjAyClQ3UTVERzVOLDAuODk4MDE0NjYKVDdTUTBCV1EsMC42MjA5Mzc0ClQ3WUhHVzdZLDAuNTUyOTgwMgpUOFNBQVBaMSwwLjAwMjY4MjA0OTgKVDkxOFNBN1osMC4wMDQyNjM4OTM3ClQ5VE82SEJTLDAuMDM2MzE1NDU2ClRBQkJSM1gwLDAuODIzNjMyNQpUQU9GMkFDMSwwLjAwNTE1NTUyMTQKVEFZVDU1NkosMC4wMzE4NjE2NjcKVEI1WlRGREosMC4wODI2NTU3MwpUQkpFTEVLRywwLjY4ODA5MDEKVEJUMDBQTUcsMC4wMjE5OTQwNzcKVEMxWTlQQVcsMC4wMDEzMzk2NzMxClRDM1NGUVBFLDAuOTYwNzYxNjcKVEM2R0JPRlYsMC4wODQ1OTY2MDQKVEM3T0dTQk4sLTAuOTQwNzEzOApUQ0JDUjFQQiwwLjAxMTg4NTY3OQpUQ1dMTlZITCwwLjgyMjg4MgpURDFDU0g4TiwwLjEwMDA3Mzg0NApUREhPMlJCQiwwLjE5NTMxODY1ClRESVE4UVZVLDAuNTcyNjM3OApURElVVFJNTSwwLjg1NTc1Mzg0ClRETVpVTjE1LC0wLjM3MDUwNjMyClRFMUpQQzVZLDAuOTg0NTA4MwpURThDS1EzNiwwLjk3MzEyNDIKVEVJUlNUUEQsMC4wMjk4NDI5MQpURVFTSFNGOCwwLjAxMzA2MTU2OQpURVVUWFZETywwLjcyNDYxODIKVEZMQldTSVUsMC44MzE0MTMyNwpURkxHTFdMRCwxLjAxNjgwMjgKVEZTQVZCT0osMC4yMTQ3MDkzMQpURlNPWUJJUCwwLjk0OTExNzQKVEdMM043SEUsMC4wNDU3MDMxOQpUR01KQzc2RCwwLjk5MzQ3NTYKVEdSRUlFM1ksMC4wMzMzNDAzOQpUR1MyN05LVywwLjg5NTU5NzkKVEdTSE9ZWVksMC40OTg0MjQ0ClRHWlJCMDJYLDAuMDQ3NDc0Nzg3ClRIRTUySkk4LC0wLjA1MzY3OTIyClRISFZIRjZPLDAuNDAyOTI1MQpUSEtRVDREQSwwLjg5OTYxMzgKVEhORUpBR1ksMC45OTQ1Nzc4ClRIVDMwM1k0LDAuMDIzNTY2ODI3ClRIVVpFVzlULDAuMDI1MDMwNDA0ClRJWFZWRFhQLC0wLjc3ODE5OTYKVElZTFA1MkssMC4wNTYwMTc2ODIKVEo0NDNPMVYsMC44ODQzNDY0ClRKREE5RFM3LC0wLjAwMjcwMzgyMDQKVEpORU9GMVIsMC43MTM4NTcyClRKTk1RQkozLDAuMjc2NjQ2OTQKVEpRNEFNMkIsMC4yNDI0MjU1MgpUS1JPN1BMUCwtMC4wMTQ1MTMyMTYKVEw4UDIwVzksMC44OTMxMDA4ClRMQ1FWVUtELDAuMzgzNDc3NjMKVExJVTQ1WEosMC45NjAyMTEzClRMSk5DWVVWLC0wLjgwMDY2NwpUTFNTMElQWSwwLjAzMDk0MzE3OApUTTNQWjlHOSwtMC4wMDc1MzEyNgpUTUJDVFlTSCwwLjgyOTM3OTgKVE1HRkM2MjksLTAuMDU4NTc5NDY3ClRNSkNSNlJRLDAuMDI4NTExMTU1ClROMzJWTDY3LDAuODgxOTc1OQpUTkhERktTUSwtMC4wMTY4MzI3NjkKVE5KNUhQVlYsMC4xNTEyMzMzOQpUTlRXNVhDQywwLjAxNTUwMTMyNwpUT0hCNFFEViwwLjA0NjU4NzM1NQpUT01VQlpPTCwwLjA0MzE2MTQ3NApUT1VUS0xTRSwwLjEyMzA1OTQxClRQMzc5RE1RLDAuNDk3MzY3NjgKVFBFTUUyTzEsMS4wMjczMTg2ClRQTjZKREg4LC0wLjUwMzcxMDAzClRQU0haUFkwLC0wLjA3NjgxMTcxNgpUUUtERkVCRSwwLjg1NjQyMzc0ClRRU1VDRUc2LDAuOTI3NTI2NwpUUVlWN1pMUiwwLjkxOTUxMTEKVFJQMEVJQUosLTAuMDI4MjY2ODY2ClRSUTJUWEVPLDAuNDA1NzI4MzcKVFMzTTlRVEIsMC43OTcyOTQ0NApUUzhUTTVTWSwwLjM3NDk0NzM3ClRTOUNRTEFPLDAuODk2MDE2OTYKVFNFNzJHUk4sMC41MTY5Njk4NgpUU0tDUUdBVywtMC4zMzY1NzgzNwpUU1M0WTFSQiwwLjAzNjg3MjM0MgpUU1RKUFgzQywwLjA0NTk1NzkwOApUVDJFNDVHUSwwLjk0ODcyOTYzClRUUlUzQ0cyLDAuMDIxMDM1Mjg0ClRUVTVEUjVYLDEuMDAzMTk4OQpUVFpVVDk2WiwwLjkyNzgyODY3ClRVNldGSFpFLDAuMDE0MDE3NzI2ClRWRzJXWVQ1LDAuMjQ3MjgzMgpUVlgxNTRPOCwwLjA1NDY1NDc4NQpUWEszMDdQSCwwLjA1MDQ5OTE4NgpUWFZVVjUzQSwwLjAwOTI5ODgwMDUKVFlBMUVFNzYsMC4zOTkyODcxClRZQVQxTldNLC0wLjAwNjE4MzkyNwpUWUQwVzhXTiwtMC4wNTg1MjkzMzIKVFpESTk5QVMsMC42MDY4NDQ1NApUWklEOUVKNSwwLjc0ODc4NgpUWlZaR1dJNCwwLjg4OTk1ODE0ClUwNDExMTZGLDAuNDEwNDQ4NwpVMExDQ0Y4UiwwLjkzNjc4ODYKVTBQU1pKQlQsMC4zMDI2MDYyNQpVMFRLTjBJUiwtMC40MTAxMDQ2MwpVMTBJQlFDTSwtMC4wMjU4NjYxNTUKVTFNM1A5MjYsLTAuMDEyOTQ1Njc3ClUxTTdGWDNDLDAuNjkyMzMyNQpVMVVYMlBaRCwwLjEyODI3OTYzClUyN0tFWUdOLDAuOTE4MTc3MDcKVTJHVTRDUFYsMC45OTY0NjA0ClUySTBFTEJBLDAuMjQxNTcyNgpVMlJPN1lNUiwwLjA0MzIxMzcyClUyWTAyUEpBLDAuMDMwODg3Mjk4ClUyWTNFQTdBLDAuODgyMjA1MDcKVTMyRU5aVlYsMC4wMjY2ODgxOTYKVTNTRklRVlIsMC45MTgzMDkwMwpVNDBFOTRETiwwLjk2Mzk4MjgKVTRBTUlYUVUsMS4wMjcwMwpVNElRQVhURywxLjAyNDQ2NjIKVTRNQUVFTkosMC42NTI0Mzg2NApVNFNEWUxWVywwLjY1NTMxODEKVTVLMVBGT0YsMC4wMjk2ODcyMjIKVTVXTERVQVcsMC4wMDg4ODg2OTYKVTYxRTdNR1ksMC4wMjM1ODEyODEKVTY1UjQ2U00sMS4wMjI5ODkKVTZMSVhIUzgsMC4wNzI4MzMyNwpVN0Q4VkNPVywwLjAzMTA3OTAyNApVN044TkpXMywwLjA5ODQ0MjAzClU4SU8xRFpGLDAuMDMxNjMwNzc3ClU4SjNPQ1FNLDAuMDIxMTA0MjIKVThQOU9UWDYsMC4wNDY2MDIzClU5M1AwRldTLDAuNDI0ODU3NjIKVTlNRkdGQkYsMC44MjgxODQ2NgpVQTQ0TkZIOSwwLjA1NzExNzU4ClVBQ0ExMkRKLDAuMDY3NjI0NzI1ClVBUkJMOTdJLDAuMjY4OTMxNjYKVUFUOTc5TkYsLTAuMDAyOTMxOTk4ClVBV1U5QktELDAuNjEyMzA5NwpVQjNWMldYTCwwLjE0NjA5OTMKVUJCTVFQQVgsMC44ODMzMjA0NQpVQlJTOTdPUCwwLjcwNDYwNzEKVUJWMjFKRTksMS4wMTM3NjQ1ClVDMU04WkoyLDAuMzg5ODY3MjUKVUNERFo2UUEsLTAuMDEwODg4Nzg3ClVDRkZDVzNaLDAuMDg5NDA5NDEKVUNLSDJQODksMC4yNzY5MzYxNwpVQ1ZRNEI3TSwtMC41MzAzMzE0MwpVRDc5T0xBSSwwLjAyMTQ2MTQzNQpVREhNOVM5QywwLjA3MDM2NDQxNgpVRFFLMVpVWCwtMC4zMzMxMDU3NApVRFFNOTNMMSwwLjkxNTMzOTkKVURWRFNHSVIsMS4wMDQ2ODY4ClVFOU85WVFDLDAuNzI5OTU1NgpVRUIzTjBQUiwwLjk4MzgwMjQKVUVNVlJBSE8sMC44OTE4NTE5NgpVRU5URzRLRCwwLjk3NTExNzQ0ClVFU1lFNTJLLDAuNDkzNDg0MDgKVUVaRk0xQU0sLTEuMDA3OTAzNgpVRkRMUFNTQywwLjkyMjgzNTY1ClVGRTVYUFRZLDAuMDM2MzQyOTY0ClVHNFFKWkIyLC0wLjE5NDk3Njc4ClVHNThYVEw3LDAuOTgxODQKVUdDM040U0ssMC45NjY3OTUzClVHSlRMMjBXLDAuOTg4MjI5NDUKVUdNVkNBRDMsMC4wMDkyNjIwMTkKVUgzSFVCRVUsLTAuMDU1NjI5Mzg0ClVIN1JITFZGLDAuMDI4MTMzMzE0ClVIQ0c3OFYyLDAuMDI3MDQwNTQ5ClVIUzBVUjdELDAuOTk4MjcxMDUKVUhVQzBSMlQsMC4wMTA1MTIyMjEKVUkyVFA5MVgsMC40MDk0OTMxNQpVSTY2TjdDOCwtMC4wMDc0MzYyNjE1ClVJSU5SQ0NPLC0wLjAzMjE0MTgzClVJSkxSUVFULDAuMDI0MDg0MjMzClVJVzBZQjAzLDAuMDM5MzEyMjA2ClVKQjVVUk9aLC0wLjAwMDgyNjg3OTQKVUpKU0ZSWTIsMC45MjYwOTA3ClVKTk5BUVNFLDAuOTQ0NTMxNwpVSlFYNjQ5VSwwLjAxMDc5MjM2MjUKVUpXRFoyR0osMC45NjQwMjk4ClVKWUIyWklGLC0wLjAwMzIzODA4MQpVSzA1SVlBRSwwLjAyOTc5ODUKVUtIUFREVjIsMC44MzYzMDg1NApVS1hVUUJQRywwLjA0MTgxMjMyClVLWktDUTRKLDAuMTcxMDUzNjMKVUxJNTZNNUwsMC4wMDc0MDQ2NDg3ClVMV1dWMEJYLDAuMzkxNTQ4MgpVTFhSWEQ2NSwwLjc0NDM2OTcKVU0wWE5WNDYsMC45NDA3MTk0ClVNNlJORjBFLDAuMDQxNzc4MDEKVU1FME9TWEksMC4wMjgwMzAyNjkKVU1NQThZMkEsMC4wMDE3ODAyNzI1ClVNVVNLOEdELDAuMDM3NDM3MTIyClVOOEdXU1RELC0wLjA1MjQxMDgyNgpVTks2WjhSQywwLjkzMTAyMDYKVU9JOFpLSlUsMC40NjkzMTU1MwpVT0xFNDFFSCwwLjAyOTg5MzE4MgpVT1MzUEQ1USwwLjAzMjA4ODkwNgpVT1UwMU5CTiwwLjA1MjQ4NTYyMgpVUEpWMk1TRCwwLjA0ODAzMjU4ClVQT0JDR0FPLDAuMDQxNjQ3MTkKVVBTQkVSRUgsLTAuMDYwMjExNjE0ClVQVFBCSzJHLDAuOTQwMjY5MgpVUFU2SUhOSSwwLjAyODc2MTgxOQpVUTJLUTE4ViwwLjAwNTkyOTExOQpVUTlVOFVPUCwwLjYyNzM5NjM1ClVRQVFVSENVLDAuOTg2MTY3NwpVUU1aS1E1MCwwLjExMDIzODMzNgpVUVZKQlM1OCwwLjI2ODY4ODY1ClVSNThKOTRHLDAuOTU1MTE1NwpVUjdFRzg5VywwLjg2MzQ5NDc1ClVSQUM2WkVSLDAuMDE1NjI2Mzc4ClVSTldJWERCLC0wLjAwNTMxOTgxNApVUzBOOFBPUCwtMC44MDAzMDExMwpVUzBaUFdZTiwwLjgyMjQ4MTE2ClVTQk1VQzAwLC0wLjk2MzExMjYKVVNINUZUV0QsMC4wOTc0NzUxMQpVU05RSUNFSywtMC4wODY5NDc1NQpVU1VEUTdBQywwLjAxNDUzOTg0NApVU1lMME5NUiwtMC42NjkyNDY4ClVUMkpDT1RELDAuMDM2MTg1ODE2ClVURERGMkY1LC0wLjM5NTQ3MDQ3ClVVUEE4SzFXLC0wLjAwMDMzMzE3OTcyClVVU1ozTjE4LDAuOTI0NjQ0OApVVjU4SkJDSCwwLjAyMDQxNTEyNwpVVjlQTDhaUCwwLjAxOTc0Mzc1NQpVVkpIWUlTRSwwLjAzODkxODY5ClVXM0dGUlo2LC0wLjc3NzQwMjQKVVdCMFMwVUosMC4wMjkyNTI5NjEKVVdDOEVBQVYsMC4wMjI4MzQzMDgKVVdFU0VIVVcsMC4wMDY3MjEzMjYKVVdQUU4zR0gsMC4wNDgxNjQ3MjUKVVhCTTVLQkwsMC45MDEzMTY2ClVYTVNNNDdFLC0wLjAwMTYzMjg1NTMKVVhPWjc4TlAsMC4wMzMyNTczNjUKVVhVUkQ4NDQsMC45MTIyNzI2MwpVWTBQTFJXSiwwLjA1ODc3ODE2NwpVWUQwMjBPUywtMC4xNzk1NDc1MgpVWU1ET0ZRNywwLjQzMzY0ODgyClVZT0c5RllELDAuMDQ0MDQ3OTUKVVlUNDBWNkwsLTAuOTU0ODM5MTcKVVoxT0o2VkQsMC45OTA3MDU2NwpVWjRYN1dSMywwLjE0NDMxNTg1ClVaQ1ZWUzJMLDAuNjc4OTM2MjQKVVpSSUlORjQsMC4wMTUyMTk5NTYKVVpSSUpDRUUsMC45NDAzNzM4ClVaU05DQ05WLDAuODc1OTgzMwpVWlQ3SlI4WiwwLjAzMzQ3ODA0NApWMDA4UDlNWiwwLjAzMzc0MjE2MwpWMERLVFFWSCwwLjAxMTY4MDIKVjBMMlVaWTUsMC4wNDgwNDEzMwpWMFczRk4xTiwwLjAxMTQxNTE0NQpWMFpTSUdVNiwwLjg3MDEyMjMKVjEwWkxNSjgsMC4wMTE0MTUxNDUKVjFNUjRKR0ksMC44NDQ3NDkxNQpWMjNKQkMyQywwLjgxODk4NzM3ClYyQksyWlVPLDAuMDQwOTc2OTk3ClYyQzdWQ0hPLDAuODQ0MjIwMgpWMk8xVExaVSwwLjExODM3MTc4NQpWMlowWjQySSwwLjIzMTYzMjgKVjNYSTNGRTYsLTAuNzEwNTQxNApWNFJCMFEyOCwwLjAxMDg1NTI0OQpWNFdQRFM4TiwwLjk5OTQ0NjMzClY0WVNEUUpHLDAuMDI4NDY4MDY1ClY1NEhWTjdNLDAuMDk1NDU2NDcKVjVEWFpNSkwsMC4wNjQ4ODM3NzYKVjVGNU1TQVIsMC4wMzMzNDMzMzcKVjVXT1MwSlgsMC45MzMwMTYzNgpWNjFHU1ZXMywwLjAwMDcwODQ0NQpWNjRaSU1SQSwwLjkzMTgwMTc0ClY2QkxXNUExLDAuOTg1ODU0NApWNllNUFVWNiwwLjA0Mzk5MjA0MwpWNlpXRUE3TSwtMC43MjQ0MzY5NApWN0I0TFBaUywwLjEyOTc2NTI3ClY3RVI4UTU2LDAuODY4NTUzOQpWN0tRR0FUNCwwLjAxMDY5NDU4OQpWN0w5R1ZHNCwwLjg2MjQ1NzcKVjg2OTYwU0ssMC4wMTM5Mjk5NDkKVjhDSlNUWTcsMC45ODIyMzA2NgpWOFg0RVNUWCwwLjg4OTcyNTEKVjkwRzlQRFQsMS4wMjM1OTQ1ClY5N045TFhULDAuMTU2MTY0MTgKVjlBQzFCRlEsLTAuMDExMzIwNTA4ClY5Qkw2NVZJLDAuMTMzNjQ2MDcKVjlKTlVOQzAsMC42MzY4ODk0ClY5TUI4MEVQLDAuMDk2OTUzODkKVjlVSzVQQ0ksMC4wMzU3Mzg1NzIKVkE3Mzc3N1MsMC45MTA5OTA1ClZBN01BUkFJLDAuMDE4NjQxMDA2ClZBOFRTRU1NLDAuMDI5NDQxMDU5ClZBVTZIVVMxLC0wLjY1NjQzNDI0ClZBV1AySDMxLDAuNDg0MDQ0NwpWQjhWQU84SiwwLjAxOTQ1NjM1NwpWQk1IUEZDRSwxLjAwNzAyMTEKVkJVOUlMU04sMC41NDgyMDY5ClZCWkpWQ0JYLDAuODAxNjUwOQpWQ0kyTEpaQiwwLjAyNzQ3MzI3NQpWQ001TjRTWCwwLjc0ODc4NgpWQ1ZLVDlMNSwwLjIyMDcwMjE3ClZDV0taRDgzLDAuODcxMDEzMgpWRDNVSDM3QSwwLjk5NTY3NDY3ClZEQkczVjlDLDAuMDEwMDgyNjY1ClZEQlFWV1lELDAuMjEyNTM2OQpWREw5M01ISiwwLjMwMjM3NjU3ClZET1Y5OUNCLDAuMDEyODk4NTYyClZEV0FMSjg5LC0wLjk4MTcyOApWRFhKVzZYNywwLjc4MjUzNDgKVkUyUEJPUlgsMC4wMTI5NDExMjMKVkU2N1BZOEosMC4wMDU5ODk0NQpWRjNBS1JYSCwwLjA3MTE5MTM3ClZGU0c1N01ZLDAuMzc2NDUwNTQKVkcxOEJSUlQsMC45MzI2MzgKVkcxWVJCREssMC4wMzg2MjA5NQpWRzlFNkRaOCwtMC45ODcxODYyNQpWR0daMldRSCwwLjk3NDA3NTUKVkdISlFQVTUsMC4wNDcxMzI1NjcKVkdXVlIwREMsMC4wNDcyOTgwNQpWSElJOUhHRiwwLjAzNjUxMjU5NQpWSE1UNU5SWSwwLjI1NTMwNzYKVkhQMko4UDQsMC44NjI4Mzk2ClZIWkQ5T0NVLDAuMDIwNDE1MTI3ClZJM1dJWU1XLDAuOTc1NjkzNgpWSTdSWkNYNCwwLjEwODI1NzAxClZJVjcwMFIwLDAuOTU3NzgwMgpWSjc2NTNZVSwwLjMxODg4MTcyClZKQzA2RFdCLDAuMDI1NzQxOTAxClZKRDRZWDRDLDAuNTg5MzcwMgpWSkYzQUZRUCwwLjA0MjI1OTM5NQpWSkk2WENZVCwwLjgxMDk0MzA3ClZKSzFNNFJVLDAuODY1MDE2MgpWSk85NVZCMywwLjA0OTg1NDczNwpWSlZSWVc1UiwwLjkxNzUzOTEKVks4SUxBWjcsLTAuMjg5NTAxOApWS0dJUFRBVywwLjkyNzUyNjcKVkwzNFlJM0QsMC4xMjg3NTQ1NgpWTEowNE5YMCwwLjA1MDIwNTczClZMUkJCR1k2LDAuMDMyOTA4OTMKVk1NVVRMOU8sMC45OTQzMDkxClZNV0daOEJSLDAuMDAyODQzMTU1NQpWTkNWUlI3VSwwLjAyMDAxOTk2NwpWTkZUVEdKMCwwLjkwNTI1MjQKVk5LTlo5SDYsMC44ODkxODc0NgpWTktUVTVNViwwLjAwNjQ3ODUzOTcKVk5OUjNVOE4sMC44ODc4NzE1ClZOWlRDRFE5LDAuOTAwMDM1MQpWT01JQ0g1SCwwLjc0NjI3MTEKVk9PT09VMUEsMC41NzkwNDU3ClZQME5JRFQ0LDAuOTcwMzY4OApWUENITTA0WCwwLjg4NzM0MDkKVlExMDlONEEsMC4wMzI5NTgyNDMKVlExMzVaQUosMS4wMTk0MjM1ClZRM1RWUUcxLDAuMDQyMDM5ODIzClZRRDQ1N01BLDAuMDY0NDM5MDcKVlFUNkNaNlosMC4wNDA3MzI2MzcKVlI0WlRSRFUsMC42MzA4NzUwNQpWUk1YWkVWTywwLjkzNjY2MzE1ClZSVVZPVFAwLDAuNzk1MTIwMQpWU1NPTUY1SiwwLjYwNzE3NgpWU1Y0RzQ1WSwwLjc4NTM1NzEKVlQ5VUVNWlAsMC4xNjUzNzY1NApWVEMxNUhUMSwwLjA2NDA1NDYxClZURkI4TTc2LDAuOTY0NzcwODUKVlRHUVVKVTAsMC43NTMyMzU2ClZUV0U4UUo1LDAuOTc1Njg4NQpWVFlJQkNPUiwwLjAyMzk4MjM1ClZVVkNBMFdXLDAuMDE4MTk2MTAyClZWMkpIVkw4LDAuNzAzMDU3MQpWVjY2NUxaRSwwLjY4MDQ4OTUKVlZEV05XSUcsMC4wMTAxNjY4NzkKVlZFTVpLN1AsMC44OTQyMjk3ClZWSUpGRTJTLDAuOTUxMjg4OApWVk5RVzgyTSwwLjAzMTg4NzU2ClZWVk1CMjJBLC0wLjY1MTI1NDUKVlZXV08xSUcsLTAuODg0Nzc5NDUKVlcwM1FXV0osMC4zMzgxOTg5NgpWV0cwTjNWVywwLjY3OTI5NjczClZXSURUWEdGLC0wLjg1NzM5MDgKVlhNRjNFOUIsMC45NTE0NTA2ClZYU1g2REpMLDAuMDMwNTIxNzQzClZZM0JMUjVVLDAuMDQ3MTU4OTM0ClZZNkhPWVZaLDAuODMyMDcwMwpWWUJGUEQzTSwwLjI4OTg1Njc2ClZZRlNZUTgxLC0wLjU4MjE1OTQKVlpUM1dBVFUsMC4wNTQ4MjE5OQpXMDRENjJRNiwtMC43Nzg3MjIzNQpXMDRPTllKQSwwLjUwNTI4MjQ2ClcwTzZPMFpRLDAuODU3MDY1MgpXMTU0NkpaSSwwLjIwNTg0NzUKVzFEUkw5TkwsMC45ODU3OTcwNQpXMVNNSTM4QiwtMC42ODI5MTk3ClcxVFBGVTlOLDAuMDU2MDU3NTcyClcyQVdWT0dELDAuMDQyMDcyMTYKVzJDNkxQM0osMC43MTQ4NTgKVzJEUVNaQUosMC4wNDg2NjI1MzIKVzJOU1BMTDksMC44NTU4MDk2ClcyT1E5S09GLDAuMDcwMTYwOTcKVzM3V0JLUEcsMC40MTU0MzgKVzNRMTUzQUIsLTAuNDIyNjU5NDMKVzNTREs0Q0MsLTAuODE0OTEwMgpXNEc5NzVZUSwwLjAyMTQ2MDYxOQpXNE1BVzlSWCwwLjk3NzQxNTYKVzRPNjVMQ00sMC43MjcyNjE2Clc0WlQwQjhGLC0wLjg1MjQxNDUKVzUwWVFDUUUsMC41NDE4MDcwNgpXNTFQSFJJUSwwLjI4MzU2NTczClc1NElOVzE3LDAuMTUxNzQzMzcKVzVESFhHTDMsLTAuMDA3OTU2NTA5NQpXNVUyNDBJRCwwLjg4MjgwNzE0Clc1WlY5N0wxLDAuOTM3MjQyMwpXNjZNMFpaSCwwLjY0NDQ4NDgKVzZKT1NKNTQsMC4wMTEwMjg0ODMKVzZLWDg3VEksMC43Mjg4NjU3Clc2VFlFWEJHLDAuMDE2MTM5MTM1Clc3NFY1SkhZLDAuMDUzOTI5NDEKVzdERzJVQ1ksMC43MjQxNzI5NQpXN1dFRkVBVSwwLjc4Nzc2MDMKVzgyRFlJTDIsMC4wMjUxNDgwMzgKVzhVRlUyTUQsMC4wODM4MDQyMDUKVzkyOFZRNlAsMC45NDM3MDk2Clc5NDA5VTQzLC0wLjkyNTAzMTM2Clc5QVEzNDJSLDEuMDA1MzczMgpXOUFWTkNFTywwLjk4MzM2ODY0Clc5TE82UjVGLC0wLjAwNjkyMDExMwpXOVVQNzNWTiwwLjAwNDk2Nzg3NQpXOVZLMU9HUSwwLjM3OTA0NjUzCldBNFlGRklQLDAuMDY0MDEzNjYKV0E3NjVIOU0sMC44MDgyNTI1CldBN0JXTUhFLDAuMDI5NzUyNjY0CldBOEtVMDFJLDAuMDIxMTA1NjI1CldBQTZWMEFXLDEuMDIzNDQwNwpXQUtCSkFPSSwwLjg5NzY2ODIKV0FURFlIWjQsLTAuMDEyOTkxNzEyCldBV1c2SlQyLDAuNTk2NDAwMjYKV0JMWFdRUkosMC4wMzE0MTI1ODcKV0JUTzZTN08sMC42MjA4OTA4CldCWFU2VE5OLC0wLjQwNzA1NTA4CldDN05BTjg3LC0wLjAyMTc5MDE4OApXRDlZVzFRSSwwLjk3NDY4Mzk0CldERzJDU05DLDAuOTAxMTYzNQpXRElSOVUyWSwwLjk2MzU3ODY0CldEUEpaU1FYLDAuOTgxODcxNgpXRUIyMEdQUSwwLjk3MjY2NTUKV0VFVVFEV0YsLTAuNTg1NDcxMDMKV0VFWENXOEosLTAuODc3ODQ0MzMKV0VJOE5RMzYsLTAuODEwMzc3MQpXRU1JWkdTVCwwLjA3NjI4NzI3CldFTjJTTkw3LDAuOTI5ODY1NgpXRVlHSExPNiwwLjk0OTQxMjQ3CldGOUlCTE1QLC0wLjA2MTAyNDA1CldGOVRZWDlSLDAuNTg5ODkyNDUKV0ZCTDlWV1gsMC45MjE2MjIzNApXRkdEVEpHVywwLjg4MDU2ODQKV0cyQVJWMzEsMC4wMTQxNzA5NjIKV0czVEFGRTcsLTAuMTE5Njg1NTMKV0dMR043S00sMC4wMTE3Njk0OTEKV0dOV1RUOFIsMC45OTk3Njc2CldHV0dBTFJHLDAuOTA4MjU5NDUKV0dYM0g4OUcsMC4wNDE1NTYyMjQKV0dYUEcyUzksMC4wNDQ5ODY4NApXSDNPQ0FZQSwwLjA0MjI0NDYKV0hESkZMVFUsLTAuNzMyOTU2NDcKV0k3MUxXQUYsMC4wMjQxNTM4MzYKV0lKRjdZVjAsMC45MjAyNzM5CldKWUZWRzNMLDAuMDM0MzE3ODYKV0swNFJBOUwsMS4wMjk4NTQ1CldLMTIwMDAzLDAuNDIxOTEzNQpXSzFQSDc2UiwwLjAzNjc4MjcyNwpXS0Q1WVdFMCwxLjAwOTE3MzMKV0tJNk9MTzUsMC4wMjk5NDg4NQpXS0pXTU44MSwwLjgxMDk4ODkKV0tWVVlKNlMsLTAuNzk1NzUzNApXTDRHOFRYMCwwLjg4MjkzNzU1CldMRzUxSDZKLDAuMDMwMjMyMDgKV0xLVU5KTTksLTAuNTU5OTA0OApXTFVYOVRINSwwLjg5MTE4MDkzCldNMDNBRjVMLDAuOTkxNDc0OQpXTTlUU1ZQTiwwLjk3ODkwMDI1CldNU0lQTzRKLDAuMDM1NTQwNjQ0CldNVEIzR0Y1LC0wLjA2NTkwNDE2CldON1lENDkzLDAuMDMwNDE2MDEyCldPMUJDUVQ5LDAuODIyNzg0MjUKV081NzFYTU0sMC43MzM0NDE4CldQVlZXVlJBLDAuODMyNDc5MQpXUTNYTUxTWCwwLjA4MzI0ODE0CldRSjRETlRNLDAuMDE5ODIwNDIyCldRTVFCNzZPLDAuODg0MDQxNjcKV1FVOTlYSU0sMC4wMzI2MzkwNgpXUkVETlZMMiwwLjYwMTc4NDcKV1JGOFcwOU0sMC45NDg5ODY3NwpXUklUOVlXUCwtMC4wMTE3MDUyNTA1CldSU01JSTA0LDAuOTY4MjM5OQpXU0ZYVU1CSywwLjA3NDU0OTQ1CldTS0QyTVE2LDAuMjYyNDc0MzYKV1QwQ1cwTUMsMC4zNjQzNTk1NgpXVDVVM0o0WSwwLjA2Mzk2NTU1CldUN0M5MU5SLDAuMDM0NjAwNzUzCldUUDZKWDZHLDAuOTU1MTE1NwpXVUdXT1NWVCwwLjIyMjM4MDUzCldVR1k1TkY4LDAuNjAyNjk1OTQKV1VIOU9GQ0ksMC4wMzQyOTc5CldVTVZYWFAzLDAuMDUwMDU4NjU1CldVUDQ2NTVTLC0wLjAwODUyOTc3CldWVlNOOFMyLDAuMDMyMTc4ODY4CldWWUowVUc0LDAuMDUwMjI5NDQ1CldXNjQ5NUpMLC0wLjUzMjQzNzQKV1dGNUlaS0ksLTAuMjI4NjUyMDcKV1dIOUtZRTUsMC45Nzg4NjU4NgpXV0tLN1RMTywwLjUwNTM1ODMKV1dXWE8yQVgsMC43ODU2MTY2NApXWDJHREFSRSwwLjA0MDMyMDI3CldYM0JYMVZOLDAuMDM0NTQ4NDU4CldYNTRFTENLLDAuODI0MzUzNzUKV1hBMDM0WDMsMC4wNjIzMDAwNApXWE84VldXRCwwLjAyMjI2OTc2NwpXWTROUDhEMCwwLjAxNDM4MDM3NgpXWThKMlVKTSwwLjY2MTg2MjQKV1k5TldBNDAsMC45MzQyMDM2CldZUjE0NU1CLDEuMDA1ODczMQpXWVRLRDMyTCwwLjkwMzQzMzYKV1pKSlYwMEcsMC44ODAyOTI3CldaWTRaOVJTLDAuOTQ3MzQ3NwpYMDA2QjBZViwwLjA0NDUzODQ2OApYMDM4NERYRiwwLjc3MDA0MzcKWDA2MkpVQ1MsMC45OTg4MTUxClgwRDRQWFo1LDAuOTk4NDE4ODcKWDBMV1JCWUssMC44OTQxNDkyClgxMVQ5S1lULDAuMDMwODkzMDM5ClgxR0xNOVJZLDAuMzY1MjU5NzcKWDFJU1FJVUMsMC4xMjIxNTgyOQpYMVFVVFJKNSwwLjA0MTExOTMwNwpYMjFYSVBTMywwLjAzMDU4ODI4NApYMlEyUEE1VSwwLjAzNjA1MDE0ClgzNjNWWjJYLDAuNTIzNTQ2MgpYM0hIQkhOMSwwLjA4MDAyMjMKWDNQMVZDQVMsMC44NzQwNDMxNwpYM1dFWjA5TSwwLjY5NzE1NDcKWDQ2UFlaMTYsMC4xMDQ3MTUzMQpYNThUTFdQRSwwLjA5MzI1NzgxNQpYNUxLNjVVSCwwLjAyNzU1MzA1MgpYNU1BNzJTSSwtMC42MzUwNzU3Clg1TVE2MTRXLDAuNDM3NDk1MzIKWDVUQ1RSWDQsMC45NDU3NzQxNApYNVdKOENDTCwwLjY5ODYzNDkKWDZCVFRJVkksMC40NTUwODc1NApYNkRUNEw2NSwwLjczOTI1MjIKWDZHVTRVUjUsMC42MDM5Mjk0Clg2S1BLSDhBLC0wLjAwMDM1NTMyMDk4Clg2TVlCUEg5LDAuMDI4MjA0NzU0Clg3MVg0UUdMLDAuMzQ3MzcyODYKWDc5TlJZQkosMC4zNjA1ODg3NgpYN081TEpFUSwwLjk3Nzc1MTMKWDdVRURVSTQsMC42NjgyNzg0Clg3WEIyRVpNLDEuMDAwOTgwNApYODRDTUtEWSwwLjg5OTQ0MTM2Clg4SE44NTBFLDAuMDM0Njg2Mjc1Clg4SlRZMDFJLDAuMDAyMDE2NjQwMwpYOE5KSjFZNiwtMC45OTc4NTk1NApYOFhHUk5VNiwwLjk2OTI3MTk2Clg4WTBCWE1MLC0wLjAwMDQ3OTEwMTIKWDkwM0NPQzMsMS4wMTQ0ODk0Clg5MDRIRkFMLDAuMDQ1Mjg3MjgKWDlBN1BCNUUsMC4wMTc5NDI2NApYOUQyV0JQQywwLjA0NDgzMTk1NApYOUlVRUhFNywwLjkxNjMwNzAzClg5WUs1MVRZLDEuMDM0MDQ0NgpYQUE4WU40TCwwLjAxMTQxNTE0NQpYQUNRRU9KTiwwLjAxMDc4ODUzNwpYQUYxOVEzQywwLjAyNDYzNjA5NwpYQUZERUVFQSwwLjAxMzk1NDkyClhBR1U3REFFLC0wLjA3Mjk1NjMyClhCMkNUS1JPLDAuOTQ1NTU2OTQKWEI0RkdQVlgsMC4wMzE1Njc1ODUKWEI2TVZaT0csMC4wNTMzNjA2NApYQkI4WDBIUiwwLjk1MTg0NjY2ClhCSEoySTZSLDEuMDA2ODE1NApYQlFGVlhIQywwLjA5NDA5MTM3ClhDSUswQTJILDAuMDQyNjA0Mjk0ClhDS0hIRkhELC0wLjAwNDgzMTE5MgpYQ00yN1JSSiwtMC43OTEzMTc3ClhDTkpBMklGLC0wLjAzNzI2ODQ5ClhDV1ZYVjZPLDAuNzA5MzI3MwpYRDRGNlBORywwLjI4OTgzOTIKWEQ2UEU3TU0sMC44MzM1NzY0ClhEUkdMTVdCLC0wLjE1NTk2MzMyClhEVllUNFUzLDAuMDQ0NTc2MjE2ClhFNEw0UVJCLDAuOTM0ODY0ClhFN0ZTNzAwLC0wLjQyNTIyMjg3ClhGMjU3SlEwLDAuMDIxODY1NzAzClhGQkJBQkc4LC0wLjAwMTg3MzM2MzcKWEZNR0k2S0QsMC4wNjMyNzgyOQpYRlFVSE9RNSwwLjAwNDA5OTM5MDUKWEZWVVUxTkUsMC4wNTkwOTkzNzYKWEc1T1lJTEQsMC4yODc3NzcxNgpYR0dCQUpaUCwwLjAwNzAzMzExNDMKWEdKWTQ1QkEsMC4wNTU3ODQ5MQpYSUVPWFlBVywwLjA1ODM5NDE4NgpYSVlGQTFEVSwtMC42NTQ0MDcyClhLN1NZTktZLDAuMTE4NDUyNzMKWEtBUk5DSjMsLTAuMDA4MDg2MzE5ClhLRUZRTFJNLDAuMDU2NDk3OQpYS0ZSTDdFQywtMC4wMjM5NTE4OTIKWEtOWU40VFIsMC44OTc1MDYzClhLVVNRVVlTLDAuNTI4NjI2NgpYTDFKMTNORywwLjMyMjk2Mzk1ClhMQzZLS05GLDAuMDEyMzE4MDcKWE0yMk1EQjIsMC40NDY0MTA0OApYTUYwOFNZSywwLjY4NTU2OTEKWE1MV1Y5UzcsMC4wNDczOTEyOApYTU82UEE2USwwLjg0NTI3NzYKWE1aT0pVTk4sMC4wMjU3Njk0MzkKWE9PQUFNMkssMC4wNDc1MTc1NQpYT1BVQkI4TCwwLjk3MDE2NTYKWE9aMkxGSFgsLTAuMDMxMDkyMTIyClhPWkJVNDVKLC0wLjUzNTQyNTI1ClhQMURVNUhULDAuMDM2NDUwNDY4ClhQNkdSTzJPLDAuODQwNjIwNQpYUFpNREdDVSwwLjQ5NDE5NjA2ClhRMFc2TDMyLDAuOTU5Nzk5MQpYUUhPR0o3MiwwLjA4MjM0NjgwNApYUUxUMFZBNSwwLjgzMDcxMDM1ClhRTUxCME5NLC0wLjY0NzkyNzQ2ClhRUDkwRzNJLDAuOTU1MzM5NTUKWFI5UDZWNk0sMC45OTkxOTUxNgpYUkc0S1pLVSwwLjg5MzQwMzUzClhSUVhNRks4LDEuMDEwMTcwOQpYU0VDSlM5QSwwLjAyNTczNDA5NwpYU0hVVllBUiwwLjAxOTE4NjA5OApYU09SM0VUSCwtMC4wMjMwNjM4MDUKWFNRSldJMjgsLTAuMDQ1MzIzMzEyClhTVjdINk00LDAuMjAyMzc1OTMKWFQxWUEzVTUsMC44MTQwMjc0ClhUN0RPUFE1LDAuMDI2MDYwOTM5ClhUOUZOQkFKLC0wLjAzMDY4NTAxNQpYVEE1QzI2SywwLjA0NDAwMjkzNQpYVEJSVzJNWCwwLjQ3MjQzNzUzClhUR1VJT1hJLDAuOTQ3NzU1MwpYVFY3S1k3WiwxLjAwMjk1MTcKWFRWUk5OMUcsMC4wMTg3NzUxMTMKWFRZM1ZPSTQsMC45ODAyMjQ0MwpYVUFOTDZLTSwtMC4xOTg2MDE4MwpYVVNWTTI4UywwLjEwNzU2NjY1NQpYVk9CRklWRiwwLjA0NTIxMjE3MgpYVlVUSTJRNywwLjk4NDA1ODkKWFdFUTNLWVUsMC42MTkzNzUxClhXSFc4MUFDLDAuMDQ3Njk5NzcKWFdMSkRWOTgsMC4wNDUwNzAyOTgKWFdNOVpNN0wsLTAuMTE1MDg1NTM1ClhYMzc1RkRDLDAuOTI0ODQzMTMKWFg2UFFJVUssMC4wMzk0ODQ1ClhYRTI4RzZaLDAuMDQxMDcxMzkzClhYSEpUMUIwLDAuMDMyNzQyNTk3ClhYS0k1UkVLLDAuMDE5MTk1MjgxClhYT0xYWlYwLDAuNDgyMTM0MTMKWFk1QkdMMEIsMS4wMTAyMzQ1ClhZRTcwTlU5LDAuMDQ3NjMzNzk3ClhZUDgxRkVNLDAuNjAzNDk2MjUKWFlUVldHMkgsMS4wMjU0MgpYWVVKWDlRSiwwLjAyMjEyNjI4ClhZV0JCUDFZLDAuODQxMjcxNApYWlE2SzJJSSwwLjI3NDc0ODA2ClhaVUwwNjUyLDAuNzI4NjQ4NTQKWFpYSExEUUwsMC4wMTY3NDg5OTgKWTA2RUlMWEYsLTAuMDQzNjUxNzkKWTFHUDdBMUUsLTAuMDAxMjk3Nzk3MQpZMU5PTEdWOSwtMC4wMzYyOTYyODIKWTFPQzdTS0EsMS4wMjIzMDc5ClkyMjVBS0g3LDAuMDMwNTUzOTA3ClkyNk1CQ01YLDAuNzc1OTE4MgpZMkJCVUU2RywwLjczNDQ4MzUKWTJJWk0xVjAsMC45NDcxOTEzNgpZMlBLOVJMVCwwLjA0NTgxNDIyClkyUzdON0JILDAuNDM0MTY0ODgKWTM5M1MyV0gsMC45MzU5MzI2NApZM1BFUlhXMCwwLjAyMzM1MTQwOQpZM1QyQTNRWiwxLjAwMjMyODQKWTQ0SlJIOEcsMC4wMzYxNjY3NTQKWTQ4RktTSVQsMC4wMzI4NDI1NzcKWTQ4UkQ2MFcsMC45OTk3Nzc3MwpZNEcwVTVUSiwtMC4wMDA4NDY3Mjc3NQpZNElJUFcyViwxLjAwMzQ0OTYKWTRKNzlWNFUsMC4wMTEzNDY2MjIKWTRYUDZJUFMsMC45MDcyODEzNApZNTNVT0s0NiwtMC43NTM1OTI1Clk1OUJBUE8zLDAuMDMyNzg3MjgKWTVYSU1QNDUsLTAuMDI5Nzc3ODI5Clk1WlZKTjFDLDAuMDE5NTg3NDk0Clk2RTM3RTBFLDAuNDExNDYzNjIKWTZKRVdONjUsLTAuMDU1NjUwMzQ2Clk2SzZVRjNKLC0wLjAxNjEwOTczMQpZNlhUMDlNTCwwLjAzNzAxNzYxClk3OUhIMEpXLDAuMTI0MzU2NDkKWTdCTDBMQ1IsMC44NzQ2ODI1Clk3REtGUEtULDAuMDIzMjMxNzk3Clk3RVU5ME8zLDAuNzU2MjQxNQpZODFHM1RYViwwLjk4ODk2MDkKWTg4ODkxWlMsMC4yMTA0MzEwOApZOEJHVlhYSSwwLjE1MDk2MTE2Clk5M0VGUU9GLC0wLjg4NDczNgpZOTNaQVk5WCwwLjkyMTg4MgpZOUQ5TTRPTCwtMC4wNjI1ODI2NQpZOU5QSUtJQSwwLjA0MDgwMDUxCllBMFZHRFVBLDAuMDcwNzc4OTIKWUEzUlhPR0IsMC4wMzAxOTQzMDUKWUE3UUJSOVIsMC45ODc5OTI2CllBU1YwQllJLDAuMDQ0MzAzNDU0CllCS0o5WE1VLDEuMDAwODk2NwpZQk81T0ZISCwwLjk1MDUyMTA1CllDN0FaVlFXLDAuNzM1NjY3NQpZQ0FEWUw4TywwLjg4ODI1MDEKWURBQzBTQVksLTAuODU2MjYxNzMKWURETkFESkosMC4wMTQ4NzYwODkKWURNR01GWFksMC4wMDgyNzU5OQpZRFZVUjQ2SywwLjAyMzgzOTM4CllFNFk0RDMwLDAuODI0ODg5CllFNlNXSkpaLDAuOTk1OTIzMQpZRTlNWEJFRywwLjA3NDI1NDI0NQpZRUNMNFBMSiwwLjM5MjkwMjYKWUZMNjBGOTcsMC4wMzUyNjM4CllGTEIzQlFHLDAuMDQ0MzM5MTA1CllGWkI0VEw3LDAuMDQ0MTgyNDYKWUcwTEVLNjcsMC40NDM2MDc4NApZRzNaU1RUUCwwLjAzNTk4MTY2MwpZR0FXNDhXQSwwLjk1MjY2OTkKWUdIVlFEMVAsMC42NDI2MzE5CllHSTBLQU1YLDAuMDM4ODc4MTM1CllHWkszRDJOLDAuMDE3Mjk0NQpZSDA1QlBJNSwwLjAxODA3NzcyCllIM1ZGRkpQLDAuODkxNzkwNQpZSDdTSVZMUywwLjE4NTg3NDA5CllIQU1COVNJLDAuNjYxNjI1NTYKWUhHWlQxT0wsMC42NDk0OTQzCllIVUM3RzFULDAuMDMxNjk1MDgKWUkxWkE0MUssMC41ODE5MDQzNQpZSURZTDFIOSwwLjAzOTgxNTQxCllJTFdFQldPLDEuMDEyMjQyMwpZSVI0MzZQWCwwLjcxNzAwMzkKWUlXTjRWUUksMC45NjgyMTg1CllKODdCMUoxLDAuMDk1NDc0NzY1CllKS0hOOFEyLDAuNzA4Mjk1NQpZSzJQQlc1RCwwLjAzNDcwODI3MwpZSzRDMzRENywwLjAwNjI4NTI0MzcKWUtEUlpCVE8sMC4wNDgzMTg5NTIKWUtMRkZYWVQsMC4wMTYyMDU5MTgKWUtOU0lXNkMsMC45NjczNTc5CllLWUc2TFgxLDEuMDAwMjgxNwpZTEtLTFJGRCwwLjAyMTgzNjcxNwpZTEwxNUVQVCwwLjAxMDc3ODc3OApZTFA1RjBJUiwwLjAzMDg4NjAxCllMUjg4RDRaLDAuODIyMDE2NgpZTFo3TzdNWSwwLjgyODI4NTcKWU1ENUdKV08sLTAuNDM3ODcxNjYKWU1RQVA0RkUsMC4wMzkxODgyOTYKWU1USVE4UUMsMC4wNDMxMDc4NjcKWU5PVUNXT0csMC40ODk3OTA3NApZTlZOWlNaSCwwLjQ4MzUzNzgyCllPNkJIM1VaLDAuNjE4MjE4NjYKWU9XTjJMODIsLTAuNTM4NjI0MDUKWVBBNDVJTTMsMC41NjcyNTcxNwpZUTlIQU42UCwwLjk4OTExMDA1CllSOEFKQzNMLDAuOTgzNDc3NTMKWVI5VE9EMkQsMC4wMDQ2NzM4OQpZUkwzMUwyUCwtMC4wMjY2NDQ0OApZUk1GNkhQTCwwLjE3NTgyNTQyCllSTjhNOTM0LDAuNjE0MjU0OApZUk5MSkgwVSwtMC4wMDE3Njg2NTMzCllSUTZTRjVGLDAuOTMzNDkxMgpZUlE3TFZVSywtMC4wMDYxOTkyNDUzCllSVThKSUsxLDAuMDMxNjM2MjUzCllSVjE0U1FOLDAuMDEzNzQwNTg5CllTNDNXR1owLDAuODc1NTQzNTMKWVNGU0tGMlUsMC45OTk1ODc4MwpZU0dXVkw4MSwwLjk0MTI0Mzc3CllTTzJWQVpRLDAuMDU3NjEzODEyCllTT0UxNkNILDEuMDIwMjkwNQpZU1FHRlBFMSwtMC4wNjg0MjgzNgpZVDBLTDdYRSwwLjY1NDg3NDIKWVQ5U0ZPOE8sMC4wODgzOTU0ODQKWVRDR1hUVUcsMC4wMjA2MzQ3MwpZVENQNFY0QiwwLjY5NjM4NTYKWVRESDM2VUosMC4xNDE2MTAyOApZVEhMRktORywwLjAyMTU0NTM1CllUSktUMlEwLDAuMTM4NzY3OApZVFNWTzhBSywwLjgzNzM0OTY1CllUWE5GRlZVLC0wLjAwNjcyODU2MjUKWVU2N1RUREssMC42ODE4MDE1NgpZVVFRVklFVCwwLjg0NTg1MzcKWVY2RkY5SFEsMC45NTUzOTQxNQpZVllNN0tMUiwwLjA0Mzk3MTc1CllXQzA5ME1PLDAuOTI2MTgxOQpZV0RaRVJRWSwtMC4xOTM2MDcyOQpZV1JNQ01ZQiwtMC4zOTA4MjQxCllYM0xYTDZULDAuMDIyNDAwNzUyCllYNzFIUUdSLDAuNzc2NTc1NzQKWVhFQ1gxVVcsMC4wMzkxNDcxODcKWVhKVkVPWEcsMC4wMjcxNzE4MgpZWTNXOEpDVSwwLjAxMTU0NTM4OQpZWU1KQ0FFUSwwLjg3MDgxMTQ2CllZUk1MWEM0LDAuODk1NzUzMTUKWVlTV1pMTE8sLTAuMTc0NjU3MgpZWVQwMlZHWCwwLjg3OTM1NDgKWVpQMDZVRzUsMC4wMzAxNTAyMTIKWjBJMDg4UVQsLTAuMDIzOTUxODkyClowSjMxT0QxLDAuOTUxMzI1NTQKWjBLVVBDRDEsMC42OTIwMzc5NApaME5DTVpISywwLjkxNTc2NjkKWjFQVVZDTjgsMC41Mzk4NTU1CloxU1JUWE40LDAuMDEwNjIzODY5NQpaMjNIUFpaVSwwLjI0MzM1MDA3ClozMzBTUzZTLDAuNTQwOTU0OQpaMzlXNVFUQSwwLjYyMjE0NzU2ClozQ1dOUVJKLDAuOTI1MTk5NwpaM0dSVzNaSiwwLjk1OTAxMDA2ClozU0ZPMkdNLDAuMDEyMjc4MDg4ClozVDcwRE42LDAuOTIxNDIyMwpaM1g5OUw5RiwxLjAwMjQ5MjgKWjQ4UVdURDAsMC4wMTA4OTkzODQ1Clo0RUJZQU0wLDAuOTIzMzIxMDcKWjRLR0s5RVIsLTAuMzg2OTkwMDcKWjRYSTE5T1gsMC4wMDU1MzQxODA0Clo1MzQxS0RCLDAuOTIyNjA2MTcKWjUzR1Y3NzUsMC45MDMxMzY3MwpaNURPQ0RXNCwwLjk1MzUxNjg0Clo1R0xFSTQzLC0wLjA1Mjg1MzYwMwpaNU1GMUcxViwwLjA1MDcxOTA4MgpaNU43TFcxUywxLjAyNzI3NTIKWjVPWTIzNDYsLTAuODI4MDA3NzYKWjVYSE1UWVIsMC4wMTMyODg1NDIKWjYwUTg4UkcsMC4wMDM0Mzg4NDgKWjZVMzlOTTYsMC4wNTE0OTUyNApaNlhZNlgwRCwwLjA2NDY3NjY4Clo4MjFaVjAzLDAuOTkzOTA5MDYKWjhFOE9NV1YsMC4zMTgyMzg1MwpaOEY3QVNMQiwwLjA3MDM2NDQxNgpaOEhIN1ZMWSwwLjk5Mzk4MzMKWjhSTlRQUzAsMC42OTEyOTI0NgpaOFlSNDYwUywwLjM0MjEwODM0Clo5MFVSWTlXLC0wLjE1Mjc3NjAyClo5SDhUU1dHLDAuODMyODc5OApaOVdPQlFNNywwLjcxNDIwMDg1ClpBN0ZNNDBFLDAuODQ4Mzg5MQpaQUg2NFpPRywwLjg5MDk2NjUKWkFKUFVNSFcsMC43MjQ0ODY4ClpCNTFIT0c2LDAuMDI4NjI0NTg3ClpCSVdOUjNCLDAuOTM4NTA0OQpaQlpaT002VSwwLjA0NzE3NjEKWkNGNDM4SzMsMC4wMDk1NDI3MTgKWkNUVk81MUQsMC45NDUzMTU2NgpaQ1c0TTZUSSwwLjAyODE3MwpaRDg3WFYwNCwtMC45ODcwOTk5ClpETVkyT1BELDAuMDUwNzA3NDQ1ClpFNEdJWlpJLDAuNTE0OTkyClpFOFBHQVRWLDAuMTkyODk0ODIKWkVKTTU2Q1EsMC45NjExNDg1NgpaRjcwUUVBSSwwLjkyNDcwMTgKWkZFTzU4VVUsMC4wMzczNjk5MzcKWkZOOUNaU0csLTAuMDE1MzY4MzQKWkZVUElGWTAsMC44ODM1NDc2NgpaR0dPQk0wVywwLjA0NDc4MzUxClpHSE5KMzUwLDAuOTAzNjQxMQpaR1M4WlFDNSwtMC4wMDgwMzI3NwpaR1ZMM0tKRCwwLjk5Mzc4NDI1ClpHWkVKR1dVLDAuMTk2NTg1MDcKWkhGR1MyWFYsMC4wNTc2Mjc4NwpaSE9JQk9KMCwwLjc5MDU0NTkKWkhPVUFOMTksMS4wMTA1OTY2ClpIUkdWMDNMLC0wLjA0NzA1ODQ3ClpJMEVBT0lJLC0wLjgzNDM4NjIKWkk2UkVNWEwsMS4wMDE4ODg2ClpJREtWMzJDLDAuNzUzMzU0MgpaSUtTUkIyMywwLjgxMDAyMDQ1ClpJS1ZIQVhPLC0wLjk4MDc4OTk2ClpKMDZNUDE4LDAuMDM3NTY5MzYKWkpBUDE4RzQsMC45NjQzMTM3NQpaSkUzQ0ZHWiwxLjAwMzM3NTYKWks5TUNENTYsMC43Njc0OTE0NgpaS0RORzVURywwLjgyMjI0ODQKWktIRFBISVYsLTAuODE1Mjk2ClpLSkQyRVJKLDAuOTA5NjQwNTUKWktVRE83MU4sMC44NDk0MTEyClpMRTlLRk01LDAuODk2ODY1OApaTExVT0ZXMiwwLjk1NTQ4NTc2ClpMT0pZVjRYLDAuMTQ0NTcyNzMKWkxaMVRRN0csMC4wNTkzNTc5MjYKWk0xWjJaTDMsMC4wMjk4ODA4NTUKWk1PUFM4OEMsMC4xMzM3ODU2NApaTVBXQkRaTiwwLjk0Mjk0NDM1ClpNVFQxNUtMLDAuOTQ3MjYzNQpaTVhOR1RESCwwLjg1ODE2NDcKWk43WEVZQlosMC43OTM3MDYyClpOQlMzRjlGLDAuMDA5NjY3NTM5ClpOTkdBSk5WLDAuMDU0ODY2MDUzClpOVkk5UTc3LDAuMjQzNzY4OTIKWk5ZOE5MMzQsMC4wNzQyMzg4OQpaTzZNSUNSOCwwLjkyMTQ1OTkKWk9DUEhTWVksMC44MDU5OTcyNQpaT0lWM1RSMywwLjg0OTAxMzEKWk9OOUxEREosMC44MjM3ODM1ClpPVDc3STkzLDAuOTEyNDM2NApaT1lTRVFSQiwwLjYxMzcwNTUKWlA4STlYTlAsMC4wMDQwNzY0OTg2ClpQREROTkkwLDAuNDkxOTcwMDYKWlBQU1NEN0ssMC4wMjA5MzIwNzgKWlBUMVFMOE4sMC44NjI4NzcxClpQWU42UEQ2LC0wLjU5MzYzNjcKWlFBSTQ4MVIsMC4wMTA1NjgzNDIKWlIyUVIzRVUsMS4wMDE2OTI0ClpSNDlZV0xXLDAuODgyODY4MgpaUkJQTDBWQSwwLjAyMDc4MDc5ClpSRTJHM0FaLDAuODMxODY5OTYKWlJZQTNERzMsMC4wMDkwOTE4OTYKWlNDTUo4NkEsMC45NzYxMjUyNApaU0dXUVFLNiwwLjg5NDQ0OTY1ClpUR1NSMVo5LDAuMDA2MDI5MTI4ClpUSFRSWEdLLDAuMDA0MTYxNTYyClpUT1JPSk1aLDAuMDk3ODU2MjQ2ClpVNDJHTlpWLC0wLjAxMTc2NTUwNwpaVU9HWUNTUiwwLjM2OTI4MjQyClpVVVBKMFhLLC0wLjMyMjgxNDMyClpWQUdFTVZOLDAuODk1MjEwMgpaVkdLNE5ISSwwLjAxMzU0MTkyNwpaVlk0TUdUWSwwLjc5NDU2NTQ0ClpXM0IwUVNGLDAuOTE4ODUzMgpaV0dLSEk5WCwtMC4xMDIzMjE5NwpaV0dXSFoyUCwwLjMyMTU1NzM3ClpXTUY3VDI4LDAuMDE1NDE4NzM5ClpXWjVVSEg1LDAuOTk3MTg4MTUKWlgxVlk3M04sMC45MTE2NDE5ClpYQ0hPVUtMLDAuNzY5NTM1NjYKWlhNMFlIVzIsMC4wMjYwMDc4MzEKWlhORUE5SVIsMC40MjU0MzkxNQpaWFZWTkM1TywwLjg3MTg2ODk3ClpZSUFOVkk4LDAuMDMwOTk1MjcyClpZSVRFSEFILDAuMDUxNjc4MwpaWjNCTUJURywxLjAwMjg5MTkKWlpJWUNWTkgsMC42ODc0MTY0Mwo=\" target=\"_blank\">Download CSV file</a>"
      ],
      "text/plain": [
       "<IPython.core.display.HTML object>"
      ]
     },
     "execution_count": 74,
     "metadata": {
      "tags": []
     },
     "output_type": "execute_result"
    }
   ],
   "source": [
    "from IPython.display import HTML\n",
    "import pandas as pd\n",
    "import numpy as np\n",
    "import base64\n",
    "\n",
    "def create_download_link(df, title = \"Download CSV file\", filename = \"submission.csv\"):  \n",
    "    csv = df.to_csv(index=False)\n",
    "    b64 = base64.b64encode(csv.encode())\n",
    "    payload = b64.decode()\n",
    "    html = '<a download=\"{filename}\" href=\"data:text/csv;base64,{payload}\" target=\"_blank\">{title}</a>'\n",
    "    html = html.format(payload=payload,title=title,filename=filename)\n",
    "    return HTML(html)\n",
    "\n",
    "create_download_link(sub)"
   ]
  }
 ],
 "metadata": {
  "accelerator": "GPU",
  "colab": {
   "collapsed_sections": [],
   "name": "s19_SimpleTransformers_0.544987946325391.ipynb",
   "provenance": []
  },
  "kernelspec": {
   "display_name": "Python 3",
   "language": "python",
   "name": "python3"
  },
  "language_info": {
   "codemirror_mode": {
    "name": "ipython",
    "version": 3
   },
   "file_extension": ".py",
   "mimetype": "text/x-python",
   "name": "python",
   "nbconvert_exporter": "python",
   "pygments_lexer": "ipython3",
   "version": "3.7.6"
  },
  "toc": {
   "base_numbering": 1,
   "nav_menu": {},
   "number_sections": true,
   "sideBar": true,
   "skip_h1_title": false,
   "title_cell": "Table of Contents",
   "title_sidebar": "Contents",
   "toc_cell": false,
   "toc_position": {},
   "toc_section_display": true,
   "toc_window_display": false
  },
  "widgets": {
   "application/vnd.jupyter.widget-state+json": {
    "029a8888420b4297af162b20eab533e2": {
     "model_module": "@jupyter-widgets/base",
     "model_name": "LayoutModel",
     "state": {
      "_model_module": "@jupyter-widgets/base",
      "_model_module_version": "1.2.0",
      "_model_name": "LayoutModel",
      "_view_count": null,
      "_view_module": "@jupyter-widgets/base",
      "_view_module_version": "1.2.0",
      "_view_name": "LayoutView",
      "align_content": null,
      "align_items": null,
      "align_self": null,
      "border": null,
      "bottom": null,
      "display": null,
      "flex": null,
      "flex_flow": null,
      "grid_area": null,
      "grid_auto_columns": null,
      "grid_auto_flow": null,
      "grid_auto_rows": null,
      "grid_column": null,
      "grid_gap": null,
      "grid_row": null,
      "grid_template_areas": null,
      "grid_template_columns": null,
      "grid_template_rows": null,
      "height": null,
      "justify_content": null,
      "justify_items": null,
      "left": null,
      "margin": null,
      "max_height": null,
      "max_width": null,
      "min_height": null,
      "min_width": null,
      "object_fit": null,
      "object_position": null,
      "order": null,
      "overflow": null,
      "overflow_x": null,
      "overflow_y": null,
      "padding": null,
      "right": null,
      "top": null,
      "visibility": null,
      "width": null
     }
    },
    "0981962b9f45419eb9bf294caae68abe": {
     "model_module": "@jupyter-widgets/controls",
     "model_name": "IntProgressModel",
     "state": {
      "_dom_classes": [],
      "_model_module": "@jupyter-widgets/controls",
      "_model_module_version": "1.5.0",
      "_model_name": "IntProgressModel",
      "_view_count": null,
      "_view_module": "@jupyter-widgets/controls",
      "_view_module_version": "1.5.0",
      "_view_name": "ProgressView",
      "bar_style": "success",
      "description": "100%",
      "description_tooltip": null,
      "layout": "IPY_MODEL_6c29f92424a34fbba813cca3156227cc",
      "max": 2000,
      "min": 0,
      "orientation": "horizontal",
      "style": "IPY_MODEL_ac64b17aaa634578840e951e9ebdb8db",
      "value": 2000
     }
    },
    "0db85c534bf54164a8143f15bf236ec2": {
     "model_module": "@jupyter-widgets/controls",
     "model_name": "DescriptionStyleModel",
     "state": {
      "_model_module": "@jupyter-widgets/controls",
      "_model_module_version": "1.5.0",
      "_model_name": "DescriptionStyleModel",
      "_view_count": null,
      "_view_module": "@jupyter-widgets/base",
      "_view_module_version": "1.2.0",
      "_view_name": "StyleView",
      "description_width": ""
     }
    },
    "0feb1a17b2854ec8874ea21141330cb7": {
     "model_module": "@jupyter-widgets/controls",
     "model_name": "ProgressStyleModel",
     "state": {
      "_model_module": "@jupyter-widgets/controls",
      "_model_module_version": "1.5.0",
      "_model_name": "ProgressStyleModel",
      "_view_count": null,
      "_view_module": "@jupyter-widgets/base",
      "_view_module_version": "1.2.0",
      "_view_name": "StyleView",
      "bar_color": null,
      "description_width": "initial"
     }
    },
    "19d5c2d874a4417a91b5beb3dac97c1d": {
     "model_module": "@jupyter-widgets/controls",
     "model_name": "IntProgressModel",
     "state": {
      "_dom_classes": [],
      "_model_module": "@jupyter-widgets/controls",
      "_model_module_version": "1.5.0",
      "_model_name": "IntProgressModel",
      "_view_count": null,
      "_view_module": "@jupyter-widgets/controls",
      "_view_module_version": "1.5.0",
      "_view_name": "ProgressView",
      "bar_style": "success",
      "description": "100%",
      "description_tooltip": null,
      "layout": "IPY_MODEL_8a6bffa5922d44c89f512f843cff6913",
      "max": 648,
      "min": 0,
      "orientation": "horizontal",
      "style": "IPY_MODEL_d4af8d30f4d04625b77384df363f4aa7",
      "value": 648
     }
    },
    "1ba03f74c4ba4f50abac55cf7719ec9a": {
     "model_module": "@jupyter-widgets/base",
     "model_name": "LayoutModel",
     "state": {
      "_model_module": "@jupyter-widgets/base",
      "_model_module_version": "1.2.0",
      "_model_name": "LayoutModel",
      "_view_count": null,
      "_view_module": "@jupyter-widgets/base",
      "_view_module_version": "1.2.0",
      "_view_name": "LayoutView",
      "align_content": null,
      "align_items": null,
      "align_self": null,
      "border": null,
      "bottom": null,
      "display": null,
      "flex": null,
      "flex_flow": null,
      "grid_area": null,
      "grid_auto_columns": null,
      "grid_auto_flow": null,
      "grid_auto_rows": null,
      "grid_column": null,
      "grid_gap": null,
      "grid_row": null,
      "grid_template_areas": null,
      "grid_template_columns": null,
      "grid_template_rows": null,
      "height": null,
      "justify_content": null,
      "justify_items": null,
      "left": null,
      "margin": null,
      "max_height": null,
      "max_width": null,
      "min_height": null,
      "min_width": null,
      "object_fit": null,
      "object_position": null,
      "order": null,
      "overflow": null,
      "overflow_x": null,
      "overflow_y": null,
      "padding": null,
      "right": null,
      "top": null,
      "visibility": null,
      "width": null
     }
    },
    "1bf2a7a085b24357b0c4b875dea44dea": {
     "model_module": "@jupyter-widgets/controls",
     "model_name": "IntProgressModel",
     "state": {
      "_dom_classes": [],
      "_model_module": "@jupyter-widgets/controls",
      "_model_module_version": "1.5.0",
      "_model_name": "IntProgressModel",
      "_view_count": null,
      "_view_module": "@jupyter-widgets/controls",
      "_view_module_version": "1.5.0",
      "_view_name": "ProgressView",
      "bar_style": "success",
      "description": "Current iteration: 100%",
      "description_tooltip": null,
      "layout": "IPY_MODEL_65a4843a47454d049e6fd067410b2f42",
      "max": 1000,
      "min": 0,
      "orientation": "horizontal",
      "style": "IPY_MODEL_fe1c97319cbf4f0ea7b71273dc23ac22",
      "value": 1000
     }
    },
    "1cf94d64f98b4fb4858a66ab8bafde32": {
     "model_module": "@jupyter-widgets/controls",
     "model_name": "HBoxModel",
     "state": {
      "_dom_classes": [],
      "_model_module": "@jupyter-widgets/controls",
      "_model_module_version": "1.5.0",
      "_model_name": "HBoxModel",
      "_view_count": null,
      "_view_module": "@jupyter-widgets/controls",
      "_view_module_version": "1.5.0",
      "_view_name": "HBoxView",
      "box_style": "",
      "children": [
       "IPY_MODEL_81fc77280dcf4d07a46332c87a1f4b41",
       "IPY_MODEL_559c63002c4442168491eed63cd0df53"
      ],
      "layout": "IPY_MODEL_95f593dd458e4c4781879fd38b8f243a"
     }
    },
    "1f44fd8a84a94cb78973398dc1348660": {
     "model_module": "@jupyter-widgets/controls",
     "model_name": "ProgressStyleModel",
     "state": {
      "_model_module": "@jupyter-widgets/controls",
      "_model_module_version": "1.5.0",
      "_model_name": "ProgressStyleModel",
      "_view_count": null,
      "_view_module": "@jupyter-widgets/base",
      "_view_module_version": "1.2.0",
      "_view_name": "StyleView",
      "bar_color": null,
      "description_width": "initial"
     }
    },
    "28f668c0b2764b74975f328afab34144": {
     "model_module": "@jupyter-widgets/base",
     "model_name": "LayoutModel",
     "state": {
      "_model_module": "@jupyter-widgets/base",
      "_model_module_version": "1.2.0",
      "_model_name": "LayoutModel",
      "_view_count": null,
      "_view_module": "@jupyter-widgets/base",
      "_view_module_version": "1.2.0",
      "_view_name": "LayoutView",
      "align_content": null,
      "align_items": null,
      "align_self": null,
      "border": null,
      "bottom": null,
      "display": null,
      "flex": null,
      "flex_flow": null,
      "grid_area": null,
      "grid_auto_columns": null,
      "grid_auto_flow": null,
      "grid_auto_rows": null,
      "grid_column": null,
      "grid_gap": null,
      "grid_row": null,
      "grid_template_areas": null,
      "grid_template_columns": null,
      "grid_template_rows": null,
      "height": null,
      "justify_content": null,
      "justify_items": null,
      "left": null,
      "margin": null,
      "max_height": null,
      "max_width": null,
      "min_height": null,
      "min_width": null,
      "object_fit": null,
      "object_position": null,
      "order": null,
      "overflow": null,
      "overflow_x": null,
      "overflow_y": null,
      "padding": null,
      "right": null,
      "top": null,
      "visibility": null,
      "width": null
     }
    },
    "2b6ddf01ebe84e4a8bf0c690134ab699": {
     "model_module": "@jupyter-widgets/controls",
     "model_name": "HBoxModel",
     "state": {
      "_dom_classes": [],
      "_model_module": "@jupyter-widgets/controls",
      "_model_module_version": "1.5.0",
      "_model_name": "HBoxModel",
      "_view_count": null,
      "_view_module": "@jupyter-widgets/controls",
      "_view_module_version": "1.5.0",
      "_view_name": "HBoxView",
      "box_style": "",
      "children": [
       "IPY_MODEL_1bf2a7a085b24357b0c4b875dea44dea",
       "IPY_MODEL_9f6885c670484389b35750a6860e1e6c"
      ],
      "layout": "IPY_MODEL_55bcd65633664e10b5ca8472bb3fe566"
     }
    },
    "2f4d7618817c40738bdbfe0f1247f97d": {
     "model_module": "@jupyter-widgets/controls",
     "model_name": "HTMLModel",
     "state": {
      "_dom_classes": [],
      "_model_module": "@jupyter-widgets/controls",
      "_model_module_version": "1.5.0",
      "_model_name": "HTMLModel",
      "_view_count": null,
      "_view_module": "@jupyter-widgets/controls",
      "_view_module_version": "1.5.0",
      "_view_name": "HTMLView",
      "description": "",
      "description_tooltip": null,
      "layout": "IPY_MODEL_dd370373a27d424f8b05f83316772d75",
      "placeholder": "​",
      "style": "IPY_MODEL_de90e1494b7346f88e1839535e92afd0",
      "value": " 5177/5177 [00:02&lt;00:00, 2059.45it/s]"
     }
    },
    "35d105ba0c664b98bded1eca1558fd99": {
     "model_module": "@jupyter-widgets/controls",
     "model_name": "HBoxModel",
     "state": {
      "_dom_classes": [],
      "_model_module": "@jupyter-widgets/controls",
      "_model_module_version": "1.5.0",
      "_model_name": "HBoxModel",
      "_view_count": null,
      "_view_module": "@jupyter-widgets/controls",
      "_view_module_version": "1.5.0",
      "_view_name": "HBoxView",
      "box_style": "",
      "children": [
       "IPY_MODEL_a5a1d6267d41461a8cb85370c3862f5d",
       "IPY_MODEL_a091bfe8587b415fbf1d34d006350f02"
      ],
      "layout": "IPY_MODEL_458b786f85c347b29b1174bc3fc2829a"
     }
    },
    "35e3a07e8b054d88bb3ebb5494b85f09": {
     "model_module": "@jupyter-widgets/controls",
     "model_name": "ProgressStyleModel",
     "state": {
      "_model_module": "@jupyter-widgets/controls",
      "_model_module_version": "1.5.0",
      "_model_name": "ProgressStyleModel",
      "_view_count": null,
      "_view_module": "@jupyter-widgets/base",
      "_view_module_version": "1.2.0",
      "_view_name": "StyleView",
      "bar_color": null,
      "description_width": "initial"
     }
    },
    "3807573867514f6c8960983e04292a0f": {
     "model_module": "@jupyter-widgets/base",
     "model_name": "LayoutModel",
     "state": {
      "_model_module": "@jupyter-widgets/base",
      "_model_module_version": "1.2.0",
      "_model_name": "LayoutModel",
      "_view_count": null,
      "_view_module": "@jupyter-widgets/base",
      "_view_module_version": "1.2.0",
      "_view_name": "LayoutView",
      "align_content": null,
      "align_items": null,
      "align_self": null,
      "border": null,
      "bottom": null,
      "display": null,
      "flex": null,
      "flex_flow": null,
      "grid_area": null,
      "grid_auto_columns": null,
      "grid_auto_flow": null,
      "grid_auto_rows": null,
      "grid_column": null,
      "grid_gap": null,
      "grid_row": null,
      "grid_template_areas": null,
      "grid_template_columns": null,
      "grid_template_rows": null,
      "height": null,
      "justify_content": null,
      "justify_items": null,
      "left": null,
      "margin": null,
      "max_height": null,
      "max_width": null,
      "min_height": null,
      "min_width": null,
      "object_fit": null,
      "object_position": null,
      "order": null,
      "overflow": null,
      "overflow_x": null,
      "overflow_y": null,
      "padding": null,
      "right": null,
      "top": null,
      "visibility": null,
      "width": null
     }
    },
    "3a6dd7111cf34ce5b5ee8143004365b4": {
     "model_module": "@jupyter-widgets/base",
     "model_name": "LayoutModel",
     "state": {
      "_model_module": "@jupyter-widgets/base",
      "_model_module_version": "1.2.0",
      "_model_name": "LayoutModel",
      "_view_count": null,
      "_view_module": "@jupyter-widgets/base",
      "_view_module_version": "1.2.0",
      "_view_name": "LayoutView",
      "align_content": null,
      "align_items": null,
      "align_self": null,
      "border": null,
      "bottom": null,
      "display": null,
      "flex": null,
      "flex_flow": null,
      "grid_area": null,
      "grid_auto_columns": null,
      "grid_auto_flow": null,
      "grid_auto_rows": null,
      "grid_column": null,
      "grid_gap": null,
      "grid_row": null,
      "grid_template_areas": null,
      "grid_template_columns": null,
      "grid_template_rows": null,
      "height": null,
      "justify_content": null,
      "justify_items": null,
      "left": null,
      "margin": null,
      "max_height": null,
      "max_width": null,
      "min_height": null,
      "min_width": null,
      "object_fit": null,
      "object_position": null,
      "order": null,
      "overflow": null,
      "overflow_x": null,
      "overflow_y": null,
      "padding": null,
      "right": null,
      "top": null,
      "visibility": null,
      "width": null
     }
    },
    "40645eb613ad42798e6a8fe1d18115cf": {
     "model_module": "@jupyter-widgets/controls",
     "model_name": "HBoxModel",
     "state": {
      "_dom_classes": [],
      "_model_module": "@jupyter-widgets/controls",
      "_model_module_version": "1.5.0",
      "_model_name": "HBoxModel",
      "_view_count": null,
      "_view_module": "@jupyter-widgets/controls",
      "_view_module_version": "1.5.0",
      "_view_name": "HBoxView",
      "box_style": "",
      "children": [
       "IPY_MODEL_a2e4cda6b1644657a16bbe4aeeb78dba",
       "IPY_MODEL_2f4d7618817c40738bdbfe0f1247f97d"
      ],
      "layout": "IPY_MODEL_97c07224298f40f7971eb94590d7d077"
     }
    },
    "458b786f85c347b29b1174bc3fc2829a": {
     "model_module": "@jupyter-widgets/base",
     "model_name": "LayoutModel",
     "state": {
      "_model_module": "@jupyter-widgets/base",
      "_model_module_version": "1.2.0",
      "_model_name": "LayoutModel",
      "_view_count": null,
      "_view_module": "@jupyter-widgets/base",
      "_view_module_version": "1.2.0",
      "_view_name": "LayoutView",
      "align_content": null,
      "align_items": null,
      "align_self": null,
      "border": null,
      "bottom": null,
      "display": null,
      "flex": null,
      "flex_flow": null,
      "grid_area": null,
      "grid_auto_columns": null,
      "grid_auto_flow": null,
      "grid_auto_rows": null,
      "grid_column": null,
      "grid_gap": null,
      "grid_row": null,
      "grid_template_areas": null,
      "grid_template_columns": null,
      "grid_template_rows": null,
      "height": null,
      "justify_content": null,
      "justify_items": null,
      "left": null,
      "margin": null,
      "max_height": null,
      "max_width": null,
      "min_height": null,
      "min_width": null,
      "object_fit": null,
      "object_position": null,
      "order": null,
      "overflow": null,
      "overflow_x": null,
      "overflow_y": null,
      "padding": null,
      "right": null,
      "top": null,
      "visibility": null,
      "width": null
     }
    },
    "4e8101a326fa43a691c09dfcf5a1588b": {
     "model_module": "@jupyter-widgets/controls",
     "model_name": "IntProgressModel",
     "state": {
      "_dom_classes": [],
      "_model_module": "@jupyter-widgets/controls",
      "_model_module_version": "1.5.0",
      "_model_name": "IntProgressModel",
      "_view_count": null,
      "_view_module": "@jupyter-widgets/controls",
      "_view_module_version": "1.5.0",
      "_view_name": "ProgressView",
      "bar_style": "success",
      "description": "Epoch: 100%",
      "description_tooltip": null,
      "layout": "IPY_MODEL_1ba03f74c4ba4f50abac55cf7719ec9a",
      "max": 3,
      "min": 0,
      "orientation": "horizontal",
      "style": "IPY_MODEL_818e635d20e649ba8f9b5c25b4e7115c",
      "value": 3
     }
    },
    "55644f6b34b94f4aacb67987f611f7b4": {
     "model_module": "@jupyter-widgets/base",
     "model_name": "LayoutModel",
     "state": {
      "_model_module": "@jupyter-widgets/base",
      "_model_module_version": "1.2.0",
      "_model_name": "LayoutModel",
      "_view_count": null,
      "_view_module": "@jupyter-widgets/base",
      "_view_module_version": "1.2.0",
      "_view_name": "LayoutView",
      "align_content": null,
      "align_items": null,
      "align_self": null,
      "border": null,
      "bottom": null,
      "display": null,
      "flex": null,
      "flex_flow": null,
      "grid_area": null,
      "grid_auto_columns": null,
      "grid_auto_flow": null,
      "grid_auto_rows": null,
      "grid_column": null,
      "grid_gap": null,
      "grid_row": null,
      "grid_template_areas": null,
      "grid_template_columns": null,
      "grid_template_rows": null,
      "height": null,
      "justify_content": null,
      "justify_items": null,
      "left": null,
      "margin": null,
      "max_height": null,
      "max_width": null,
      "min_height": null,
      "min_width": null,
      "object_fit": null,
      "object_position": null,
      "order": null,
      "overflow": null,
      "overflow_x": null,
      "overflow_y": null,
      "padding": null,
      "right": null,
      "top": null,
      "visibility": null,
      "width": null
     }
    },
    "559c63002c4442168491eed63cd0df53": {
     "model_module": "@jupyter-widgets/controls",
     "model_name": "HTMLModel",
     "state": {
      "_dom_classes": [],
      "_model_module": "@jupyter-widgets/controls",
      "_model_module_version": "1.5.0",
      "_model_name": "HTMLModel",
      "_view_count": null,
      "_view_module": "@jupyter-widgets/controls",
      "_view_module_version": "1.5.0",
      "_view_name": "HTMLView",
      "description": "",
      "description_tooltip": null,
      "layout": "IPY_MODEL_3a6dd7111cf34ce5b5ee8143004365b4",
      "placeholder": "​",
      "style": "IPY_MODEL_0db85c534bf54164a8143f15bf236ec2",
      "value": " 1000/1000 [05:13&lt;00:00,  3.19it/s]"
     }
    },
    "55bcd65633664e10b5ca8472bb3fe566": {
     "model_module": "@jupyter-widgets/base",
     "model_name": "LayoutModel",
     "state": {
      "_model_module": "@jupyter-widgets/base",
      "_model_module_version": "1.2.0",
      "_model_name": "LayoutModel",
      "_view_count": null,
      "_view_module": "@jupyter-widgets/base",
      "_view_module_version": "1.2.0",
      "_view_name": "LayoutView",
      "align_content": null,
      "align_items": null,
      "align_self": null,
      "border": null,
      "bottom": null,
      "display": null,
      "flex": null,
      "flex_flow": null,
      "grid_area": null,
      "grid_auto_columns": null,
      "grid_auto_flow": null,
      "grid_auto_rows": null,
      "grid_column": null,
      "grid_gap": null,
      "grid_row": null,
      "grid_template_areas": null,
      "grid_template_columns": null,
      "grid_template_rows": null,
      "height": null,
      "justify_content": null,
      "justify_items": null,
      "left": null,
      "margin": null,
      "max_height": null,
      "max_width": null,
      "min_height": null,
      "min_width": null,
      "object_fit": null,
      "object_position": null,
      "order": null,
      "overflow": null,
      "overflow_x": null,
      "overflow_y": null,
      "padding": null,
      "right": null,
      "top": null,
      "visibility": null,
      "width": null
     }
    },
    "56ea27c9caac49c7b2e59c2e1a416808": {
     "model_module": "@jupyter-widgets/base",
     "model_name": "LayoutModel",
     "state": {
      "_model_module": "@jupyter-widgets/base",
      "_model_module_version": "1.2.0",
      "_model_name": "LayoutModel",
      "_view_count": null,
      "_view_module": "@jupyter-widgets/base",
      "_view_module_version": "1.2.0",
      "_view_name": "LayoutView",
      "align_content": null,
      "align_items": null,
      "align_self": null,
      "border": null,
      "bottom": null,
      "display": null,
      "flex": null,
      "flex_flow": null,
      "grid_area": null,
      "grid_auto_columns": null,
      "grid_auto_flow": null,
      "grid_auto_rows": null,
      "grid_column": null,
      "grid_gap": null,
      "grid_row": null,
      "grid_template_areas": null,
      "grid_template_columns": null,
      "grid_template_rows": null,
      "height": null,
      "justify_content": null,
      "justify_items": null,
      "left": null,
      "margin": null,
      "max_height": null,
      "max_width": null,
      "min_height": null,
      "min_width": null,
      "object_fit": null,
      "object_position": null,
      "order": null,
      "overflow": null,
      "overflow_x": null,
      "overflow_y": null,
      "padding": null,
      "right": null,
      "top": null,
      "visibility": null,
      "width": null
     }
    },
    "572a0fcef3a64977966c36c94b57ce10": {
     "model_module": "@jupyter-widgets/base",
     "model_name": "LayoutModel",
     "state": {
      "_model_module": "@jupyter-widgets/base",
      "_model_module_version": "1.2.0",
      "_model_name": "LayoutModel",
      "_view_count": null,
      "_view_module": "@jupyter-widgets/base",
      "_view_module_version": "1.2.0",
      "_view_name": "LayoutView",
      "align_content": null,
      "align_items": null,
      "align_self": null,
      "border": null,
      "bottom": null,
      "display": null,
      "flex": null,
      "flex_flow": null,
      "grid_area": null,
      "grid_auto_columns": null,
      "grid_auto_flow": null,
      "grid_auto_rows": null,
      "grid_column": null,
      "grid_gap": null,
      "grid_row": null,
      "grid_template_areas": null,
      "grid_template_columns": null,
      "grid_template_rows": null,
      "height": null,
      "justify_content": null,
      "justify_items": null,
      "left": null,
      "margin": null,
      "max_height": null,
      "max_width": null,
      "min_height": null,
      "min_width": null,
      "object_fit": null,
      "object_position": null,
      "order": null,
      "overflow": null,
      "overflow_x": null,
      "overflow_y": null,
      "padding": null,
      "right": null,
      "top": null,
      "visibility": null,
      "width": null
     }
    },
    "5a4ad99a4101412dbefad1fc31a99a53": {
     "model_module": "@jupyter-widgets/controls",
     "model_name": "DescriptionStyleModel",
     "state": {
      "_model_module": "@jupyter-widgets/controls",
      "_model_module_version": "1.5.0",
      "_model_name": "DescriptionStyleModel",
      "_view_count": null,
      "_view_module": "@jupyter-widgets/base",
      "_view_module_version": "1.2.0",
      "_view_name": "StyleView",
      "description_width": ""
     }
    },
    "63d19b6060b74b329a221f4517a53c0d": {
     "model_module": "@jupyter-widgets/controls",
     "model_name": "HBoxModel",
     "state": {
      "_dom_classes": [],
      "_model_module": "@jupyter-widgets/controls",
      "_model_module_version": "1.5.0",
      "_model_name": "HBoxModel",
      "_view_count": null,
      "_view_module": "@jupyter-widgets/controls",
      "_view_module_version": "1.5.0",
      "_view_name": "HBoxView",
      "box_style": "",
      "children": [
       "IPY_MODEL_0981962b9f45419eb9bf294caae68abe",
       "IPY_MODEL_e3b4af207ea9498db719e30f63b874f3"
      ],
      "layout": "IPY_MODEL_28f668c0b2764b74975f328afab34144"
     }
    },
    "65a4843a47454d049e6fd067410b2f42": {
     "model_module": "@jupyter-widgets/base",
     "model_name": "LayoutModel",
     "state": {
      "_model_module": "@jupyter-widgets/base",
      "_model_module_version": "1.2.0",
      "_model_name": "LayoutModel",
      "_view_count": null,
      "_view_module": "@jupyter-widgets/base",
      "_view_module_version": "1.2.0",
      "_view_name": "LayoutView",
      "align_content": null,
      "align_items": null,
      "align_self": null,
      "border": null,
      "bottom": null,
      "display": null,
      "flex": null,
      "flex_flow": null,
      "grid_area": null,
      "grid_auto_columns": null,
      "grid_auto_flow": null,
      "grid_auto_rows": null,
      "grid_column": null,
      "grid_gap": null,
      "grid_row": null,
      "grid_template_areas": null,
      "grid_template_columns": null,
      "grid_template_rows": null,
      "height": null,
      "justify_content": null,
      "justify_items": null,
      "left": null,
      "margin": null,
      "max_height": null,
      "max_width": null,
      "min_height": null,
      "min_width": null,
      "object_fit": null,
      "object_position": null,
      "order": null,
      "overflow": null,
      "overflow_x": null,
      "overflow_y": null,
      "padding": null,
      "right": null,
      "top": null,
      "visibility": null,
      "width": null
     }
    },
    "675be8d350574507ba6ee05c85789139": {
     "model_module": "@jupyter-widgets/controls",
     "model_name": "HBoxModel",
     "state": {
      "_dom_classes": [],
      "_model_module": "@jupyter-widgets/controls",
      "_model_module_version": "1.5.0",
      "_model_name": "HBoxModel",
      "_view_count": null,
      "_view_module": "@jupyter-widgets/controls",
      "_view_module_version": "1.5.0",
      "_view_name": "HBoxView",
      "box_style": "",
      "children": [
       "IPY_MODEL_4e8101a326fa43a691c09dfcf5a1588b",
       "IPY_MODEL_ad322ba62bc44f68a38450791f5a4177"
      ],
      "layout": "IPY_MODEL_029a8888420b4297af162b20eab533e2"
     }
    },
    "6856a75bdf67494584da473f371d3926": {
     "model_module": "@jupyter-widgets/controls",
     "model_name": "HTMLModel",
     "state": {
      "_dom_classes": [],
      "_model_module": "@jupyter-widgets/controls",
      "_model_module_version": "1.5.0",
      "_model_name": "HTMLModel",
      "_view_count": null,
      "_view_module": "@jupyter-widgets/controls",
      "_view_module_version": "1.5.0",
      "_view_name": "HTMLView",
      "description": "",
      "description_tooltip": null,
      "layout": "IPY_MODEL_572a0fcef3a64977966c36c94b57ce10",
      "placeholder": "​",
      "style": "IPY_MODEL_8d37d89526804f589599b7bbeb0a7043",
      "value": " 648/648 [00:46&lt;00:00, 14.07it/s]"
     }
    },
    "6906d68692e94486962fd32a381db060": {
     "model_module": "@jupyter-widgets/base",
     "model_name": "LayoutModel",
     "state": {
      "_model_module": "@jupyter-widgets/base",
      "_model_module_version": "1.2.0",
      "_model_name": "LayoutModel",
      "_view_count": null,
      "_view_module": "@jupyter-widgets/base",
      "_view_module_version": "1.2.0",
      "_view_name": "LayoutView",
      "align_content": null,
      "align_items": null,
      "align_self": null,
      "border": null,
      "bottom": null,
      "display": null,
      "flex": null,
      "flex_flow": null,
      "grid_area": null,
      "grid_auto_columns": null,
      "grid_auto_flow": null,
      "grid_auto_rows": null,
      "grid_column": null,
      "grid_gap": null,
      "grid_row": null,
      "grid_template_areas": null,
      "grid_template_columns": null,
      "grid_template_rows": null,
      "height": null,
      "justify_content": null,
      "justify_items": null,
      "left": null,
      "margin": null,
      "max_height": null,
      "max_width": null,
      "min_height": null,
      "min_width": null,
      "object_fit": null,
      "object_position": null,
      "order": null,
      "overflow": null,
      "overflow_x": null,
      "overflow_y": null,
      "padding": null,
      "right": null,
      "top": null,
      "visibility": null,
      "width": null
     }
    },
    "6c29f92424a34fbba813cca3156227cc": {
     "model_module": "@jupyter-widgets/base",
     "model_name": "LayoutModel",
     "state": {
      "_model_module": "@jupyter-widgets/base",
      "_model_module_version": "1.2.0",
      "_model_name": "LayoutModel",
      "_view_count": null,
      "_view_module": "@jupyter-widgets/base",
      "_view_module_version": "1.2.0",
      "_view_name": "LayoutView",
      "align_content": null,
      "align_items": null,
      "align_self": null,
      "border": null,
      "bottom": null,
      "display": null,
      "flex": null,
      "flex_flow": null,
      "grid_area": null,
      "grid_auto_columns": null,
      "grid_auto_flow": null,
      "grid_auto_rows": null,
      "grid_column": null,
      "grid_gap": null,
      "grid_row": null,
      "grid_template_areas": null,
      "grid_template_columns": null,
      "grid_template_rows": null,
      "height": null,
      "justify_content": null,
      "justify_items": null,
      "left": null,
      "margin": null,
      "max_height": null,
      "max_width": null,
      "min_height": null,
      "min_width": null,
      "object_fit": null,
      "object_position": null,
      "order": null,
      "overflow": null,
      "overflow_x": null,
      "overflow_y": null,
      "padding": null,
      "right": null,
      "top": null,
      "visibility": null,
      "width": null
     }
    },
    "7a6a1065632748dea8ceb040ec630299": {
     "model_module": "@jupyter-widgets/base",
     "model_name": "LayoutModel",
     "state": {
      "_model_module": "@jupyter-widgets/base",
      "_model_module_version": "1.2.0",
      "_model_name": "LayoutModel",
      "_view_count": null,
      "_view_module": "@jupyter-widgets/base",
      "_view_module_version": "1.2.0",
      "_view_name": "LayoutView",
      "align_content": null,
      "align_items": null,
      "align_self": null,
      "border": null,
      "bottom": null,
      "display": null,
      "flex": null,
      "flex_flow": null,
      "grid_area": null,
      "grid_auto_columns": null,
      "grid_auto_flow": null,
      "grid_auto_rows": null,
      "grid_column": null,
      "grid_gap": null,
      "grid_row": null,
      "grid_template_areas": null,
      "grid_template_columns": null,
      "grid_template_rows": null,
      "height": null,
      "justify_content": null,
      "justify_items": null,
      "left": null,
      "margin": null,
      "max_height": null,
      "max_width": null,
      "min_height": null,
      "min_width": null,
      "object_fit": null,
      "object_position": null,
      "order": null,
      "overflow": null,
      "overflow_x": null,
      "overflow_y": null,
      "padding": null,
      "right": null,
      "top": null,
      "visibility": null,
      "width": null
     }
    },
    "7b720f2951a94f68bd8090ed971bd97f": {
     "model_module": "@jupyter-widgets/controls",
     "model_name": "HTMLModel",
     "state": {
      "_dom_classes": [],
      "_model_module": "@jupyter-widgets/controls",
      "_model_module_version": "1.5.0",
      "_model_name": "HTMLModel",
      "_view_count": null,
      "_view_module": "@jupyter-widgets/controls",
      "_view_module_version": "1.5.0",
      "_view_name": "HTMLView",
      "description": "",
      "description_tooltip": null,
      "layout": "IPY_MODEL_7a6a1065632748dea8ceb040ec630299",
      "placeholder": "​",
      "style": "IPY_MODEL_5a4ad99a4101412dbefad1fc31a99a53",
      "value": " 1000/1000 [05:14&lt;00:00,  3.18it/s]"
     }
    },
    "7cd07848cc794d2d855ab89cba9035fc": {
     "model_module": "@jupyter-widgets/base",
     "model_name": "LayoutModel",
     "state": {
      "_model_module": "@jupyter-widgets/base",
      "_model_module_version": "1.2.0",
      "_model_name": "LayoutModel",
      "_view_count": null,
      "_view_module": "@jupyter-widgets/base",
      "_view_module_version": "1.2.0",
      "_view_name": "LayoutView",
      "align_content": null,
      "align_items": null,
      "align_self": null,
      "border": null,
      "bottom": null,
      "display": null,
      "flex": null,
      "flex_flow": null,
      "grid_area": null,
      "grid_auto_columns": null,
      "grid_auto_flow": null,
      "grid_auto_rows": null,
      "grid_column": null,
      "grid_gap": null,
      "grid_row": null,
      "grid_template_areas": null,
      "grid_template_columns": null,
      "grid_template_rows": null,
      "height": null,
      "justify_content": null,
      "justify_items": null,
      "left": null,
      "margin": null,
      "max_height": null,
      "max_width": null,
      "min_height": null,
      "min_width": null,
      "object_fit": null,
      "object_position": null,
      "order": null,
      "overflow": null,
      "overflow_x": null,
      "overflow_y": null,
      "padding": null,
      "right": null,
      "top": null,
      "visibility": null,
      "width": null
     }
    },
    "8052ab735abd40b397c06f278bb22a8e": {
     "model_module": "@jupyter-widgets/controls",
     "model_name": "DescriptionStyleModel",
     "state": {
      "_model_module": "@jupyter-widgets/controls",
      "_model_module_version": "1.5.0",
      "_model_name": "DescriptionStyleModel",
      "_view_count": null,
      "_view_module": "@jupyter-widgets/base",
      "_view_module_version": "1.2.0",
      "_view_name": "StyleView",
      "description_width": ""
     }
    },
    "80d9806d77e84393ab4339562ef6f40d": {
     "model_module": "@jupyter-widgets/controls",
     "model_name": "IntProgressModel",
     "state": {
      "_dom_classes": [],
      "_model_module": "@jupyter-widgets/controls",
      "_model_module_version": "1.5.0",
      "_model_name": "IntProgressModel",
      "_view_count": null,
      "_view_module": "@jupyter-widgets/controls",
      "_view_module_version": "1.5.0",
      "_view_name": "ProgressView",
      "bar_style": "success",
      "description": "100%",
      "description_tooltip": null,
      "layout": "IPY_MODEL_e5b54a20be334e9696b39958cc05b0c6",
      "max": 7999,
      "min": 0,
      "orientation": "horizontal",
      "style": "IPY_MODEL_0feb1a17b2854ec8874ea21141330cb7",
      "value": 7999
     }
    },
    "8170399d0d0145678097e56c3976d822": {
     "model_module": "@jupyter-widgets/controls",
     "model_name": "DescriptionStyleModel",
     "state": {
      "_model_module": "@jupyter-widgets/controls",
      "_model_module_version": "1.5.0",
      "_model_name": "DescriptionStyleModel",
      "_view_count": null,
      "_view_module": "@jupyter-widgets/base",
      "_view_module_version": "1.2.0",
      "_view_name": "StyleView",
      "description_width": ""
     }
    },
    "818e635d20e649ba8f9b5c25b4e7115c": {
     "model_module": "@jupyter-widgets/controls",
     "model_name": "ProgressStyleModel",
     "state": {
      "_model_module": "@jupyter-widgets/controls",
      "_model_module_version": "1.5.0",
      "_model_name": "ProgressStyleModel",
      "_view_count": null,
      "_view_module": "@jupyter-widgets/base",
      "_view_module_version": "1.2.0",
      "_view_name": "StyleView",
      "bar_color": null,
      "description_width": "initial"
     }
    },
    "81fc77280dcf4d07a46332c87a1f4b41": {
     "model_module": "@jupyter-widgets/controls",
     "model_name": "IntProgressModel",
     "state": {
      "_dom_classes": [],
      "_model_module": "@jupyter-widgets/controls",
      "_model_module_version": "1.5.0",
      "_model_name": "IntProgressModel",
      "_view_count": null,
      "_view_module": "@jupyter-widgets/controls",
      "_view_module_version": "1.5.0",
      "_view_name": "ProgressView",
      "bar_style": "success",
      "description": "Current iteration: 100%",
      "description_tooltip": null,
      "layout": "IPY_MODEL_c5d4eb68d90f43b88919492e0f6a5559",
      "max": 1000,
      "min": 0,
      "orientation": "horizontal",
      "style": "IPY_MODEL_cc2d81e3a18e4f09ae3099c4557b40e9",
      "value": 1000
     }
    },
    "8a6bffa5922d44c89f512f843cff6913": {
     "model_module": "@jupyter-widgets/base",
     "model_name": "LayoutModel",
     "state": {
      "_model_module": "@jupyter-widgets/base",
      "_model_module_version": "1.2.0",
      "_model_name": "LayoutModel",
      "_view_count": null,
      "_view_module": "@jupyter-widgets/base",
      "_view_module_version": "1.2.0",
      "_view_name": "LayoutView",
      "align_content": null,
      "align_items": null,
      "align_self": null,
      "border": null,
      "bottom": null,
      "display": null,
      "flex": null,
      "flex_flow": null,
      "grid_area": null,
      "grid_auto_columns": null,
      "grid_auto_flow": null,
      "grid_auto_rows": null,
      "grid_column": null,
      "grid_gap": null,
      "grid_row": null,
      "grid_template_areas": null,
      "grid_template_columns": null,
      "grid_template_rows": null,
      "height": null,
      "justify_content": null,
      "justify_items": null,
      "left": null,
      "margin": null,
      "max_height": null,
      "max_width": null,
      "min_height": null,
      "min_width": null,
      "object_fit": null,
      "object_position": null,
      "order": null,
      "overflow": null,
      "overflow_x": null,
      "overflow_y": null,
      "padding": null,
      "right": null,
      "top": null,
      "visibility": null,
      "width": null
     }
    },
    "8b898eb5742e4786bbb7a47a338261eb": {
     "model_module": "@jupyter-widgets/controls",
     "model_name": "DescriptionStyleModel",
     "state": {
      "_model_module": "@jupyter-widgets/controls",
      "_model_module_version": "1.5.0",
      "_model_name": "DescriptionStyleModel",
      "_view_count": null,
      "_view_module": "@jupyter-widgets/base",
      "_view_module_version": "1.2.0",
      "_view_name": "StyleView",
      "description_width": ""
     }
    },
    "8d37d89526804f589599b7bbeb0a7043": {
     "model_module": "@jupyter-widgets/controls",
     "model_name": "DescriptionStyleModel",
     "state": {
      "_model_module": "@jupyter-widgets/controls",
      "_model_module_version": "1.5.0",
      "_model_name": "DescriptionStyleModel",
      "_view_count": null,
      "_view_module": "@jupyter-widgets/base",
      "_view_module_version": "1.2.0",
      "_view_name": "StyleView",
      "description_width": ""
     }
    },
    "95f593dd458e4c4781879fd38b8f243a": {
     "model_module": "@jupyter-widgets/base",
     "model_name": "LayoutModel",
     "state": {
      "_model_module": "@jupyter-widgets/base",
      "_model_module_version": "1.2.0",
      "_model_name": "LayoutModel",
      "_view_count": null,
      "_view_module": "@jupyter-widgets/base",
      "_view_module_version": "1.2.0",
      "_view_name": "LayoutView",
      "align_content": null,
      "align_items": null,
      "align_self": null,
      "border": null,
      "bottom": null,
      "display": null,
      "flex": null,
      "flex_flow": null,
      "grid_area": null,
      "grid_auto_columns": null,
      "grid_auto_flow": null,
      "grid_auto_rows": null,
      "grid_column": null,
      "grid_gap": null,
      "grid_row": null,
      "grid_template_areas": null,
      "grid_template_columns": null,
      "grid_template_rows": null,
      "height": null,
      "justify_content": null,
      "justify_items": null,
      "left": null,
      "margin": null,
      "max_height": null,
      "max_width": null,
      "min_height": null,
      "min_width": null,
      "object_fit": null,
      "object_position": null,
      "order": null,
      "overflow": null,
      "overflow_x": null,
      "overflow_y": null,
      "padding": null,
      "right": null,
      "top": null,
      "visibility": null,
      "width": null
     }
    },
    "97c07224298f40f7971eb94590d7d077": {
     "model_module": "@jupyter-widgets/base",
     "model_name": "LayoutModel",
     "state": {
      "_model_module": "@jupyter-widgets/base",
      "_model_module_version": "1.2.0",
      "_model_name": "LayoutModel",
      "_view_count": null,
      "_view_module": "@jupyter-widgets/base",
      "_view_module_version": "1.2.0",
      "_view_name": "LayoutView",
      "align_content": null,
      "align_items": null,
      "align_self": null,
      "border": null,
      "bottom": null,
      "display": null,
      "flex": null,
      "flex_flow": null,
      "grid_area": null,
      "grid_auto_columns": null,
      "grid_auto_flow": null,
      "grid_auto_rows": null,
      "grid_column": null,
      "grid_gap": null,
      "grid_row": null,
      "grid_template_areas": null,
      "grid_template_columns": null,
      "grid_template_rows": null,
      "height": null,
      "justify_content": null,
      "justify_items": null,
      "left": null,
      "margin": null,
      "max_height": null,
      "max_width": null,
      "min_height": null,
      "min_width": null,
      "object_fit": null,
      "object_position": null,
      "order": null,
      "overflow": null,
      "overflow_x": null,
      "overflow_y": null,
      "padding": null,
      "right": null,
      "top": null,
      "visibility": null,
      "width": null
     }
    },
    "9f6885c670484389b35750a6860e1e6c": {
     "model_module": "@jupyter-widgets/controls",
     "model_name": "HTMLModel",
     "state": {
      "_dom_classes": [],
      "_model_module": "@jupyter-widgets/controls",
      "_model_module_version": "1.5.0",
      "_model_name": "HTMLModel",
      "_view_count": null,
      "_view_module": "@jupyter-widgets/controls",
      "_view_module_version": "1.5.0",
      "_view_name": "HTMLView",
      "description": "",
      "description_tooltip": null,
      "layout": "IPY_MODEL_f04a8312656b470a94370284006104cd",
      "placeholder": "​",
      "style": "IPY_MODEL_8170399d0d0145678097e56c3976d822",
      "value": " 1000/1000 [10:14&lt;00:00,  1.63it/s]"
     }
    },
    "a07a4ef57ac64e4699bc19664853089c": {
     "model_module": "@jupyter-widgets/controls",
     "model_name": "HBoxModel",
     "state": {
      "_dom_classes": [],
      "_model_module": "@jupyter-widgets/controls",
      "_model_module_version": "1.5.0",
      "_model_name": "HBoxModel",
      "_view_count": null,
      "_view_module": "@jupyter-widgets/controls",
      "_view_module_version": "1.5.0",
      "_view_name": "HBoxView",
      "box_style": "",
      "children": [
       "IPY_MODEL_e157f5f9146a4093b304fd25ff139ecb",
       "IPY_MODEL_7b720f2951a94f68bd8090ed971bd97f"
      ],
      "layout": "IPY_MODEL_b542313ed76347a5a3a15ad2800ef781"
     }
    },
    "a091bfe8587b415fbf1d34d006350f02": {
     "model_module": "@jupyter-widgets/controls",
     "model_name": "HTMLModel",
     "state": {
      "_dom_classes": [],
      "_model_module": "@jupyter-widgets/controls",
      "_model_module_version": "1.5.0",
      "_model_name": "HTMLModel",
      "_view_count": null,
      "_view_module": "@jupyter-widgets/controls",
      "_view_module_version": "1.5.0",
      "_view_name": "HTMLView",
      "description": "",
      "description_tooltip": null,
      "layout": "IPY_MODEL_b1ffbaac7dc240679844f2e49e11b76c",
      "placeholder": "​",
      "style": "IPY_MODEL_8052ab735abd40b397c06f278bb22a8e",
      "value": " 250/250 [03:25&lt;00:00,  1.22it/s]"
     }
    },
    "a2e4cda6b1644657a16bbe4aeeb78dba": {
     "model_module": "@jupyter-widgets/controls",
     "model_name": "IntProgressModel",
     "state": {
      "_dom_classes": [],
      "_model_module": "@jupyter-widgets/controls",
      "_model_module_version": "1.5.0",
      "_model_name": "IntProgressModel",
      "_view_count": null,
      "_view_module": "@jupyter-widgets/controls",
      "_view_module_version": "1.5.0",
      "_view_name": "ProgressView",
      "bar_style": "success",
      "description": "100%",
      "description_tooltip": null,
      "layout": "IPY_MODEL_55644f6b34b94f4aacb67987f611f7b4",
      "max": 5177,
      "min": 0,
      "orientation": "horizontal",
      "style": "IPY_MODEL_1f44fd8a84a94cb78973398dc1348660",
      "value": 5177
     }
    },
    "a399b085991b4889a2ec115945d4f0c3": {
     "model_module": "@jupyter-widgets/controls",
     "model_name": "ProgressStyleModel",
     "state": {
      "_model_module": "@jupyter-widgets/controls",
      "_model_module_version": "1.5.0",
      "_model_name": "ProgressStyleModel",
      "_view_count": null,
      "_view_module": "@jupyter-widgets/base",
      "_view_module_version": "1.2.0",
      "_view_name": "StyleView",
      "bar_color": null,
      "description_width": "initial"
     }
    },
    "a5a1d6267d41461a8cb85370c3862f5d": {
     "model_module": "@jupyter-widgets/controls",
     "model_name": "IntProgressModel",
     "state": {
      "_dom_classes": [],
      "_model_module": "@jupyter-widgets/controls",
      "_model_module_version": "1.5.0",
      "_model_name": "IntProgressModel",
      "_view_count": null,
      "_view_module": "@jupyter-widgets/controls",
      "_view_module_version": "1.5.0",
      "_view_name": "ProgressView",
      "bar_style": "success",
      "description": "100%",
      "description_tooltip": null,
      "layout": "IPY_MODEL_6906d68692e94486962fd32a381db060",
      "max": 250,
      "min": 0,
      "orientation": "horizontal",
      "style": "IPY_MODEL_35e3a07e8b054d88bb3ebb5494b85f09",
      "value": 250
     }
    },
    "a667a57390a3471fac35cf0092cafa17": {
     "model_module": "@jupyter-widgets/controls",
     "model_name": "DescriptionStyleModel",
     "state": {
      "_model_module": "@jupyter-widgets/controls",
      "_model_module_version": "1.5.0",
      "_model_name": "DescriptionStyleModel",
      "_view_count": null,
      "_view_module": "@jupyter-widgets/base",
      "_view_module_version": "1.2.0",
      "_view_name": "StyleView",
      "description_width": ""
     }
    },
    "a9492e42642c4ed3b77f3217e7b5f2c4": {
     "model_module": "@jupyter-widgets/base",
     "model_name": "LayoutModel",
     "state": {
      "_model_module": "@jupyter-widgets/base",
      "_model_module_version": "1.2.0",
      "_model_name": "LayoutModel",
      "_view_count": null,
      "_view_module": "@jupyter-widgets/base",
      "_view_module_version": "1.2.0",
      "_view_name": "LayoutView",
      "align_content": null,
      "align_items": null,
      "align_self": null,
      "border": null,
      "bottom": null,
      "display": null,
      "flex": null,
      "flex_flow": null,
      "grid_area": null,
      "grid_auto_columns": null,
      "grid_auto_flow": null,
      "grid_auto_rows": null,
      "grid_column": null,
      "grid_gap": null,
      "grid_row": null,
      "grid_template_areas": null,
      "grid_template_columns": null,
      "grid_template_rows": null,
      "height": null,
      "justify_content": null,
      "justify_items": null,
      "left": null,
      "margin": null,
      "max_height": null,
      "max_width": null,
      "min_height": null,
      "min_width": null,
      "object_fit": null,
      "object_position": null,
      "order": null,
      "overflow": null,
      "overflow_x": null,
      "overflow_y": null,
      "padding": null,
      "right": null,
      "top": null,
      "visibility": null,
      "width": null
     }
    },
    "ac64b17aaa634578840e951e9ebdb8db": {
     "model_module": "@jupyter-widgets/controls",
     "model_name": "ProgressStyleModel",
     "state": {
      "_model_module": "@jupyter-widgets/controls",
      "_model_module_version": "1.5.0",
      "_model_name": "ProgressStyleModel",
      "_view_count": null,
      "_view_module": "@jupyter-widgets/base",
      "_view_module_version": "1.2.0",
      "_view_name": "StyleView",
      "bar_color": null,
      "description_width": "initial"
     }
    },
    "ad322ba62bc44f68a38450791f5a4177": {
     "model_module": "@jupyter-widgets/controls",
     "model_name": "HTMLModel",
     "state": {
      "_dom_classes": [],
      "_model_module": "@jupyter-widgets/controls",
      "_model_module_version": "1.5.0",
      "_model_name": "HTMLModel",
      "_view_count": null,
      "_view_module": "@jupyter-widgets/controls",
      "_view_module_version": "1.5.0",
      "_view_name": "HTMLView",
      "description": "",
      "description_tooltip": null,
      "layout": "IPY_MODEL_3807573867514f6c8960983e04292a0f",
      "placeholder": "​",
      "style": "IPY_MODEL_a667a57390a3471fac35cf0092cafa17",
      "value": " 3/3 [15:57&lt;00:00, 319.07s/it]"
     }
    },
    "b1ffbaac7dc240679844f2e49e11b76c": {
     "model_module": "@jupyter-widgets/base",
     "model_name": "LayoutModel",
     "state": {
      "_model_module": "@jupyter-widgets/base",
      "_model_module_version": "1.2.0",
      "_model_name": "LayoutModel",
      "_view_count": null,
      "_view_module": "@jupyter-widgets/base",
      "_view_module_version": "1.2.0",
      "_view_name": "LayoutView",
      "align_content": null,
      "align_items": null,
      "align_self": null,
      "border": null,
      "bottom": null,
      "display": null,
      "flex": null,
      "flex_flow": null,
      "grid_area": null,
      "grid_auto_columns": null,
      "grid_auto_flow": null,
      "grid_auto_rows": null,
      "grid_column": null,
      "grid_gap": null,
      "grid_row": null,
      "grid_template_areas": null,
      "grid_template_columns": null,
      "grid_template_rows": null,
      "height": null,
      "justify_content": null,
      "justify_items": null,
      "left": null,
      "margin": null,
      "max_height": null,
      "max_width": null,
      "min_height": null,
      "min_width": null,
      "object_fit": null,
      "object_position": null,
      "order": null,
      "overflow": null,
      "overflow_x": null,
      "overflow_y": null,
      "padding": null,
      "right": null,
      "top": null,
      "visibility": null,
      "width": null
     }
    },
    "b542313ed76347a5a3a15ad2800ef781": {
     "model_module": "@jupyter-widgets/base",
     "model_name": "LayoutModel",
     "state": {
      "_model_module": "@jupyter-widgets/base",
      "_model_module_version": "1.2.0",
      "_model_name": "LayoutModel",
      "_view_count": null,
      "_view_module": "@jupyter-widgets/base",
      "_view_module_version": "1.2.0",
      "_view_name": "LayoutView",
      "align_content": null,
      "align_items": null,
      "align_self": null,
      "border": null,
      "bottom": null,
      "display": null,
      "flex": null,
      "flex_flow": null,
      "grid_area": null,
      "grid_auto_columns": null,
      "grid_auto_flow": null,
      "grid_auto_rows": null,
      "grid_column": null,
      "grid_gap": null,
      "grid_row": null,
      "grid_template_areas": null,
      "grid_template_columns": null,
      "grid_template_rows": null,
      "height": null,
      "justify_content": null,
      "justify_items": null,
      "left": null,
      "margin": null,
      "max_height": null,
      "max_width": null,
      "min_height": null,
      "min_width": null,
      "object_fit": null,
      "object_position": null,
      "order": null,
      "overflow": null,
      "overflow_x": null,
      "overflow_y": null,
      "padding": null,
      "right": null,
      "top": null,
      "visibility": null,
      "width": null
     }
    },
    "b79053ce1d8543fe921e5f01d4b48ae7": {
     "model_module": "@jupyter-widgets/controls",
     "model_name": "HBoxModel",
     "state": {
      "_dom_classes": [],
      "_model_module": "@jupyter-widgets/controls",
      "_model_module_version": "1.5.0",
      "_model_name": "HBoxModel",
      "_view_count": null,
      "_view_module": "@jupyter-widgets/controls",
      "_view_module_version": "1.5.0",
      "_view_name": "HBoxView",
      "box_style": "",
      "children": [
       "IPY_MODEL_19d5c2d874a4417a91b5beb3dac97c1d",
       "IPY_MODEL_6856a75bdf67494584da473f371d3926"
      ],
      "layout": "IPY_MODEL_a9492e42642c4ed3b77f3217e7b5f2c4"
     }
    },
    "ba8fedd45dae481f94e8eb9bedcf1e51": {
     "model_module": "@jupyter-widgets/base",
     "model_name": "LayoutModel",
     "state": {
      "_model_module": "@jupyter-widgets/base",
      "_model_module_version": "1.2.0",
      "_model_name": "LayoutModel",
      "_view_count": null,
      "_view_module": "@jupyter-widgets/base",
      "_view_module_version": "1.2.0",
      "_view_name": "LayoutView",
      "align_content": null,
      "align_items": null,
      "align_self": null,
      "border": null,
      "bottom": null,
      "display": null,
      "flex": null,
      "flex_flow": null,
      "grid_area": null,
      "grid_auto_columns": null,
      "grid_auto_flow": null,
      "grid_auto_rows": null,
      "grid_column": null,
      "grid_gap": null,
      "grid_row": null,
      "grid_template_areas": null,
      "grid_template_columns": null,
      "grid_template_rows": null,
      "height": null,
      "justify_content": null,
      "justify_items": null,
      "left": null,
      "margin": null,
      "max_height": null,
      "max_width": null,
      "min_height": null,
      "min_width": null,
      "object_fit": null,
      "object_position": null,
      "order": null,
      "overflow": null,
      "overflow_x": null,
      "overflow_y": null,
      "padding": null,
      "right": null,
      "top": null,
      "visibility": null,
      "width": null
     }
    },
    "c12e6076bbab4c1a860a13f7a6295a33": {
     "model_module": "@jupyter-widgets/base",
     "model_name": "LayoutModel",
     "state": {
      "_model_module": "@jupyter-widgets/base",
      "_model_module_version": "1.2.0",
      "_model_name": "LayoutModel",
      "_view_count": null,
      "_view_module": "@jupyter-widgets/base",
      "_view_module_version": "1.2.0",
      "_view_name": "LayoutView",
      "align_content": null,
      "align_items": null,
      "align_self": null,
      "border": null,
      "bottom": null,
      "display": null,
      "flex": null,
      "flex_flow": null,
      "grid_area": null,
      "grid_auto_columns": null,
      "grid_auto_flow": null,
      "grid_auto_rows": null,
      "grid_column": null,
      "grid_gap": null,
      "grid_row": null,
      "grid_template_areas": null,
      "grid_template_columns": null,
      "grid_template_rows": null,
      "height": null,
      "justify_content": null,
      "justify_items": null,
      "left": null,
      "margin": null,
      "max_height": null,
      "max_width": null,
      "min_height": null,
      "min_width": null,
      "object_fit": null,
      "object_position": null,
      "order": null,
      "overflow": null,
      "overflow_x": null,
      "overflow_y": null,
      "padding": null,
      "right": null,
      "top": null,
      "visibility": null,
      "width": null
     }
    },
    "c5d4eb68d90f43b88919492e0f6a5559": {
     "model_module": "@jupyter-widgets/base",
     "model_name": "LayoutModel",
     "state": {
      "_model_module": "@jupyter-widgets/base",
      "_model_module_version": "1.2.0",
      "_model_name": "LayoutModel",
      "_view_count": null,
      "_view_module": "@jupyter-widgets/base",
      "_view_module_version": "1.2.0",
      "_view_name": "LayoutView",
      "align_content": null,
      "align_items": null,
      "align_self": null,
      "border": null,
      "bottom": null,
      "display": null,
      "flex": null,
      "flex_flow": null,
      "grid_area": null,
      "grid_auto_columns": null,
      "grid_auto_flow": null,
      "grid_auto_rows": null,
      "grid_column": null,
      "grid_gap": null,
      "grid_row": null,
      "grid_template_areas": null,
      "grid_template_columns": null,
      "grid_template_rows": null,
      "height": null,
      "justify_content": null,
      "justify_items": null,
      "left": null,
      "margin": null,
      "max_height": null,
      "max_width": null,
      "min_height": null,
      "min_width": null,
      "object_fit": null,
      "object_position": null,
      "order": null,
      "overflow": null,
      "overflow_x": null,
      "overflow_y": null,
      "padding": null,
      "right": null,
      "top": null,
      "visibility": null,
      "width": null
     }
    },
    "cc2d81e3a18e4f09ae3099c4557b40e9": {
     "model_module": "@jupyter-widgets/controls",
     "model_name": "ProgressStyleModel",
     "state": {
      "_model_module": "@jupyter-widgets/controls",
      "_model_module_version": "1.5.0",
      "_model_name": "ProgressStyleModel",
      "_view_count": null,
      "_view_module": "@jupyter-widgets/base",
      "_view_module_version": "1.2.0",
      "_view_name": "StyleView",
      "bar_color": null,
      "description_width": "initial"
     }
    },
    "d0adc72abe8142f98800192f9f38be08": {
     "model_module": "@jupyter-widgets/controls",
     "model_name": "HTMLModel",
     "state": {
      "_dom_classes": [],
      "_model_module": "@jupyter-widgets/controls",
      "_model_module_version": "1.5.0",
      "_model_name": "HTMLModel",
      "_view_count": null,
      "_view_module": "@jupyter-widgets/controls",
      "_view_module_version": "1.5.0",
      "_view_name": "HTMLView",
      "description": "",
      "description_tooltip": null,
      "layout": "IPY_MODEL_ba8fedd45dae481f94e8eb9bedcf1e51",
      "placeholder": "​",
      "style": "IPY_MODEL_8b898eb5742e4786bbb7a47a338261eb",
      "value": " 7999/7999 [05:00&lt;00:00, 26.59it/s]"
     }
    },
    "d2d10268b3244f929d6e15c55a75d0d1": {
     "model_module": "@jupyter-widgets/controls",
     "model_name": "DescriptionStyleModel",
     "state": {
      "_model_module": "@jupyter-widgets/controls",
      "_model_module_version": "1.5.0",
      "_model_name": "DescriptionStyleModel",
      "_view_count": null,
      "_view_module": "@jupyter-widgets/base",
      "_view_module_version": "1.2.0",
      "_view_name": "StyleView",
      "description_width": ""
     }
    },
    "d4af8d30f4d04625b77384df363f4aa7": {
     "model_module": "@jupyter-widgets/controls",
     "model_name": "ProgressStyleModel",
     "state": {
      "_model_module": "@jupyter-widgets/controls",
      "_model_module_version": "1.5.0",
      "_model_name": "ProgressStyleModel",
      "_view_count": null,
      "_view_module": "@jupyter-widgets/base",
      "_view_module_version": "1.2.0",
      "_view_name": "StyleView",
      "bar_color": null,
      "description_width": "initial"
     }
    },
    "dbb412c6740b41c080c82f410008357b": {
     "model_module": "@jupyter-widgets/controls",
     "model_name": "HBoxModel",
     "state": {
      "_dom_classes": [],
      "_model_module": "@jupyter-widgets/controls",
      "_model_module_version": "1.5.0",
      "_model_name": "HBoxModel",
      "_view_count": null,
      "_view_module": "@jupyter-widgets/controls",
      "_view_module_version": "1.5.0",
      "_view_name": "HBoxView",
      "box_style": "",
      "children": [
       "IPY_MODEL_80d9806d77e84393ab4339562ef6f40d",
       "IPY_MODEL_d0adc72abe8142f98800192f9f38be08"
      ],
      "layout": "IPY_MODEL_56ea27c9caac49c7b2e59c2e1a416808"
     }
    },
    "dd370373a27d424f8b05f83316772d75": {
     "model_module": "@jupyter-widgets/base",
     "model_name": "LayoutModel",
     "state": {
      "_model_module": "@jupyter-widgets/base",
      "_model_module_version": "1.2.0",
      "_model_name": "LayoutModel",
      "_view_count": null,
      "_view_module": "@jupyter-widgets/base",
      "_view_module_version": "1.2.0",
      "_view_name": "LayoutView",
      "align_content": null,
      "align_items": null,
      "align_self": null,
      "border": null,
      "bottom": null,
      "display": null,
      "flex": null,
      "flex_flow": null,
      "grid_area": null,
      "grid_auto_columns": null,
      "grid_auto_flow": null,
      "grid_auto_rows": null,
      "grid_column": null,
      "grid_gap": null,
      "grid_row": null,
      "grid_template_areas": null,
      "grid_template_columns": null,
      "grid_template_rows": null,
      "height": null,
      "justify_content": null,
      "justify_items": null,
      "left": null,
      "margin": null,
      "max_height": null,
      "max_width": null,
      "min_height": null,
      "min_width": null,
      "object_fit": null,
      "object_position": null,
      "order": null,
      "overflow": null,
      "overflow_x": null,
      "overflow_y": null,
      "padding": null,
      "right": null,
      "top": null,
      "visibility": null,
      "width": null
     }
    },
    "de90e1494b7346f88e1839535e92afd0": {
     "model_module": "@jupyter-widgets/controls",
     "model_name": "DescriptionStyleModel",
     "state": {
      "_model_module": "@jupyter-widgets/controls",
      "_model_module_version": "1.5.0",
      "_model_name": "DescriptionStyleModel",
      "_view_count": null,
      "_view_module": "@jupyter-widgets/base",
      "_view_module_version": "1.2.0",
      "_view_name": "StyleView",
      "description_width": ""
     }
    },
    "e157f5f9146a4093b304fd25ff139ecb": {
     "model_module": "@jupyter-widgets/controls",
     "model_name": "IntProgressModel",
     "state": {
      "_dom_classes": [],
      "_model_module": "@jupyter-widgets/controls",
      "_model_module_version": "1.5.0",
      "_model_name": "IntProgressModel",
      "_view_count": null,
      "_view_module": "@jupyter-widgets/controls",
      "_view_module_version": "1.5.0",
      "_view_name": "ProgressView",
      "bar_style": "success",
      "description": "Current iteration: 100%",
      "description_tooltip": null,
      "layout": "IPY_MODEL_7cd07848cc794d2d855ab89cba9035fc",
      "max": 1000,
      "min": 0,
      "orientation": "horizontal",
      "style": "IPY_MODEL_a399b085991b4889a2ec115945d4f0c3",
      "value": 1000
     }
    },
    "e3b4af207ea9498db719e30f63b874f3": {
     "model_module": "@jupyter-widgets/controls",
     "model_name": "HTMLModel",
     "state": {
      "_dom_classes": [],
      "_model_module": "@jupyter-widgets/controls",
      "_model_module_version": "1.5.0",
      "_model_name": "HTMLModel",
      "_view_count": null,
      "_view_module": "@jupyter-widgets/controls",
      "_view_module_version": "1.5.0",
      "_view_name": "HTMLView",
      "description": "",
      "description_tooltip": null,
      "layout": "IPY_MODEL_c12e6076bbab4c1a860a13f7a6295a33",
      "placeholder": "​",
      "style": "IPY_MODEL_d2d10268b3244f929d6e15c55a75d0d1",
      "value": " 2000/2000 [00:00&lt;00:00, 2039.44it/s]"
     }
    },
    "e5b54a20be334e9696b39958cc05b0c6": {
     "model_module": "@jupyter-widgets/base",
     "model_name": "LayoutModel",
     "state": {
      "_model_module": "@jupyter-widgets/base",
      "_model_module_version": "1.2.0",
      "_model_name": "LayoutModel",
      "_view_count": null,
      "_view_module": "@jupyter-widgets/base",
      "_view_module_version": "1.2.0",
      "_view_name": "LayoutView",
      "align_content": null,
      "align_items": null,
      "align_self": null,
      "border": null,
      "bottom": null,
      "display": null,
      "flex": null,
      "flex_flow": null,
      "grid_area": null,
      "grid_auto_columns": null,
      "grid_auto_flow": null,
      "grid_auto_rows": null,
      "grid_column": null,
      "grid_gap": null,
      "grid_row": null,
      "grid_template_areas": null,
      "grid_template_columns": null,
      "grid_template_rows": null,
      "height": null,
      "justify_content": null,
      "justify_items": null,
      "left": null,
      "margin": null,
      "max_height": null,
      "max_width": null,
      "min_height": null,
      "min_width": null,
      "object_fit": null,
      "object_position": null,
      "order": null,
      "overflow": null,
      "overflow_x": null,
      "overflow_y": null,
      "padding": null,
      "right": null,
      "top": null,
      "visibility": null,
      "width": null
     }
    },
    "f04a8312656b470a94370284006104cd": {
     "model_module": "@jupyter-widgets/base",
     "model_name": "LayoutModel",
     "state": {
      "_model_module": "@jupyter-widgets/base",
      "_model_module_version": "1.2.0",
      "_model_name": "LayoutModel",
      "_view_count": null,
      "_view_module": "@jupyter-widgets/base",
      "_view_module_version": "1.2.0",
      "_view_name": "LayoutView",
      "align_content": null,
      "align_items": null,
      "align_self": null,
      "border": null,
      "bottom": null,
      "display": null,
      "flex": null,
      "flex_flow": null,
      "grid_area": null,
      "grid_auto_columns": null,
      "grid_auto_flow": null,
      "grid_auto_rows": null,
      "grid_column": null,
      "grid_gap": null,
      "grid_row": null,
      "grid_template_areas": null,
      "grid_template_columns": null,
      "grid_template_rows": null,
      "height": null,
      "justify_content": null,
      "justify_items": null,
      "left": null,
      "margin": null,
      "max_height": null,
      "max_width": null,
      "min_height": null,
      "min_width": null,
      "object_fit": null,
      "object_position": null,
      "order": null,
      "overflow": null,
      "overflow_x": null,
      "overflow_y": null,
      "padding": null,
      "right": null,
      "top": null,
      "visibility": null,
      "width": null
     }
    },
    "fe1c97319cbf4f0ea7b71273dc23ac22": {
     "model_module": "@jupyter-widgets/controls",
     "model_name": "ProgressStyleModel",
     "state": {
      "_model_module": "@jupyter-widgets/controls",
      "_model_module_version": "1.5.0",
      "_model_name": "ProgressStyleModel",
      "_view_count": null,
      "_view_module": "@jupyter-widgets/base",
      "_view_module_version": "1.2.0",
      "_view_name": "StyleView",
      "bar_color": null,
      "description_width": "initial"
     }
    }
   }
  }
 },
 "nbformat": 4,
 "nbformat_minor": 1
}
